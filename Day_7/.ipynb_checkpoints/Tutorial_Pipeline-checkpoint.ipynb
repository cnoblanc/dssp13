{
 "cells": [
  {
   "cell_type": "code",
   "execution_count": 2,
   "metadata": {},
   "outputs": [],
   "source": [
    "#Pipelines work by allowing for a linear sequence of data transforms to be chained together\n",
    "# culminating in a modeling process that can be evaluated.\n",
    "# An easy trap to fall into in applied machine learning is leaking data from \n",
    "#your training dataset to your test dataset.\n",
    "\n",
    "# To avoid this trap you need a robust test harness with strong separation of \n",
    "# training and testing. This includes data preparation.\n",
    "# Pipelines help you prevent data leakage in your test harness by ensuring that \n",
    "# data preparation like standardization is constrained to each fold of your cross \n",
    "# validation procedure.\n",
    "\n",
    "# The example below demonstrates this important data preparation and model evaluation workflow. The pipeline is defined with two steps:\n",
    "# - Standardize the data.\n",
    "# - Learn a Linear Discriminant Analysis model.\n",
    "# The pipeline is then evaluated using 10-fold cross validation.\n",
    "\n",
    "\n",
    "# Create a pipeline that standardizes the data then creates a model\n",
    "from pandas import read_csv\n",
    "from sklearn.model_selection import KFold\n",
    "from sklearn.model_selection import cross_val_score\n",
    "from sklearn.preprocessing import StandardScaler\n",
    "from sklearn.pipeline import Pipeline\n",
    "from sklearn.discriminant_analysis import LinearDiscriminantAnalysis\n",
    "# load data\n",
    "url = \"https://raw.githubusercontent.com/jbrownlee/Datasets/master/pima-indians-diabetes.data.csv\"\n",
    "names = ['preg', 'plas', 'pres', 'skin', 'test', 'mass', 'pedi', 'age', 'class']\n",
    "dataframe = read_csv(url, names=names)\n",
    "array = dataframe.values\n",
    "X = array[:,0:8]\n",
    "Y = array[:,8]\n"
   ]
  },
  {
   "cell_type": "code",
   "execution_count": 3,
   "metadata": {},
   "outputs": [
    {
     "name": "stdout",
     "output_type": "stream",
     "text": [
      "0.773462064251538\n"
     ]
    }
   ],
   "source": [
    "# create pipeline\n",
    "estimators = []\n",
    "estimators.append(('standardize', StandardScaler()))\n",
    "estimators.append(('lda', LinearDiscriminantAnalysis()))\n",
    "model = Pipeline(estimators)\n",
    "# evaluate pipeline\n",
    "seed = 7\n",
    "kfold = KFold(n_splits=10, random_state=seed)\n",
    "results = cross_val_score(model, X, Y, cv=kfold)\n",
    "print(results.mean())"
   ]
  },
  {
   "cell_type": "code",
   "execution_count": null,
   "metadata": {},
   "outputs": [],
   "source": [
    "# Feature extraction is another procedure that is susceptible to data leakage.\n",
    "# Like data preparation, feature extraction procedures must be restricted \n",
    "# to the data in your training dataset.\n",
    "\n",
    "# The pipeline provides a handy tool called the FeatureUnion which allows the \n",
    "# results of multiple feature selection and extraction procedures to be combined \n",
    "# into a larger dataset on which a model can be trained. Importantly, \n",
    "# all the feature extraction and the feature union occurs within each fold of the cross validation procedure.\n",
    "\n",
    "# The example below demonstrates the pipeline defined with four steps:\n",
    "# - Feature Extraction with Principal Component Analysis (3 features)\n",
    "# - Feature Extraction with Statistical Selection (6 features)\n",
    "# - Feature Union\n",
    "# - Learn a Logistic Regression Model\n",
    "\n"
   ]
  }
 ],
 "metadata": {
  "kernelspec": {
   "display_name": "Python 3",
   "language": "python",
   "name": "python3"
  },
  "language_info": {
   "codemirror_mode": {
    "name": "ipython",
    "version": 3
   },
   "file_extension": ".py",
   "mimetype": "text/x-python",
   "name": "python",
   "nbconvert_exporter": "python",
   "pygments_lexer": "ipython3",
   "version": "3.7.3"
  }
 },
 "nbformat": 4,
 "nbformat_minor": 2
}
