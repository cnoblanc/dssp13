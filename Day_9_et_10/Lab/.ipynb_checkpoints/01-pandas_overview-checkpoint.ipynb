{
 "cells": [
  {
   "cell_type": "markdown",
   "metadata": {},
   "source": [
    "# Pandas:\n",
    "## data structures, IO, aggregation, melt/pivot, group operations, merge/join\n",
    "\n",
    "this basically covers the concepts you need to master with Pandas\n",
    "\n",
    "Author: [Alexandre Gramfort](http://alexandre.gramfort.net)\n",
    "\n",
    "(based on Wes McKinney's book \"Python for Data Analysis\" O'REILLY,\n",
    "and the pandas materials from Joris Van den Bossche and Stijn Van Hoey.)\n",
    "\n",
    "Licensed under [CC BY 4.0 Creative Commons](http://creativecommons.org/licenses/by/4.0/)"
   ]
  },
  {
   "cell_type": "code",
   "execution_count": 1,
   "metadata": {
    "run_control": {
     "frozen": false,
     "read_only": false
    }
   },
   "outputs": [],
   "source": [
    "import pandas as pd  # THE standard way of importing pandas"
   ]
  },
  {
   "cell_type": "markdown",
   "metadata": {},
   "source": [
    "Some imports"
   ]
  },
  {
   "cell_type": "code",
   "execution_count": 2,
   "metadata": {
    "run_control": {
     "frozen": false,
     "read_only": false
    }
   },
   "outputs": [],
   "source": [
    "%matplotlib inline\n",
    "import numpy as np\n",
    "import matplotlib.pyplot as plt\n",
    "plt.style.use('seaborn-colorblind')"
   ]
  },
  {
   "cell_type": "markdown",
   "metadata": {},
   "source": [
    "# Data structures\n",
    "\n",
    "Pandas provides two fundamental data objects, for 1D (``Series``) and 2D data (``DataFrame``)."
   ]
  },
  {
   "cell_type": "markdown",
   "metadata": {},
   "source": [
    "## Series\n",
    "\n",
    "A Series is a basic holder for **one-dimensional labeled data**. It can be created much as a NumPy array is created:"
   ]
  },
  {
   "cell_type": "code",
   "execution_count": 3,
   "metadata": {
    "run_control": {
     "frozen": false,
     "read_only": false
    }
   },
   "outputs": [
    {
     "data": {
      "text/plain": [
       "0    0.1\n",
       "1    0.2\n",
       "2    0.3\n",
       "3    0.4\n",
       "dtype: float64"
      ]
     },
     "execution_count": 3,
     "metadata": {},
     "output_type": "execute_result"
    }
   ],
   "source": [
    "s = pd.Series([0.1, 0.2, 0.3, 0.4])\n",
    "s"
   ]
  },
  {
   "cell_type": "code",
   "execution_count": 4,
   "metadata": {},
   "outputs": [
    {
     "data": {
      "text/plain": [
       "pandas.core.series.Series"
      ]
     },
     "execution_count": 4,
     "metadata": {},
     "output_type": "execute_result"
    }
   ],
   "source": [
    "type(s)"
   ]
  },
  {
   "cell_type": "markdown",
   "metadata": {},
   "source": [
    "### Attributes of a Series: `index` and `values`\n",
    "\n",
    "The series has a built-in concept of an **index**, which by default is the numbers *0* through *N - 1*"
   ]
  },
  {
   "cell_type": "code",
   "execution_count": 5,
   "metadata": {
    "run_control": {
     "frozen": false,
     "read_only": false
    }
   },
   "outputs": [
    {
     "data": {
      "text/plain": [
       "RangeIndex(start=0, stop=4, step=1)"
      ]
     },
     "execution_count": 5,
     "metadata": {},
     "output_type": "execute_result"
    }
   ],
   "source": [
    "s.index"
   ]
  },
  {
   "cell_type": "markdown",
   "metadata": {},
   "source": [
    "You can access the underlying numpy array representation with the `.values` attribute:"
   ]
  },
  {
   "cell_type": "code",
   "execution_count": 6,
   "metadata": {
    "run_control": {
     "frozen": false,
     "read_only": false
    }
   },
   "outputs": [
    {
     "data": {
      "text/plain": [
       "array([0.1, 0.2, 0.3, 0.4])"
      ]
     },
     "execution_count": 6,
     "metadata": {},
     "output_type": "execute_result"
    }
   ],
   "source": [
    "s.values"
   ]
  },
  {
   "cell_type": "code",
   "execution_count": 7,
   "metadata": {},
   "outputs": [
    {
     "data": {
      "text/plain": [
       "numpy.ndarray"
      ]
     },
     "execution_count": 7,
     "metadata": {},
     "output_type": "execute_result"
    }
   ],
   "source": [
    "type(s.values)"
   ]
  },
  {
   "cell_type": "markdown",
   "metadata": {},
   "source": [
    "We can access series values via the index, just like for NumPy arrays:"
   ]
  },
  {
   "cell_type": "code",
   "execution_count": 8,
   "metadata": {
    "run_control": {
     "frozen": false,
     "read_only": false
    }
   },
   "outputs": [
    {
     "data": {
      "text/plain": [
       "0.1"
      ]
     },
     "execution_count": 8,
     "metadata": {},
     "output_type": "execute_result"
    }
   ],
   "source": [
    "s[0]"
   ]
  },
  {
   "cell_type": "markdown",
   "metadata": {},
   "source": [
    "Unlike the NumPy array, though, this index can be something other than integers:"
   ]
  },
  {
   "cell_type": "code",
   "execution_count": 9,
   "metadata": {
    "run_control": {
     "frozen": false,
     "read_only": false
    }
   },
   "outputs": [
    {
     "data": {
      "text/plain": [
       "a    0\n",
       "b    1\n",
       "c    2\n",
       "d    3\n",
       "dtype: int64"
      ]
     },
     "execution_count": 9,
     "metadata": {},
     "output_type": "execute_result"
    }
   ],
   "source": [
    "s2 = pd.Series(np.arange(4), index=['a', 'b', 'c', 'd'])\n",
    "s2"
   ]
  },
  {
   "cell_type": "code",
   "execution_count": 10,
   "metadata": {
    "run_control": {
     "frozen": false,
     "read_only": false
    }
   },
   "outputs": [
    {
     "data": {
      "text/plain": [
       "2"
      ]
     },
     "execution_count": 10,
     "metadata": {},
     "output_type": "execute_result"
    }
   ],
   "source": [
    "s2['c']"
   ]
  },
  {
   "cell_type": "markdown",
   "metadata": {},
   "source": [
    "### Pandas Series versus dictionaries"
   ]
  },
  {
   "cell_type": "markdown",
   "metadata": {},
   "source": [
    "In this way, a ``Series`` object can be thought of as similar to an ordered dictionary mapping one typed value to another typed value.\n",
    "\n",
    "In fact, it's possible to construct a series directly from a Python dictionary:"
   ]
  },
  {
   "cell_type": "code",
   "execution_count": 11,
   "metadata": {
    "run_control": {
     "frozen": false,
     "read_only": false
    }
   },
   "outputs": [
    {
     "data": {
      "text/plain": [
       "Germany           81.3\n",
       "Belgium           11.3\n",
       "France            64.3\n",
       "United Kingdom    64.9\n",
       "Netherlands       16.9\n",
       "dtype: float64"
      ]
     },
     "execution_count": 11,
     "metadata": {},
     "output_type": "execute_result"
    }
   ],
   "source": [
    "pop_dict = {'Germany': 81.3, \n",
    "            'Belgium': 11.3, \n",
    "            'France': 64.3, \n",
    "            'United Kingdom': 64.9, \n",
    "            'Netherlands': 16.9}\n",
    "population = pd.Series(pop_dict)\n",
    "population"
   ]
  },
  {
   "cell_type": "markdown",
   "metadata": {},
   "source": [
    "We can index the populations like a dict as expected:"
   ]
  },
  {
   "cell_type": "code",
   "execution_count": 12,
   "metadata": {
    "run_control": {
     "frozen": false,
     "read_only": false
    }
   },
   "outputs": [
    {
     "data": {
      "text/plain": [
       "64.3"
      ]
     },
     "execution_count": 12,
     "metadata": {},
     "output_type": "execute_result"
    }
   ],
   "source": [
    "population['France']"
   ]
  },
  {
   "cell_type": "markdown",
   "metadata": {},
   "source": [
    "but with the power of numpy arrays:"
   ]
  },
  {
   "cell_type": "code",
   "execution_count": 13,
   "metadata": {
    "run_control": {
     "frozen": false,
     "read_only": false
    }
   },
   "outputs": [
    {
     "data": {
      "text/plain": [
       "Germany           81300.0\n",
       "Belgium           11300.0\n",
       "France            64300.0\n",
       "United Kingdom    64900.0\n",
       "Netherlands       16900.0\n",
       "dtype: float64"
      ]
     },
     "execution_count": 13,
     "metadata": {},
     "output_type": "execute_result"
    }
   ],
   "source": [
    "population * 1000"
   ]
  },
  {
   "cell_type": "markdown",
   "metadata": {},
   "source": [
    "## DataFrames: Multi-dimensional Data\n",
    "\n",
    "A DataFrame is a **tablular data structure** (multi-dimensional object to hold labeled data) comprised of rows and columns, akin to a spreadsheet, database table, or R's data.frame object. You can think of it as multiple Series object which share the same index.\n",
    "\n",
    "<img src=\"img/schema-dataframe.svg\" width=50%>"
   ]
  },
  {
   "cell_type": "markdown",
   "metadata": {},
   "source": [
    "One of the most common ways of creating a dataframe is from a dictionary of arrays or lists.\n",
    "\n",
    "Note that in the IPython notebook, the dataframe will display in a rich HTML view:"
   ]
  },
  {
   "cell_type": "code",
   "execution_count": 14,
   "metadata": {
    "run_control": {
     "frozen": false,
     "read_only": false
    }
   },
   "outputs": [
    {
     "data": {
      "text/html": [
       "<div>\n",
       "<style scoped>\n",
       "    .dataframe tbody tr th:only-of-type {\n",
       "        vertical-align: middle;\n",
       "    }\n",
       "\n",
       "    .dataframe tbody tr th {\n",
       "        vertical-align: top;\n",
       "    }\n",
       "\n",
       "    .dataframe thead th {\n",
       "        text-align: right;\n",
       "    }\n",
       "</style>\n",
       "<table border=\"1\" class=\"dataframe\">\n",
       "  <thead>\n",
       "    <tr style=\"text-align: right;\">\n",
       "      <th></th>\n",
       "      <th>country</th>\n",
       "      <th>population</th>\n",
       "      <th>area</th>\n",
       "      <th>capital</th>\n",
       "    </tr>\n",
       "  </thead>\n",
       "  <tbody>\n",
       "    <tr>\n",
       "      <td>0</td>\n",
       "      <td>Belgium</td>\n",
       "      <td>11.3</td>\n",
       "      <td>30510</td>\n",
       "      <td>Brussels</td>\n",
       "    </tr>\n",
       "    <tr>\n",
       "      <td>1</td>\n",
       "      <td>France</td>\n",
       "      <td>64.3</td>\n",
       "      <td>671308</td>\n",
       "      <td>Paris</td>\n",
       "    </tr>\n",
       "    <tr>\n",
       "      <td>2</td>\n",
       "      <td>Germany</td>\n",
       "      <td>81.3</td>\n",
       "      <td>357050</td>\n",
       "      <td>Berlin</td>\n",
       "    </tr>\n",
       "    <tr>\n",
       "      <td>3</td>\n",
       "      <td>Netherlands</td>\n",
       "      <td>16.9</td>\n",
       "      <td>41526</td>\n",
       "      <td>Amsterdam</td>\n",
       "    </tr>\n",
       "    <tr>\n",
       "      <td>4</td>\n",
       "      <td>United Kingdom</td>\n",
       "      <td>64.9</td>\n",
       "      <td>244820</td>\n",
       "      <td>London</td>\n",
       "    </tr>\n",
       "  </tbody>\n",
       "</table>\n",
       "</div>"
      ],
      "text/plain": [
       "          country  population    area    capital\n",
       "0         Belgium        11.3   30510   Brussels\n",
       "1          France        64.3  671308      Paris\n",
       "2         Germany        81.3  357050     Berlin\n",
       "3     Netherlands        16.9   41526  Amsterdam\n",
       "4  United Kingdom        64.9  244820     London"
      ]
     },
     "execution_count": 14,
     "metadata": {},
     "output_type": "execute_result"
    }
   ],
   "source": [
    "# A partir d'un dictionnaire :\n",
    "data = {'country': ['Belgium', 'France', 'Germany', 'Netherlands', 'United Kingdom'],\n",
    "        'population': [11.3, 64.3, 81.3, 16.9, 64.9],\n",
    "        'area': [30510, 671308, 357050, 41526, 244820],\n",
    "        'capital': ['Brussels', 'Paris', 'Berlin', 'Amsterdam', 'London']}\n",
    "countries = pd.DataFrame(data)\n",
    "countries"
   ]
  },
  {
   "cell_type": "code",
   "execution_count": 16,
   "metadata": {},
   "outputs": [
    {
     "data": {
      "text/plain": [
       "pandas.core.series.Series"
      ]
     },
     "execution_count": 16,
     "metadata": {},
     "output_type": "execute_result"
    }
   ],
   "source": [
    "# Chaque colonne est de type Series.\n",
    "type(countries['area'])"
   ]
  },
  {
   "cell_type": "markdown",
   "metadata": {},
   "source": [
    "### Attributes of the DataFrame\n",
    "\n",
    "A DataFrame has besides a `index` attribute, also a `columns` attribute:"
   ]
  },
  {
   "cell_type": "code",
   "execution_count": 17,
   "metadata": {
    "run_control": {
     "frozen": false,
     "read_only": false
    }
   },
   "outputs": [
    {
     "data": {
      "text/plain": [
       "RangeIndex(start=0, stop=5, step=1)"
      ]
     },
     "execution_count": 17,
     "metadata": {},
     "output_type": "execute_result"
    }
   ],
   "source": [
    "countries.index"
   ]
  },
  {
   "cell_type": "code",
   "execution_count": 18,
   "metadata": {
    "run_control": {
     "frozen": false,
     "read_only": false
    }
   },
   "outputs": [
    {
     "data": {
      "text/plain": [
       "Index(['country', 'population', 'area', 'capital'], dtype='object')"
      ]
     },
     "execution_count": 18,
     "metadata": {},
     "output_type": "execute_result"
    }
   ],
   "source": [
    "countries.columns"
   ]
  },
  {
   "cell_type": "code",
   "execution_count": 20,
   "metadata": {},
   "outputs": [
    {
     "data": {
      "text/plain": [
       "Index(['country', 'population', 'area', 'capital'], dtype='object')"
      ]
     },
     "execution_count": 20,
     "metadata": {},
     "output_type": "execute_result"
    }
   ],
   "source": [
    "countries.T.index\n",
    "# Les colonnes et les indexes sont du même type : Index"
   ]
  },
  {
   "cell_type": "code",
   "execution_count": 21,
   "metadata": {},
   "outputs": [
    {
     "data": {
      "text/html": [
       "<div>\n",
       "<style scoped>\n",
       "    .dataframe tbody tr th:only-of-type {\n",
       "        vertical-align: middle;\n",
       "    }\n",
       "\n",
       "    .dataframe tbody tr th {\n",
       "        vertical-align: top;\n",
       "    }\n",
       "\n",
       "    .dataframe thead th {\n",
       "        text-align: right;\n",
       "    }\n",
       "</style>\n",
       "<table border=\"1\" class=\"dataframe\">\n",
       "  <thead>\n",
       "    <tr style=\"text-align: right;\">\n",
       "      <th></th>\n",
       "      <th>0</th>\n",
       "      <th>1</th>\n",
       "      <th>2</th>\n",
       "      <th>3</th>\n",
       "      <th>4</th>\n",
       "    </tr>\n",
       "  </thead>\n",
       "  <tbody>\n",
       "    <tr>\n",
       "      <td>country</td>\n",
       "      <td>Belgium</td>\n",
       "      <td>France</td>\n",
       "      <td>Germany</td>\n",
       "      <td>Netherlands</td>\n",
       "      <td>United Kingdom</td>\n",
       "    </tr>\n",
       "    <tr>\n",
       "      <td>population</td>\n",
       "      <td>11.3</td>\n",
       "      <td>64.3</td>\n",
       "      <td>81.3</td>\n",
       "      <td>16.9</td>\n",
       "      <td>64.9</td>\n",
       "    </tr>\n",
       "    <tr>\n",
       "      <td>area</td>\n",
       "      <td>30510</td>\n",
       "      <td>671308</td>\n",
       "      <td>357050</td>\n",
       "      <td>41526</td>\n",
       "      <td>244820</td>\n",
       "    </tr>\n",
       "    <tr>\n",
       "      <td>capital</td>\n",
       "      <td>Brussels</td>\n",
       "      <td>Paris</td>\n",
       "      <td>Berlin</td>\n",
       "      <td>Amsterdam</td>\n",
       "      <td>London</td>\n",
       "    </tr>\n",
       "  </tbody>\n",
       "</table>\n",
       "</div>"
      ],
      "text/plain": [
       "                   0       1        2            3               4\n",
       "country      Belgium  France  Germany  Netherlands  United Kingdom\n",
       "population      11.3    64.3     81.3         16.9            64.9\n",
       "area           30510  671308   357050        41526          244820\n",
       "capital     Brussels   Paris   Berlin    Amsterdam          London"
      ]
     },
     "execution_count": 21,
     "metadata": {},
     "output_type": "execute_result"
    }
   ],
   "source": [
    "countries.T"
   ]
  },
  {
   "cell_type": "markdown",
   "metadata": {},
   "source": [
    "To check the data types of the different columns:"
   ]
  },
  {
   "cell_type": "code",
   "execution_count": 22,
   "metadata": {
    "run_control": {
     "frozen": false,
     "read_only": false
    }
   },
   "outputs": [
    {
     "data": {
      "text/plain": [
       "country        object\n",
       "population    float64\n",
       "area            int64\n",
       "capital        object\n",
       "dtype: object"
      ]
     },
     "execution_count": 22,
     "metadata": {},
     "output_type": "execute_result"
    }
   ],
   "source": [
    "countries.dtypes"
   ]
  },
  {
   "cell_type": "markdown",
   "metadata": {},
   "source": [
    "An overview of that information can be given with the `info()` method:"
   ]
  },
  {
   "cell_type": "code",
   "execution_count": 23,
   "metadata": {
    "run_control": {
     "frozen": false,
     "read_only": false
    }
   },
   "outputs": [
    {
     "name": "stdout",
     "output_type": "stream",
     "text": [
      "<class 'pandas.core.frame.DataFrame'>\n",
      "RangeIndex: 5 entries, 0 to 4\n",
      "Data columns (total 4 columns):\n",
      "country       5 non-null object\n",
      "population    5 non-null float64\n",
      "area          5 non-null int64\n",
      "capital       5 non-null object\n",
      "dtypes: float64(1), int64(1), object(2)\n",
      "memory usage: 288.0+ bytes\n"
     ]
    }
   ],
   "source": [
    "countries.info()"
   ]
  },
  {
   "cell_type": "markdown",
   "metadata": {},
   "source": [
    "Also a DataFrame has a `values` attribute, but attention: when you have heterogeneous data, all values will be upcasted:"
   ]
  },
  {
   "cell_type": "code",
   "execution_count": 24,
   "metadata": {
    "run_control": {
     "frozen": false,
     "read_only": false
    }
   },
   "outputs": [
    {
     "data": {
      "text/plain": [
       "array([['Belgium', 11.3, 30510, 'Brussels'],\n",
       "       ['France', 64.3, 671308, 'Paris'],\n",
       "       ['Germany', 81.3, 357050, 'Berlin'],\n",
       "       ['Netherlands', 16.9, 41526, 'Amsterdam'],\n",
       "       ['United Kingdom', 64.9, 244820, 'London']], dtype=object)"
      ]
     },
     "execution_count": 24,
     "metadata": {},
     "output_type": "execute_result"
    }
   ],
   "source": [
    "countries.values"
   ]
  },
  {
   "cell_type": "markdown",
   "metadata": {},
   "source": [
    "To access a Series representing a column in the data, use typical indexing syntax:"
   ]
  },
  {
   "cell_type": "code",
   "execution_count": 25,
   "metadata": {
    "run_control": {
     "frozen": false,
     "read_only": false
    }
   },
   "outputs": [
    {
     "data": {
      "text/plain": [
       "0     30510\n",
       "1    671308\n",
       "2    357050\n",
       "3     41526\n",
       "4    244820\n",
       "Name: area, dtype: int64"
      ]
     },
     "execution_count": 25,
     "metadata": {},
     "output_type": "execute_result"
    }
   ],
   "source": [
    "countries['area']"
   ]
  },
  {
   "cell_type": "markdown",
   "metadata": {},
   "source": [
    "### Changing the DataFrame index"
   ]
  },
  {
   "cell_type": "markdown",
   "metadata": {},
   "source": [
    "If we don't like what the index looks like, we can reset it and set one of our columns:"
   ]
  },
  {
   "cell_type": "code",
   "execution_count": 26,
   "metadata": {
    "run_control": {
     "frozen": false,
     "read_only": false
    }
   },
   "outputs": [
    {
     "data": {
      "text/html": [
       "<div>\n",
       "<style scoped>\n",
       "    .dataframe tbody tr th:only-of-type {\n",
       "        vertical-align: middle;\n",
       "    }\n",
       "\n",
       "    .dataframe tbody tr th {\n",
       "        vertical-align: top;\n",
       "    }\n",
       "\n",
       "    .dataframe thead th {\n",
       "        text-align: right;\n",
       "    }\n",
       "</style>\n",
       "<table border=\"1\" class=\"dataframe\">\n",
       "  <thead>\n",
       "    <tr style=\"text-align: right;\">\n",
       "      <th></th>\n",
       "      <th>population</th>\n",
       "      <th>area</th>\n",
       "      <th>capital</th>\n",
       "    </tr>\n",
       "    <tr>\n",
       "      <th>country</th>\n",
       "      <th></th>\n",
       "      <th></th>\n",
       "      <th></th>\n",
       "    </tr>\n",
       "  </thead>\n",
       "  <tbody>\n",
       "    <tr>\n",
       "      <td>Belgium</td>\n",
       "      <td>11.3</td>\n",
       "      <td>30510</td>\n",
       "      <td>Brussels</td>\n",
       "    </tr>\n",
       "    <tr>\n",
       "      <td>France</td>\n",
       "      <td>64.3</td>\n",
       "      <td>671308</td>\n",
       "      <td>Paris</td>\n",
       "    </tr>\n",
       "    <tr>\n",
       "      <td>Germany</td>\n",
       "      <td>81.3</td>\n",
       "      <td>357050</td>\n",
       "      <td>Berlin</td>\n",
       "    </tr>\n",
       "    <tr>\n",
       "      <td>Netherlands</td>\n",
       "      <td>16.9</td>\n",
       "      <td>41526</td>\n",
       "      <td>Amsterdam</td>\n",
       "    </tr>\n",
       "    <tr>\n",
       "      <td>United Kingdom</td>\n",
       "      <td>64.9</td>\n",
       "      <td>244820</td>\n",
       "      <td>London</td>\n",
       "    </tr>\n",
       "  </tbody>\n",
       "</table>\n",
       "</div>"
      ],
      "text/plain": [
       "                population    area    capital\n",
       "country                                      \n",
       "Belgium               11.3   30510   Brussels\n",
       "France                64.3  671308      Paris\n",
       "Germany               81.3  357050     Berlin\n",
       "Netherlands           16.9   41526  Amsterdam\n",
       "United Kingdom        64.9  244820     London"
      ]
     },
     "execution_count": 26,
     "metadata": {},
     "output_type": "execute_result"
    }
   ],
   "source": [
    "countries = countries.set_index('country')\n",
    "countries"
   ]
  },
  {
   "cell_type": "markdown",
   "metadata": {},
   "source": [
    "Reversing this operation, is `reset_index`:"
   ]
  },
  {
   "cell_type": "code",
   "execution_count": 28,
   "metadata": {
    "run_control": {
     "frozen": false,
     "read_only": false
    }
   },
   "outputs": [
    {
     "data": {
      "text/html": [
       "<div>\n",
       "<style scoped>\n",
       "    .dataframe tbody tr th:only-of-type {\n",
       "        vertical-align: middle;\n",
       "    }\n",
       "\n",
       "    .dataframe tbody tr th {\n",
       "        vertical-align: top;\n",
       "    }\n",
       "\n",
       "    .dataframe thead th {\n",
       "        text-align: right;\n",
       "    }\n",
       "</style>\n",
       "<table border=\"1\" class=\"dataframe\">\n",
       "  <thead>\n",
       "    <tr style=\"text-align: right;\">\n",
       "      <th></th>\n",
       "      <th>country</th>\n",
       "      <th>population</th>\n",
       "      <th>area</th>\n",
       "      <th>capital</th>\n",
       "    </tr>\n",
       "  </thead>\n",
       "  <tbody>\n",
       "    <tr>\n",
       "      <td>0</td>\n",
       "      <td>Belgium</td>\n",
       "      <td>11.3</td>\n",
       "      <td>30510</td>\n",
       "      <td>Brussels</td>\n",
       "    </tr>\n",
       "    <tr>\n",
       "      <td>1</td>\n",
       "      <td>France</td>\n",
       "      <td>64.3</td>\n",
       "      <td>671308</td>\n",
       "      <td>Paris</td>\n",
       "    </tr>\n",
       "    <tr>\n",
       "      <td>2</td>\n",
       "      <td>Germany</td>\n",
       "      <td>81.3</td>\n",
       "      <td>357050</td>\n",
       "      <td>Berlin</td>\n",
       "    </tr>\n",
       "    <tr>\n",
       "      <td>3</td>\n",
       "      <td>Netherlands</td>\n",
       "      <td>16.9</td>\n",
       "      <td>41526</td>\n",
       "      <td>Amsterdam</td>\n",
       "    </tr>\n",
       "    <tr>\n",
       "      <td>4</td>\n",
       "      <td>United Kingdom</td>\n",
       "      <td>64.9</td>\n",
       "      <td>244820</td>\n",
       "      <td>London</td>\n",
       "    </tr>\n",
       "  </tbody>\n",
       "</table>\n",
       "</div>"
      ],
      "text/plain": [
       "          country  population    area    capital\n",
       "0         Belgium        11.3   30510   Brussels\n",
       "1          France        64.3  671308      Paris\n",
       "2         Germany        81.3  357050     Berlin\n",
       "3     Netherlands        16.9   41526  Amsterdam\n",
       "4  United Kingdom        64.9  244820     London"
      ]
     },
     "execution_count": 28,
     "metadata": {},
     "output_type": "execute_result"
    }
   ],
   "source": [
    "countries.reset_index('country')"
   ]
  },
  {
   "cell_type": "markdown",
   "metadata": {},
   "source": [
    "## Some useful methods on these data structures"
   ]
  },
  {
   "cell_type": "markdown",
   "metadata": {},
   "source": [
    "Exploration of the Series and DataFrame is essential (check out what you're dealing with). "
   ]
  },
  {
   "cell_type": "code",
   "execution_count": 29,
   "metadata": {
    "run_control": {
     "frozen": false,
     "read_only": false
    }
   },
   "outputs": [
    {
     "data": {
      "text/html": [
       "<div>\n",
       "<style scoped>\n",
       "    .dataframe tbody tr th:only-of-type {\n",
       "        vertical-align: middle;\n",
       "    }\n",
       "\n",
       "    .dataframe tbody tr th {\n",
       "        vertical-align: top;\n",
       "    }\n",
       "\n",
       "    .dataframe thead th {\n",
       "        text-align: right;\n",
       "    }\n",
       "</style>\n",
       "<table border=\"1\" class=\"dataframe\">\n",
       "  <thead>\n",
       "    <tr style=\"text-align: right;\">\n",
       "      <th></th>\n",
       "      <th>population</th>\n",
       "      <th>area</th>\n",
       "      <th>capital</th>\n",
       "    </tr>\n",
       "    <tr>\n",
       "      <th>country</th>\n",
       "      <th></th>\n",
       "      <th></th>\n",
       "      <th></th>\n",
       "    </tr>\n",
       "  </thead>\n",
       "  <tbody>\n",
       "    <tr>\n",
       "      <td>Belgium</td>\n",
       "      <td>11.3</td>\n",
       "      <td>30510</td>\n",
       "      <td>Brussels</td>\n",
       "    </tr>\n",
       "    <tr>\n",
       "      <td>France</td>\n",
       "      <td>64.3</td>\n",
       "      <td>671308</td>\n",
       "      <td>Paris</td>\n",
       "    </tr>\n",
       "    <tr>\n",
       "      <td>Germany</td>\n",
       "      <td>81.3</td>\n",
       "      <td>357050</td>\n",
       "      <td>Berlin</td>\n",
       "    </tr>\n",
       "    <tr>\n",
       "      <td>Netherlands</td>\n",
       "      <td>16.9</td>\n",
       "      <td>41526</td>\n",
       "      <td>Amsterdam</td>\n",
       "    </tr>\n",
       "  </tbody>\n",
       "</table>\n",
       "</div>"
      ],
      "text/plain": [
       "             population    area    capital\n",
       "country                                   \n",
       "Belgium            11.3   30510   Brussels\n",
       "France             64.3  671308      Paris\n",
       "Germany            81.3  357050     Berlin\n",
       "Netherlands        16.9   41526  Amsterdam"
      ]
     },
     "execution_count": 29,
     "metadata": {},
     "output_type": "execute_result"
    }
   ],
   "source": [
    "countries.head(4) # Top rows"
   ]
  },
  {
   "cell_type": "code",
   "execution_count": 30,
   "metadata": {
    "run_control": {
     "frozen": false,
     "read_only": false
    }
   },
   "outputs": [
    {
     "data": {
      "text/html": [
       "<div>\n",
       "<style scoped>\n",
       "    .dataframe tbody tr th:only-of-type {\n",
       "        vertical-align: middle;\n",
       "    }\n",
       "\n",
       "    .dataframe tbody tr th {\n",
       "        vertical-align: top;\n",
       "    }\n",
       "\n",
       "    .dataframe thead th {\n",
       "        text-align: right;\n",
       "    }\n",
       "</style>\n",
       "<table border=\"1\" class=\"dataframe\">\n",
       "  <thead>\n",
       "    <tr style=\"text-align: right;\">\n",
       "      <th></th>\n",
       "      <th>population</th>\n",
       "      <th>area</th>\n",
       "      <th>capital</th>\n",
       "    </tr>\n",
       "    <tr>\n",
       "      <th>country</th>\n",
       "      <th></th>\n",
       "      <th></th>\n",
       "      <th></th>\n",
       "    </tr>\n",
       "  </thead>\n",
       "  <tbody>\n",
       "    <tr>\n",
       "      <td>France</td>\n",
       "      <td>64.3</td>\n",
       "      <td>671308</td>\n",
       "      <td>Paris</td>\n",
       "    </tr>\n",
       "    <tr>\n",
       "      <td>Germany</td>\n",
       "      <td>81.3</td>\n",
       "      <td>357050</td>\n",
       "      <td>Berlin</td>\n",
       "    </tr>\n",
       "    <tr>\n",
       "      <td>Netherlands</td>\n",
       "      <td>16.9</td>\n",
       "      <td>41526</td>\n",
       "      <td>Amsterdam</td>\n",
       "    </tr>\n",
       "    <tr>\n",
       "      <td>United Kingdom</td>\n",
       "      <td>64.9</td>\n",
       "      <td>244820</td>\n",
       "      <td>London</td>\n",
       "    </tr>\n",
       "  </tbody>\n",
       "</table>\n",
       "</div>"
      ],
      "text/plain": [
       "                population    area    capital\n",
       "country                                      \n",
       "France                64.3  671308      Paris\n",
       "Germany               81.3  357050     Berlin\n",
       "Netherlands           16.9   41526  Amsterdam\n",
       "United Kingdom        64.9  244820     London"
      ]
     },
     "execution_count": 30,
     "metadata": {},
     "output_type": "execute_result"
    }
   ],
   "source": [
    "countries.tail(4) # Bottom rows"
   ]
  },
  {
   "cell_type": "markdown",
   "metadata": {},
   "source": [
    "One useful method to use is the ``describe`` method, which computes summary statistics for each column:"
   ]
  },
  {
   "cell_type": "code",
   "execution_count": 31,
   "metadata": {
    "run_control": {
     "frozen": false,
     "read_only": false
    }
   },
   "outputs": [
    {
     "data": {
      "text/html": [
       "<div>\n",
       "<style scoped>\n",
       "    .dataframe tbody tr th:only-of-type {\n",
       "        vertical-align: middle;\n",
       "    }\n",
       "\n",
       "    .dataframe tbody tr th {\n",
       "        vertical-align: top;\n",
       "    }\n",
       "\n",
       "    .dataframe thead th {\n",
       "        text-align: right;\n",
       "    }\n",
       "</style>\n",
       "<table border=\"1\" class=\"dataframe\">\n",
       "  <thead>\n",
       "    <tr style=\"text-align: right;\">\n",
       "      <th></th>\n",
       "      <th>population</th>\n",
       "      <th>area</th>\n",
       "    </tr>\n",
       "  </thead>\n",
       "  <tbody>\n",
       "    <tr>\n",
       "      <td>count</td>\n",
       "      <td>5.000000</td>\n",
       "      <td>5.000000</td>\n",
       "    </tr>\n",
       "    <tr>\n",
       "      <td>mean</td>\n",
       "      <td>47.740000</td>\n",
       "      <td>269042.800000</td>\n",
       "    </tr>\n",
       "    <tr>\n",
       "      <td>std</td>\n",
       "      <td>31.519645</td>\n",
       "      <td>264012.827994</td>\n",
       "    </tr>\n",
       "    <tr>\n",
       "      <td>min</td>\n",
       "      <td>11.300000</td>\n",
       "      <td>30510.000000</td>\n",
       "    </tr>\n",
       "    <tr>\n",
       "      <td>25%</td>\n",
       "      <td>16.900000</td>\n",
       "      <td>41526.000000</td>\n",
       "    </tr>\n",
       "    <tr>\n",
       "      <td>50%</td>\n",
       "      <td>64.300000</td>\n",
       "      <td>244820.000000</td>\n",
       "    </tr>\n",
       "    <tr>\n",
       "      <td>75%</td>\n",
       "      <td>64.900000</td>\n",
       "      <td>357050.000000</td>\n",
       "    </tr>\n",
       "    <tr>\n",
       "      <td>max</td>\n",
       "      <td>81.300000</td>\n",
       "      <td>671308.000000</td>\n",
       "    </tr>\n",
       "  </tbody>\n",
       "</table>\n",
       "</div>"
      ],
      "text/plain": [
       "       population           area\n",
       "count    5.000000       5.000000\n",
       "mean    47.740000  269042.800000\n",
       "std     31.519645  264012.827994\n",
       "min     11.300000   30510.000000\n",
       "25%     16.900000   41526.000000\n",
       "50%     64.300000  244820.000000\n",
       "75%     64.900000  357050.000000\n",
       "max     81.300000  671308.000000"
      ]
     },
     "execution_count": 31,
     "metadata": {},
     "output_type": "execute_result"
    }
   ],
   "source": [
    "countries.describe()"
   ]
  },
  {
   "cell_type": "markdown",
   "metadata": {},
   "source": [
    "**Sort**ing your data **by** a specific column is another important first-check:"
   ]
  },
  {
   "cell_type": "code",
   "execution_count": 32,
   "metadata": {
    "run_control": {
     "frozen": false,
     "read_only": false
    }
   },
   "outputs": [
    {
     "data": {
      "text/html": [
       "<div>\n",
       "<style scoped>\n",
       "    .dataframe tbody tr th:only-of-type {\n",
       "        vertical-align: middle;\n",
       "    }\n",
       "\n",
       "    .dataframe tbody tr th {\n",
       "        vertical-align: top;\n",
       "    }\n",
       "\n",
       "    .dataframe thead th {\n",
       "        text-align: right;\n",
       "    }\n",
       "</style>\n",
       "<table border=\"1\" class=\"dataframe\">\n",
       "  <thead>\n",
       "    <tr style=\"text-align: right;\">\n",
       "      <th></th>\n",
       "      <th>population</th>\n",
       "      <th>area</th>\n",
       "      <th>capital</th>\n",
       "    </tr>\n",
       "    <tr>\n",
       "      <th>country</th>\n",
       "      <th></th>\n",
       "      <th></th>\n",
       "      <th></th>\n",
       "    </tr>\n",
       "  </thead>\n",
       "  <tbody>\n",
       "    <tr>\n",
       "      <td>Belgium</td>\n",
       "      <td>11.3</td>\n",
       "      <td>30510</td>\n",
       "      <td>Brussels</td>\n",
       "    </tr>\n",
       "    <tr>\n",
       "      <td>Netherlands</td>\n",
       "      <td>16.9</td>\n",
       "      <td>41526</td>\n",
       "      <td>Amsterdam</td>\n",
       "    </tr>\n",
       "    <tr>\n",
       "      <td>France</td>\n",
       "      <td>64.3</td>\n",
       "      <td>671308</td>\n",
       "      <td>Paris</td>\n",
       "    </tr>\n",
       "    <tr>\n",
       "      <td>United Kingdom</td>\n",
       "      <td>64.9</td>\n",
       "      <td>244820</td>\n",
       "      <td>London</td>\n",
       "    </tr>\n",
       "    <tr>\n",
       "      <td>Germany</td>\n",
       "      <td>81.3</td>\n",
       "      <td>357050</td>\n",
       "      <td>Berlin</td>\n",
       "    </tr>\n",
       "  </tbody>\n",
       "</table>\n",
       "</div>"
      ],
      "text/plain": [
       "                population    area    capital\n",
       "country                                      \n",
       "Belgium               11.3   30510   Brussels\n",
       "Netherlands           16.9   41526  Amsterdam\n",
       "France                64.3  671308      Paris\n",
       "United Kingdom        64.9  244820     London\n",
       "Germany               81.3  357050     Berlin"
      ]
     },
     "execution_count": 32,
     "metadata": {},
     "output_type": "execute_result"
    }
   ],
   "source": [
    "countries.sort_values(by='population')"
   ]
  },
  {
   "cell_type": "markdown",
   "metadata": {},
   "source": [
    "<div class=\"alert alert-success\">\n",
    "    <b>EXERCISE</b>:\n",
    "     <ul>\n",
    "      <li>Check the help of the `sort_values` function and find out how to sort from the largest values to the lowest values</li>\n",
    "    </ul>\n",
    "</div>"
   ]
  },
  {
   "cell_type": "code",
   "execution_count": 38,
   "metadata": {},
   "outputs": [
    {
     "data": {
      "text/html": [
       "<div>\n",
       "<style scoped>\n",
       "    .dataframe tbody tr th:only-of-type {\n",
       "        vertical-align: middle;\n",
       "    }\n",
       "\n",
       "    .dataframe tbody tr th {\n",
       "        vertical-align: top;\n",
       "    }\n",
       "\n",
       "    .dataframe thead th {\n",
       "        text-align: right;\n",
       "    }\n",
       "</style>\n",
       "<table border=\"1\" class=\"dataframe\">\n",
       "  <thead>\n",
       "    <tr style=\"text-align: right;\">\n",
       "      <th></th>\n",
       "      <th>population</th>\n",
       "      <th>area</th>\n",
       "      <th>capital</th>\n",
       "    </tr>\n",
       "    <tr>\n",
       "      <th>country</th>\n",
       "      <th></th>\n",
       "      <th></th>\n",
       "      <th></th>\n",
       "    </tr>\n",
       "  </thead>\n",
       "  <tbody>\n",
       "    <tr>\n",
       "      <td>Germany</td>\n",
       "      <td>81.3</td>\n",
       "      <td>357050</td>\n",
       "      <td>Berlin</td>\n",
       "    </tr>\n",
       "    <tr>\n",
       "      <td>United Kingdom</td>\n",
       "      <td>64.9</td>\n",
       "      <td>244820</td>\n",
       "      <td>London</td>\n",
       "    </tr>\n",
       "    <tr>\n",
       "      <td>France</td>\n",
       "      <td>64.3</td>\n",
       "      <td>671308</td>\n",
       "      <td>Paris</td>\n",
       "    </tr>\n",
       "    <tr>\n",
       "      <td>Netherlands</td>\n",
       "      <td>16.9</td>\n",
       "      <td>41526</td>\n",
       "      <td>Amsterdam</td>\n",
       "    </tr>\n",
       "    <tr>\n",
       "      <td>Belgium</td>\n",
       "      <td>11.3</td>\n",
       "      <td>30510</td>\n",
       "      <td>Brussels</td>\n",
       "    </tr>\n",
       "  </tbody>\n",
       "</table>\n",
       "</div>"
      ],
      "text/plain": [
       "                population    area    capital\n",
       "country                                      \n",
       "Germany               81.3  357050     Berlin\n",
       "United Kingdom        64.9  244820     London\n",
       "France                64.3  671308      Paris\n",
       "Netherlands           16.9   41526  Amsterdam\n",
       "Belgium               11.3   30510   Brussels"
      ]
     },
     "execution_count": 38,
     "metadata": {},
     "output_type": "execute_result"
    }
   ],
   "source": [
    "countries.sort_values?\n",
    "countries.sort_values(by='population',ascending=False)"
   ]
  },
  {
   "cell_type": "markdown",
   "metadata": {},
   "source": [
    "The **`plot`** method can be used to quickly visualize the data in different ways:"
   ]
  },
  {
   "cell_type": "code",
   "execution_count": 39,
   "metadata": {
    "run_control": {
     "frozen": false,
     "read_only": false
    }
   },
   "outputs": [
    {
     "data": {
      "text/plain": [
       "<matplotlib.axes._subplots.AxesSubplot at 0x116384250>"
      ]
     },
     "execution_count": 39,
     "metadata": {},
     "output_type": "execute_result"
    },
    {
     "data": {
      "image/png": "[encoded data removed]",
      "text/plain": [
       "<Figure size 432x288 with 1 Axes>"
      ]
     },
     "metadata": {
      "needs_background": "light"
     },
     "output_type": "display_data"
    }
   ],
   "source": [
    "countries.plot()\n",
    "# Il utilise l'index comme axe des X"
   ]
  },
  {
   "cell_type": "markdown",
   "metadata": {},
   "source": [
    "However, for this dataset, it does not say that much:"
   ]
  },
  {
   "cell_type": "code",
   "execution_count": 40,
   "metadata": {},
   "outputs": [
    {
     "data": {
      "text/html": [
       "<div>\n",
       "<style scoped>\n",
       "    .dataframe tbody tr th:only-of-type {\n",
       "        vertical-align: middle;\n",
       "    }\n",
       "\n",
       "    .dataframe tbody tr th {\n",
       "        vertical-align: top;\n",
       "    }\n",
       "\n",
       "    .dataframe thead th {\n",
       "        text-align: right;\n",
       "    }\n",
       "</style>\n",
       "<table border=\"1\" class=\"dataframe\">\n",
       "  <thead>\n",
       "    <tr style=\"text-align: right;\">\n",
       "      <th></th>\n",
       "      <th>population</th>\n",
       "      <th>area</th>\n",
       "      <th>capital</th>\n",
       "    </tr>\n",
       "    <tr>\n",
       "      <th>country</th>\n",
       "      <th></th>\n",
       "      <th></th>\n",
       "      <th></th>\n",
       "    </tr>\n",
       "  </thead>\n",
       "  <tbody>\n",
       "    <tr>\n",
       "      <td>Belgium</td>\n",
       "      <td>11.3</td>\n",
       "      <td>30510</td>\n",
       "      <td>Brussels</td>\n",
       "    </tr>\n",
       "    <tr>\n",
       "      <td>France</td>\n",
       "      <td>64.3</td>\n",
       "      <td>671308</td>\n",
       "      <td>Paris</td>\n",
       "    </tr>\n",
       "    <tr>\n",
       "      <td>Germany</td>\n",
       "      <td>81.3</td>\n",
       "      <td>357050</td>\n",
       "      <td>Berlin</td>\n",
       "    </tr>\n",
       "    <tr>\n",
       "      <td>Netherlands</td>\n",
       "      <td>16.9</td>\n",
       "      <td>41526</td>\n",
       "      <td>Amsterdam</td>\n",
       "    </tr>\n",
       "    <tr>\n",
       "      <td>United Kingdom</td>\n",
       "      <td>64.9</td>\n",
       "      <td>244820</td>\n",
       "      <td>London</td>\n",
       "    </tr>\n",
       "  </tbody>\n",
       "</table>\n",
       "</div>"
      ],
      "text/plain": [
       "                population    area    capital\n",
       "country                                      \n",
       "Belgium               11.3   30510   Brussels\n",
       "France                64.3  671308      Paris\n",
       "Germany               81.3  357050     Berlin\n",
       "Netherlands           16.9   41526  Amsterdam\n",
       "United Kingdom        64.9  244820     London"
      ]
     },
     "execution_count": 40,
     "metadata": {},
     "output_type": "execute_result"
    }
   ],
   "source": [
    "countries"
   ]
  },
  {
   "cell_type": "code",
   "execution_count": 41,
   "metadata": {
    "run_control": {
     "frozen": false,
     "read_only": false
    }
   },
   "outputs": [
    {
     "data": {
      "text/plain": [
       "<matplotlib.axes._subplots.AxesSubplot at 0x1164f7650>"
      ]
     },
     "execution_count": 41,
     "metadata": {},
     "output_type": "execute_result"
    },
    {
     "data": {
      "image/png": "[encoded data removed]",
      "text/plain": [
       "<Figure size 432x288 with 1 Axes>"
      ]
     },
     "metadata": {
      "needs_background": "light"
     },
     "output_type": "display_data"
    }
   ],
   "source": [
    "countries['population'].plot(kind='barh')"
   ]
  },
  {
   "cell_type": "markdown",
   "metadata": {},
   "source": [
    "<div class=\"alert alert-success\">\n",
    "    <b>EXERCISE</b>:\n",
    "     <ul>\n",
    "      <li>You can play with the `kind` keyword of the `plot` function in the figure above: 'line', 'bar', 'hist', 'density', 'area', 'pie', 'scatter', 'hexbin'</li>\n",
    "    </ul>\n",
    "</div>"
   ]
  },
  {
   "cell_type": "code",
   "execution_count": 43,
   "metadata": {},
   "outputs": [
    {
     "data": {
      "text/plain": [
       "<matplotlib.axes._subplots.AxesSubplot at 0x1165ef590>"
      ]
     },
     "execution_count": 43,
     "metadata": {},
     "output_type": "execute_result"
    },
    {
     "data": {
      "image/png": "[encoded data removed]",
      "text/plain": [
       "<Figure size 432x288 with 1 Axes>"
      ]
     },
     "metadata": {
      "needs_background": "light"
     },
     "output_type": "display_data"
    }
   ],
   "source": [
    "countries.plot(x='population', y='area',kind='scatter')"
   ]
  },
  {
   "cell_type": "code",
   "execution_count": 44,
   "metadata": {},
   "outputs": [
    {
     "data": {
      "text/plain": [
       "<matplotlib.axes._subplots.AxesSubplot at 0x116791c90>"
      ]
     },
     "execution_count": 44,
     "metadata": {},
     "output_type": "execute_result"
    },
    {
     "data": {
      "image/png": "[encoded data removed]",
      "text/plain": [
       "<Figure size 432x288 with 1 Axes>"
      ]
     },
     "metadata": {
      "needs_background": "light"
     },
     "output_type": "display_data"
    }
   ],
   "source": [
    "countries.plot(kind='bar')"
   ]
  },
  {
   "cell_type": "code",
   "execution_count": 46,
   "metadata": {},
   "outputs": [
    {
     "data": {
      "text/plain": [
       "<matplotlib.axes._subplots.AxesSubplot at 0x116872290>"
      ]
     },
     "execution_count": 46,
     "metadata": {},
     "output_type": "execute_result"
    },
    {
     "data": {
      "image/png": "[encoded data removed]",
      "text/plain": [
       "<Figure size 432x288 with 1 Axes>"
      ]
     },
     "metadata": {},
     "output_type": "display_data"
    }
   ],
   "source": [
    "countries['area'].plot(kind='pie')"
   ]
  },
  {
   "cell_type": "code",
   "execution_count": 47,
   "metadata": {},
   "outputs": [],
   "source": [
    "serie_s=countries['area'] # Plot d'une Serie\n",
    "serie_s.plot?"
   ]
  },
  {
   "cell_type": "code",
   "execution_count": 48,
   "metadata": {},
   "outputs": [],
   "source": [
    "df_s=countries # Plot d'une DataFrame\n",
    "df_s.plot?"
   ]
  },
  {
   "cell_type": "markdown",
   "metadata": {},
   "source": [
    "# Importing and exporting data"
   ]
  },
  {
   "cell_type": "markdown",
   "metadata": {},
   "source": [
    "A wide range of input/output formats are natively supported by pandas:\n",
    "\n",
    "* CSV, text\n",
    "* SQL database\n",
    "* Excel\n",
    "* HDF5\n",
    "* json\n",
    "* html\n",
    "* pickle\n",
    "* ..."
   ]
  },
  {
   "cell_type": "code",
   "execution_count": 49,
   "metadata": {},
   "outputs": [
    {
     "data": {
      "text/plain": [
       "{'population': {'Belgium': 11.3,\n",
       "  'France': 64.3,\n",
       "  'Germany': 81.3,\n",
       "  'Netherlands': 16.9,\n",
       "  'United Kingdom': 64.9},\n",
       " 'area': {'Belgium': 30510,\n",
       "  'France': 671308,\n",
       "  'Germany': 357050,\n",
       "  'Netherlands': 41526,\n",
       "  'United Kingdom': 244820},\n",
       " 'capital': {'Belgium': 'Brussels',\n",
       "  'France': 'Paris',\n",
       "  'Germany': 'Berlin',\n",
       "  'Netherlands': 'Amsterdam',\n",
       "  'United Kingdom': 'London'}}"
      ]
     },
     "execution_count": 49,
     "metadata": {},
     "output_type": "execute_result"
    }
   ],
   "source": [
    "countries.to_dict()"
   ]
  },
  {
   "cell_type": "markdown",
   "metadata": {},
   "source": [
    "##  Basic operations on Series and DataFrames"
   ]
  },
  {
   "cell_type": "markdown",
   "metadata": {},
   "source": [
    "As you play around with DataFrames, you'll notice that many operations which work on NumPy arrays will also work on dataframes."
   ]
  },
  {
   "cell_type": "code",
   "execution_count": 50,
   "metadata": {
    "run_control": {
     "frozen": false,
     "read_only": false
    }
   },
   "outputs": [],
   "source": [
    "population = pd.Series({'Germany': 81.3, 'Belgium': 11.3, 'France': 64.3, \n",
    "                        'United Kingdom': 64.9, 'Netherlands': 16.9})\n",
    "\n",
    "countries = pd.DataFrame({'country': ['Belgium', 'France', 'Germany', 'Netherlands', 'United Kingdom'],\n",
    "                          'population': [11.3, 64.3, 81.3, 16.9, 64.9],\n",
    "                          'area': [30510, 671308, 357050, 41526, 244820],\n",
    "                          'capital': ['Brussels', 'Paris', 'Berlin', 'Amsterdam', 'London']})"
   ]
  },
  {
   "cell_type": "code",
   "execution_count": 51,
   "metadata": {
    "run_control": {
     "frozen": false,
     "read_only": false
    }
   },
   "outputs": [
    {
     "data": {
      "text/html": [
       "<div>\n",
       "<style scoped>\n",
       "    .dataframe tbody tr th:only-of-type {\n",
       "        vertical-align: middle;\n",
       "    }\n",
       "\n",
       "    .dataframe tbody tr th {\n",
       "        vertical-align: top;\n",
       "    }\n",
       "\n",
       "    .dataframe thead th {\n",
       "        text-align: right;\n",
       "    }\n",
       "</style>\n",
       "<table border=\"1\" class=\"dataframe\">\n",
       "  <thead>\n",
       "    <tr style=\"text-align: right;\">\n",
       "      <th></th>\n",
       "      <th>country</th>\n",
       "      <th>population</th>\n",
       "      <th>area</th>\n",
       "      <th>capital</th>\n",
       "    </tr>\n",
       "  </thead>\n",
       "  <tbody>\n",
       "    <tr>\n",
       "      <td>0</td>\n",
       "      <td>Belgium</td>\n",
       "      <td>11.3</td>\n",
       "      <td>30510</td>\n",
       "      <td>Brussels</td>\n",
       "    </tr>\n",
       "    <tr>\n",
       "      <td>1</td>\n",
       "      <td>France</td>\n",
       "      <td>64.3</td>\n",
       "      <td>671308</td>\n",
       "      <td>Paris</td>\n",
       "    </tr>\n",
       "    <tr>\n",
       "      <td>2</td>\n",
       "      <td>Germany</td>\n",
       "      <td>81.3</td>\n",
       "      <td>357050</td>\n",
       "      <td>Berlin</td>\n",
       "    </tr>\n",
       "    <tr>\n",
       "      <td>3</td>\n",
       "      <td>Netherlands</td>\n",
       "      <td>16.9</td>\n",
       "      <td>41526</td>\n",
       "      <td>Amsterdam</td>\n",
       "    </tr>\n",
       "    <tr>\n",
       "      <td>4</td>\n",
       "      <td>United Kingdom</td>\n",
       "      <td>64.9</td>\n",
       "      <td>244820</td>\n",
       "      <td>London</td>\n",
       "    </tr>\n",
       "  </tbody>\n",
       "</table>\n",
       "</div>"
      ],
      "text/plain": [
       "          country  population    area    capital\n",
       "0         Belgium        11.3   30510   Brussels\n",
       "1          France        64.3  671308      Paris\n",
       "2         Germany        81.3  357050     Berlin\n",
       "3     Netherlands        16.9   41526  Amsterdam\n",
       "4  United Kingdom        64.9  244820     London"
      ]
     },
     "execution_count": 51,
     "metadata": {},
     "output_type": "execute_result"
    }
   ],
   "source": [
    "countries.head()"
   ]
  },
  {
   "cell_type": "markdown",
   "metadata": {},
   "source": [
    "# The 'new' concepts"
   ]
  },
  {
   "cell_type": "markdown",
   "metadata": {},
   "source": [
    "## Elementwise-operations "
   ]
  },
  {
   "cell_type": "markdown",
   "metadata": {},
   "source": [
    "Just like with numpy arrays, many operations are element-wise:"
   ]
  },
  {
   "cell_type": "code",
   "execution_count": 52,
   "metadata": {},
   "outputs": [
    {
     "data": {
      "text/plain": [
       "Germany           81.3\n",
       "Belgium           11.3\n",
       "France            64.3\n",
       "United Kingdom    64.9\n",
       "Netherlands       16.9\n",
       "dtype: float64"
      ]
     },
     "execution_count": 52,
     "metadata": {},
     "output_type": "execute_result"
    }
   ],
   "source": [
    "population"
   ]
  },
  {
   "cell_type": "code",
   "execution_count": 53,
   "metadata": {
    "run_control": {
     "frozen": false,
     "read_only": false
    }
   },
   "outputs": [
    {
     "data": {
      "text/plain": [
       "Germany           0.813\n",
       "Belgium           0.113\n",
       "France            0.643\n",
       "United Kingdom    0.649\n",
       "Netherlands       0.169\n",
       "dtype: float64"
      ]
     },
     "execution_count": 53,
     "metadata": {},
     "output_type": "execute_result"
    }
   ],
   "source": [
    "population / 100"
   ]
  },
  {
   "cell_type": "code",
   "execution_count": 56,
   "metadata": {
    "run_control": {
     "frozen": false,
     "read_only": false
    }
   },
   "outputs": [],
   "source": [
    "# par km2\n",
    "density = 1e6 * countries['population'] / countries['area']"
   ]
  },
  {
   "cell_type": "code",
   "execution_count": 57,
   "metadata": {},
   "outputs": [
    {
     "data": {
      "text/plain": [
       "0    370.370370\n",
       "1     95.783158\n",
       "2    227.699202\n",
       "3    406.973944\n",
       "4    265.092721\n",
       "dtype: float64"
      ]
     },
     "execution_count": 57,
     "metadata": {},
     "output_type": "execute_result"
    }
   ],
   "source": [
    "density"
   ]
  },
  {
   "cell_type": "code",
   "execution_count": 58,
   "metadata": {
    "run_control": {
     "frozen": false,
     "read_only": false
    }
   },
   "outputs": [
    {
     "data": {
      "text/plain": [
       "0    2.424803\n",
       "1    4.163560\n",
       "2    4.398146\n",
       "3    2.827314\n",
       "4    4.172848\n",
       "Name: population, dtype: float64"
      ]
     },
     "execution_count": 58,
     "metadata": {},
     "output_type": "execute_result"
    }
   ],
   "source": [
    "np.log(countries['population'])"
   ]
  },
  {
   "cell_type": "markdown",
   "metadata": {},
   "source": [
    "which can be added as a new column, as follows:"
   ]
  },
  {
   "cell_type": "code",
   "execution_count": 59,
   "metadata": {
    "run_control": {
     "frozen": false,
     "read_only": false
    }
   },
   "outputs": [],
   "source": [
    "countries[\"log_population\"] = np.log(countries['population'])"
   ]
  },
  {
   "cell_type": "code",
   "execution_count": 60,
   "metadata": {
    "run_control": {
     "frozen": false,
     "read_only": false
    }
   },
   "outputs": [
    {
     "data": {
      "text/plain": [
       "Index(['country', 'population', 'area', 'capital', 'log_population'], dtype='object')"
      ]
     },
     "execution_count": 60,
     "metadata": {},
     "output_type": "execute_result"
    }
   ],
   "source": [
    "countries.columns"
   ]
  },
  {
   "cell_type": "code",
   "execution_count": 61,
   "metadata": {},
   "outputs": [
    {
     "data": {
      "text/html": [
       "<div>\n",
       "<style scoped>\n",
       "    .dataframe tbody tr th:only-of-type {\n",
       "        vertical-align: middle;\n",
       "    }\n",
       "\n",
       "    .dataframe tbody tr th {\n",
       "        vertical-align: top;\n",
       "    }\n",
       "\n",
       "    .dataframe thead th {\n",
       "        text-align: right;\n",
       "    }\n",
       "</style>\n",
       "<table border=\"1\" class=\"dataframe\">\n",
       "  <thead>\n",
       "    <tr style=\"text-align: right;\">\n",
       "      <th></th>\n",
       "      <th>country</th>\n",
       "      <th>population</th>\n",
       "      <th>area</th>\n",
       "      <th>capital</th>\n",
       "      <th>log_population</th>\n",
       "    </tr>\n",
       "  </thead>\n",
       "  <tbody>\n",
       "    <tr>\n",
       "      <td>0</td>\n",
       "      <td>Belgium</td>\n",
       "      <td>11.3</td>\n",
       "      <td>30510</td>\n",
       "      <td>Brussels</td>\n",
       "      <td>2.424803</td>\n",
       "    </tr>\n",
       "    <tr>\n",
       "      <td>1</td>\n",
       "      <td>France</td>\n",
       "      <td>64.3</td>\n",
       "      <td>671308</td>\n",
       "      <td>Paris</td>\n",
       "      <td>4.163560</td>\n",
       "    </tr>\n",
       "    <tr>\n",
       "      <td>2</td>\n",
       "      <td>Germany</td>\n",
       "      <td>81.3</td>\n",
       "      <td>357050</td>\n",
       "      <td>Berlin</td>\n",
       "      <td>4.398146</td>\n",
       "    </tr>\n",
       "  </tbody>\n",
       "</table>\n",
       "</div>"
      ],
      "text/plain": [
       "   country  population    area   capital  log_population\n",
       "0  Belgium        11.3   30510  Brussels        2.424803\n",
       "1   France        64.3  671308     Paris        4.163560\n",
       "2  Germany        81.3  357050    Berlin        4.398146"
      ]
     },
     "execution_count": 61,
     "metadata": {},
     "output_type": "execute_result"
    }
   ],
   "source": [
    "countries.head(3)"
   ]
  },
  {
   "cell_type": "code",
   "execution_count": 62,
   "metadata": {
    "run_control": {
     "frozen": false,
     "read_only": false
    }
   },
   "outputs": [
    {
     "data": {
      "text/plain": [
       "0    False\n",
       "1     True\n",
       "2     True\n",
       "3    False\n",
       "4     True\n",
       "Name: population, dtype: bool"
      ]
     },
     "execution_count": 62,
     "metadata": {},
     "output_type": "execute_result"
    }
   ],
   "source": [
    "countries['population'] > 40"
   ]
  },
  {
   "cell_type": "markdown",
   "metadata": {},
   "source": [
    "<div class=\"alert alert-info\">\n",
    "\n",
    "<b>REMEMBER</b>:\n",
    "\n",
    "<ul>\n",
    "  <li>When you have an operation which does NOT work element-wise or you have no idea how to do it directly in Pandas, use the **apply()** function</li>\n",
    "  <li>A typical use case is with a custom written or a **lambda** function</li>\n",
    "</ul>\n",
    "</div>"
   ]
  },
  {
   "cell_type": "code",
   "execution_count": 63,
   "metadata": {
    "run_control": {
     "frozen": false,
     "read_only": false
    }
   },
   "outputs": [
    {
     "data": {
      "text/plain": [
       "0    2.424803\n",
       "1    4.163560\n",
       "2    4.398146\n",
       "3    2.827314\n",
       "4    4.172848\n",
       "Name: population, dtype: float64"
      ]
     },
     "execution_count": 63,
     "metadata": {},
     "output_type": "execute_result"
    }
   ],
   "source": [
    "countries[\"population\"].apply(np.log) # but this works as well element-wise..."
   ]
  },
  {
   "cell_type": "code",
   "execution_count": 64,
   "metadata": {
    "run_control": {
     "frozen": false,
     "read_only": false
    }
   },
   "outputs": [
    {
     "data": {
      "text/plain": [
       "0    8\n",
       "1    5\n",
       "2    6\n",
       "3    9\n",
       "4    6\n",
       "Name: capital, dtype: int64"
      ]
     },
     "execution_count": 64,
     "metadata": {},
     "output_type": "execute_result"
    }
   ],
   "source": [
    "# in case you forgot the functionality: countries[\"capital\"].str.len()\n",
    "countries[\"capital\"].apply(lambda x: len(x))"
   ]
  },
  {
   "cell_type": "code",
   "execution_count": 65,
   "metadata": {
    "run_control": {
     "frozen": false,
     "read_only": false
    }
   },
   "outputs": [],
   "source": [
    "def population_annotater(population):\n",
    "    \"\"\"annotate as large or small\"\"\"\n",
    "    if population > 50:\n",
    "        return 'large'\n",
    "    else:\n",
    "        return 'small'"
   ]
  },
  {
   "cell_type": "code",
   "execution_count": 66,
   "metadata": {
    "run_control": {
     "frozen": false,
     "read_only": false
    }
   },
   "outputs": [
    {
     "data": {
      "text/plain": [
       "0    small\n",
       "1    large\n",
       "2    large\n",
       "3    small\n",
       "4    large\n",
       "Name: population, dtype: object"
      ]
     },
     "execution_count": 66,
     "metadata": {},
     "output_type": "execute_result"
    }
   ],
   "source": [
    "countries[\"population\"].apply(population_annotater) # a custom user function"
   ]
  },
  {
   "cell_type": "markdown",
   "metadata": {},
   "source": [
    "<div class=\"alert alert-success\">\n",
    "\n",
    "<b>EXERCISE</b>:\n",
    "\n",
    " <ul>\n",
    "  <li>Calculate the population numbers relative to France</li>\n",
    "</ul>\n",
    "</div>"
   ]
  },
  {
   "cell_type": "code",
   "execution_count": 76,
   "metadata": {},
   "outputs": [
    {
     "data": {
      "text/plain": [
       "0    0.175739\n",
       "1    1.000000\n",
       "2    1.264386\n",
       "3    0.262830\n",
       "4    1.009331\n",
       "Name: population, dtype: float64"
      ]
     },
     "execution_count": 76,
     "metadata": {},
     "output_type": "execute_result"
    }
   ],
   "source": [
    "# on prend country, on définit l'index sur le nom des pays, on ne garde que la population, \n",
    "# et on garde que celui de la France\n",
    "countries[\"population\"] / countries.set_index('country')['population']['France']"
   ]
  },
  {
   "cell_type": "code",
   "execution_count": 81,
   "metadata": {},
   "outputs": [
    {
     "data": {
      "text/html": [
       "<div>\n",
       "<style scoped>\n",
       "    .dataframe tbody tr th:only-of-type {\n",
       "        vertical-align: middle;\n",
       "    }\n",
       "\n",
       "    .dataframe tbody tr th {\n",
       "        vertical-align: top;\n",
       "    }\n",
       "\n",
       "    .dataframe thead th {\n",
       "        text-align: right;\n",
       "    }\n",
       "</style>\n",
       "<table border=\"1\" class=\"dataframe\">\n",
       "  <thead>\n",
       "    <tr style=\"text-align: right;\">\n",
       "      <th></th>\n",
       "      <th>country</th>\n",
       "      <th>population</th>\n",
       "      <th>area</th>\n",
       "      <th>capital</th>\n",
       "      <th>log_population</th>\n",
       "      <th>pop_relative_to_france</th>\n",
       "      <th>density</th>\n",
       "    </tr>\n",
       "  </thead>\n",
       "  <tbody>\n",
       "    <tr>\n",
       "      <td>0</td>\n",
       "      <td>Belgium</td>\n",
       "      <td>11.3</td>\n",
       "      <td>30510</td>\n",
       "      <td>Brussels</td>\n",
       "      <td>2.424803</td>\n",
       "      <td>0.175739</td>\n",
       "      <td>370.370370</td>\n",
       "    </tr>\n",
       "    <tr>\n",
       "      <td>1</td>\n",
       "      <td>France</td>\n",
       "      <td>64.3</td>\n",
       "      <td>671308</td>\n",
       "      <td>Paris</td>\n",
       "      <td>4.163560</td>\n",
       "      <td>1.000000</td>\n",
       "      <td>95.783158</td>\n",
       "    </tr>\n",
       "    <tr>\n",
       "      <td>2</td>\n",
       "      <td>Germany</td>\n",
       "      <td>81.3</td>\n",
       "      <td>357050</td>\n",
       "      <td>Berlin</td>\n",
       "      <td>4.398146</td>\n",
       "      <td>1.264386</td>\n",
       "      <td>227.699202</td>\n",
       "    </tr>\n",
       "    <tr>\n",
       "      <td>3</td>\n",
       "      <td>Netherlands</td>\n",
       "      <td>16.9</td>\n",
       "      <td>41526</td>\n",
       "      <td>Amsterdam</td>\n",
       "      <td>2.827314</td>\n",
       "      <td>0.262830</td>\n",
       "      <td>406.973944</td>\n",
       "    </tr>\n",
       "    <tr>\n",
       "      <td>4</td>\n",
       "      <td>United Kingdom</td>\n",
       "      <td>64.9</td>\n",
       "      <td>244820</td>\n",
       "      <td>London</td>\n",
       "      <td>4.172848</td>\n",
       "      <td>1.009331</td>\n",
       "      <td>265.092721</td>\n",
       "    </tr>\n",
       "  </tbody>\n",
       "</table>\n",
       "</div>"
      ],
      "text/plain": [
       "          country  population    area    capital  log_population  \\\n",
       "0         Belgium        11.3   30510   Brussels        2.424803   \n",
       "1          France        64.3  671308      Paris        4.163560   \n",
       "2         Germany        81.3  357050     Berlin        4.398146   \n",
       "3     Netherlands        16.9   41526  Amsterdam        2.827314   \n",
       "4  United Kingdom        64.9  244820     London        4.172848   \n",
       "\n",
       "   pop_relative_to_france     density  \n",
       "0                0.175739  370.370370  \n",
       "1                1.000000   95.783158  \n",
       "2                1.264386  227.699202  \n",
       "3                0.262830  406.973944  \n",
       "4                1.009331  265.092721  "
      ]
     },
     "execution_count": 81,
     "metadata": {},
     "output_type": "execute_result"
    }
   ],
   "source": [
    "countries"
   ]
  },
  {
   "cell_type": "markdown",
   "metadata": {},
   "source": [
    "<div class=\"alert alert-success\">\n",
    "\n",
    "<b>EXERCISE</b>:\n",
    "\n",
    " <ul>\n",
    "  <li>Calculate the population density for each country and add this as a new column to the dataframe.</li>\n",
    "</ul>\n",
    "</div>"
   ]
  },
  {
   "cell_type": "code",
   "execution_count": 83,
   "metadata": {},
   "outputs": [],
   "source": [
    "countries[\"density\"]= 1e6 * countries[\"population\"] / countries[\"area\"] \n"
   ]
  },
  {
   "cell_type": "markdown",
   "metadata": {},
   "source": [
    "<div class=\"alert alert-danger\">\n",
    "\n",
    "**WARNING**: **Alignment!** (unlike numpy)\n",
    "\n",
    " <ul>\n",
    "  <li>Pay attention to **alignment**: operations between series will align on the index:  </li>\n",
    "</ul> \n",
    "\n",
    "</div>"
   ]
  },
  {
   "cell_type": "code",
   "execution_count": 92,
   "metadata": {},
   "outputs": [
    {
     "data": {
      "text/plain": [
       "Germany           81.3\n",
       "Belgium           11.3\n",
       "France            64.3\n",
       "United Kingdom    64.9\n",
       "Netherlands       16.9\n",
       "dtype: float64"
      ]
     },
     "execution_count": 92,
     "metadata": {},
     "output_type": "execute_result"
    }
   ],
   "source": [
    "population"
   ]
  },
  {
   "cell_type": "code",
   "execution_count": 93,
   "metadata": {
    "run_control": {
     "frozen": false,
     "read_only": false
    }
   },
   "outputs": [],
   "source": [
    "s1 = population[['Belgium', 'France']] # c'est une liste avec des valeurs d'index pour selectionner 2 éléments\n",
    "s2 = population[['France', 'Germany']]"
   ]
  },
  {
   "cell_type": "code",
   "execution_count": 94,
   "metadata": {
    "run_control": {
     "frozen": false,
     "read_only": false
    }
   },
   "outputs": [
    {
     "data": {
      "text/plain": [
       "Belgium    11.3\n",
       "France     64.3\n",
       "dtype: float64"
      ]
     },
     "execution_count": 94,
     "metadata": {},
     "output_type": "execute_result"
    }
   ],
   "source": [
    "s1"
   ]
  },
  {
   "cell_type": "code",
   "execution_count": 95,
   "metadata": {
    "run_control": {
     "frozen": false,
     "read_only": false
    }
   },
   "outputs": [
    {
     "data": {
      "text/plain": [
       "France     64.3\n",
       "Germany    81.3\n",
       "dtype: float64"
      ]
     },
     "execution_count": 95,
     "metadata": {},
     "output_type": "execute_result"
    }
   ],
   "source": [
    "s2"
   ]
  },
  {
   "cell_type": "code",
   "execution_count": 96,
   "metadata": {
    "run_control": {
     "frozen": false,
     "read_only": false
    },
    "scrolled": true
   },
   "outputs": [
    {
     "data": {
      "text/plain": [
       "Belgium      NaN\n",
       "France     128.6\n",
       "Germany      NaN\n",
       "dtype: float64"
      ]
     },
     "execution_count": 96,
     "metadata": {},
     "output_type": "execute_result"
    }
   ],
   "source": [
    "s1 + s2"
   ]
  },
  {
   "cell_type": "markdown",
   "metadata": {},
   "source": [
    "## Aggregations (reductions)"
   ]
  },
  {
   "cell_type": "markdown",
   "metadata": {},
   "source": [
    "Pandas provides a large set of **summary** functions that operate on different kinds of pandas objects (DataFrames, Series, Index) and produce single value. When applied to a DataFrame, the result is returned as a pandas Series (one value for each column). "
   ]
  },
  {
   "cell_type": "markdown",
   "metadata": {},
   "source": [
    "The average population number:"
   ]
  },
  {
   "cell_type": "code",
   "execution_count": 97,
   "metadata": {
    "run_control": {
     "frozen": false,
     "read_only": false
    }
   },
   "outputs": [
    {
     "data": {
      "text/plain": [
       "47.739999999999995"
      ]
     },
     "execution_count": 97,
     "metadata": {},
     "output_type": "execute_result"
    }
   ],
   "source": [
    "population.mean()"
   ]
  },
  {
   "cell_type": "markdown",
   "metadata": {},
   "source": [
    "The minimum area:"
   ]
  },
  {
   "cell_type": "code",
   "execution_count": 99,
   "metadata": {
    "run_control": {
     "frozen": false,
     "read_only": false
    }
   },
   "outputs": [
    {
     "data": {
      "text/plain": [
       "30510"
      ]
     },
     "execution_count": 99,
     "metadata": {},
     "output_type": "execute_result"
    }
   ],
   "source": [
    "countries['area'].min() # une Series de DataFrame"
   ]
  },
  {
   "cell_type": "markdown",
   "metadata": {},
   "source": [
    "For dataframes, often only the numeric columns are included in the result:"
   ]
  },
  {
   "cell_type": "code",
   "execution_count": 101,
   "metadata": {
    "run_control": {
     "frozen": false,
     "read_only": false
    }
   },
   "outputs": [
    {
     "data": {
      "text/plain": [
       "population                    64.300000\n",
       "area                      244820.000000\n",
       "log_population                 4.163560\n",
       "pop_relative_to_france         1.000000\n",
       "density                      265.092721\n",
       "dtype: float64"
      ]
     },
     "execution_count": 101,
     "metadata": {},
     "output_type": "execute_result"
    }
   ],
   "source": [
    "countries.median() # calcul pour chaque colonne (Series) du DataFrame qui sont numériques"
   ]
  },
  {
   "cell_type": "markdown",
   "metadata": {},
   "source": [
    "## Pandas: Indexing and selecting data"
   ]
  },
  {
   "cell_type": "code",
   "execution_count": 102,
   "metadata": {
    "run_control": {
     "frozen": false,
     "read_only": false
    }
   },
   "outputs": [
    {
     "data": {
      "text/html": [
       "<div>\n",
       "<style scoped>\n",
       "    .dataframe tbody tr th:only-of-type {\n",
       "        vertical-align: middle;\n",
       "    }\n",
       "\n",
       "    .dataframe tbody tr th {\n",
       "        vertical-align: top;\n",
       "    }\n",
       "\n",
       "    .dataframe thead th {\n",
       "        text-align: right;\n",
       "    }\n",
       "</style>\n",
       "<table border=\"1\" class=\"dataframe\">\n",
       "  <thead>\n",
       "    <tr style=\"text-align: right;\">\n",
       "      <th></th>\n",
       "      <th>country</th>\n",
       "      <th>population</th>\n",
       "      <th>area</th>\n",
       "      <th>capital</th>\n",
       "    </tr>\n",
       "  </thead>\n",
       "  <tbody>\n",
       "    <tr>\n",
       "      <td>0</td>\n",
       "      <td>Belgium</td>\n",
       "      <td>11.3</td>\n",
       "      <td>30510</td>\n",
       "      <td>Brussels</td>\n",
       "    </tr>\n",
       "    <tr>\n",
       "      <td>1</td>\n",
       "      <td>France</td>\n",
       "      <td>64.3</td>\n",
       "      <td>671308</td>\n",
       "      <td>Paris</td>\n",
       "    </tr>\n",
       "    <tr>\n",
       "      <td>2</td>\n",
       "      <td>Germany</td>\n",
       "      <td>81.3</td>\n",
       "      <td>357050</td>\n",
       "      <td>Berlin</td>\n",
       "    </tr>\n",
       "    <tr>\n",
       "      <td>3</td>\n",
       "      <td>Netherlands</td>\n",
       "      <td>16.9</td>\n",
       "      <td>41526</td>\n",
       "      <td>Amsterdam</td>\n",
       "    </tr>\n",
       "    <tr>\n",
       "      <td>4</td>\n",
       "      <td>United Kingdom</td>\n",
       "      <td>64.9</td>\n",
       "      <td>244820</td>\n",
       "      <td>London</td>\n",
       "    </tr>\n",
       "  </tbody>\n",
       "</table>\n",
       "</div>"
      ],
      "text/plain": [
       "          country  population    area    capital\n",
       "0         Belgium        11.3   30510   Brussels\n",
       "1          France        64.3  671308      Paris\n",
       "2         Germany        81.3  357050     Berlin\n",
       "3     Netherlands        16.9   41526  Amsterdam\n",
       "4  United Kingdom        64.9  244820     London"
      ]
     },
     "execution_count": 102,
     "metadata": {},
     "output_type": "execute_result"
    }
   ],
   "source": [
    "population = pd.Series({'Germany': 81.3, 'Belgium': 11.3, 'France': 64.3, \n",
    "                        'United Kingdom': 64.9, 'Netherlands': 16.9})\n",
    "\n",
    "data = {'country': ['Belgium', 'France', 'Germany', 'Netherlands', 'United Kingdom'],\n",
    "        'population': [11.3, 64.3, 81.3, 16.9, 64.9],\n",
    "        'area': [30510, 671308, 357050, 41526, 244820],\n",
    "        'capital': ['Brussels', 'Paris', 'Berlin', 'Amsterdam', 'London']}\n",
    "countries = pd.DataFrame(data)\n",
    "countries"
   ]
  },
  {
   "cell_type": "markdown",
   "metadata": {},
   "source": [
    "Setting the index to the country names:"
   ]
  },
  {
   "cell_type": "code",
   "execution_count": 103,
   "metadata": {
    "run_control": {
     "frozen": false,
     "read_only": false
    }
   },
   "outputs": [
    {
     "data": {
      "text/html": [
       "<div>\n",
       "<style scoped>\n",
       "    .dataframe tbody tr th:only-of-type {\n",
       "        vertical-align: middle;\n",
       "    }\n",
       "\n",
       "    .dataframe tbody tr th {\n",
       "        vertical-align: top;\n",
       "    }\n",
       "\n",
       "    .dataframe thead th {\n",
       "        text-align: right;\n",
       "    }\n",
       "</style>\n",
       "<table border=\"1\" class=\"dataframe\">\n",
       "  <thead>\n",
       "    <tr style=\"text-align: right;\">\n",
       "      <th></th>\n",
       "      <th>population</th>\n",
       "      <th>area</th>\n",
       "      <th>capital</th>\n",
       "    </tr>\n",
       "    <tr>\n",
       "      <th>country</th>\n",
       "      <th></th>\n",
       "      <th></th>\n",
       "      <th></th>\n",
       "    </tr>\n",
       "  </thead>\n",
       "  <tbody>\n",
       "    <tr>\n",
       "      <td>Belgium</td>\n",
       "      <td>11.3</td>\n",
       "      <td>30510</td>\n",
       "      <td>Brussels</td>\n",
       "    </tr>\n",
       "    <tr>\n",
       "      <td>France</td>\n",
       "      <td>64.3</td>\n",
       "      <td>671308</td>\n",
       "      <td>Paris</td>\n",
       "    </tr>\n",
       "    <tr>\n",
       "      <td>Germany</td>\n",
       "      <td>81.3</td>\n",
       "      <td>357050</td>\n",
       "      <td>Berlin</td>\n",
       "    </tr>\n",
       "    <tr>\n",
       "      <td>Netherlands</td>\n",
       "      <td>16.9</td>\n",
       "      <td>41526</td>\n",
       "      <td>Amsterdam</td>\n",
       "    </tr>\n",
       "    <tr>\n",
       "      <td>United Kingdom</td>\n",
       "      <td>64.9</td>\n",
       "      <td>244820</td>\n",
       "      <td>London</td>\n",
       "    </tr>\n",
       "  </tbody>\n",
       "</table>\n",
       "</div>"
      ],
      "text/plain": [
       "                population    area    capital\n",
       "country                                      \n",
       "Belgium               11.3   30510   Brussels\n",
       "France                64.3  671308      Paris\n",
       "Germany               81.3  357050     Berlin\n",
       "Netherlands           16.9   41526  Amsterdam\n",
       "United Kingdom        64.9  244820     London"
      ]
     },
     "execution_count": 103,
     "metadata": {},
     "output_type": "execute_result"
    }
   ],
   "source": [
    "countries = countries.set_index('country')\n",
    "countries"
   ]
  },
  {
   "cell_type": "markdown",
   "metadata": {},
   "source": [
    "# Selecting data"
   ]
  },
  {
   "cell_type": "markdown",
   "metadata": {},
   "source": [
    "<div class=\"alert alert-warning\">\n",
    "<b>ATTENTION!</b>: <br><br>\n",
    "\n",
    "One of pandas' basic features is the labeling of rows and columns, but this makes indexing also a bit more complex compared to numpy. <br><br> We now have to distuinguish between:\n",
    "\n",
    " <ul>\n",
    "  <li>selection by **label**</li>\n",
    "  <li>selection by **position**</li>\n",
    "</ul>\n",
    "</div>"
   ]
  },
  {
   "cell_type": "markdown",
   "metadata": {},
   "source": [
    "## `data[]` provides some convenience shortcuts "
   ]
  },
  {
   "cell_type": "markdown",
   "metadata": {},
   "source": [
    "For a DataFrame, basic indexing selects the columns (cfr. the dictionaries of pure python)\n",
    "\n",
    "Selecting a **single column**:"
   ]
  },
  {
   "cell_type": "code",
   "execution_count": 104,
   "metadata": {
    "run_control": {
     "frozen": false,
     "read_only": false
    }
   },
   "outputs": [
    {
     "data": {
      "text/plain": [
       "country\n",
       "Belgium            30510\n",
       "France            671308\n",
       "Germany           357050\n",
       "Netherlands        41526\n",
       "United Kingdom    244820\n",
       "Name: area, dtype: int64"
      ]
     },
     "execution_count": 104,
     "metadata": {},
     "output_type": "execute_result"
    }
   ],
   "source": [
    "countries['area'] # single []"
   ]
  },
  {
   "cell_type": "markdown",
   "metadata": {},
   "source": [
    "or multiple **columns**:"
   ]
  },
  {
   "cell_type": "code",
   "execution_count": 106,
   "metadata": {
    "run_control": {
     "frozen": false,
     "read_only": false
    }
   },
   "outputs": [
    {
     "data": {
      "text/html": [
       "<div>\n",
       "<style scoped>\n",
       "    .dataframe tbody tr th:only-of-type {\n",
       "        vertical-align: middle;\n",
       "    }\n",
       "\n",
       "    .dataframe tbody tr th {\n",
       "        vertical-align: top;\n",
       "    }\n",
       "\n",
       "    .dataframe thead th {\n",
       "        text-align: right;\n",
       "    }\n",
       "</style>\n",
       "<table border=\"1\" class=\"dataframe\">\n",
       "  <thead>\n",
       "    <tr style=\"text-align: right;\">\n",
       "      <th></th>\n",
       "      <th>area</th>\n",
       "      <th>population</th>\n",
       "    </tr>\n",
       "    <tr>\n",
       "      <th>country</th>\n",
       "      <th></th>\n",
       "      <th></th>\n",
       "    </tr>\n",
       "  </thead>\n",
       "  <tbody>\n",
       "    <tr>\n",
       "      <td>Belgium</td>\n",
       "      <td>30510</td>\n",
       "      <td>11.3</td>\n",
       "    </tr>\n",
       "    <tr>\n",
       "      <td>France</td>\n",
       "      <td>671308</td>\n",
       "      <td>64.3</td>\n",
       "    </tr>\n",
       "    <tr>\n",
       "      <td>Germany</td>\n",
       "      <td>357050</td>\n",
       "      <td>81.3</td>\n",
       "    </tr>\n",
       "    <tr>\n",
       "      <td>Netherlands</td>\n",
       "      <td>41526</td>\n",
       "      <td>16.9</td>\n",
       "    </tr>\n",
       "    <tr>\n",
       "      <td>United Kingdom</td>\n",
       "      <td>244820</td>\n",
       "      <td>64.9</td>\n",
       "    </tr>\n",
       "  </tbody>\n",
       "</table>\n",
       "</div>"
      ],
      "text/plain": [
       "                  area  population\n",
       "country                           \n",
       "Belgium          30510        11.3\n",
       "France          671308        64.3\n",
       "Germany         357050        81.3\n",
       "Netherlands      41526        16.9\n",
       "United Kingdom  244820        64.9"
      ]
     },
     "execution_count": 106,
     "metadata": {},
     "output_type": "execute_result"
    }
   ],
   "source": [
    "countries[['area', 'population']] # double [[]]\n",
    "\n",
    "# c'est aussi :\n",
    "liste=['area', 'population']\n",
    "countries[liste] # double [[]]"
   ]
  },
  {
   "cell_type": "markdown",
   "metadata": {},
   "source": [
    "But, slicing accesses the **rows**:"
   ]
  },
  {
   "cell_type": "code",
   "execution_count": 108,
   "metadata": {
    "run_control": {
     "frozen": false,
     "read_only": false
    }
   },
   "outputs": [
    {
     "data": {
      "text/html": [
       "<div>\n",
       "<style scoped>\n",
       "    .dataframe tbody tr th:only-of-type {\n",
       "        vertical-align: middle;\n",
       "    }\n",
       "\n",
       "    .dataframe tbody tr th {\n",
       "        vertical-align: top;\n",
       "    }\n",
       "\n",
       "    .dataframe thead th {\n",
       "        text-align: right;\n",
       "    }\n",
       "</style>\n",
       "<table border=\"1\" class=\"dataframe\">\n",
       "  <thead>\n",
       "    <tr style=\"text-align: right;\">\n",
       "      <th></th>\n",
       "      <th>population</th>\n",
       "      <th>area</th>\n",
       "      <th>capital</th>\n",
       "    </tr>\n",
       "    <tr>\n",
       "      <th>country</th>\n",
       "      <th></th>\n",
       "      <th></th>\n",
       "      <th></th>\n",
       "    </tr>\n",
       "  </thead>\n",
       "  <tbody>\n",
       "    <tr>\n",
       "      <td>France</td>\n",
       "      <td>64.3</td>\n",
       "      <td>671308</td>\n",
       "      <td>Paris</td>\n",
       "    </tr>\n",
       "    <tr>\n",
       "      <td>Germany</td>\n",
       "      <td>81.3</td>\n",
       "      <td>357050</td>\n",
       "      <td>Berlin</td>\n",
       "    </tr>\n",
       "    <tr>\n",
       "      <td>Netherlands</td>\n",
       "      <td>16.9</td>\n",
       "      <td>41526</td>\n",
       "      <td>Amsterdam</td>\n",
       "    </tr>\n",
       "  </tbody>\n",
       "</table>\n",
       "</div>"
      ],
      "text/plain": [
       "             population    area    capital\n",
       "country                                   \n",
       "France             64.3  671308      Paris\n",
       "Germany            81.3  357050     Berlin\n",
       "Netherlands        16.9   41526  Amsterdam"
      ]
     },
     "execution_count": 108,
     "metadata": {},
     "output_type": "execute_result"
    }
   ],
   "source": [
    "# Start : Stop : Step\n",
    "countries['France':'Netherlands']\n",
    "\n",
    "# !! dans ce cas, l'élément indiqué en Stop est inclu\n",
    "# c'est quand on utilise in dex avec des labels."
   ]
  },
  {
   "cell_type": "markdown",
   "metadata": {},
   "source": [
    "<div class=\"alert alert-danger\">\n",
    "<b>NOTE</b>:\n",
    "\n",
    " <ul>\n",
    "  <li>Unlike slicing in numpy, the end label is **included**!</li>\n",
    "</ul>\n",
    "</div>"
   ]
  },
  {
   "cell_type": "markdown",
   "metadata": {},
   "source": [
    "<div class=\"alert alert-info\">\n",
    "<b>REMEMBER</b>: <br><br>\n",
    "\n",
    "So as a summary, `[]` provides the following convenience shortcuts:\n",
    "\n",
    "<ul>\n",
    "  <li>**Series**: selecting a **label**: `s[label]`</li>\n",
    "  <li>**DataFrame**: selecting a single or multiple **columns**: `df['col']` or `df[['col1', 'col2']]`</li>\n",
    "  <li>**DataFrame**: slicing the **rows**: `df['row_label1':'row_label2']` or `df[mask]`</li>\n",
    "</ul>\n",
    "</div>"
   ]
  },
  {
   "cell_type": "markdown",
   "metadata": {},
   "source": [
    "## Systematic indexing with `loc` and `iloc`"
   ]
  },
  {
   "cell_type": "markdown",
   "metadata": {},
   "source": [
    "When using `[]` like above, you can only select from one axis at once (rows or columns, not both). For more advanced indexing, you have some extra attributes:\n",
    "    \n",
    "* `loc`: selection by label\n",
    "* `iloc`: selection by position"
   ]
  },
  {
   "cell_type": "markdown",
   "metadata": {},
   "source": [
    "Selecting a single element:"
   ]
  },
  {
   "cell_type": "code",
   "execution_count": 109,
   "metadata": {},
   "outputs": [
    {
     "data": {
      "text/html": [
       "<div>\n",
       "<style scoped>\n",
       "    .dataframe tbody tr th:only-of-type {\n",
       "        vertical-align: middle;\n",
       "    }\n",
       "\n",
       "    .dataframe tbody tr th {\n",
       "        vertical-align: top;\n",
       "    }\n",
       "\n",
       "    .dataframe thead th {\n",
       "        text-align: right;\n",
       "    }\n",
       "</style>\n",
       "<table border=\"1\" class=\"dataframe\">\n",
       "  <thead>\n",
       "    <tr style=\"text-align: right;\">\n",
       "      <th></th>\n",
       "      <th>population</th>\n",
       "      <th>area</th>\n",
       "      <th>capital</th>\n",
       "    </tr>\n",
       "    <tr>\n",
       "      <th>country</th>\n",
       "      <th></th>\n",
       "      <th></th>\n",
       "      <th></th>\n",
       "    </tr>\n",
       "  </thead>\n",
       "  <tbody>\n",
       "    <tr>\n",
       "      <td>Belgium</td>\n",
       "      <td>11.3</td>\n",
       "      <td>30510</td>\n",
       "      <td>Brussels</td>\n",
       "    </tr>\n",
       "    <tr>\n",
       "      <td>France</td>\n",
       "      <td>64.3</td>\n",
       "      <td>671308</td>\n",
       "      <td>Paris</td>\n",
       "    </tr>\n",
       "    <tr>\n",
       "      <td>Germany</td>\n",
       "      <td>81.3</td>\n",
       "      <td>357050</td>\n",
       "      <td>Berlin</td>\n",
       "    </tr>\n",
       "    <tr>\n",
       "      <td>Netherlands</td>\n",
       "      <td>16.9</td>\n",
       "      <td>41526</td>\n",
       "      <td>Amsterdam</td>\n",
       "    </tr>\n",
       "    <tr>\n",
       "      <td>United Kingdom</td>\n",
       "      <td>64.9</td>\n",
       "      <td>244820</td>\n",
       "      <td>London</td>\n",
       "    </tr>\n",
       "  </tbody>\n",
       "</table>\n",
       "</div>"
      ],
      "text/plain": [
       "                population    area    capital\n",
       "country                                      \n",
       "Belgium               11.3   30510   Brussels\n",
       "France                64.3  671308      Paris\n",
       "Germany               81.3  357050     Berlin\n",
       "Netherlands           16.9   41526  Amsterdam\n",
       "United Kingdom        64.9  244820     London"
      ]
     },
     "execution_count": 109,
     "metadata": {},
     "output_type": "execute_result"
    }
   ],
   "source": [
    "countries"
   ]
  },
  {
   "cell_type": "code",
   "execution_count": 111,
   "metadata": {
    "run_control": {
     "frozen": false,
     "read_only": false
    }
   },
   "outputs": [
    {
     "data": {
      "text/plain": [
       "357050"
      ]
     },
     "execution_count": 111,
     "metadata": {},
     "output_type": "execute_result"
    }
   ],
   "source": [
    "countries.loc['Germany', 'area'] # valeur de l'index , colonne à récupérer"
   ]
  },
  {
   "cell_type": "code",
   "execution_count": 114,
   "metadata": {},
   "outputs": [
    {
     "data": {
      "text/html": [
       "<div>\n",
       "<style scoped>\n",
       "    .dataframe tbody tr th:only-of-type {\n",
       "        vertical-align: middle;\n",
       "    }\n",
       "\n",
       "    .dataframe tbody tr th {\n",
       "        vertical-align: top;\n",
       "    }\n",
       "\n",
       "    .dataframe thead th {\n",
       "        text-align: right;\n",
       "    }\n",
       "</style>\n",
       "<table border=\"1\" class=\"dataframe\">\n",
       "  <thead>\n",
       "    <tr style=\"text-align: right;\">\n",
       "      <th></th>\n",
       "      <th>area</th>\n",
       "      <th>population</th>\n",
       "    </tr>\n",
       "    <tr>\n",
       "      <th>country</th>\n",
       "      <th></th>\n",
       "      <th></th>\n",
       "    </tr>\n",
       "  </thead>\n",
       "  <tbody>\n",
       "    <tr>\n",
       "      <td>France</td>\n",
       "      <td>671308</td>\n",
       "      <td>64.3</td>\n",
       "    </tr>\n",
       "    <tr>\n",
       "      <td>Belgium</td>\n",
       "      <td>30510</td>\n",
       "      <td>11.3</td>\n",
       "    </tr>\n",
       "  </tbody>\n",
       "</table>\n",
       "</div>"
      ],
      "text/plain": [
       "           area  population\n",
       "country                    \n",
       "France   671308        64.3\n",
       "Belgium   30510        11.3"
      ]
     },
     "execution_count": 114,
     "metadata": {},
     "output_type": "execute_result"
    }
   ],
   "source": [
    "countries.loc[['France','Belgium'], ['area', 'population']] # 2 index et 2 colonnes"
   ]
  },
  {
   "cell_type": "markdown",
   "metadata": {},
   "source": [
    "But the row or column indexer can also be a list, slice, boolean array (see next section), .."
   ]
  },
  {
   "cell_type": "code",
   "execution_count": 115,
   "metadata": {
    "run_control": {
     "frozen": false,
     "read_only": false
    }
   },
   "outputs": [
    {
     "data": {
      "text/html": [
       "<div>\n",
       "<style scoped>\n",
       "    .dataframe tbody tr th:only-of-type {\n",
       "        vertical-align: middle;\n",
       "    }\n",
       "\n",
       "    .dataframe tbody tr th {\n",
       "        vertical-align: top;\n",
       "    }\n",
       "\n",
       "    .dataframe thead th {\n",
       "        text-align: right;\n",
       "    }\n",
       "</style>\n",
       "<table border=\"1\" class=\"dataframe\">\n",
       "  <thead>\n",
       "    <tr style=\"text-align: right;\">\n",
       "      <th></th>\n",
       "      <th>area</th>\n",
       "      <th>population</th>\n",
       "    </tr>\n",
       "    <tr>\n",
       "      <th>country</th>\n",
       "      <th></th>\n",
       "      <th></th>\n",
       "    </tr>\n",
       "  </thead>\n",
       "  <tbody>\n",
       "    <tr>\n",
       "      <td>France</td>\n",
       "      <td>671308</td>\n",
       "      <td>64.3</td>\n",
       "    </tr>\n",
       "    <tr>\n",
       "      <td>Germany</td>\n",
       "      <td>357050</td>\n",
       "      <td>81.3</td>\n",
       "    </tr>\n",
       "  </tbody>\n",
       "</table>\n",
       "</div>"
      ],
      "text/plain": [
       "           area  population\n",
       "country                    \n",
       "France   671308        64.3\n",
       "Germany  357050        81.3"
      ]
     },
     "execution_count": 115,
     "metadata": {},
     "output_type": "execute_result"
    }
   ],
   "source": [
    "countries.loc['France':'Germany', ['area', 'population']]"
   ]
  },
  {
   "cell_type": "markdown",
   "metadata": {},
   "source": [
    "---\n",
    "Selecting by position with `iloc` works similar as **indexing numpy arrays**:"
   ]
  },
  {
   "cell_type": "code",
   "execution_count": 117,
   "metadata": {
    "run_control": {
     "frozen": false,
     "read_only": false
    }
   },
   "outputs": [
    {
     "data": {
      "text/html": [
       "<div>\n",
       "<style scoped>\n",
       "    .dataframe tbody tr th:only-of-type {\n",
       "        vertical-align: middle;\n",
       "    }\n",
       "\n",
       "    .dataframe tbody tr th {\n",
       "        vertical-align: top;\n",
       "    }\n",
       "\n",
       "    .dataframe thead th {\n",
       "        text-align: right;\n",
       "    }\n",
       "</style>\n",
       "<table border=\"1\" class=\"dataframe\">\n",
       "  <thead>\n",
       "    <tr style=\"text-align: right;\">\n",
       "      <th></th>\n",
       "      <th>area</th>\n",
       "      <th>capital</th>\n",
       "    </tr>\n",
       "    <tr>\n",
       "      <th>country</th>\n",
       "      <th></th>\n",
       "      <th></th>\n",
       "    </tr>\n",
       "  </thead>\n",
       "  <tbody>\n",
       "    <tr>\n",
       "      <td>Belgium</td>\n",
       "      <td>30510</td>\n",
       "      <td>Brussels</td>\n",
       "    </tr>\n",
       "    <tr>\n",
       "      <td>France</td>\n",
       "      <td>671308</td>\n",
       "      <td>Paris</td>\n",
       "    </tr>\n",
       "  </tbody>\n",
       "</table>\n",
       "</div>"
      ],
      "text/plain": [
       "           area   capital\n",
       "country                  \n",
       "Belgium   30510  Brussels\n",
       "France   671308     Paris"
      ]
     },
     "execution_count": 117,
     "metadata": {},
     "output_type": "execute_result"
    }
   ],
   "source": [
    "countries.iloc[0:2,1:3] # que des indices qui commencent par zero,& n° des colonnes"
   ]
  },
  {
   "cell_type": "markdown",
   "metadata": {},
   "source": [
    "The different indexing methods can also be used to assign data:"
   ]
  },
  {
   "cell_type": "code",
   "execution_count": 118,
   "metadata": {
    "run_control": {
     "frozen": false,
     "read_only": false
    }
   },
   "outputs": [],
   "source": [
    "countries2 = countries.copy()\n",
    "countries2.loc['Belgium':'Germany', 'population'] = 10"
   ]
  },
  {
   "cell_type": "code",
   "execution_count": 119,
   "metadata": {
    "run_control": {
     "frozen": false,
     "read_only": false
    }
   },
   "outputs": [
    {
     "data": {
      "text/html": [
       "<div>\n",
       "<style scoped>\n",
       "    .dataframe tbody tr th:only-of-type {\n",
       "        vertical-align: middle;\n",
       "    }\n",
       "\n",
       "    .dataframe tbody tr th {\n",
       "        vertical-align: top;\n",
       "    }\n",
       "\n",
       "    .dataframe thead th {\n",
       "        text-align: right;\n",
       "    }\n",
       "</style>\n",
       "<table border=\"1\" class=\"dataframe\">\n",
       "  <thead>\n",
       "    <tr style=\"text-align: right;\">\n",
       "      <th></th>\n",
       "      <th>population</th>\n",
       "      <th>area</th>\n",
       "      <th>capital</th>\n",
       "    </tr>\n",
       "    <tr>\n",
       "      <th>country</th>\n",
       "      <th></th>\n",
       "      <th></th>\n",
       "      <th></th>\n",
       "    </tr>\n",
       "  </thead>\n",
       "  <tbody>\n",
       "    <tr>\n",
       "      <td>Belgium</td>\n",
       "      <td>10.0</td>\n",
       "      <td>30510</td>\n",
       "      <td>Brussels</td>\n",
       "    </tr>\n",
       "    <tr>\n",
       "      <td>France</td>\n",
       "      <td>10.0</td>\n",
       "      <td>671308</td>\n",
       "      <td>Paris</td>\n",
       "    </tr>\n",
       "    <tr>\n",
       "      <td>Germany</td>\n",
       "      <td>10.0</td>\n",
       "      <td>357050</td>\n",
       "      <td>Berlin</td>\n",
       "    </tr>\n",
       "    <tr>\n",
       "      <td>Netherlands</td>\n",
       "      <td>16.9</td>\n",
       "      <td>41526</td>\n",
       "      <td>Amsterdam</td>\n",
       "    </tr>\n",
       "    <tr>\n",
       "      <td>United Kingdom</td>\n",
       "      <td>64.9</td>\n",
       "      <td>244820</td>\n",
       "      <td>London</td>\n",
       "    </tr>\n",
       "  </tbody>\n",
       "</table>\n",
       "</div>"
      ],
      "text/plain": [
       "                population    area    capital\n",
       "country                                      \n",
       "Belgium               10.0   30510   Brussels\n",
       "France                10.0  671308      Paris\n",
       "Germany               10.0  357050     Berlin\n",
       "Netherlands           16.9   41526  Amsterdam\n",
       "United Kingdom        64.9  244820     London"
      ]
     },
     "execution_count": 119,
     "metadata": {},
     "output_type": "execute_result"
    }
   ],
   "source": [
    "countries2"
   ]
  },
  {
   "cell_type": "markdown",
   "metadata": {},
   "source": [
    "<div class=\"alert alert-info\">\n",
    "<b>REMEMBER</b>: <br><br>\n",
    "\n",
    "Advanced indexing with **loc** and **ïloc**\n",
    "\n",
    " <ul>\n",
    "  <li>**loc**: select by label: `df.loc[row_indexer, column_indexer]`</li>\n",
    "  <li>**iloc**: select by position: `df.iloc[row_indexer, column_indexer]`</li>\n",
    "</ul>\n",
    "</div>"
   ]
  },
  {
   "cell_type": "markdown",
   "metadata": {},
   "source": [
    "## Boolean indexing (filtering)"
   ]
  },
  {
   "cell_type": "markdown",
   "metadata": {},
   "source": [
    "Often, you want to select rows based on a certain condition. This can be done with 'boolean indexing' (like a where clause in SQL) and comparable to numpy. \n",
    "\n",
    "The indexer (or boolean mask) should be 1-dimensional and the same length as the thing being indexed."
   ]
  },
  {
   "cell_type": "code",
   "execution_count": 120,
   "metadata": {
    "run_control": {
     "frozen": false,
     "read_only": false
    }
   },
   "outputs": [
    {
     "data": {
      "text/plain": [
       "country\n",
       "Belgium           False\n",
       "France             True\n",
       "Germany            True\n",
       "Netherlands       False\n",
       "United Kingdom     True\n",
       "Name: area, dtype: bool"
      ]
     },
     "execution_count": 120,
     "metadata": {},
     "output_type": "execute_result"
    }
   ],
   "source": [
    "countries['area'] > 100000"
   ]
  },
  {
   "cell_type": "code",
   "execution_count": 121,
   "metadata": {
    "run_control": {
     "frozen": false,
     "read_only": false
    }
   },
   "outputs": [
    {
     "data": {
      "text/html": [
       "<div>\n",
       "<style scoped>\n",
       "    .dataframe tbody tr th:only-of-type {\n",
       "        vertical-align: middle;\n",
       "    }\n",
       "\n",
       "    .dataframe tbody tr th {\n",
       "        vertical-align: top;\n",
       "    }\n",
       "\n",
       "    .dataframe thead th {\n",
       "        text-align: right;\n",
       "    }\n",
       "</style>\n",
       "<table border=\"1\" class=\"dataframe\">\n",
       "  <thead>\n",
       "    <tr style=\"text-align: right;\">\n",
       "      <th></th>\n",
       "      <th>population</th>\n",
       "      <th>area</th>\n",
       "      <th>capital</th>\n",
       "    </tr>\n",
       "    <tr>\n",
       "      <th>country</th>\n",
       "      <th></th>\n",
       "      <th></th>\n",
       "      <th></th>\n",
       "    </tr>\n",
       "  </thead>\n",
       "  <tbody>\n",
       "    <tr>\n",
       "      <td>France</td>\n",
       "      <td>64.3</td>\n",
       "      <td>671308</td>\n",
       "      <td>Paris</td>\n",
       "    </tr>\n",
       "    <tr>\n",
       "      <td>Germany</td>\n",
       "      <td>81.3</td>\n",
       "      <td>357050</td>\n",
       "      <td>Berlin</td>\n",
       "    </tr>\n",
       "    <tr>\n",
       "      <td>United Kingdom</td>\n",
       "      <td>64.9</td>\n",
       "      <td>244820</td>\n",
       "      <td>London</td>\n",
       "    </tr>\n",
       "  </tbody>\n",
       "</table>\n",
       "</div>"
      ],
      "text/plain": [
       "                population    area capital\n",
       "country                                   \n",
       "France                64.3  671308   Paris\n",
       "Germany               81.3  357050  Berlin\n",
       "United Kingdom        64.9  244820  London"
      ]
     },
     "execution_count": 121,
     "metadata": {},
     "output_type": "execute_result"
    }
   ],
   "source": [
    "countries[countries['area'] > 100000]"
   ]
  },
  {
   "cell_type": "markdown",
   "metadata": {},
   "source": [
    "<div class=\"alert alert-success\">\n",
    "<b>EXERCISE</b>:\n",
    "\n",
    "<ul>\n",
    "    <li>Add density as column to the DataFrame</li>\n",
    "</ul>\n",
    "</div>"
   ]
  },
  {
   "cell_type": "code",
   "execution_count": 125,
   "metadata": {},
   "outputs": [
    {
     "data": {
      "text/html": [
       "<div>\n",
       "<style scoped>\n",
       "    .dataframe tbody tr th:only-of-type {\n",
       "        vertical-align: middle;\n",
       "    }\n",
       "\n",
       "    .dataframe tbody tr th {\n",
       "        vertical-align: top;\n",
       "    }\n",
       "\n",
       "    .dataframe thead th {\n",
       "        text-align: right;\n",
       "    }\n",
       "</style>\n",
       "<table border=\"1\" class=\"dataframe\">\n",
       "  <thead>\n",
       "    <tr style=\"text-align: right;\">\n",
       "      <th></th>\n",
       "      <th>population</th>\n",
       "      <th>area</th>\n",
       "      <th>capital</th>\n",
       "      <th>density</th>\n",
       "    </tr>\n",
       "    <tr>\n",
       "      <th>country</th>\n",
       "      <th></th>\n",
       "      <th></th>\n",
       "      <th></th>\n",
       "      <th></th>\n",
       "    </tr>\n",
       "  </thead>\n",
       "  <tbody>\n",
       "    <tr>\n",
       "      <td>Belgium</td>\n",
       "      <td>11.3</td>\n",
       "      <td>30510</td>\n",
       "      <td>Brussels</td>\n",
       "      <td>370.370370</td>\n",
       "    </tr>\n",
       "    <tr>\n",
       "      <td>France</td>\n",
       "      <td>64.3</td>\n",
       "      <td>671308</td>\n",
       "      <td>Paris</td>\n",
       "      <td>95.783158</td>\n",
       "    </tr>\n",
       "    <tr>\n",
       "      <td>Germany</td>\n",
       "      <td>81.3</td>\n",
       "      <td>357050</td>\n",
       "      <td>Berlin</td>\n",
       "      <td>227.699202</td>\n",
       "    </tr>\n",
       "    <tr>\n",
       "      <td>Netherlands</td>\n",
       "      <td>16.9</td>\n",
       "      <td>41526</td>\n",
       "      <td>Amsterdam</td>\n",
       "      <td>406.973944</td>\n",
       "    </tr>\n",
       "    <tr>\n",
       "      <td>United Kingdom</td>\n",
       "      <td>64.9</td>\n",
       "      <td>244820</td>\n",
       "      <td>London</td>\n",
       "      <td>265.092721</td>\n",
       "    </tr>\n",
       "  </tbody>\n",
       "</table>\n",
       "</div>"
      ],
      "text/plain": [
       "                population    area    capital     density\n",
       "country                                                  \n",
       "Belgium               11.3   30510   Brussels  370.370370\n",
       "France                64.3  671308      Paris   95.783158\n",
       "Germany               81.3  357050     Berlin  227.699202\n",
       "Netherlands           16.9   41526  Amsterdam  406.973944\n",
       "United Kingdom        64.9  244820     London  265.092721"
      ]
     },
     "execution_count": 125,
     "metadata": {},
     "output_type": "execute_result"
    }
   ],
   "source": [
    "countries['density']=1e6 *countries['population'] / countries['area']\n",
    "countries"
   ]
  },
  {
   "cell_type": "markdown",
   "metadata": {},
   "source": [
    "<div class=\"alert alert-success\">\n",
    "<b>EXERCISE</b>:\n",
    "\n",
    " <ul>\n",
    "  <li>Select the capital and the population column of those countries where the density is larger than 300</li>\n",
    "</ul>\n",
    "</div>"
   ]
  },
  {
   "cell_type": "code",
   "execution_count": 129,
   "metadata": {
    "clear_cell": true,
    "run_control": {
     "frozen": false,
     "read_only": false
    }
   },
   "outputs": [
    {
     "data": {
      "text/html": [
       "<div>\n",
       "<style scoped>\n",
       "    .dataframe tbody tr th:only-of-type {\n",
       "        vertical-align: middle;\n",
       "    }\n",
       "\n",
       "    .dataframe tbody tr th {\n",
       "        vertical-align: top;\n",
       "    }\n",
       "\n",
       "    .dataframe thead th {\n",
       "        text-align: right;\n",
       "    }\n",
       "</style>\n",
       "<table border=\"1\" class=\"dataframe\">\n",
       "  <thead>\n",
       "    <tr style=\"text-align: right;\">\n",
       "      <th></th>\n",
       "      <th>capital</th>\n",
       "      <th>population</th>\n",
       "    </tr>\n",
       "    <tr>\n",
       "      <th>country</th>\n",
       "      <th></th>\n",
       "      <th></th>\n",
       "    </tr>\n",
       "  </thead>\n",
       "  <tbody>\n",
       "    <tr>\n",
       "      <td>Belgium</td>\n",
       "      <td>Brussels</td>\n",
       "      <td>11.3</td>\n",
       "    </tr>\n",
       "    <tr>\n",
       "      <td>Netherlands</td>\n",
       "      <td>Amsterdam</td>\n",
       "      <td>16.9</td>\n",
       "    </tr>\n",
       "  </tbody>\n",
       "</table>\n",
       "</div>"
      ],
      "text/plain": [
       "               capital  population\n",
       "country                           \n",
       "Belgium       Brussels        11.3\n",
       "Netherlands  Amsterdam        16.9"
      ]
     },
     "execution_count": 129,
     "metadata": {},
     "output_type": "execute_result"
    }
   ],
   "source": [
    "countries.loc[countries['density']>300, ['capital','population']]"
   ]
  },
  {
   "cell_type": "markdown",
   "metadata": {},
   "source": [
    "<div class=\"alert alert-success\">\n",
    "\n",
    "<b>EXERCISE</b>:\n",
    "\n",
    " <ul>\n",
    "  <li>Add a column 'density_ratio' with the ratio of the density to the mean density</li>\n",
    "</ul>\n",
    "</div>"
   ]
  },
  {
   "cell_type": "code",
   "execution_count": 132,
   "metadata": {},
   "outputs": [
    {
     "data": {
      "text/plain": [
       "273.1838790074409"
      ]
     },
     "execution_count": 132,
     "metadata": {},
     "output_type": "execute_result"
    }
   ],
   "source": [
    "np.mean(countries['density'])"
   ]
  },
  {
   "cell_type": "code",
   "execution_count": 133,
   "metadata": {
    "clear_cell": true,
    "run_control": {
     "frozen": false,
     "read_only": false
    }
   },
   "outputs": [
    {
     "data": {
      "text/html": [
       "<div>\n",
       "<style scoped>\n",
       "    .dataframe tbody tr th:only-of-type {\n",
       "        vertical-align: middle;\n",
       "    }\n",
       "\n",
       "    .dataframe tbody tr th {\n",
       "        vertical-align: top;\n",
       "    }\n",
       "\n",
       "    .dataframe thead th {\n",
       "        text-align: right;\n",
       "    }\n",
       "</style>\n",
       "<table border=\"1\" class=\"dataframe\">\n",
       "  <thead>\n",
       "    <tr style=\"text-align: right;\">\n",
       "      <th></th>\n",
       "      <th>population</th>\n",
       "      <th>area</th>\n",
       "      <th>capital</th>\n",
       "      <th>density</th>\n",
       "      <th>density_ratio</th>\n",
       "    </tr>\n",
       "    <tr>\n",
       "      <th>country</th>\n",
       "      <th></th>\n",
       "      <th></th>\n",
       "      <th></th>\n",
       "      <th></th>\n",
       "      <th></th>\n",
       "    </tr>\n",
       "  </thead>\n",
       "  <tbody>\n",
       "    <tr>\n",
       "      <td>Belgium</td>\n",
       "      <td>11.3</td>\n",
       "      <td>30510</td>\n",
       "      <td>Brussels</td>\n",
       "      <td>370.370370</td>\n",
       "      <td>1.355755</td>\n",
       "    </tr>\n",
       "    <tr>\n",
       "      <td>France</td>\n",
       "      <td>64.3</td>\n",
       "      <td>671308</td>\n",
       "      <td>Paris</td>\n",
       "      <td>95.783158</td>\n",
       "      <td>0.350618</td>\n",
       "    </tr>\n",
       "    <tr>\n",
       "      <td>Germany</td>\n",
       "      <td>81.3</td>\n",
       "      <td>357050</td>\n",
       "      <td>Berlin</td>\n",
       "      <td>227.699202</td>\n",
       "      <td>0.833502</td>\n",
       "    </tr>\n",
       "    <tr>\n",
       "      <td>Netherlands</td>\n",
       "      <td>16.9</td>\n",
       "      <td>41526</td>\n",
       "      <td>Amsterdam</td>\n",
       "      <td>406.973944</td>\n",
       "      <td>1.489744</td>\n",
       "    </tr>\n",
       "    <tr>\n",
       "      <td>United Kingdom</td>\n",
       "      <td>64.9</td>\n",
       "      <td>244820</td>\n",
       "      <td>London</td>\n",
       "      <td>265.092721</td>\n",
       "      <td>0.970382</td>\n",
       "    </tr>\n",
       "  </tbody>\n",
       "</table>\n",
       "</div>"
      ],
      "text/plain": [
       "                population    area    capital     density  density_ratio\n",
       "country                                                                 \n",
       "Belgium               11.3   30510   Brussels  370.370370       1.355755\n",
       "France                64.3  671308      Paris   95.783158       0.350618\n",
       "Germany               81.3  357050     Berlin  227.699202       0.833502\n",
       "Netherlands           16.9   41526  Amsterdam  406.973944       1.489744\n",
       "United Kingdom        64.9  244820     London  265.092721       0.970382"
      ]
     },
     "execution_count": 133,
     "metadata": {},
     "output_type": "execute_result"
    }
   ],
   "source": [
    "countries['density_ratio']=countries['density'] / np.mean(countries['density'])\n",
    "countries"
   ]
  },
  {
   "cell_type": "markdown",
   "metadata": {},
   "source": [
    "<div class=\"alert alert-success\">\n",
    "\n",
    "<b>EXERCISE</b>:\n",
    "\n",
    " <ul>\n",
    "  <li>Change the capital of the UK to Cambridge</li>\n",
    "</ul>\n",
    "</div>"
   ]
  },
  {
   "cell_type": "code",
   "execution_count": 134,
   "metadata": {
    "clear_cell": true,
    "run_control": {
     "frozen": false,
     "read_only": false
    }
   },
   "outputs": [
    {
     "data": {
      "text/html": [
       "<div>\n",
       "<style scoped>\n",
       "    .dataframe tbody tr th:only-of-type {\n",
       "        vertical-align: middle;\n",
       "    }\n",
       "\n",
       "    .dataframe tbody tr th {\n",
       "        vertical-align: top;\n",
       "    }\n",
       "\n",
       "    .dataframe thead th {\n",
       "        text-align: right;\n",
       "    }\n",
       "</style>\n",
       "<table border=\"1\" class=\"dataframe\">\n",
       "  <thead>\n",
       "    <tr style=\"text-align: right;\">\n",
       "      <th></th>\n",
       "      <th>population</th>\n",
       "      <th>area</th>\n",
       "      <th>capital</th>\n",
       "      <th>density</th>\n",
       "      <th>density_ratio</th>\n",
       "    </tr>\n",
       "    <tr>\n",
       "      <th>country</th>\n",
       "      <th></th>\n",
       "      <th></th>\n",
       "      <th></th>\n",
       "      <th></th>\n",
       "      <th></th>\n",
       "    </tr>\n",
       "  </thead>\n",
       "  <tbody>\n",
       "    <tr>\n",
       "      <td>Belgium</td>\n",
       "      <td>11.3</td>\n",
       "      <td>30510</td>\n",
       "      <td>Brussels</td>\n",
       "      <td>370.370370</td>\n",
       "      <td>1.355755</td>\n",
       "    </tr>\n",
       "    <tr>\n",
       "      <td>France</td>\n",
       "      <td>64.3</td>\n",
       "      <td>671308</td>\n",
       "      <td>Paris</td>\n",
       "      <td>95.783158</td>\n",
       "      <td>0.350618</td>\n",
       "    </tr>\n",
       "    <tr>\n",
       "      <td>Germany</td>\n",
       "      <td>81.3</td>\n",
       "      <td>357050</td>\n",
       "      <td>Berlin</td>\n",
       "      <td>227.699202</td>\n",
       "      <td>0.833502</td>\n",
       "    </tr>\n",
       "    <tr>\n",
       "      <td>Netherlands</td>\n",
       "      <td>16.9</td>\n",
       "      <td>41526</td>\n",
       "      <td>Amsterdam</td>\n",
       "      <td>406.973944</td>\n",
       "      <td>1.489744</td>\n",
       "    </tr>\n",
       "    <tr>\n",
       "      <td>United Kingdom</td>\n",
       "      <td>64.9</td>\n",
       "      <td>244820</td>\n",
       "      <td>Cambridge</td>\n",
       "      <td>265.092721</td>\n",
       "      <td>0.970382</td>\n",
       "    </tr>\n",
       "  </tbody>\n",
       "</table>\n",
       "</div>"
      ],
      "text/plain": [
       "                population    area    capital     density  density_ratio\n",
       "country                                                                 \n",
       "Belgium               11.3   30510   Brussels  370.370370       1.355755\n",
       "France                64.3  671308      Paris   95.783158       0.350618\n",
       "Germany               81.3  357050     Berlin  227.699202       0.833502\n",
       "Netherlands           16.9   41526  Amsterdam  406.973944       1.489744\n",
       "United Kingdom        64.9  244820  Cambridge  265.092721       0.970382"
      ]
     },
     "execution_count": 134,
     "metadata": {},
     "output_type": "execute_result"
    }
   ],
   "source": [
    "countries.loc['United Kingdom','capital']='Cambridge'\n",
    "countries"
   ]
  },
  {
   "cell_type": "markdown",
   "metadata": {
    "collapsed": true
   },
   "source": [
    "<div class=\"alert alert-success\">\n",
    "<b>EXERCISE</b>:\n",
    "\n",
    " <ul>\n",
    "  <li>Select all countries whose population density is between 100 and 300 people/km²</li>\n",
    "</ul>\n",
    "</div>"
   ]
  },
  {
   "cell_type": "code",
   "execution_count": 139,
   "metadata": {},
   "outputs": [
    {
     "data": {
      "text/plain": [
       "country\n",
       "Belgium           False\n",
       "France            False\n",
       "Germany            True\n",
       "Netherlands       False\n",
       "United Kingdom     True\n",
       "Name: density, dtype: bool"
      ]
     },
     "execution_count": 139,
     "metadata": {},
     "output_type": "execute_result"
    }
   ],
   "source": [
    "# Pour ajouter plusieurs conditions, il faut obligatoirement des parenthèses\n",
    "(countries['density']>=100) &  (countries['density']<=300)"
   ]
  },
  {
   "cell_type": "code",
   "execution_count": 143,
   "metadata": {
    "clear_cell": true,
    "run_control": {
     "frozen": false,
     "read_only": false
    }
   },
   "outputs": [
    {
     "data": {
      "text/html": [
       "<div>\n",
       "<style scoped>\n",
       "    .dataframe tbody tr th:only-of-type {\n",
       "        vertical-align: middle;\n",
       "    }\n",
       "\n",
       "    .dataframe tbody tr th {\n",
       "        vertical-align: top;\n",
       "    }\n",
       "\n",
       "    .dataframe thead th {\n",
       "        text-align: right;\n",
       "    }\n",
       "</style>\n",
       "<table border=\"1\" class=\"dataframe\">\n",
       "  <thead>\n",
       "    <tr style=\"text-align: right;\">\n",
       "      <th></th>\n",
       "      <th>population</th>\n",
       "      <th>area</th>\n",
       "      <th>capital</th>\n",
       "      <th>density</th>\n",
       "      <th>density_ratio</th>\n",
       "    </tr>\n",
       "    <tr>\n",
       "      <th>country</th>\n",
       "      <th></th>\n",
       "      <th></th>\n",
       "      <th></th>\n",
       "      <th></th>\n",
       "      <th></th>\n",
       "    </tr>\n",
       "  </thead>\n",
       "  <tbody>\n",
       "    <tr>\n",
       "      <td>Germany</td>\n",
       "      <td>81.3</td>\n",
       "      <td>357050</td>\n",
       "      <td>Berlin</td>\n",
       "      <td>227.699202</td>\n",
       "      <td>0.833502</td>\n",
       "    </tr>\n",
       "    <tr>\n",
       "      <td>United Kingdom</td>\n",
       "      <td>64.9</td>\n",
       "      <td>244820</td>\n",
       "      <td>Cambridge</td>\n",
       "      <td>265.092721</td>\n",
       "      <td>0.970382</td>\n",
       "    </tr>\n",
       "  </tbody>\n",
       "</table>\n",
       "</div>"
      ],
      "text/plain": [
       "                population    area    capital     density  density_ratio\n",
       "country                                                                 \n",
       "Germany               81.3  357050     Berlin  227.699202       0.833502\n",
       "United Kingdom        64.9  244820  Cambridge  265.092721       0.970382"
      ]
     },
     "execution_count": 143,
     "metadata": {},
     "output_type": "execute_result"
    }
   ],
   "source": [
    "countries[(countries['density']>=100) &  (countries['density']<=300)]"
   ]
  },
  {
   "cell_type": "code",
   "execution_count": 145,
   "metadata": {},
   "outputs": [
    {
     "data": {
      "text/html": [
       "<div>\n",
       "<style scoped>\n",
       "    .dataframe tbody tr th:only-of-type {\n",
       "        vertical-align: middle;\n",
       "    }\n",
       "\n",
       "    .dataframe tbody tr th {\n",
       "        vertical-align: top;\n",
       "    }\n",
       "\n",
       "    .dataframe thead th {\n",
       "        text-align: right;\n",
       "    }\n",
       "</style>\n",
       "<table border=\"1\" class=\"dataframe\">\n",
       "  <thead>\n",
       "    <tr style=\"text-align: right;\">\n",
       "      <th></th>\n",
       "      <th>population</th>\n",
       "      <th>area</th>\n",
       "      <th>capital</th>\n",
       "      <th>density</th>\n",
       "      <th>density_ratio</th>\n",
       "    </tr>\n",
       "    <tr>\n",
       "      <th>country</th>\n",
       "      <th></th>\n",
       "      <th></th>\n",
       "      <th></th>\n",
       "      <th></th>\n",
       "      <th></th>\n",
       "    </tr>\n",
       "  </thead>\n",
       "  <tbody>\n",
       "    <tr>\n",
       "      <td>Germany</td>\n",
       "      <td>81.3</td>\n",
       "      <td>357050</td>\n",
       "      <td>Berlin</td>\n",
       "      <td>227.699202</td>\n",
       "      <td>0.833502</td>\n",
       "    </tr>\n",
       "    <tr>\n",
       "      <td>United Kingdom</td>\n",
       "      <td>64.9</td>\n",
       "      <td>244820</td>\n",
       "      <td>Cambridge</td>\n",
       "      <td>265.092721</td>\n",
       "      <td>0.970382</td>\n",
       "    </tr>\n",
       "  </tbody>\n",
       "</table>\n",
       "</div>"
      ],
      "text/plain": [
       "                population    area    capital     density  density_ratio\n",
       "country                                                                 \n",
       "Germany               81.3  357050     Berlin  227.699202       0.833502\n",
       "United Kingdom        64.9  244820  Cambridge  265.092721       0.970382"
      ]
     },
     "execution_count": 145,
     "metadata": {},
     "output_type": "execute_result"
    }
   ],
   "source": [
    "countries.query('100 < density < 300')"
   ]
  },
  {
   "cell_type": "markdown",
   "metadata": {
    "collapsed": true
   },
   "source": [
    "# Some other essential methods: `isin` and `string` methods"
   ]
  },
  {
   "cell_type": "markdown",
   "metadata": {},
   "source": [
    "The `isin` method of Series is very useful to select rows that may contain certain values:"
   ]
  },
  {
   "cell_type": "code",
   "execution_count": 146,
   "metadata": {
    "run_control": {
     "frozen": false,
     "read_only": false
    }
   },
   "outputs": [],
   "source": [
    "s = countries['capital']"
   ]
  },
  {
   "cell_type": "code",
   "execution_count": 147,
   "metadata": {
    "run_control": {
     "frozen": false,
     "read_only": false
    }
   },
   "outputs": [],
   "source": [
    "s.isin?"
   ]
  },
  {
   "cell_type": "code",
   "execution_count": 148,
   "metadata": {
    "run_control": {
     "frozen": false,
     "read_only": false
    }
   },
   "outputs": [
    {
     "data": {
      "text/plain": [
       "country\n",
       "Belgium           False\n",
       "France            False\n",
       "Germany            True\n",
       "Netherlands       False\n",
       "United Kingdom    False\n",
       "Name: capital, dtype: bool"
      ]
     },
     "execution_count": 148,
     "metadata": {},
     "output_type": "execute_result"
    }
   ],
   "source": [
    "s.isin(['Berlin', 'London'])"
   ]
  },
  {
   "cell_type": "markdown",
   "metadata": {},
   "source": [
    "This can then be used to filter the dataframe with boolean indexing:"
   ]
  },
  {
   "cell_type": "code",
   "execution_count": 149,
   "metadata": {
    "run_control": {
     "frozen": false,
     "read_only": false
    }
   },
   "outputs": [
    {
     "data": {
      "text/html": [
       "<div>\n",
       "<style scoped>\n",
       "    .dataframe tbody tr th:only-of-type {\n",
       "        vertical-align: middle;\n",
       "    }\n",
       "\n",
       "    .dataframe tbody tr th {\n",
       "        vertical-align: top;\n",
       "    }\n",
       "\n",
       "    .dataframe thead th {\n",
       "        text-align: right;\n",
       "    }\n",
       "</style>\n",
       "<table border=\"1\" class=\"dataframe\">\n",
       "  <thead>\n",
       "    <tr style=\"text-align: right;\">\n",
       "      <th></th>\n",
       "      <th>population</th>\n",
       "      <th>area</th>\n",
       "      <th>capital</th>\n",
       "      <th>density</th>\n",
       "      <th>density_ratio</th>\n",
       "    </tr>\n",
       "    <tr>\n",
       "      <th>country</th>\n",
       "      <th></th>\n",
       "      <th></th>\n",
       "      <th></th>\n",
       "      <th></th>\n",
       "      <th></th>\n",
       "    </tr>\n",
       "  </thead>\n",
       "  <tbody>\n",
       "    <tr>\n",
       "      <td>Germany</td>\n",
       "      <td>81.3</td>\n",
       "      <td>357050</td>\n",
       "      <td>Berlin</td>\n",
       "      <td>227.699202</td>\n",
       "      <td>0.833502</td>\n",
       "    </tr>\n",
       "  </tbody>\n",
       "</table>\n",
       "</div>"
      ],
      "text/plain": [
       "         population    area capital     density  density_ratio\n",
       "country                                                       \n",
       "Germany        81.3  357050  Berlin  227.699202       0.833502"
      ]
     },
     "execution_count": 149,
     "metadata": {},
     "output_type": "execute_result"
    }
   ],
   "source": [
    "countries[countries['capital'].isin(['Berlin', 'London'])]"
   ]
  },
  {
   "cell_type": "markdown",
   "metadata": {},
   "source": [
    "Let's say we want to select all data for which the capital starts with a 'B'. In Python, when having a string, we could use the `startswith` method:"
   ]
  },
  {
   "cell_type": "code",
   "execution_count": 151,
   "metadata": {
    "run_control": {
     "frozen": false,
     "read_only": false
    }
   },
   "outputs": [
    {
     "data": {
      "text/plain": [
       "True"
      ]
     },
     "execution_count": 151,
     "metadata": {},
     "output_type": "execute_result"
    }
   ],
   "source": [
    "'Berlin'.startswith('B')"
   ]
  },
  {
   "cell_type": "markdown",
   "metadata": {},
   "source": [
    "In pandas, these are available on a Series through the `str` namespace:"
   ]
  },
  {
   "cell_type": "code",
   "execution_count": 152,
   "metadata": {
    "run_control": {
     "frozen": false,
     "read_only": false
    }
   },
   "outputs": [
    {
     "data": {
      "text/plain": [
       "country\n",
       "Belgium            True\n",
       "France            False\n",
       "Germany            True\n",
       "Netherlands       False\n",
       "United Kingdom    False\n",
       "Name: capital, dtype: bool"
      ]
     },
     "execution_count": 152,
     "metadata": {},
     "output_type": "execute_result"
    }
   ],
   "source": [
    "countries['capital'].str.startswith('B')"
   ]
  },
  {
   "cell_type": "code",
   "execution_count": 153,
   "metadata": {},
   "outputs": [
    {
     "data": {
      "text/plain": [
       "country\n",
       "Belgium            BRUSSELS\n",
       "France                PARIS\n",
       "Germany              BERLIN\n",
       "Netherlands       AMSTERDAM\n",
       "United Kingdom    CAMBRIDGE\n",
       "Name: capital, dtype: object"
      ]
     },
     "execution_count": 153,
     "metadata": {},
     "output_type": "execute_result"
    }
   ],
   "source": [
    "countries['capital'].str.upper()"
   ]
  },
  {
   "cell_type": "code",
   "execution_count": 157,
   "metadata": {},
   "outputs": [
    {
     "data": {
      "text/plain": [
       "country\n",
       "Belgium            BRUSSELS\n",
       "France                PARIS\n",
       "Germany              BERLIN\n",
       "Netherlands       AMSTERDAM\n",
       "United Kingdom    CAMBRIDGE\n",
       "Name: capital, dtype: object"
      ]
     },
     "execution_count": 157,
     "metadata": {},
     "output_type": "execute_result"
    }
   ],
   "source": [
    "cap=countries['capital']\n",
    "cap.str.upper()"
   ]
  },
  {
   "cell_type": "markdown",
   "metadata": {},
   "source": [
    "For an overview of all string methods, see: http://pandas.pydata.org/pandas-docs/stable/api.html#string-handling"
   ]
  },
  {
   "cell_type": "markdown",
   "metadata": {},
   "source": [
    "<div class=\"alert alert-success\">\n",
    "\n",
    "<b>EXERCISE</b>:\n",
    "\n",
    " <ul>\n",
    "  <li>Select all countries that have capital names with more than 7 characters</li>\n",
    "</ul>\n",
    "    \n",
    "</div>"
   ]
  },
  {
   "cell_type": "code",
   "execution_count": 160,
   "metadata": {
    "clear_cell": true,
    "run_control": {
     "frozen": false,
     "read_only": false
    }
   },
   "outputs": [
    {
     "data": {
      "text/html": [
       "<div>\n",
       "<style scoped>\n",
       "    .dataframe tbody tr th:only-of-type {\n",
       "        vertical-align: middle;\n",
       "    }\n",
       "\n",
       "    .dataframe tbody tr th {\n",
       "        vertical-align: top;\n",
       "    }\n",
       "\n",
       "    .dataframe thead th {\n",
       "        text-align: right;\n",
       "    }\n",
       "</style>\n",
       "<table border=\"1\" class=\"dataframe\">\n",
       "  <thead>\n",
       "    <tr style=\"text-align: right;\">\n",
       "      <th></th>\n",
       "      <th>population</th>\n",
       "      <th>area</th>\n",
       "      <th>capital</th>\n",
       "      <th>density</th>\n",
       "      <th>density_ratio</th>\n",
       "    </tr>\n",
       "    <tr>\n",
       "      <th>country</th>\n",
       "      <th></th>\n",
       "      <th></th>\n",
       "      <th></th>\n",
       "      <th></th>\n",
       "      <th></th>\n",
       "    </tr>\n",
       "  </thead>\n",
       "  <tbody>\n",
       "    <tr>\n",
       "      <td>Belgium</td>\n",
       "      <td>11.3</td>\n",
       "      <td>30510</td>\n",
       "      <td>Brussels</td>\n",
       "      <td>370.370370</td>\n",
       "      <td>1.355755</td>\n",
       "    </tr>\n",
       "    <tr>\n",
       "      <td>Netherlands</td>\n",
       "      <td>16.9</td>\n",
       "      <td>41526</td>\n",
       "      <td>Amsterdam</td>\n",
       "      <td>406.973944</td>\n",
       "      <td>1.489744</td>\n",
       "    </tr>\n",
       "    <tr>\n",
       "      <td>United Kingdom</td>\n",
       "      <td>64.9</td>\n",
       "      <td>244820</td>\n",
       "      <td>Cambridge</td>\n",
       "      <td>265.092721</td>\n",
       "      <td>0.970382</td>\n",
       "    </tr>\n",
       "  </tbody>\n",
       "</table>\n",
       "</div>"
      ],
      "text/plain": [
       "                population    area    capital     density  density_ratio\n",
       "country                                                                 \n",
       "Belgium               11.3   30510   Brussels  370.370370       1.355755\n",
       "Netherlands           16.9   41526  Amsterdam  406.973944       1.489744\n",
       "United Kingdom        64.9  244820  Cambridge  265.092721       0.970382"
      ]
     },
     "execution_count": 160,
     "metadata": {},
     "output_type": "execute_result"
    }
   ],
   "source": [
    "countries[countries['capital'].str.len()>7]"
   ]
  },
  {
   "cell_type": "markdown",
   "metadata": {},
   "source": [
    "<div class=\"alert alert-success\">\n",
    "\n",
    "<b>EXERCISE</b>:\n",
    "\n",
    " <ul>\n",
    "  <li>Select all countries that have capital names that contain the character sequence 'am'</li>\n",
    "</ul>\n",
    "</div>"
   ]
  },
  {
   "cell_type": "code",
   "execution_count": 164,
   "metadata": {
    "clear_cell": true,
    "run_control": {
     "frozen": false,
     "read_only": false
    }
   },
   "outputs": [
    {
     "data": {
      "text/html": [
       "<div>\n",
       "<style scoped>\n",
       "    .dataframe tbody tr th:only-of-type {\n",
       "        vertical-align: middle;\n",
       "    }\n",
       "\n",
       "    .dataframe tbody tr th {\n",
       "        vertical-align: top;\n",
       "    }\n",
       "\n",
       "    .dataframe thead th {\n",
       "        text-align: right;\n",
       "    }\n",
       "</style>\n",
       "<table border=\"1\" class=\"dataframe\">\n",
       "  <thead>\n",
       "    <tr style=\"text-align: right;\">\n",
       "      <th></th>\n",
       "      <th>population</th>\n",
       "      <th>area</th>\n",
       "      <th>capital</th>\n",
       "      <th>density</th>\n",
       "      <th>density_ratio</th>\n",
       "    </tr>\n",
       "    <tr>\n",
       "      <th>country</th>\n",
       "      <th></th>\n",
       "      <th></th>\n",
       "      <th></th>\n",
       "      <th></th>\n",
       "      <th></th>\n",
       "    </tr>\n",
       "  </thead>\n",
       "  <tbody>\n",
       "    <tr>\n",
       "      <td>Netherlands</td>\n",
       "      <td>16.9</td>\n",
       "      <td>41526</td>\n",
       "      <td>Amsterdam</td>\n",
       "      <td>406.973944</td>\n",
       "      <td>1.489744</td>\n",
       "    </tr>\n",
       "    <tr>\n",
       "      <td>United Kingdom</td>\n",
       "      <td>64.9</td>\n",
       "      <td>244820</td>\n",
       "      <td>Cambridge</td>\n",
       "      <td>265.092721</td>\n",
       "      <td>0.970382</td>\n",
       "    </tr>\n",
       "  </tbody>\n",
       "</table>\n",
       "</div>"
      ],
      "text/plain": [
       "                population    area    capital     density  density_ratio\n",
       "country                                                                 \n",
       "Netherlands           16.9   41526  Amsterdam  406.973944       1.489744\n",
       "United Kingdom        64.9  244820  Cambridge  265.092721       0.970382"
      ]
     },
     "execution_count": 164,
     "metadata": {},
     "output_type": "execute_result"
    }
   ],
   "source": [
    "countries[countries['capital'].str.lower().str.contains('am')]"
   ]
  },
  {
   "cell_type": "markdown",
   "metadata": {},
   "source": [
    "# Pitfall: chained indexing (and the 'SettingWithCopyWarning')"
   ]
  },
  {
   "cell_type": "code",
   "execution_count": 165,
   "metadata": {
    "run_control": {
     "frozen": false,
     "read_only": false
    }
   },
   "outputs": [],
   "source": [
    "countries.loc['Belgium', 'capital'] = 'Paris'"
   ]
  },
  {
   "cell_type": "code",
   "execution_count": 166,
   "metadata": {
    "run_control": {
     "frozen": false,
     "read_only": false
    }
   },
   "outputs": [
    {
     "data": {
      "text/html": [
       "<div>\n",
       "<style scoped>\n",
       "    .dataframe tbody tr th:only-of-type {\n",
       "        vertical-align: middle;\n",
       "    }\n",
       "\n",
       "    .dataframe tbody tr th {\n",
       "        vertical-align: top;\n",
       "    }\n",
       "\n",
       "    .dataframe thead th {\n",
       "        text-align: right;\n",
       "    }\n",
       "</style>\n",
       "<table border=\"1\" class=\"dataframe\">\n",
       "  <thead>\n",
       "    <tr style=\"text-align: right;\">\n",
       "      <th></th>\n",
       "      <th>population</th>\n",
       "      <th>area</th>\n",
       "      <th>capital</th>\n",
       "      <th>density</th>\n",
       "      <th>density_ratio</th>\n",
       "    </tr>\n",
       "    <tr>\n",
       "      <th>country</th>\n",
       "      <th></th>\n",
       "      <th></th>\n",
       "      <th></th>\n",
       "      <th></th>\n",
       "      <th></th>\n",
       "    </tr>\n",
       "  </thead>\n",
       "  <tbody>\n",
       "    <tr>\n",
       "      <td>Belgium</td>\n",
       "      <td>11.3</td>\n",
       "      <td>30510</td>\n",
       "      <td>Paris</td>\n",
       "      <td>370.370370</td>\n",
       "      <td>1.355755</td>\n",
       "    </tr>\n",
       "    <tr>\n",
       "      <td>France</td>\n",
       "      <td>64.3</td>\n",
       "      <td>671308</td>\n",
       "      <td>Paris</td>\n",
       "      <td>95.783158</td>\n",
       "      <td>0.350618</td>\n",
       "    </tr>\n",
       "    <tr>\n",
       "      <td>Germany</td>\n",
       "      <td>81.3</td>\n",
       "      <td>357050</td>\n",
       "      <td>Berlin</td>\n",
       "      <td>227.699202</td>\n",
       "      <td>0.833502</td>\n",
       "    </tr>\n",
       "    <tr>\n",
       "      <td>Netherlands</td>\n",
       "      <td>16.9</td>\n",
       "      <td>41526</td>\n",
       "      <td>Amsterdam</td>\n",
       "      <td>406.973944</td>\n",
       "      <td>1.489744</td>\n",
       "    </tr>\n",
       "    <tr>\n",
       "      <td>United Kingdom</td>\n",
       "      <td>64.9</td>\n",
       "      <td>244820</td>\n",
       "      <td>Cambridge</td>\n",
       "      <td>265.092721</td>\n",
       "      <td>0.970382</td>\n",
       "    </tr>\n",
       "  </tbody>\n",
       "</table>\n",
       "</div>"
      ],
      "text/plain": [
       "                population    area    capital     density  density_ratio\n",
       "country                                                                 \n",
       "Belgium               11.3   30510      Paris  370.370370       1.355755\n",
       "France                64.3  671308      Paris   95.783158       0.350618\n",
       "Germany               81.3  357050     Berlin  227.699202       0.833502\n",
       "Netherlands           16.9   41526  Amsterdam  406.973944       1.489744\n",
       "United Kingdom        64.9  244820  Cambridge  265.092721       0.970382"
      ]
     },
     "execution_count": 166,
     "metadata": {},
     "output_type": "execute_result"
    }
   ],
   "source": [
    "countries"
   ]
  },
  {
   "cell_type": "code",
   "execution_count": 167,
   "metadata": {
    "run_control": {
     "frozen": false,
     "read_only": false
    }
   },
   "outputs": [
    {
     "name": "stderr",
     "output_type": "stream",
     "text": [
      "/Users/christophenoblanc/anaconda3/envs/dssp/lib/python3.7/site-packages/ipykernel_launcher.py:1: SettingWithCopyWarning: \n",
      "A value is trying to be set on a copy of a slice from a DataFrame\n",
      "\n",
      "See the caveats in the documentation: http://pandas.pydata.org/pandas-docs/stable/user_guide/indexing.html#returning-a-view-versus-a-copy\n",
      "  \"\"\"Entry point for launching an IPython kernel.\n"
     ]
    }
   ],
   "source": [
    "countries['capital']['Belgium'] = 'Lyon' "
   ]
  },
  {
   "cell_type": "code",
   "execution_count": 168,
   "metadata": {
    "run_control": {
     "frozen": false,
     "read_only": false
    }
   },
   "outputs": [
    {
     "data": {
      "text/html": [
       "<div>\n",
       "<style scoped>\n",
       "    .dataframe tbody tr th:only-of-type {\n",
       "        vertical-align: middle;\n",
       "    }\n",
       "\n",
       "    .dataframe tbody tr th {\n",
       "        vertical-align: top;\n",
       "    }\n",
       "\n",
       "    .dataframe thead th {\n",
       "        text-align: right;\n",
       "    }\n",
       "</style>\n",
       "<table border=\"1\" class=\"dataframe\">\n",
       "  <thead>\n",
       "    <tr style=\"text-align: right;\">\n",
       "      <th></th>\n",
       "      <th>population</th>\n",
       "      <th>area</th>\n",
       "      <th>capital</th>\n",
       "      <th>density</th>\n",
       "      <th>density_ratio</th>\n",
       "    </tr>\n",
       "    <tr>\n",
       "      <th>country</th>\n",
       "      <th></th>\n",
       "      <th></th>\n",
       "      <th></th>\n",
       "      <th></th>\n",
       "      <th></th>\n",
       "    </tr>\n",
       "  </thead>\n",
       "  <tbody>\n",
       "    <tr>\n",
       "      <td>Belgium</td>\n",
       "      <td>11.3</td>\n",
       "      <td>30510</td>\n",
       "      <td>Lyon</td>\n",
       "      <td>370.370370</td>\n",
       "      <td>1.355755</td>\n",
       "    </tr>\n",
       "    <tr>\n",
       "      <td>France</td>\n",
       "      <td>64.3</td>\n",
       "      <td>671308</td>\n",
       "      <td>Paris</td>\n",
       "      <td>95.783158</td>\n",
       "      <td>0.350618</td>\n",
       "    </tr>\n",
       "    <tr>\n",
       "      <td>Germany</td>\n",
       "      <td>81.3</td>\n",
       "      <td>357050</td>\n",
       "      <td>Berlin</td>\n",
       "      <td>227.699202</td>\n",
       "      <td>0.833502</td>\n",
       "    </tr>\n",
       "    <tr>\n",
       "      <td>Netherlands</td>\n",
       "      <td>16.9</td>\n",
       "      <td>41526</td>\n",
       "      <td>Amsterdam</td>\n",
       "      <td>406.973944</td>\n",
       "      <td>1.489744</td>\n",
       "    </tr>\n",
       "    <tr>\n",
       "      <td>United Kingdom</td>\n",
       "      <td>64.9</td>\n",
       "      <td>244820</td>\n",
       "      <td>Cambridge</td>\n",
       "      <td>265.092721</td>\n",
       "      <td>0.970382</td>\n",
       "    </tr>\n",
       "  </tbody>\n",
       "</table>\n",
       "</div>"
      ],
      "text/plain": [
       "                population    area    capital     density  density_ratio\n",
       "country                                                                 \n",
       "Belgium               11.3   30510       Lyon  370.370370       1.355755\n",
       "France                64.3  671308      Paris   95.783158       0.350618\n",
       "Germany               81.3  357050     Berlin  227.699202       0.833502\n",
       "Netherlands           16.9   41526  Amsterdam  406.973944       1.489744\n",
       "United Kingdom        64.9  244820  Cambridge  265.092721       0.970382"
      ]
     },
     "execution_count": 168,
     "metadata": {},
     "output_type": "execute_result"
    }
   ],
   "source": [
    "countries"
   ]
  },
  {
   "cell_type": "code",
   "execution_count": 171,
   "metadata": {
    "run_control": {
     "frozen": false,
     "read_only": false
    }
   },
   "outputs": [
    {
     "name": "stderr",
     "output_type": "stream",
     "text": [
      "/Users/christophenoblanc/anaconda3/envs/dssp/lib/python3.7/site-packages/ipykernel_launcher.py:1: SettingWithCopyWarning: \n",
      "A value is trying to be set on a copy of a slice from a DataFrame.\n",
      "Try using .loc[row_indexer,col_indexer] = value instead\n",
      "\n",
      "See the caveats in the documentation: http://pandas.pydata.org/pandas-docs/stable/user_guide/indexing.html#returning-a-view-versus-a-copy\n",
      "  \"\"\"Entry point for launching an IPython kernel.\n"
     ]
    }
   ],
   "source": [
    "countries[countries['capital'] == 'Lyon']['capital'] = 'Brussels' \n",
    "# Marche pas car ici, on a travaillé sur une COPIE (pas seulement une vue)"
   ]
  },
  {
   "cell_type": "code",
   "execution_count": 172,
   "metadata": {
    "run_control": {
     "frozen": false,
     "read_only": false
    }
   },
   "outputs": [
    {
     "data": {
      "text/html": [
       "<div>\n",
       "<style scoped>\n",
       "    .dataframe tbody tr th:only-of-type {\n",
       "        vertical-align: middle;\n",
       "    }\n",
       "\n",
       "    .dataframe tbody tr th {\n",
       "        vertical-align: top;\n",
       "    }\n",
       "\n",
       "    .dataframe thead th {\n",
       "        text-align: right;\n",
       "    }\n",
       "</style>\n",
       "<table border=\"1\" class=\"dataframe\">\n",
       "  <thead>\n",
       "    <tr style=\"text-align: right;\">\n",
       "      <th></th>\n",
       "      <th>population</th>\n",
       "      <th>area</th>\n",
       "      <th>capital</th>\n",
       "      <th>density</th>\n",
       "      <th>density_ratio</th>\n",
       "    </tr>\n",
       "    <tr>\n",
       "      <th>country</th>\n",
       "      <th></th>\n",
       "      <th></th>\n",
       "      <th></th>\n",
       "      <th></th>\n",
       "      <th></th>\n",
       "    </tr>\n",
       "  </thead>\n",
       "  <tbody>\n",
       "    <tr>\n",
       "      <td>Belgium</td>\n",
       "      <td>11.3</td>\n",
       "      <td>30510</td>\n",
       "      <td>Lyon</td>\n",
       "      <td>370.370370</td>\n",
       "      <td>1.355755</td>\n",
       "    </tr>\n",
       "    <tr>\n",
       "      <td>France</td>\n",
       "      <td>64.3</td>\n",
       "      <td>671308</td>\n",
       "      <td>Paris</td>\n",
       "      <td>95.783158</td>\n",
       "      <td>0.350618</td>\n",
       "    </tr>\n",
       "    <tr>\n",
       "      <td>Germany</td>\n",
       "      <td>81.3</td>\n",
       "      <td>357050</td>\n",
       "      <td>Berlin</td>\n",
       "      <td>227.699202</td>\n",
       "      <td>0.833502</td>\n",
       "    </tr>\n",
       "    <tr>\n",
       "      <td>Netherlands</td>\n",
       "      <td>16.9</td>\n",
       "      <td>41526</td>\n",
       "      <td>Amsterdam</td>\n",
       "      <td>406.973944</td>\n",
       "      <td>1.489744</td>\n",
       "    </tr>\n",
       "    <tr>\n",
       "      <td>United Kingdom</td>\n",
       "      <td>64.9</td>\n",
       "      <td>244820</td>\n",
       "      <td>Cambridge</td>\n",
       "      <td>265.092721</td>\n",
       "      <td>0.970382</td>\n",
       "    </tr>\n",
       "  </tbody>\n",
       "</table>\n",
       "</div>"
      ],
      "text/plain": [
       "                population    area    capital     density  density_ratio\n",
       "country                                                                 \n",
       "Belgium               11.3   30510       Lyon  370.370370       1.355755\n",
       "France                64.3  671308      Paris   95.783158       0.350618\n",
       "Germany               81.3  357050     Berlin  227.699202       0.833502\n",
       "Netherlands           16.9   41526  Amsterdam  406.973944       1.489744\n",
       "United Kingdom        64.9  244820  Cambridge  265.092721       0.970382"
      ]
     },
     "execution_count": 172,
     "metadata": {},
     "output_type": "execute_result"
    }
   ],
   "source": [
    "countries"
   ]
  },
  {
   "cell_type": "markdown",
   "metadata": {},
   "source": [
    "<div class=\"alert alert-info\">\n",
    "\n",
    "<b>REMEMBER!</b><br><br>\n",
    "\n",
    "What to do when encountering the *value is trying to be set on a copy of a slice from a DataFrame* error?\n",
    "\n",
    " <ul>\n",
    "  <li>Use `loc` instead of chained indexing **if possible**!</li>\n",
    "  <li>Or `copy` explicitly if you don't want to change the original data.</li>\n",
    "</ul>\n",
    "\n",
    "</div>"
   ]
  },
  {
   "cell_type": "markdown",
   "metadata": {},
   "source": [
    "## Pandas: Working with time series data"
   ]
  },
  {
   "cell_type": "markdown",
   "metadata": {},
   "source": [
    "# Introduction: `datetime` module"
   ]
  },
  {
   "cell_type": "markdown",
   "metadata": {},
   "source": [
    "Standard Python contains the `datetime` module to handle with date and time data:"
   ]
  },
  {
   "cell_type": "code",
   "execution_count": 176,
   "metadata": {
    "run_control": {
     "frozen": false,
     "read_only": false
    }
   },
   "outputs": [],
   "source": [
    "import datetime\n"
   ]
  },
  {
   "cell_type": "code",
   "execution_count": 177,
   "metadata": {
    "run_control": {
     "frozen": false,
     "read_only": false
    }
   },
   "outputs": [
    {
     "data": {
      "text/plain": [
       "datetime.datetime(2016, 12, 19, 13, 30)"
      ]
     },
     "execution_count": 177,
     "metadata": {},
     "output_type": "execute_result"
    }
   ],
   "source": [
    "dt = datetime.datetime(year=2016, month=12, day=19, hour=13, minute=30)\n",
    "dt"
   ]
  },
  {
   "cell_type": "code",
   "execution_count": 178,
   "metadata": {
    "run_control": {
     "frozen": false,
     "read_only": false
    }
   },
   "outputs": [
    {
     "name": "stdout",
     "output_type": "stream",
     "text": [
      "2016-12-19 13:30:00\n"
     ]
    }
   ],
   "source": [
    "print(dt) # .day,..."
   ]
  },
  {
   "cell_type": "code",
   "execution_count": 179,
   "metadata": {},
   "outputs": [
    {
     "name": "stdout",
     "output_type": "stream",
     "text": [
      "19 2016 12\n"
     ]
    }
   ],
   "source": [
    "print(dt.day, dt.year, dt.month)"
   ]
  },
  {
   "cell_type": "code",
   "execution_count": 180,
   "metadata": {
    "run_control": {
     "frozen": false,
     "read_only": false
    }
   },
   "outputs": [
    {
     "name": "stdout",
     "output_type": "stream",
     "text": [
      "19 December 2016\n"
     ]
    }
   ],
   "source": [
    "print(dt.strftime(\"%d %B %Y\"))"
   ]
  },
  {
   "cell_type": "markdown",
   "metadata": {},
   "source": [
    "# Dates and times in pandas"
   ]
  },
  {
   "cell_type": "markdown",
   "metadata": {},
   "source": [
    "## The ``Timestamp`` object"
   ]
  },
  {
   "cell_type": "markdown",
   "metadata": {},
   "source": [
    "Pandas has its own date and time objects, which are compatible with the standard `datetime` objects, but provide some more functionality to work with.  \n",
    "\n",
    "The `Timestamp` object can also be constructed from a string:"
   ]
  },
  {
   "cell_type": "code",
   "execution_count": 181,
   "metadata": {
    "run_control": {
     "frozen": false,
     "read_only": false
    }
   },
   "outputs": [
    {
     "data": {
      "text/plain": [
       "Timestamp('2016-12-19 00:00:00')"
      ]
     },
     "execution_count": 181,
     "metadata": {},
     "output_type": "execute_result"
    }
   ],
   "source": [
    "ts = pd.Timestamp('2016-12-19')\n",
    "ts"
   ]
  },
  {
   "cell_type": "markdown",
   "metadata": {},
   "source": [
    "Like with `datetime.datetime` objects, there are several useful attributes available on the `Timestamp`. For example, we can get the month:"
   ]
  },
  {
   "cell_type": "code",
   "execution_count": 184,
   "metadata": {
    "run_control": {
     "frozen": false,
     "read_only": false
    }
   },
   "outputs": [
    {
     "data": {
      "text/plain": [
       "(12, 19, 2016)"
      ]
     },
     "execution_count": 184,
     "metadata": {},
     "output_type": "execute_result"
    }
   ],
   "source": [
    "ts.month, ts.day, ts.year"
   ]
  },
  {
   "cell_type": "code",
   "execution_count": 185,
   "metadata": {},
   "outputs": [
    {
     "data": {
      "text/plain": [
       "Timedelta('5 days 00:00:00')"
      ]
     },
     "execution_count": 185,
     "metadata": {},
     "output_type": "execute_result"
    }
   ],
   "source": [
    "pd.Timedelta('5 days')"
   ]
  },
  {
   "cell_type": "code",
   "execution_count": 186,
   "metadata": {
    "run_control": {
     "frozen": false,
     "read_only": false
    }
   },
   "outputs": [
    {
     "data": {
      "text/plain": [
       "Timestamp('2016-12-24 00:00:00')"
      ]
     },
     "execution_count": 186,
     "metadata": {},
     "output_type": "execute_result"
    }
   ],
   "source": [
    "ts + pd.Timedelta('5 days')"
   ]
  },
  {
   "cell_type": "markdown",
   "metadata": {},
   "source": [
    "### Parsing datetime strings "
   ]
  },
  {
   "cell_type": "markdown",
   "metadata": {},
   "source": [
    "![](http://imgs.xkcd.com/comics/iso_8601.png)\n"
   ]
  },
  {
   "cell_type": "markdown",
   "metadata": {},
   "source": [
    "Unfortunately, when working with real world data, you encounter many different `datetime` formats. Most of the time when you have to deal with them, they come in text format, e.g. from a `CSV` file. To work with those data in Pandas, we first have to *parse* the strings to actual `Timestamp` objects."
   ]
  },
  {
   "cell_type": "markdown",
   "metadata": {},
   "source": [
    "<div class=\"alert alert-info\">\n",
    "<b>REMEMBER</b>: <br><br>\n",
    "\n",
    "from string formatted dates to Timestamp objects: `to_datetime` function\n",
    "</div>\n",
    "\n"
   ]
  },
  {
   "cell_type": "code",
   "execution_count": 187,
   "metadata": {
    "run_control": {
     "frozen": false,
     "read_only": false
    }
   },
   "outputs": [
    {
     "data": {
      "text/plain": [
       "Timestamp('2016-12-09 00:00:00')"
      ]
     },
     "execution_count": 187,
     "metadata": {},
     "output_type": "execute_result"
    }
   ],
   "source": [
    "pd.to_datetime(\"2016-12-09\")"
   ]
  },
  {
   "cell_type": "code",
   "execution_count": 188,
   "metadata": {
    "run_control": {
     "frozen": false,
     "read_only": false
    }
   },
   "outputs": [
    {
     "data": {
      "text/plain": [
       "Timestamp('2016-09-12 00:00:00')"
      ]
     },
     "execution_count": 188,
     "metadata": {},
     "output_type": "execute_result"
    }
   ],
   "source": [
    "pd.to_datetime(\"09/12/2016\")"
   ]
  },
  {
   "cell_type": "code",
   "execution_count": 189,
   "metadata": {
    "run_control": {
     "frozen": false,
     "read_only": false
    }
   },
   "outputs": [
    {
     "data": {
      "text/plain": [
       "Timestamp('2016-12-09 00:00:00')"
      ]
     },
     "execution_count": 189,
     "metadata": {},
     "output_type": "execute_result"
    }
   ],
   "source": [
    "pd.to_datetime(\"09/12/2016\", dayfirst=True)"
   ]
  },
  {
   "cell_type": "code",
   "execution_count": 190,
   "metadata": {
    "run_control": {
     "frozen": false,
     "read_only": false
    }
   },
   "outputs": [
    {
     "data": {
      "text/plain": [
       "Timestamp('2016-12-09 00:00:00')"
      ]
     },
     "execution_count": 190,
     "metadata": {},
     "output_type": "execute_result"
    }
   ],
   "source": [
    "pd.to_datetime(\"09/12/2016\", format=\"%d/%m/%Y\")"
   ]
  },
  {
   "cell_type": "markdown",
   "metadata": {
    "collapsed": true
   },
   "source": [
    "A detailed overview of how to specify the `format` string, see the table in the python documentation: https://docs.python.org/3.5/library/datetime.html#strftime-and-strptime-behavior"
   ]
  },
  {
   "cell_type": "markdown",
   "metadata": {},
   "source": [
    "## `Timestamp` data in a Series or DataFrame column"
   ]
  },
  {
   "cell_type": "code",
   "execution_count": 191,
   "metadata": {
    "run_control": {
     "frozen": false,
     "read_only": false
    }
   },
   "outputs": [],
   "source": [
    "s = pd.Series(['2016-12-09 10:00:00', '2016-12-09, 11:00:00',\n",
    "               '2016-12-09 12:00:00'])"
   ]
  },
  {
   "cell_type": "code",
   "execution_count": 192,
   "metadata": {},
   "outputs": [
    {
     "data": {
      "text/plain": [
       "0     2016-12-09 10:00:00\n",
       "1    2016-12-09, 11:00:00\n",
       "2     2016-12-09 12:00:00\n",
       "dtype: object"
      ]
     },
     "execution_count": 192,
     "metadata": {},
     "output_type": "execute_result"
    }
   ],
   "source": [
    "s"
   ]
  },
  {
   "cell_type": "markdown",
   "metadata": {},
   "source": [
    "The `to_datetime` function can also be used to convert a full series of strings:"
   ]
  },
  {
   "cell_type": "code",
   "execution_count": 193,
   "metadata": {
    "run_control": {
     "frozen": false,
     "read_only": false
    }
   },
   "outputs": [],
   "source": [
    "ts = pd.to_datetime(s)"
   ]
  },
  {
   "cell_type": "code",
   "execution_count": 194,
   "metadata": {
    "run_control": {
     "frozen": false,
     "read_only": false
    }
   },
   "outputs": [
    {
     "data": {
      "text/plain": [
       "0   2016-12-09 10:00:00\n",
       "1   2016-12-09 11:00:00\n",
       "2   2016-12-09 12:00:00\n",
       "dtype: datetime64[ns]"
      ]
     },
     "execution_count": 194,
     "metadata": {},
     "output_type": "execute_result"
    }
   ],
   "source": [
    "ts"
   ]
  },
  {
   "cell_type": "markdown",
   "metadata": {},
   "source": [
    "Notice the data type of this series: the `datetime64[ns]` dtype. This indicates that we have a series of actual datetime values."
   ]
  },
  {
   "cell_type": "markdown",
   "metadata": {},
   "source": [
    "The same attributes as on single `Timestamp`s are also available on a Series with datetime data, using the **`.dt`** accessor:"
   ]
  },
  {
   "cell_type": "code",
   "execution_count": 195,
   "metadata": {
    "run_control": {
     "frozen": false,
     "read_only": false
    },
    "scrolled": true
   },
   "outputs": [
    {
     "data": {
      "text/plain": [
       "0    10\n",
       "1    11\n",
       "2    12\n",
       "dtype: int64"
      ]
     },
     "execution_count": 195,
     "metadata": {},
     "output_type": "execute_result"
    }
   ],
   "source": [
    "ts.dt.hour"
   ]
  },
  {
   "cell_type": "code",
   "execution_count": 196,
   "metadata": {
    "run_control": {
     "frozen": false,
     "read_only": false
    }
   },
   "outputs": [
    {
     "data": {
      "text/plain": [
       "0    4\n",
       "1    4\n",
       "2    4\n",
       "dtype: int64"
      ]
     },
     "execution_count": 196,
     "metadata": {},
     "output_type": "execute_result"
    }
   ],
   "source": [
    "ts.dt.weekday"
   ]
  },
  {
   "cell_type": "markdown",
   "metadata": {},
   "source": [
    "To quickly construct some regular time series data, the [``pd.date_range``](http://pandas.pydata.org/pandas-docs/stable/generated/pandas.date_range.html) function comes in handy:"
   ]
  },
  {
   "cell_type": "code",
   "execution_count": 197,
   "metadata": {
    "run_control": {
     "frozen": false,
     "read_only": false
    }
   },
   "outputs": [
    {
     "data": {
      "text/plain": [
       "0   2016-01-01 00:00:00\n",
       "1   2016-01-01 03:00:00\n",
       "2   2016-01-01 06:00:00\n",
       "3   2016-01-01 09:00:00\n",
       "4   2016-01-01 12:00:00\n",
       "5   2016-01-01 15:00:00\n",
       "6   2016-01-01 18:00:00\n",
       "7   2016-01-01 21:00:00\n",
       "8   2016-01-02 00:00:00\n",
       "9   2016-01-02 03:00:00\n",
       "dtype: datetime64[ns]"
      ]
     },
     "execution_count": 197,
     "metadata": {},
     "output_type": "execute_result"
    }
   ],
   "source": [
    "pd.Series(pd.date_range(start=\"2016-01-01\", periods=10, freq='3H'))"
   ]
  },
  {
   "cell_type": "code",
   "execution_count": 198,
   "metadata": {},
   "outputs": [
    {
     "data": {
      "text/plain": [
       "0   2016-01-01\n",
       "1   2016-01-02\n",
       "2   2016-01-03\n",
       "3   2016-01-04\n",
       "4   2016-01-05\n",
       "5   2016-01-06\n",
       "6   2016-01-07\n",
       "7   2016-01-08\n",
       "8   2016-01-09\n",
       "9   2016-01-10\n",
       "dtype: datetime64[ns]"
      ]
     },
     "execution_count": 198,
     "metadata": {},
     "output_type": "execute_result"
    }
   ],
   "source": [
    "pd.Series(pd.date_range(start=\"2016-01-01\", periods=10, freq='1D'))"
   ]
  },
  {
   "cell_type": "markdown",
   "metadata": {
    "slideshow": {
     "slide_type": "slide"
    }
   },
   "source": [
    "# Time series data: `Timestamp` in the index"
   ]
  },
  {
   "cell_type": "markdown",
   "metadata": {},
   "source": [
    "## River discharge example data"
   ]
  },
  {
   "cell_type": "markdown",
   "metadata": {},
   "source": [
    "For the following demonstration of the time series functionality, we use a sample of discharge data of the Maarkebeek (Flanders) with 3 hour averaged values, derived from the [Waterinfo website](https://www.waterinfo.be/)."
   ]
  },
  {
   "cell_type": "code",
   "execution_count": 199,
   "metadata": {
    "run_control": {
     "frozen": false,
     "read_only": false
    }
   },
   "outputs": [],
   "source": [
    "data = pd.read_csv(\"data/vmm_flowdata.csv\")"
   ]
  },
  {
   "cell_type": "code",
   "execution_count": 200,
   "metadata": {},
   "outputs": [
    {
     "name": "stdout",
     "output_type": "stream",
     "text": [
      "<class 'pandas.core.frame.DataFrame'>\n",
      "RangeIndex: 11697 entries, 0 to 11696\n",
      "Data columns (total 4 columns):\n",
      "Time        11697 non-null object\n",
      "L06_347     11696 non-null float64\n",
      "LS06_347    11425 non-null float64\n",
      "LS06_348    10689 non-null float64\n",
      "dtypes: float64(3), object(1)\n",
      "memory usage: 365.7+ KB\n"
     ]
    }
   ],
   "source": [
    "data.info()"
   ]
  },
  {
   "cell_type": "code",
   "execution_count": 201,
   "metadata": {
    "run_control": {
     "frozen": false,
     "read_only": false
    }
   },
   "outputs": [
    {
     "data": {
      "text/html": [
       "<div>\n",
       "<style scoped>\n",
       "    .dataframe tbody tr th:only-of-type {\n",
       "        vertical-align: middle;\n",
       "    }\n",
       "\n",
       "    .dataframe tbody tr th {\n",
       "        vertical-align: top;\n",
       "    }\n",
       "\n",
       "    .dataframe thead th {\n",
       "        text-align: right;\n",
       "    }\n",
       "</style>\n",
       "<table border=\"1\" class=\"dataframe\">\n",
       "  <thead>\n",
       "    <tr style=\"text-align: right;\">\n",
       "      <th></th>\n",
       "      <th>Time</th>\n",
       "      <th>L06_347</th>\n",
       "      <th>LS06_347</th>\n",
       "      <th>LS06_348</th>\n",
       "    </tr>\n",
       "  </thead>\n",
       "  <tbody>\n",
       "    <tr>\n",
       "      <td>0</td>\n",
       "      <td>2009-01-01 00:00:00</td>\n",
       "      <td>0.137417</td>\n",
       "      <td>0.097500</td>\n",
       "      <td>0.016833</td>\n",
       "    </tr>\n",
       "    <tr>\n",
       "      <td>1</td>\n",
       "      <td>2009-01-01 03:00:00</td>\n",
       "      <td>0.131250</td>\n",
       "      <td>0.088833</td>\n",
       "      <td>0.016417</td>\n",
       "    </tr>\n",
       "    <tr>\n",
       "      <td>2</td>\n",
       "      <td>2009-01-01 06:00:00</td>\n",
       "      <td>0.113500</td>\n",
       "      <td>0.091250</td>\n",
       "      <td>0.016750</td>\n",
       "    </tr>\n",
       "    <tr>\n",
       "      <td>3</td>\n",
       "      <td>2009-01-01 09:00:00</td>\n",
       "      <td>0.135750</td>\n",
       "      <td>0.091500</td>\n",
       "      <td>0.016250</td>\n",
       "    </tr>\n",
       "    <tr>\n",
       "      <td>4</td>\n",
       "      <td>2009-01-01 12:00:00</td>\n",
       "      <td>0.140917</td>\n",
       "      <td>0.096167</td>\n",
       "      <td>0.017000</td>\n",
       "    </tr>\n",
       "  </tbody>\n",
       "</table>\n",
       "</div>"
      ],
      "text/plain": [
       "                  Time   L06_347  LS06_347  LS06_348\n",
       "0  2009-01-01 00:00:00  0.137417  0.097500  0.016833\n",
       "1  2009-01-01 03:00:00  0.131250  0.088833  0.016417\n",
       "2  2009-01-01 06:00:00  0.113500  0.091250  0.016750\n",
       "3  2009-01-01 09:00:00  0.135750  0.091500  0.016250\n",
       "4  2009-01-01 12:00:00  0.140917  0.096167  0.017000"
      ]
     },
     "execution_count": 201,
     "metadata": {},
     "output_type": "execute_result"
    }
   ],
   "source": [
    "data.head()"
   ]
  },
  {
   "cell_type": "markdown",
   "metadata": {},
   "source": [
    "We already know how to parse a date column with Pandas:"
   ]
  },
  {
   "cell_type": "code",
   "execution_count": 202,
   "metadata": {
    "run_control": {
     "frozen": false,
     "read_only": false
    }
   },
   "outputs": [],
   "source": [
    "data['Time'] = pd.to_datetime(data['Time'])"
   ]
  },
  {
   "cell_type": "code",
   "execution_count": 203,
   "metadata": {},
   "outputs": [
    {
     "name": "stdout",
     "output_type": "stream",
     "text": [
      "<class 'pandas.core.frame.DataFrame'>\n",
      "RangeIndex: 11697 entries, 0 to 11696\n",
      "Data columns (total 4 columns):\n",
      "Time        11697 non-null datetime64[ns]\n",
      "L06_347     11696 non-null float64\n",
      "LS06_347    11425 non-null float64\n",
      "LS06_348    10689 non-null float64\n",
      "dtypes: datetime64[ns](1), float64(3)\n",
      "memory usage: 365.7 KB\n"
     ]
    }
   ],
   "source": [
    "data.info()"
   ]
  },
  {
   "cell_type": "markdown",
   "metadata": {},
   "source": [
    "With `set_index('datetime')`, we set the column with datetime values as the index, which can be done by both `Series` and `DataFrame`."
   ]
  },
  {
   "cell_type": "code",
   "execution_count": 204,
   "metadata": {
    "run_control": {
     "frozen": false,
     "read_only": false
    }
   },
   "outputs": [],
   "source": [
    "data = data.set_index(\"Time\")"
   ]
  },
  {
   "cell_type": "code",
   "execution_count": 205,
   "metadata": {
    "run_control": {
     "frozen": false,
     "read_only": false
    }
   },
   "outputs": [
    {
     "data": {
      "text/html": [
       "<div>\n",
       "<style scoped>\n",
       "    .dataframe tbody tr th:only-of-type {\n",
       "        vertical-align: middle;\n",
       "    }\n",
       "\n",
       "    .dataframe tbody tr th {\n",
       "        vertical-align: top;\n",
       "    }\n",
       "\n",
       "    .dataframe thead th {\n",
       "        text-align: right;\n",
       "    }\n",
       "</style>\n",
       "<table border=\"1\" class=\"dataframe\">\n",
       "  <thead>\n",
       "    <tr style=\"text-align: right;\">\n",
       "      <th></th>\n",
       "      <th>L06_347</th>\n",
       "      <th>LS06_347</th>\n",
       "      <th>LS06_348</th>\n",
       "    </tr>\n",
       "    <tr>\n",
       "      <th>Time</th>\n",
       "      <th></th>\n",
       "      <th></th>\n",
       "      <th></th>\n",
       "    </tr>\n",
       "  </thead>\n",
       "  <tbody>\n",
       "    <tr>\n",
       "      <td>2009-01-01 00:00:00</td>\n",
       "      <td>0.137417</td>\n",
       "      <td>0.097500</td>\n",
       "      <td>0.016833</td>\n",
       "    </tr>\n",
       "    <tr>\n",
       "      <td>2009-01-01 03:00:00</td>\n",
       "      <td>0.131250</td>\n",
       "      <td>0.088833</td>\n",
       "      <td>0.016417</td>\n",
       "    </tr>\n",
       "    <tr>\n",
       "      <td>2009-01-01 06:00:00</td>\n",
       "      <td>0.113500</td>\n",
       "      <td>0.091250</td>\n",
       "      <td>0.016750</td>\n",
       "    </tr>\n",
       "    <tr>\n",
       "      <td>2009-01-01 09:00:00</td>\n",
       "      <td>0.135750</td>\n",
       "      <td>0.091500</td>\n",
       "      <td>0.016250</td>\n",
       "    </tr>\n",
       "    <tr>\n",
       "      <td>2009-01-01 12:00:00</td>\n",
       "      <td>0.140917</td>\n",
       "      <td>0.096167</td>\n",
       "      <td>0.017000</td>\n",
       "    </tr>\n",
       "    <tr>\n",
       "      <td>...</td>\n",
       "      <td>...</td>\n",
       "      <td>...</td>\n",
       "      <td>...</td>\n",
       "    </tr>\n",
       "    <tr>\n",
       "      <td>2013-01-01 12:00:00</td>\n",
       "      <td>1.710000</td>\n",
       "      <td>1.710000</td>\n",
       "      <td>0.129583</td>\n",
       "    </tr>\n",
       "    <tr>\n",
       "      <td>2013-01-01 15:00:00</td>\n",
       "      <td>1.420000</td>\n",
       "      <td>1.420000</td>\n",
       "      <td>0.096333</td>\n",
       "    </tr>\n",
       "    <tr>\n",
       "      <td>2013-01-01 18:00:00</td>\n",
       "      <td>1.178583</td>\n",
       "      <td>1.178583</td>\n",
       "      <td>0.083083</td>\n",
       "    </tr>\n",
       "    <tr>\n",
       "      <td>2013-01-01 21:00:00</td>\n",
       "      <td>0.898250</td>\n",
       "      <td>0.898250</td>\n",
       "      <td>0.077167</td>\n",
       "    </tr>\n",
       "    <tr>\n",
       "      <td>2013-01-02 00:00:00</td>\n",
       "      <td>0.860000</td>\n",
       "      <td>0.860000</td>\n",
       "      <td>0.075000</td>\n",
       "    </tr>\n",
       "  </tbody>\n",
       "</table>\n",
       "<p>11697 rows × 3 columns</p>\n",
       "</div>"
      ],
      "text/plain": [
       "                      L06_347  LS06_347  LS06_348\n",
       "Time                                             \n",
       "2009-01-01 00:00:00  0.137417  0.097500  0.016833\n",
       "2009-01-01 03:00:00  0.131250  0.088833  0.016417\n",
       "2009-01-01 06:00:00  0.113500  0.091250  0.016750\n",
       "2009-01-01 09:00:00  0.135750  0.091500  0.016250\n",
       "2009-01-01 12:00:00  0.140917  0.096167  0.017000\n",
       "...                       ...       ...       ...\n",
       "2013-01-01 12:00:00  1.710000  1.710000  0.129583\n",
       "2013-01-01 15:00:00  1.420000  1.420000  0.096333\n",
       "2013-01-01 18:00:00  1.178583  1.178583  0.083083\n",
       "2013-01-01 21:00:00  0.898250  0.898250  0.077167\n",
       "2013-01-02 00:00:00  0.860000  0.860000  0.075000\n",
       "\n",
       "[11697 rows x 3 columns]"
      ]
     },
     "execution_count": 205,
     "metadata": {},
     "output_type": "execute_result"
    }
   ],
   "source": [
    "data"
   ]
  },
  {
   "cell_type": "markdown",
   "metadata": {},
   "source": [
    "The steps above are provided as built-in functionality of `read_csv`:"
   ]
  },
  {
   "cell_type": "code",
   "execution_count": 206,
   "metadata": {
    "run_control": {
     "frozen": false,
     "read_only": false
    }
   },
   "outputs": [],
   "source": [
    "data = pd.read_csv(\"data/vmm_flowdata.csv\", index_col=0, parse_dates=True)"
   ]
  },
  {
   "cell_type": "code",
   "execution_count": 207,
   "metadata": {},
   "outputs": [
    {
     "data": {
      "text/html": [
       "<div>\n",
       "<style scoped>\n",
       "    .dataframe tbody tr th:only-of-type {\n",
       "        vertical-align: middle;\n",
       "    }\n",
       "\n",
       "    .dataframe tbody tr th {\n",
       "        vertical-align: top;\n",
       "    }\n",
       "\n",
       "    .dataframe thead th {\n",
       "        text-align: right;\n",
       "    }\n",
       "</style>\n",
       "<table border=\"1\" class=\"dataframe\">\n",
       "  <thead>\n",
       "    <tr style=\"text-align: right;\">\n",
       "      <th></th>\n",
       "      <th>L06_347</th>\n",
       "      <th>LS06_347</th>\n",
       "      <th>LS06_348</th>\n",
       "    </tr>\n",
       "    <tr>\n",
       "      <th>Time</th>\n",
       "      <th></th>\n",
       "      <th></th>\n",
       "      <th></th>\n",
       "    </tr>\n",
       "  </thead>\n",
       "  <tbody>\n",
       "    <tr>\n",
       "      <td>2009-01-01 00:00:00</td>\n",
       "      <td>0.137417</td>\n",
       "      <td>0.097500</td>\n",
       "      <td>0.016833</td>\n",
       "    </tr>\n",
       "    <tr>\n",
       "      <td>2009-01-01 03:00:00</td>\n",
       "      <td>0.131250</td>\n",
       "      <td>0.088833</td>\n",
       "      <td>0.016417</td>\n",
       "    </tr>\n",
       "    <tr>\n",
       "      <td>2009-01-01 06:00:00</td>\n",
       "      <td>0.113500</td>\n",
       "      <td>0.091250</td>\n",
       "      <td>0.016750</td>\n",
       "    </tr>\n",
       "    <tr>\n",
       "      <td>2009-01-01 09:00:00</td>\n",
       "      <td>0.135750</td>\n",
       "      <td>0.091500</td>\n",
       "      <td>0.016250</td>\n",
       "    </tr>\n",
       "    <tr>\n",
       "      <td>2009-01-01 12:00:00</td>\n",
       "      <td>0.140917</td>\n",
       "      <td>0.096167</td>\n",
       "      <td>0.017000</td>\n",
       "    </tr>\n",
       "  </tbody>\n",
       "</table>\n",
       "</div>"
      ],
      "text/plain": [
       "                      L06_347  LS06_347  LS06_348\n",
       "Time                                             \n",
       "2009-01-01 00:00:00  0.137417  0.097500  0.016833\n",
       "2009-01-01 03:00:00  0.131250  0.088833  0.016417\n",
       "2009-01-01 06:00:00  0.113500  0.091250  0.016750\n",
       "2009-01-01 09:00:00  0.135750  0.091500  0.016250\n",
       "2009-01-01 12:00:00  0.140917  0.096167  0.017000"
      ]
     },
     "execution_count": 207,
     "metadata": {},
     "output_type": "execute_result"
    }
   ],
   "source": [
    "data.head()"
   ]
  },
  {
   "cell_type": "markdown",
   "metadata": {},
   "source": [
    "<div class=\"alert alert-info\">\n",
    "<b>REMEMBER</b>: <br><br>\n",
    "\n",
    "`pd.read_csv` provides a lot of built-in functionality to support this kind of transactions when reading in a file! Check the help of the read_csv function...\n",
    "</div>"
   ]
  },
  {
   "cell_type": "markdown",
   "metadata": {},
   "source": [
    "## The DatetimeIndex"
   ]
  },
  {
   "cell_type": "markdown",
   "metadata": {
    "slideshow": {
     "slide_type": "fragment"
    }
   },
   "source": [
    "When we ensure the DataFrame has a `DatetimeIndex`, time-series related functionality becomes available:"
   ]
  },
  {
   "cell_type": "code",
   "execution_count": 208,
   "metadata": {
    "run_control": {
     "frozen": false,
     "read_only": false
    },
    "scrolled": true
   },
   "outputs": [
    {
     "data": {
      "text/plain": [
       "DatetimeIndex(['2009-01-01 00:00:00', '2009-01-01 03:00:00',\n",
       "               '2009-01-01 06:00:00', '2009-01-01 09:00:00',\n",
       "               '2009-01-01 12:00:00', '2009-01-01 15:00:00',\n",
       "               '2009-01-01 18:00:00', '2009-01-01 21:00:00',\n",
       "               '2009-01-02 00:00:00', '2009-01-02 03:00:00',\n",
       "               ...\n",
       "               '2012-12-31 21:00:00', '2013-01-01 00:00:00',\n",
       "               '2013-01-01 03:00:00', '2013-01-01 06:00:00',\n",
       "               '2013-01-01 09:00:00', '2013-01-01 12:00:00',\n",
       "               '2013-01-01 15:00:00', '2013-01-01 18:00:00',\n",
       "               '2013-01-01 21:00:00', '2013-01-02 00:00:00'],\n",
       "              dtype='datetime64[ns]', name='Time', length=11697, freq=None)"
      ]
     },
     "execution_count": 208,
     "metadata": {},
     "output_type": "execute_result"
    }
   ],
   "source": [
    "data.index"
   ]
  },
  {
   "cell_type": "markdown",
   "metadata": {},
   "source": [
    "Similar to a Series with datetime data, there are some attributes of the timestamp values available:"
   ]
  },
  {
   "cell_type": "code",
   "execution_count": 209,
   "metadata": {
    "run_control": {
     "frozen": false,
     "read_only": false
    }
   },
   "outputs": [
    {
     "data": {
      "text/plain": [
       "Int64Index([ 1,  1,  1,  1,  1,  1,  1,  1,  2,  2,\n",
       "            ...\n",
       "            31,  1,  1,  1,  1,  1,  1,  1,  1,  2],\n",
       "           dtype='int64', name='Time', length=11697)"
      ]
     },
     "execution_count": 209,
     "metadata": {},
     "output_type": "execute_result"
    }
   ],
   "source": [
    "data.index.day"
   ]
  },
  {
   "cell_type": "code",
   "execution_count": 210,
   "metadata": {
    "run_control": {
     "frozen": false,
     "read_only": false
    }
   },
   "outputs": [
    {
     "data": {
      "text/plain": [
       "Int64Index([  1,   1,   1,   1,   1,   1,   1,   1,   2,   2,\n",
       "            ...\n",
       "            366,   1,   1,   1,   1,   1,   1,   1,   1,   2],\n",
       "           dtype='int64', name='Time', length=11697)"
      ]
     },
     "execution_count": 210,
     "metadata": {},
     "output_type": "execute_result"
    }
   ],
   "source": [
    "data.index.dayofyear"
   ]
  },
  {
   "cell_type": "code",
   "execution_count": 211,
   "metadata": {
    "run_control": {
     "frozen": false,
     "read_only": false
    }
   },
   "outputs": [
    {
     "data": {
      "text/plain": [
       "Int64Index([2009, 2009, 2009, 2009, 2009, 2009, 2009, 2009, 2009, 2009,\n",
       "            ...\n",
       "            2012, 2013, 2013, 2013, 2013, 2013, 2013, 2013, 2013, 2013],\n",
       "           dtype='int64', name='Time', length=11697)"
      ]
     },
     "execution_count": 211,
     "metadata": {},
     "output_type": "execute_result"
    }
   ],
   "source": [
    "data.index.year"
   ]
  },
  {
   "cell_type": "markdown",
   "metadata": {},
   "source": [
    "The `plot` method will also adapt it's labels (when you zoom in, you can see the different levels of detail of the datetime labels):\n"
   ]
  },
  {
   "cell_type": "code",
   "execution_count": 212,
   "metadata": {
    "run_control": {
     "frozen": false,
     "read_only": false
    },
    "slideshow": {
     "slide_type": "subslide"
    }
   },
   "outputs": [
    {
     "data": {
      "text/plain": [
       "<matplotlib.axes._subplots.AxesSubplot at 0x119dd5890>"
      ]
     },
     "execution_count": 212,
     "metadata": {},
     "output_type": "execute_result"
    },
    {
     "data": {
      "image/png": "[encoded data removed]",
      "text/plain": [
       "<Figure size 432x288 with 1 Axes>"
      ]
     },
     "metadata": {
      "needs_background": "light"
     },
     "output_type": "display_data"
    }
   ],
   "source": [
    "data.plot()"
   ]
  },
  {
   "cell_type": "markdown",
   "metadata": {},
   "source": [
    "We have to much data to sensibly plot on one figure. Let's see how we can easily select part of the data or aggregate the data to other time resolutions in the next sections."
   ]
  },
  {
   "cell_type": "markdown",
   "metadata": {},
   "source": [
    "## Selecting data from a time series"
   ]
  },
  {
   "cell_type": "markdown",
   "metadata": {},
   "source": [
    "We can use label based indexing on a timeseries as expected:"
   ]
  },
  {
   "cell_type": "code",
   "execution_count": 213,
   "metadata": {
    "run_control": {
     "frozen": false,
     "read_only": false
    }
   },
   "outputs": [
    {
     "data": {
      "text/html": [
       "<div>\n",
       "<style scoped>\n",
       "    .dataframe tbody tr th:only-of-type {\n",
       "        vertical-align: middle;\n",
       "    }\n",
       "\n",
       "    .dataframe tbody tr th {\n",
       "        vertical-align: top;\n",
       "    }\n",
       "\n",
       "    .dataframe thead th {\n",
       "        text-align: right;\n",
       "    }\n",
       "</style>\n",
       "<table border=\"1\" class=\"dataframe\">\n",
       "  <thead>\n",
       "    <tr style=\"text-align: right;\">\n",
       "      <th></th>\n",
       "      <th>L06_347</th>\n",
       "      <th>LS06_347</th>\n",
       "      <th>LS06_348</th>\n",
       "    </tr>\n",
       "    <tr>\n",
       "      <th>Time</th>\n",
       "      <th></th>\n",
       "      <th></th>\n",
       "      <th></th>\n",
       "    </tr>\n",
       "  </thead>\n",
       "  <tbody>\n",
       "    <tr>\n",
       "      <td>2012-01-01 09:00:00</td>\n",
       "      <td>0.330750</td>\n",
       "      <td>0.293583</td>\n",
       "      <td>0.029750</td>\n",
       "    </tr>\n",
       "    <tr>\n",
       "      <td>2012-01-01 12:00:00</td>\n",
       "      <td>0.295000</td>\n",
       "      <td>0.285167</td>\n",
       "      <td>0.031750</td>\n",
       "    </tr>\n",
       "    <tr>\n",
       "      <td>2012-01-01 15:00:00</td>\n",
       "      <td>0.301417</td>\n",
       "      <td>0.287750</td>\n",
       "      <td>0.031417</td>\n",
       "    </tr>\n",
       "    <tr>\n",
       "      <td>2012-01-01 18:00:00</td>\n",
       "      <td>0.322083</td>\n",
       "      <td>0.304167</td>\n",
       "      <td>0.038083</td>\n",
       "    </tr>\n",
       "  </tbody>\n",
       "</table>\n",
       "</div>"
      ],
      "text/plain": [
       "                      L06_347  LS06_347  LS06_348\n",
       "Time                                             \n",
       "2012-01-01 09:00:00  0.330750  0.293583  0.029750\n",
       "2012-01-01 12:00:00  0.295000  0.285167  0.031750\n",
       "2012-01-01 15:00:00  0.301417  0.287750  0.031417\n",
       "2012-01-01 18:00:00  0.322083  0.304167  0.038083"
      ]
     },
     "execution_count": 213,
     "metadata": {},
     "output_type": "execute_result"
    }
   ],
   "source": [
    "data[pd.Timestamp(\"2012-01-01 09:00\"):pd.Timestamp(\"2012-01-01 19:00\")]"
   ]
  },
  {
   "cell_type": "markdown",
   "metadata": {
    "slideshow": {
     "slide_type": "subslide"
    }
   },
   "source": [
    "But, for convenience, indexing a time series also works with strings:"
   ]
  },
  {
   "cell_type": "code",
   "execution_count": 214,
   "metadata": {
    "run_control": {
     "frozen": false,
     "read_only": false
    }
   },
   "outputs": [
    {
     "data": {
      "text/html": [
       "<div>\n",
       "<style scoped>\n",
       "    .dataframe tbody tr th:only-of-type {\n",
       "        vertical-align: middle;\n",
       "    }\n",
       "\n",
       "    .dataframe tbody tr th {\n",
       "        vertical-align: top;\n",
       "    }\n",
       "\n",
       "    .dataframe thead th {\n",
       "        text-align: right;\n",
       "    }\n",
       "</style>\n",
       "<table border=\"1\" class=\"dataframe\">\n",
       "  <thead>\n",
       "    <tr style=\"text-align: right;\">\n",
       "      <th></th>\n",
       "      <th>L06_347</th>\n",
       "      <th>LS06_347</th>\n",
       "      <th>LS06_348</th>\n",
       "    </tr>\n",
       "    <tr>\n",
       "      <th>Time</th>\n",
       "      <th></th>\n",
       "      <th></th>\n",
       "      <th></th>\n",
       "    </tr>\n",
       "  </thead>\n",
       "  <tbody>\n",
       "    <tr>\n",
       "      <td>2012-01-01 09:00:00</td>\n",
       "      <td>0.330750</td>\n",
       "      <td>0.293583</td>\n",
       "      <td>0.029750</td>\n",
       "    </tr>\n",
       "    <tr>\n",
       "      <td>2012-01-01 12:00:00</td>\n",
       "      <td>0.295000</td>\n",
       "      <td>0.285167</td>\n",
       "      <td>0.031750</td>\n",
       "    </tr>\n",
       "    <tr>\n",
       "      <td>2012-01-01 15:00:00</td>\n",
       "      <td>0.301417</td>\n",
       "      <td>0.287750</td>\n",
       "      <td>0.031417</td>\n",
       "    </tr>\n",
       "    <tr>\n",
       "      <td>2012-01-01 18:00:00</td>\n",
       "      <td>0.322083</td>\n",
       "      <td>0.304167</td>\n",
       "      <td>0.038083</td>\n",
       "    </tr>\n",
       "  </tbody>\n",
       "</table>\n",
       "</div>"
      ],
      "text/plain": [
       "                      L06_347  LS06_347  LS06_348\n",
       "Time                                             \n",
       "2012-01-01 09:00:00  0.330750  0.293583  0.029750\n",
       "2012-01-01 12:00:00  0.295000  0.285167  0.031750\n",
       "2012-01-01 15:00:00  0.301417  0.287750  0.031417\n",
       "2012-01-01 18:00:00  0.322083  0.304167  0.038083"
      ]
     },
     "execution_count": 214,
     "metadata": {},
     "output_type": "execute_result"
    }
   ],
   "source": [
    "data[\"2012-01-01 09:00\":\"2012-01-01 19:00\"]"
   ]
  },
  {
   "cell_type": "markdown",
   "metadata": {
    "slideshow": {
     "slide_type": "subslide"
    }
   },
   "source": [
    "A nice feature is **\"partial string\" indexing**, where we can do implicit slicing by providing a partial datetime string.\n",
    "\n",
    "E.g. all data of 2013:"
   ]
  },
  {
   "cell_type": "code",
   "execution_count": 215,
   "metadata": {
    "run_control": {
     "frozen": false,
     "read_only": false
    },
    "scrolled": true
   },
   "outputs": [
    {
     "data": {
      "text/html": [
       "<div>\n",
       "<style scoped>\n",
       "    .dataframe tbody tr th:only-of-type {\n",
       "        vertical-align: middle;\n",
       "    }\n",
       "\n",
       "    .dataframe tbody tr th {\n",
       "        vertical-align: top;\n",
       "    }\n",
       "\n",
       "    .dataframe thead th {\n",
       "        text-align: right;\n",
       "    }\n",
       "</style>\n",
       "<table border=\"1\" class=\"dataframe\">\n",
       "  <thead>\n",
       "    <tr style=\"text-align: right;\">\n",
       "      <th></th>\n",
       "      <th>L06_347</th>\n",
       "      <th>LS06_347</th>\n",
       "      <th>LS06_348</th>\n",
       "    </tr>\n",
       "    <tr>\n",
       "      <th>Time</th>\n",
       "      <th></th>\n",
       "      <th></th>\n",
       "      <th></th>\n",
       "    </tr>\n",
       "  </thead>\n",
       "  <tbody>\n",
       "    <tr>\n",
       "      <td>2013-01-01 00:00:00</td>\n",
       "      <td>1.688333</td>\n",
       "      <td>1.688333</td>\n",
       "      <td>0.207333</td>\n",
       "    </tr>\n",
       "    <tr>\n",
       "      <td>2013-01-01 03:00:00</td>\n",
       "      <td>2.693333</td>\n",
       "      <td>2.693333</td>\n",
       "      <td>0.201500</td>\n",
       "    </tr>\n",
       "    <tr>\n",
       "      <td>2013-01-01 06:00:00</td>\n",
       "      <td>2.220833</td>\n",
       "      <td>2.220833</td>\n",
       "      <td>0.166917</td>\n",
       "    </tr>\n",
       "    <tr>\n",
       "      <td>2013-01-01 09:00:00</td>\n",
       "      <td>2.055000</td>\n",
       "      <td>2.055000</td>\n",
       "      <td>0.175667</td>\n",
       "    </tr>\n",
       "    <tr>\n",
       "      <td>2013-01-01 12:00:00</td>\n",
       "      <td>1.710000</td>\n",
       "      <td>1.710000</td>\n",
       "      <td>0.129583</td>\n",
       "    </tr>\n",
       "    <tr>\n",
       "      <td>2013-01-01 15:00:00</td>\n",
       "      <td>1.420000</td>\n",
       "      <td>1.420000</td>\n",
       "      <td>0.096333</td>\n",
       "    </tr>\n",
       "    <tr>\n",
       "      <td>2013-01-01 18:00:00</td>\n",
       "      <td>1.178583</td>\n",
       "      <td>1.178583</td>\n",
       "      <td>0.083083</td>\n",
       "    </tr>\n",
       "    <tr>\n",
       "      <td>2013-01-01 21:00:00</td>\n",
       "      <td>0.898250</td>\n",
       "      <td>0.898250</td>\n",
       "      <td>0.077167</td>\n",
       "    </tr>\n",
       "    <tr>\n",
       "      <td>2013-01-02 00:00:00</td>\n",
       "      <td>0.860000</td>\n",
       "      <td>0.860000</td>\n",
       "      <td>0.075000</td>\n",
       "    </tr>\n",
       "  </tbody>\n",
       "</table>\n",
       "</div>"
      ],
      "text/plain": [
       "                      L06_347  LS06_347  LS06_348\n",
       "Time                                             \n",
       "2013-01-01 00:00:00  1.688333  1.688333  0.207333\n",
       "2013-01-01 03:00:00  2.693333  2.693333  0.201500\n",
       "2013-01-01 06:00:00  2.220833  2.220833  0.166917\n",
       "2013-01-01 09:00:00  2.055000  2.055000  0.175667\n",
       "2013-01-01 12:00:00  1.710000  1.710000  0.129583\n",
       "2013-01-01 15:00:00  1.420000  1.420000  0.096333\n",
       "2013-01-01 18:00:00  1.178583  1.178583  0.083083\n",
       "2013-01-01 21:00:00  0.898250  0.898250  0.077167\n",
       "2013-01-02 00:00:00  0.860000  0.860000  0.075000"
      ]
     },
     "execution_count": 215,
     "metadata": {},
     "output_type": "execute_result"
    }
   ],
   "source": [
    "data['2013']"
   ]
  },
  {
   "cell_type": "markdown",
   "metadata": {},
   "source": [
    "Normally you would expect this to access a column named '2013', but as for a DatetimeIndex, pandas also tries to interprete it as a datetime slice."
   ]
  },
  {
   "cell_type": "markdown",
   "metadata": {
    "slideshow": {
     "slide_type": "-"
    }
   },
   "source": [
    "Or all data of January up to March 2012:"
   ]
  },
  {
   "cell_type": "code",
   "execution_count": 216,
   "metadata": {
    "run_control": {
     "frozen": false,
     "read_only": false
    }
   },
   "outputs": [
    {
     "data": {
      "text/html": [
       "<div>\n",
       "<style scoped>\n",
       "    .dataframe tbody tr th:only-of-type {\n",
       "        vertical-align: middle;\n",
       "    }\n",
       "\n",
       "    .dataframe tbody tr th {\n",
       "        vertical-align: top;\n",
       "    }\n",
       "\n",
       "    .dataframe thead th {\n",
       "        text-align: right;\n",
       "    }\n",
       "</style>\n",
       "<table border=\"1\" class=\"dataframe\">\n",
       "  <thead>\n",
       "    <tr style=\"text-align: right;\">\n",
       "      <th></th>\n",
       "      <th>L06_347</th>\n",
       "      <th>LS06_347</th>\n",
       "      <th>LS06_348</th>\n",
       "    </tr>\n",
       "    <tr>\n",
       "      <th>Time</th>\n",
       "      <th></th>\n",
       "      <th></th>\n",
       "      <th></th>\n",
       "    </tr>\n",
       "  </thead>\n",
       "  <tbody>\n",
       "    <tr>\n",
       "      <td>2012-01-01 00:00:00</td>\n",
       "      <td>0.307167</td>\n",
       "      <td>0.273917</td>\n",
       "      <td>0.028000</td>\n",
       "    </tr>\n",
       "    <tr>\n",
       "      <td>2012-01-01 03:00:00</td>\n",
       "      <td>0.302917</td>\n",
       "      <td>0.270833</td>\n",
       "      <td>0.030583</td>\n",
       "    </tr>\n",
       "    <tr>\n",
       "      <td>2012-01-01 06:00:00</td>\n",
       "      <td>0.331500</td>\n",
       "      <td>0.284750</td>\n",
       "      <td>0.030917</td>\n",
       "    </tr>\n",
       "    <tr>\n",
       "      <td>2012-01-01 09:00:00</td>\n",
       "      <td>0.330750</td>\n",
       "      <td>0.293583</td>\n",
       "      <td>0.029750</td>\n",
       "    </tr>\n",
       "    <tr>\n",
       "      <td>2012-01-01 12:00:00</td>\n",
       "      <td>0.295000</td>\n",
       "      <td>0.285167</td>\n",
       "      <td>0.031750</td>\n",
       "    </tr>\n",
       "    <tr>\n",
       "      <td>...</td>\n",
       "      <td>...</td>\n",
       "      <td>...</td>\n",
       "      <td>...</td>\n",
       "    </tr>\n",
       "    <tr>\n",
       "      <td>2012-03-31 09:00:00</td>\n",
       "      <td>0.104917</td>\n",
       "      <td>0.125000</td>\n",
       "      <td>0.012417</td>\n",
       "    </tr>\n",
       "    <tr>\n",
       "      <td>2012-03-31 12:00:00</td>\n",
       "      <td>0.098333</td>\n",
       "      <td>0.124417</td>\n",
       "      <td>0.011833</td>\n",
       "    </tr>\n",
       "    <tr>\n",
       "      <td>2012-03-31 15:00:00</td>\n",
       "      <td>0.091917</td>\n",
       "      <td>0.123917</td>\n",
       "      <td>0.011500</td>\n",
       "    </tr>\n",
       "    <tr>\n",
       "      <td>2012-03-31 18:00:00</td>\n",
       "      <td>0.085750</td>\n",
       "      <td>0.121417</td>\n",
       "      <td>0.011000</td>\n",
       "    </tr>\n",
       "    <tr>\n",
       "      <td>2012-03-31 21:00:00</td>\n",
       "      <td>0.068417</td>\n",
       "      <td>0.119750</td>\n",
       "      <td>0.010417</td>\n",
       "    </tr>\n",
       "  </tbody>\n",
       "</table>\n",
       "<p>728 rows × 3 columns</p>\n",
       "</div>"
      ],
      "text/plain": [
       "                      L06_347  LS06_347  LS06_348\n",
       "Time                                             \n",
       "2012-01-01 00:00:00  0.307167  0.273917  0.028000\n",
       "2012-01-01 03:00:00  0.302917  0.270833  0.030583\n",
       "2012-01-01 06:00:00  0.331500  0.284750  0.030917\n",
       "2012-01-01 09:00:00  0.330750  0.293583  0.029750\n",
       "2012-01-01 12:00:00  0.295000  0.285167  0.031750\n",
       "...                       ...       ...       ...\n",
       "2012-03-31 09:00:00  0.104917  0.125000  0.012417\n",
       "2012-03-31 12:00:00  0.098333  0.124417  0.011833\n",
       "2012-03-31 15:00:00  0.091917  0.123917  0.011500\n",
       "2012-03-31 18:00:00  0.085750  0.121417  0.011000\n",
       "2012-03-31 21:00:00  0.068417  0.119750  0.010417\n",
       "\n",
       "[728 rows x 3 columns]"
      ]
     },
     "execution_count": 216,
     "metadata": {},
     "output_type": "execute_result"
    }
   ],
   "source": [
    "data['2012-01':'2012-03']"
   ]
  },
  {
   "cell_type": "markdown",
   "metadata": {},
   "source": [
    "<div class=\"alert alert-success\">\n",
    "\n",
    "<b>EXERCISE</b>:\n",
    "\n",
    " <ul>\n",
    "  <li>select all data starting from 2012</li>\n",
    "</ul>\n",
    "</div>"
   ]
  },
  {
   "cell_type": "code",
   "execution_count": 217,
   "metadata": {},
   "outputs": [
    {
     "data": {
      "text/html": [
       "<div>\n",
       "<style scoped>\n",
       "    .dataframe tbody tr th:only-of-type {\n",
       "        vertical-align: middle;\n",
       "    }\n",
       "\n",
       "    .dataframe tbody tr th {\n",
       "        vertical-align: top;\n",
       "    }\n",
       "\n",
       "    .dataframe thead th {\n",
       "        text-align: right;\n",
       "    }\n",
       "</style>\n",
       "<table border=\"1\" class=\"dataframe\">\n",
       "  <thead>\n",
       "    <tr style=\"text-align: right;\">\n",
       "      <th></th>\n",
       "      <th>L06_347</th>\n",
       "      <th>LS06_347</th>\n",
       "      <th>LS06_348</th>\n",
       "    </tr>\n",
       "    <tr>\n",
       "      <th>Time</th>\n",
       "      <th></th>\n",
       "      <th></th>\n",
       "      <th></th>\n",
       "    </tr>\n",
       "  </thead>\n",
       "  <tbody>\n",
       "    <tr>\n",
       "      <td>2012-01-01 00:00:00</td>\n",
       "      <td>0.307167</td>\n",
       "      <td>0.273917</td>\n",
       "      <td>0.028000</td>\n",
       "    </tr>\n",
       "    <tr>\n",
       "      <td>2012-01-01 03:00:00</td>\n",
       "      <td>0.302917</td>\n",
       "      <td>0.270833</td>\n",
       "      <td>0.030583</td>\n",
       "    </tr>\n",
       "    <tr>\n",
       "      <td>2012-01-01 06:00:00</td>\n",
       "      <td>0.331500</td>\n",
       "      <td>0.284750</td>\n",
       "      <td>0.030917</td>\n",
       "    </tr>\n",
       "    <tr>\n",
       "      <td>2012-01-01 09:00:00</td>\n",
       "      <td>0.330750</td>\n",
       "      <td>0.293583</td>\n",
       "      <td>0.029750</td>\n",
       "    </tr>\n",
       "    <tr>\n",
       "      <td>2012-01-01 12:00:00</td>\n",
       "      <td>0.295000</td>\n",
       "      <td>0.285167</td>\n",
       "      <td>0.031750</td>\n",
       "    </tr>\n",
       "    <tr>\n",
       "      <td>...</td>\n",
       "      <td>...</td>\n",
       "      <td>...</td>\n",
       "      <td>...</td>\n",
       "    </tr>\n",
       "    <tr>\n",
       "      <td>2013-01-01 12:00:00</td>\n",
       "      <td>1.710000</td>\n",
       "      <td>1.710000</td>\n",
       "      <td>0.129583</td>\n",
       "    </tr>\n",
       "    <tr>\n",
       "      <td>2013-01-01 15:00:00</td>\n",
       "      <td>1.420000</td>\n",
       "      <td>1.420000</td>\n",
       "      <td>0.096333</td>\n",
       "    </tr>\n",
       "    <tr>\n",
       "      <td>2013-01-01 18:00:00</td>\n",
       "      <td>1.178583</td>\n",
       "      <td>1.178583</td>\n",
       "      <td>0.083083</td>\n",
       "    </tr>\n",
       "    <tr>\n",
       "      <td>2013-01-01 21:00:00</td>\n",
       "      <td>0.898250</td>\n",
       "      <td>0.898250</td>\n",
       "      <td>0.077167</td>\n",
       "    </tr>\n",
       "    <tr>\n",
       "      <td>2013-01-02 00:00:00</td>\n",
       "      <td>0.860000</td>\n",
       "      <td>0.860000</td>\n",
       "      <td>0.075000</td>\n",
       "    </tr>\n",
       "  </tbody>\n",
       "</table>\n",
       "<p>2937 rows × 3 columns</p>\n",
       "</div>"
      ],
      "text/plain": [
       "                      L06_347  LS06_347  LS06_348\n",
       "Time                                             \n",
       "2012-01-01 00:00:00  0.307167  0.273917  0.028000\n",
       "2012-01-01 03:00:00  0.302917  0.270833  0.030583\n",
       "2012-01-01 06:00:00  0.331500  0.284750  0.030917\n",
       "2012-01-01 09:00:00  0.330750  0.293583  0.029750\n",
       "2012-01-01 12:00:00  0.295000  0.285167  0.031750\n",
       "...                       ...       ...       ...\n",
       "2013-01-01 12:00:00  1.710000  1.710000  0.129583\n",
       "2013-01-01 15:00:00  1.420000  1.420000  0.096333\n",
       "2013-01-01 18:00:00  1.178583  1.178583  0.083083\n",
       "2013-01-01 21:00:00  0.898250  0.898250  0.077167\n",
       "2013-01-02 00:00:00  0.860000  0.860000  0.075000\n",
       "\n",
       "[2937 rows x 3 columns]"
      ]
     },
     "execution_count": 217,
     "metadata": {},
     "output_type": "execute_result"
    }
   ],
   "source": [
    "data['2012':]"
   ]
  },
  {
   "cell_type": "markdown",
   "metadata": {},
   "source": [
    "<div class=\"alert alert-success\">\n",
    "\n",
    "<b>EXERCISE</b>:\n",
    "\n",
    " <ul>\n",
    "  <li>select all data in January for all different years</li>\n",
    "</ul>\n",
    "</div>"
   ]
  },
  {
   "cell_type": "code",
   "execution_count": 220,
   "metadata": {
    "clear_cell": true,
    "run_control": {
     "frozen": false,
     "read_only": false
    }
   },
   "outputs": [
    {
     "data": {
      "text/html": [
       "<div>\n",
       "<style scoped>\n",
       "    .dataframe tbody tr th:only-of-type {\n",
       "        vertical-align: middle;\n",
       "    }\n",
       "\n",
       "    .dataframe tbody tr th {\n",
       "        vertical-align: top;\n",
       "    }\n",
       "\n",
       "    .dataframe thead th {\n",
       "        text-align: right;\n",
       "    }\n",
       "</style>\n",
       "<table border=\"1\" class=\"dataframe\">\n",
       "  <thead>\n",
       "    <tr style=\"text-align: right;\">\n",
       "      <th></th>\n",
       "      <th>L06_347</th>\n",
       "      <th>LS06_347</th>\n",
       "      <th>LS06_348</th>\n",
       "    </tr>\n",
       "    <tr>\n",
       "      <th>Time</th>\n",
       "      <th></th>\n",
       "      <th></th>\n",
       "      <th></th>\n",
       "    </tr>\n",
       "  </thead>\n",
       "  <tbody>\n",
       "    <tr>\n",
       "      <td>2009-01-01 00:00:00</td>\n",
       "      <td>0.137417</td>\n",
       "      <td>0.097500</td>\n",
       "      <td>0.016833</td>\n",
       "    </tr>\n",
       "    <tr>\n",
       "      <td>2009-01-01 03:00:00</td>\n",
       "      <td>0.131250</td>\n",
       "      <td>0.088833</td>\n",
       "      <td>0.016417</td>\n",
       "    </tr>\n",
       "    <tr>\n",
       "      <td>2009-01-01 06:00:00</td>\n",
       "      <td>0.113500</td>\n",
       "      <td>0.091250</td>\n",
       "      <td>0.016750</td>\n",
       "    </tr>\n",
       "    <tr>\n",
       "      <td>2009-01-01 09:00:00</td>\n",
       "      <td>0.135750</td>\n",
       "      <td>0.091500</td>\n",
       "      <td>0.016250</td>\n",
       "    </tr>\n",
       "    <tr>\n",
       "      <td>2009-01-01 12:00:00</td>\n",
       "      <td>0.140917</td>\n",
       "      <td>0.096167</td>\n",
       "      <td>0.017000</td>\n",
       "    </tr>\n",
       "    <tr>\n",
       "      <td>...</td>\n",
       "      <td>...</td>\n",
       "      <td>...</td>\n",
       "      <td>...</td>\n",
       "    </tr>\n",
       "    <tr>\n",
       "      <td>2013-01-01 12:00:00</td>\n",
       "      <td>1.710000</td>\n",
       "      <td>1.710000</td>\n",
       "      <td>0.129583</td>\n",
       "    </tr>\n",
       "    <tr>\n",
       "      <td>2013-01-01 15:00:00</td>\n",
       "      <td>1.420000</td>\n",
       "      <td>1.420000</td>\n",
       "      <td>0.096333</td>\n",
       "    </tr>\n",
       "    <tr>\n",
       "      <td>2013-01-01 18:00:00</td>\n",
       "      <td>1.178583</td>\n",
       "      <td>1.178583</td>\n",
       "      <td>0.083083</td>\n",
       "    </tr>\n",
       "    <tr>\n",
       "      <td>2013-01-01 21:00:00</td>\n",
       "      <td>0.898250</td>\n",
       "      <td>0.898250</td>\n",
       "      <td>0.077167</td>\n",
       "    </tr>\n",
       "    <tr>\n",
       "      <td>2013-01-02 00:00:00</td>\n",
       "      <td>0.860000</td>\n",
       "      <td>0.860000</td>\n",
       "      <td>0.075000</td>\n",
       "    </tr>\n",
       "  </tbody>\n",
       "</table>\n",
       "<p>1001 rows × 3 columns</p>\n",
       "</div>"
      ],
      "text/plain": [
       "                      L06_347  LS06_347  LS06_348\n",
       "Time                                             \n",
       "2009-01-01 00:00:00  0.137417  0.097500  0.016833\n",
       "2009-01-01 03:00:00  0.131250  0.088833  0.016417\n",
       "2009-01-01 06:00:00  0.113500  0.091250  0.016750\n",
       "2009-01-01 09:00:00  0.135750  0.091500  0.016250\n",
       "2009-01-01 12:00:00  0.140917  0.096167  0.017000\n",
       "...                       ...       ...       ...\n",
       "2013-01-01 12:00:00  1.710000  1.710000  0.129583\n",
       "2013-01-01 15:00:00  1.420000  1.420000  0.096333\n",
       "2013-01-01 18:00:00  1.178583  1.178583  0.083083\n",
       "2013-01-01 21:00:00  0.898250  0.898250  0.077167\n",
       "2013-01-02 00:00:00  0.860000  0.860000  0.075000\n",
       "\n",
       "[1001 rows x 3 columns]"
      ]
     },
     "execution_count": 220,
     "metadata": {},
     "output_type": "execute_result"
    }
   ],
   "source": [
    "data[data.index.month==1]"
   ]
  },
  {
   "cell_type": "markdown",
   "metadata": {},
   "source": [
    "<div class=\"alert alert-success\">\n",
    "\n",
    "<b>EXERCISE</b>:\n",
    "\n",
    " <ul>\n",
    "  <li>select all data in January, February and March for all different years</li>\n",
    "</ul>\n",
    "</div>"
   ]
  },
  {
   "cell_type": "code",
   "execution_count": 223,
   "metadata": {
    "clear_cell": true,
    "run_control": {
     "frozen": false,
     "read_only": false
    }
   },
   "outputs": [
    {
     "data": {
      "text/html": [
       "<div>\n",
       "<style scoped>\n",
       "    .dataframe tbody tr th:only-of-type {\n",
       "        vertical-align: middle;\n",
       "    }\n",
       "\n",
       "    .dataframe tbody tr th {\n",
       "        vertical-align: top;\n",
       "    }\n",
       "\n",
       "    .dataframe thead th {\n",
       "        text-align: right;\n",
       "    }\n",
       "</style>\n",
       "<table border=\"1\" class=\"dataframe\">\n",
       "  <thead>\n",
       "    <tr style=\"text-align: right;\">\n",
       "      <th></th>\n",
       "      <th>L06_347</th>\n",
       "      <th>LS06_347</th>\n",
       "      <th>LS06_348</th>\n",
       "    </tr>\n",
       "    <tr>\n",
       "      <th>Time</th>\n",
       "      <th></th>\n",
       "      <th></th>\n",
       "      <th></th>\n",
       "    </tr>\n",
       "  </thead>\n",
       "  <tbody>\n",
       "    <tr>\n",
       "      <td>2009-01-01 00:00:00</td>\n",
       "      <td>0.137417</td>\n",
       "      <td>0.097500</td>\n",
       "      <td>0.016833</td>\n",
       "    </tr>\n",
       "    <tr>\n",
       "      <td>2009-01-01 03:00:00</td>\n",
       "      <td>0.131250</td>\n",
       "      <td>0.088833</td>\n",
       "      <td>0.016417</td>\n",
       "    </tr>\n",
       "    <tr>\n",
       "      <td>2009-01-01 06:00:00</td>\n",
       "      <td>0.113500</td>\n",
       "      <td>0.091250</td>\n",
       "      <td>0.016750</td>\n",
       "    </tr>\n",
       "    <tr>\n",
       "      <td>2009-01-01 09:00:00</td>\n",
       "      <td>0.135750</td>\n",
       "      <td>0.091500</td>\n",
       "      <td>0.016250</td>\n",
       "    </tr>\n",
       "    <tr>\n",
       "      <td>2009-01-01 12:00:00</td>\n",
       "      <td>0.140917</td>\n",
       "      <td>0.096167</td>\n",
       "      <td>0.017000</td>\n",
       "    </tr>\n",
       "    <tr>\n",
       "      <td>...</td>\n",
       "      <td>...</td>\n",
       "      <td>...</td>\n",
       "      <td>...</td>\n",
       "    </tr>\n",
       "    <tr>\n",
       "      <td>2013-01-01 12:00:00</td>\n",
       "      <td>1.710000</td>\n",
       "      <td>1.710000</td>\n",
       "      <td>0.129583</td>\n",
       "    </tr>\n",
       "    <tr>\n",
       "      <td>2013-01-01 15:00:00</td>\n",
       "      <td>1.420000</td>\n",
       "      <td>1.420000</td>\n",
       "      <td>0.096333</td>\n",
       "    </tr>\n",
       "    <tr>\n",
       "      <td>2013-01-01 18:00:00</td>\n",
       "      <td>1.178583</td>\n",
       "      <td>1.178583</td>\n",
       "      <td>0.083083</td>\n",
       "    </tr>\n",
       "    <tr>\n",
       "      <td>2013-01-01 21:00:00</td>\n",
       "      <td>0.898250</td>\n",
       "      <td>0.898250</td>\n",
       "      <td>0.077167</td>\n",
       "    </tr>\n",
       "    <tr>\n",
       "      <td>2013-01-02 00:00:00</td>\n",
       "      <td>0.860000</td>\n",
       "      <td>0.860000</td>\n",
       "      <td>0.075000</td>\n",
       "    </tr>\n",
       "  </tbody>\n",
       "</table>\n",
       "<p>2897 rows × 3 columns</p>\n",
       "</div>"
      ],
      "text/plain": [
       "                      L06_347  LS06_347  LS06_348\n",
       "Time                                             \n",
       "2009-01-01 00:00:00  0.137417  0.097500  0.016833\n",
       "2009-01-01 03:00:00  0.131250  0.088833  0.016417\n",
       "2009-01-01 06:00:00  0.113500  0.091250  0.016750\n",
       "2009-01-01 09:00:00  0.135750  0.091500  0.016250\n",
       "2009-01-01 12:00:00  0.140917  0.096167  0.017000\n",
       "...                       ...       ...       ...\n",
       "2013-01-01 12:00:00  1.710000  1.710000  0.129583\n",
       "2013-01-01 15:00:00  1.420000  1.420000  0.096333\n",
       "2013-01-01 18:00:00  1.178583  1.178583  0.083083\n",
       "2013-01-01 21:00:00  0.898250  0.898250  0.077167\n",
       "2013-01-02 00:00:00  0.860000  0.860000  0.075000\n",
       "\n",
       "[2897 rows x 3 columns]"
      ]
     },
     "execution_count": 223,
     "metadata": {},
     "output_type": "execute_result"
    }
   ],
   "source": [
    "data[data.index.month.isin([1,2,3])]\n",
    "#data[data.index.month.isin([1,2,3])].index.unique"
   ]
  },
  {
   "cell_type": "markdown",
   "metadata": {},
   "source": [
    "<div class=\"alert alert-success\">\n",
    "\n",
    "<b>EXERCISE</b>:\n",
    "\n",
    " <ul>\n",
    "  <li>select all 'daytime' data (between 8h and 20h) for all days</li>\n",
    "</ul>\n",
    "</div>"
   ]
  },
  {
   "cell_type": "code",
   "execution_count": 224,
   "metadata": {},
   "outputs": [
    {
     "data": {
      "text/html": [
       "<div>\n",
       "<style scoped>\n",
       "    .dataframe tbody tr th:only-of-type {\n",
       "        vertical-align: middle;\n",
       "    }\n",
       "\n",
       "    .dataframe tbody tr th {\n",
       "        vertical-align: top;\n",
       "    }\n",
       "\n",
       "    .dataframe thead th {\n",
       "        text-align: right;\n",
       "    }\n",
       "</style>\n",
       "<table border=\"1\" class=\"dataframe\">\n",
       "  <thead>\n",
       "    <tr style=\"text-align: right;\">\n",
       "      <th></th>\n",
       "      <th>L06_347</th>\n",
       "      <th>LS06_347</th>\n",
       "      <th>LS06_348</th>\n",
       "    </tr>\n",
       "    <tr>\n",
       "      <th>Time</th>\n",
       "      <th></th>\n",
       "      <th></th>\n",
       "      <th></th>\n",
       "    </tr>\n",
       "  </thead>\n",
       "  <tbody>\n",
       "    <tr>\n",
       "      <td>2009-01-01 09:00:00</td>\n",
       "      <td>0.135750</td>\n",
       "      <td>0.091500</td>\n",
       "      <td>0.016250</td>\n",
       "    </tr>\n",
       "    <tr>\n",
       "      <td>2009-01-01 12:00:00</td>\n",
       "      <td>0.140917</td>\n",
       "      <td>0.096167</td>\n",
       "      <td>0.017000</td>\n",
       "    </tr>\n",
       "    <tr>\n",
       "      <td>2009-01-01 15:00:00</td>\n",
       "      <td>0.099167</td>\n",
       "      <td>0.091667</td>\n",
       "      <td>0.017583</td>\n",
       "    </tr>\n",
       "    <tr>\n",
       "      <td>2009-01-01 18:00:00</td>\n",
       "      <td>0.132667</td>\n",
       "      <td>0.090167</td>\n",
       "      <td>0.016250</td>\n",
       "    </tr>\n",
       "    <tr>\n",
       "      <td>2009-01-02 09:00:00</td>\n",
       "      <td>0.141917</td>\n",
       "      <td>0.097083</td>\n",
       "      <td>0.016417</td>\n",
       "    </tr>\n",
       "    <tr>\n",
       "      <td>...</td>\n",
       "      <td>...</td>\n",
       "      <td>...</td>\n",
       "      <td>...</td>\n",
       "    </tr>\n",
       "    <tr>\n",
       "      <td>2012-12-31 18:00:00</td>\n",
       "      <td>0.617333</td>\n",
       "      <td>0.617333</td>\n",
       "      <td>0.060583</td>\n",
       "    </tr>\n",
       "    <tr>\n",
       "      <td>2013-01-01 09:00:00</td>\n",
       "      <td>2.055000</td>\n",
       "      <td>2.055000</td>\n",
       "      <td>0.175667</td>\n",
       "    </tr>\n",
       "    <tr>\n",
       "      <td>2013-01-01 12:00:00</td>\n",
       "      <td>1.710000</td>\n",
       "      <td>1.710000</td>\n",
       "      <td>0.129583</td>\n",
       "    </tr>\n",
       "    <tr>\n",
       "      <td>2013-01-01 15:00:00</td>\n",
       "      <td>1.420000</td>\n",
       "      <td>1.420000</td>\n",
       "      <td>0.096333</td>\n",
       "    </tr>\n",
       "    <tr>\n",
       "      <td>2013-01-01 18:00:00</td>\n",
       "      <td>1.178583</td>\n",
       "      <td>1.178583</td>\n",
       "      <td>0.083083</td>\n",
       "    </tr>\n",
       "  </tbody>\n",
       "</table>\n",
       "<p>5848 rows × 3 columns</p>\n",
       "</div>"
      ],
      "text/plain": [
       "                      L06_347  LS06_347  LS06_348\n",
       "Time                                             \n",
       "2009-01-01 09:00:00  0.135750  0.091500  0.016250\n",
       "2009-01-01 12:00:00  0.140917  0.096167  0.017000\n",
       "2009-01-01 15:00:00  0.099167  0.091667  0.017583\n",
       "2009-01-01 18:00:00  0.132667  0.090167  0.016250\n",
       "2009-01-02 09:00:00  0.141917  0.097083  0.016417\n",
       "...                       ...       ...       ...\n",
       "2012-12-31 18:00:00  0.617333  0.617333  0.060583\n",
       "2013-01-01 09:00:00  2.055000  2.055000  0.175667\n",
       "2013-01-01 12:00:00  1.710000  1.710000  0.129583\n",
       "2013-01-01 15:00:00  1.420000  1.420000  0.096333\n",
       "2013-01-01 18:00:00  1.178583  1.178583  0.083083\n",
       "\n",
       "[5848 rows x 3 columns]"
      ]
     },
     "execution_count": 224,
     "metadata": {},
     "output_type": "execute_result"
    }
   ],
   "source": [
    "data[(8 <= data.index.hour) & (20 > data.index.hour)]"
   ]
  },
  {
   "cell_type": "markdown",
   "metadata": {
    "slideshow": {
     "slide_type": "subslide"
    }
   },
   "source": [
    "## The power of pandas: `resample`"
   ]
  },
  {
   "cell_type": "markdown",
   "metadata": {},
   "source": [
    "A very powerfull method is **`resample`: converting the frequency of the time series** (e.g. from hourly to daily data).\n",
    "\n",
    "The time series has a frequency of 1 hour. I want to change this to daily:"
   ]
  },
  {
   "cell_type": "code",
   "execution_count": 225,
   "metadata": {
    "run_control": {
     "frozen": false,
     "read_only": false
    }
   },
   "outputs": [
    {
     "data": {
      "text/html": [
       "<div>\n",
       "<style scoped>\n",
       "    .dataframe tbody tr th:only-of-type {\n",
       "        vertical-align: middle;\n",
       "    }\n",
       "\n",
       "    .dataframe tbody tr th {\n",
       "        vertical-align: top;\n",
       "    }\n",
       "\n",
       "    .dataframe thead th {\n",
       "        text-align: right;\n",
       "    }\n",
       "</style>\n",
       "<table border=\"1\" class=\"dataframe\">\n",
       "  <thead>\n",
       "    <tr style=\"text-align: right;\">\n",
       "      <th></th>\n",
       "      <th>L06_347</th>\n",
       "      <th>LS06_347</th>\n",
       "      <th>LS06_348</th>\n",
       "    </tr>\n",
       "    <tr>\n",
       "      <th>Time</th>\n",
       "      <th></th>\n",
       "      <th></th>\n",
       "      <th></th>\n",
       "    </tr>\n",
       "  </thead>\n",
       "  <tbody>\n",
       "    <tr>\n",
       "      <td>2009-01-01</td>\n",
       "      <td>0.125010</td>\n",
       "      <td>0.092281</td>\n",
       "      <td>0.016635</td>\n",
       "    </tr>\n",
       "    <tr>\n",
       "      <td>2009-01-02</td>\n",
       "      <td>0.124146</td>\n",
       "      <td>0.095781</td>\n",
       "      <td>0.016406</td>\n",
       "    </tr>\n",
       "    <tr>\n",
       "      <td>2009-01-03</td>\n",
       "      <td>0.113562</td>\n",
       "      <td>0.085542</td>\n",
       "      <td>0.016094</td>\n",
       "    </tr>\n",
       "    <tr>\n",
       "      <td>2009-01-04</td>\n",
       "      <td>0.140198</td>\n",
       "      <td>0.102708</td>\n",
       "      <td>0.017323</td>\n",
       "    </tr>\n",
       "    <tr>\n",
       "      <td>2009-01-05</td>\n",
       "      <td>0.128812</td>\n",
       "      <td>0.104490</td>\n",
       "      <td>0.018167</td>\n",
       "    </tr>\n",
       "  </tbody>\n",
       "</table>\n",
       "</div>"
      ],
      "text/plain": [
       "             L06_347  LS06_347  LS06_348\n",
       "Time                                    \n",
       "2009-01-01  0.125010  0.092281  0.016635\n",
       "2009-01-02  0.124146  0.095781  0.016406\n",
       "2009-01-03  0.113562  0.085542  0.016094\n",
       "2009-01-04  0.140198  0.102708  0.017323\n",
       "2009-01-05  0.128812  0.104490  0.018167"
      ]
     },
     "execution_count": 225,
     "metadata": {},
     "output_type": "execute_result"
    }
   ],
   "source": [
    "data.resample('D').mean().head()"
   ]
  },
  {
   "cell_type": "markdown",
   "metadata": {},
   "source": [
    "<div class=\"alert alert-danger\">\n",
    "\n",
    "<b>NOTE</b>:\n",
    "\n",
    " <ul>\n",
    "  <li>with older versions of pandas, <code>data.resample('D').mean()</code> was expressed as <code>data.resample('D', how='mean')</code>.</li>\n",
    "</ul>\n",
    "</div>"
   ]
  },
  {
   "cell_type": "markdown",
   "metadata": {
    "slideshow": {
     "slide_type": "subslide"
    }
   },
   "source": [
    "Other mathematical methods can also be specified:"
   ]
  },
  {
   "cell_type": "code",
   "execution_count": 226,
   "metadata": {
    "run_control": {
     "frozen": false,
     "read_only": false
    }
   },
   "outputs": [
    {
     "data": {
      "text/html": [
       "<div>\n",
       "<style scoped>\n",
       "    .dataframe tbody tr th:only-of-type {\n",
       "        vertical-align: middle;\n",
       "    }\n",
       "\n",
       "    .dataframe tbody tr th {\n",
       "        vertical-align: top;\n",
       "    }\n",
       "\n",
       "    .dataframe thead th {\n",
       "        text-align: right;\n",
       "    }\n",
       "</style>\n",
       "<table border=\"1\" class=\"dataframe\">\n",
       "  <thead>\n",
       "    <tr style=\"text-align: right;\">\n",
       "      <th></th>\n",
       "      <th>L06_347</th>\n",
       "      <th>LS06_347</th>\n",
       "      <th>LS06_348</th>\n",
       "    </tr>\n",
       "    <tr>\n",
       "      <th>Time</th>\n",
       "      <th></th>\n",
       "      <th></th>\n",
       "      <th></th>\n",
       "    </tr>\n",
       "  </thead>\n",
       "  <tbody>\n",
       "    <tr>\n",
       "      <td>2009-01-01</td>\n",
       "      <td>0.140917</td>\n",
       "      <td>0.097500</td>\n",
       "      <td>0.017583</td>\n",
       "    </tr>\n",
       "    <tr>\n",
       "      <td>2009-01-02</td>\n",
       "      <td>0.147833</td>\n",
       "      <td>0.101917</td>\n",
       "      <td>0.016833</td>\n",
       "    </tr>\n",
       "    <tr>\n",
       "      <td>2009-01-03</td>\n",
       "      <td>0.135833</td>\n",
       "      <td>0.092500</td>\n",
       "      <td>0.016833</td>\n",
       "    </tr>\n",
       "    <tr>\n",
       "      <td>2009-01-04</td>\n",
       "      <td>0.160417</td>\n",
       "      <td>0.113750</td>\n",
       "      <td>0.018417</td>\n",
       "    </tr>\n",
       "    <tr>\n",
       "      <td>2009-01-05</td>\n",
       "      <td>0.161500</td>\n",
       "      <td>0.115167</td>\n",
       "      <td>0.021583</td>\n",
       "    </tr>\n",
       "  </tbody>\n",
       "</table>\n",
       "</div>"
      ],
      "text/plain": [
       "             L06_347  LS06_347  LS06_348\n",
       "Time                                    \n",
       "2009-01-01  0.140917  0.097500  0.017583\n",
       "2009-01-02  0.147833  0.101917  0.016833\n",
       "2009-01-03  0.135833  0.092500  0.016833\n",
       "2009-01-04  0.160417  0.113750  0.018417\n",
       "2009-01-05  0.161500  0.115167  0.021583"
      ]
     },
     "execution_count": 226,
     "metadata": {},
     "output_type": "execute_result"
    }
   ],
   "source": [
    "data.resample('D').max().head()"
   ]
  },
  {
   "cell_type": "markdown",
   "metadata": {},
   "source": [
    "<div class=\"alert alert-info\">\n",
    "<b>REMEMBER</b>: <br><br>\n",
    "    The string to specify the new time frequency: http://pandas.pydata.org/pandas-docs/stable/timeseries.html#offset-aliases <br><br>\n",
    "    These strings can also be combined with numbers, eg `'10D'`...\n",
    "</div>\n",
    "\n"
   ]
  },
  {
   "cell_type": "code",
   "execution_count": 227,
   "metadata": {
    "run_control": {
     "frozen": false,
     "read_only": false
    }
   },
   "outputs": [
    {
     "data": {
      "text/plain": [
       "<matplotlib.axes._subplots.AxesSubplot at 0x11b011250>"
      ]
     },
     "execution_count": 227,
     "metadata": {},
     "output_type": "execute_result"
    },
    {
     "data": {
      "image/png": "[encoded data removed]",
      "text/plain": [
       "<Figure size 432x288 with 1 Axes>"
      ]
     },
     "metadata": {
      "needs_background": "light"
     },
     "output_type": "display_data"
    }
   ],
   "source": [
    "data.resample('A').mean().plot()"
   ]
  },
  {
   "cell_type": "markdown",
   "metadata": {},
   "source": [
    "<div class=\"alert alert-success\">\n",
    "\n",
    "<b>EXERCISE</b>:\n",
    "\n",
    " <ul>\n",
    "  <li>plot the monthly standard deviation of the columns</li>\n",
    "</ul>\n",
    "</div>"
   ]
  },
  {
   "cell_type": "code",
   "execution_count": null,
   "metadata": {
    "clear_cell": true,
    "run_control": {
     "frozen": false,
     "read_only": false
    }
   },
   "outputs": [],
   "source": []
  },
  {
   "cell_type": "markdown",
   "metadata": {},
   "source": [
    "<div class=\"alert alert-success\">\n",
    "\n",
    "<b>EXERCISE</b>:\n",
    " <ul>\n",
    "  <li>plot the monthly mean and median values for the years 2011-2012 for 'L06_347'<br><br></li>\n",
    " </ul>\n",
    "     <b>Note** </b> <br>You can create a new figure with  `fig, ax = plt.subplots()`\n",
    " and add each of the plots to the created `ax` object (see documentation of pandas plot function)\n",
    "</div>"
   ]
  },
  {
   "cell_type": "code",
   "execution_count": null,
   "metadata": {},
   "outputs": [],
   "source": []
  },
  {
   "cell_type": "markdown",
   "metadata": {},
   "source": [
    "<div class=\"alert alert-success\">\n",
    "\n",
    "<b>EXERCISE</b>:\n",
    "\n",
    " <ul>\n",
    "  <li>plot the monthly mininum and maximum daily average value of the 'LS06_348' column</li>\n",
    "</ul>\n",
    "</div>"
   ]
  },
  {
   "cell_type": "code",
   "execution_count": null,
   "metadata": {},
   "outputs": [],
   "source": []
  },
  {
   "cell_type": "markdown",
   "metadata": {},
   "source": [
    "<div class=\"alert alert-success\">\n",
    "<b>EXERCISE</b>:\n",
    "\n",
    " <ul>\n",
    "  <li>make a bar plot of the mean of the stations in year of 2013 (Remark: create a `fig, ax = plt.subplots()` object and add the plot to the created ax</li>\n",
    "</ul>\n",
    "\n",
    "</div>"
   ]
  },
  {
   "cell_type": "code",
   "execution_count": null,
   "metadata": {
    "clear_cell": true,
    "run_control": {
     "frozen": false,
     "read_only": false
    }
   },
   "outputs": [],
   "source": []
  },
  {
   "cell_type": "markdown",
   "metadata": {},
   "source": [
    "## Combining datasets Part I - concat"
   ]
  },
  {
   "cell_type": "markdown",
   "metadata": {},
   "source": [
    "Combining data is essential functionality in a data analysis workflow. \n",
    "\n",
    "Data is distributed in multiple files, different information needs to be merged, new data is calculated, .. and needs to be added together. Pandas provides various facilities for easily combining together Series and DataFrame objects"
   ]
  },
  {
   "cell_type": "code",
   "execution_count": 228,
   "metadata": {
    "run_control": {
     "frozen": false,
     "read_only": false
    }
   },
   "outputs": [
    {
     "data": {
      "text/html": [
       "<div>\n",
       "<style scoped>\n",
       "    .dataframe tbody tr th:only-of-type {\n",
       "        vertical-align: middle;\n",
       "    }\n",
       "\n",
       "    .dataframe tbody tr th {\n",
       "        vertical-align: top;\n",
       "    }\n",
       "\n",
       "    .dataframe thead th {\n",
       "        text-align: right;\n",
       "    }\n",
       "</style>\n",
       "<table border=\"1\" class=\"dataframe\">\n",
       "  <thead>\n",
       "    <tr style=\"text-align: right;\">\n",
       "      <th></th>\n",
       "      <th>country</th>\n",
       "      <th>population</th>\n",
       "      <th>area</th>\n",
       "      <th>capital</th>\n",
       "    </tr>\n",
       "  </thead>\n",
       "  <tbody>\n",
       "    <tr>\n",
       "      <td>0</td>\n",
       "      <td>Belgium</td>\n",
       "      <td>11.3</td>\n",
       "      <td>30510</td>\n",
       "      <td>Brussels</td>\n",
       "    </tr>\n",
       "    <tr>\n",
       "      <td>1</td>\n",
       "      <td>France</td>\n",
       "      <td>64.3</td>\n",
       "      <td>671308</td>\n",
       "      <td>Paris</td>\n",
       "    </tr>\n",
       "    <tr>\n",
       "      <td>2</td>\n",
       "      <td>Germany</td>\n",
       "      <td>81.3</td>\n",
       "      <td>357050</td>\n",
       "      <td>Berlin</td>\n",
       "    </tr>\n",
       "    <tr>\n",
       "      <td>3</td>\n",
       "      <td>Netherlands</td>\n",
       "      <td>16.9</td>\n",
       "      <td>41526</td>\n",
       "      <td>Amsterdam</td>\n",
       "    </tr>\n",
       "    <tr>\n",
       "      <td>4</td>\n",
       "      <td>United Kingdom</td>\n",
       "      <td>64.9</td>\n",
       "      <td>244820</td>\n",
       "      <td>London</td>\n",
       "    </tr>\n",
       "  </tbody>\n",
       "</table>\n",
       "</div>"
      ],
      "text/plain": [
       "          country  population    area    capital\n",
       "0         Belgium        11.3   30510   Brussels\n",
       "1          France        64.3  671308      Paris\n",
       "2         Germany        81.3  357050     Berlin\n",
       "3     Netherlands        16.9   41526  Amsterdam\n",
       "4  United Kingdom        64.9  244820     London"
      ]
     },
     "execution_count": 228,
     "metadata": {},
     "output_type": "execute_result"
    }
   ],
   "source": [
    "# series\n",
    "population = pd.Series({'Germany': 81.3, 'Belgium': 11.3, 'France': 64.3, \n",
    "                        'United Kingdom': 64.9, 'Netherlands': 16.9})\n",
    "\n",
    "# dataframe\n",
    "data = {'country': ['Belgium', 'France', 'Germany', 'Netherlands', 'United Kingdom'],\n",
    "        'population': [11.3, 64.3, 81.3, 16.9, 64.9],\n",
    "        'area': [30510, 671308, 357050, 41526, 244820],\n",
    "        'capital': ['Brussels', 'Paris', 'Berlin', 'Amsterdam', 'London']}\n",
    "countries = pd.DataFrame(data)\n",
    "countries"
   ]
  },
  {
   "cell_type": "markdown",
   "metadata": {},
   "source": [
    "# Adding columns"
   ]
  },
  {
   "cell_type": "markdown",
   "metadata": {
    "collapsed": true
   },
   "source": [
    "As we already have seen before, adding a single column is very easy:"
   ]
  },
  {
   "cell_type": "code",
   "execution_count": 229,
   "metadata": {
    "run_control": {
     "frozen": false,
     "read_only": false
    }
   },
   "outputs": [],
   "source": [
    "pop_density = countries['population'] * 1e6 / countries['area']"
   ]
  },
  {
   "cell_type": "code",
   "execution_count": 230,
   "metadata": {
    "run_control": {
     "frozen": false,
     "read_only": false
    }
   },
   "outputs": [
    {
     "data": {
      "text/plain": [
       "0    370.370370\n",
       "1     95.783158\n",
       "2    227.699202\n",
       "3    406.973944\n",
       "4    265.092721\n",
       "dtype: float64"
      ]
     },
     "execution_count": 230,
     "metadata": {},
     "output_type": "execute_result"
    }
   ],
   "source": [
    "pop_density"
   ]
  },
  {
   "cell_type": "code",
   "execution_count": 231,
   "metadata": {
    "run_control": {
     "frozen": false,
     "read_only": false
    }
   },
   "outputs": [],
   "source": [
    "countries['pop_density'] = pop_density"
   ]
  },
  {
   "cell_type": "code",
   "execution_count": 232,
   "metadata": {
    "run_control": {
     "frozen": false,
     "read_only": false
    }
   },
   "outputs": [
    {
     "data": {
      "text/html": [
       "<div>\n",
       "<style scoped>\n",
       "    .dataframe tbody tr th:only-of-type {\n",
       "        vertical-align: middle;\n",
       "    }\n",
       "\n",
       "    .dataframe tbody tr th {\n",
       "        vertical-align: top;\n",
       "    }\n",
       "\n",
       "    .dataframe thead th {\n",
       "        text-align: right;\n",
       "    }\n",
       "</style>\n",
       "<table border=\"1\" class=\"dataframe\">\n",
       "  <thead>\n",
       "    <tr style=\"text-align: right;\">\n",
       "      <th></th>\n",
       "      <th>country</th>\n",
       "      <th>population</th>\n",
       "      <th>area</th>\n",
       "      <th>capital</th>\n",
       "      <th>pop_density</th>\n",
       "    </tr>\n",
       "  </thead>\n",
       "  <tbody>\n",
       "    <tr>\n",
       "      <td>0</td>\n",
       "      <td>Belgium</td>\n",
       "      <td>11.3</td>\n",
       "      <td>30510</td>\n",
       "      <td>Brussels</td>\n",
       "      <td>370.370370</td>\n",
       "    </tr>\n",
       "    <tr>\n",
       "      <td>1</td>\n",
       "      <td>France</td>\n",
       "      <td>64.3</td>\n",
       "      <td>671308</td>\n",
       "      <td>Paris</td>\n",
       "      <td>95.783158</td>\n",
       "    </tr>\n",
       "    <tr>\n",
       "      <td>2</td>\n",
       "      <td>Germany</td>\n",
       "      <td>81.3</td>\n",
       "      <td>357050</td>\n",
       "      <td>Berlin</td>\n",
       "      <td>227.699202</td>\n",
       "    </tr>\n",
       "    <tr>\n",
       "      <td>3</td>\n",
       "      <td>Netherlands</td>\n",
       "      <td>16.9</td>\n",
       "      <td>41526</td>\n",
       "      <td>Amsterdam</td>\n",
       "      <td>406.973944</td>\n",
       "    </tr>\n",
       "    <tr>\n",
       "      <td>4</td>\n",
       "      <td>United Kingdom</td>\n",
       "      <td>64.9</td>\n",
       "      <td>244820</td>\n",
       "      <td>London</td>\n",
       "      <td>265.092721</td>\n",
       "    </tr>\n",
       "  </tbody>\n",
       "</table>\n",
       "</div>"
      ],
      "text/plain": [
       "          country  population    area    capital  pop_density\n",
       "0         Belgium        11.3   30510   Brussels   370.370370\n",
       "1          France        64.3  671308      Paris    95.783158\n",
       "2         Germany        81.3  357050     Berlin   227.699202\n",
       "3     Netherlands        16.9   41526  Amsterdam   406.973944\n",
       "4  United Kingdom        64.9  244820     London   265.092721"
      ]
     },
     "execution_count": 232,
     "metadata": {},
     "output_type": "execute_result"
    }
   ],
   "source": [
    "countries"
   ]
  },
  {
   "cell_type": "markdown",
   "metadata": {},
   "source": [
    "Adding multiple columns at once is also possible. For example, the following method gives us a DataFrame of two columns:"
   ]
  },
  {
   "cell_type": "code",
   "execution_count": 233,
   "metadata": {
    "run_control": {
     "frozen": false,
     "read_only": false
    }
   },
   "outputs": [
    {
     "data": {
      "text/html": [
       "<div>\n",
       "<style scoped>\n",
       "    .dataframe tbody tr th:only-of-type {\n",
       "        vertical-align: middle;\n",
       "    }\n",
       "\n",
       "    .dataframe tbody tr th {\n",
       "        vertical-align: top;\n",
       "    }\n",
       "\n",
       "    .dataframe thead th {\n",
       "        text-align: right;\n",
       "    }\n",
       "</style>\n",
       "<table border=\"1\" class=\"dataframe\">\n",
       "  <thead>\n",
       "    <tr style=\"text-align: right;\">\n",
       "      <th></th>\n",
       "      <th>0</th>\n",
       "      <th>1</th>\n",
       "    </tr>\n",
       "  </thead>\n",
       "  <tbody>\n",
       "    <tr>\n",
       "      <td>0</td>\n",
       "      <td>Belgium</td>\n",
       "      <td>None</td>\n",
       "    </tr>\n",
       "    <tr>\n",
       "      <td>1</td>\n",
       "      <td>France</td>\n",
       "      <td>None</td>\n",
       "    </tr>\n",
       "    <tr>\n",
       "      <td>2</td>\n",
       "      <td>Germany</td>\n",
       "      <td>None</td>\n",
       "    </tr>\n",
       "    <tr>\n",
       "      <td>3</td>\n",
       "      <td>Netherlands</td>\n",
       "      <td>None</td>\n",
       "    </tr>\n",
       "    <tr>\n",
       "      <td>4</td>\n",
       "      <td>United</td>\n",
       "      <td>Kingdom</td>\n",
       "    </tr>\n",
       "  </tbody>\n",
       "</table>\n",
       "</div>"
      ],
      "text/plain": [
       "             0        1\n",
       "0      Belgium     None\n",
       "1       France     None\n",
       "2      Germany     None\n",
       "3  Netherlands     None\n",
       "4       United  Kingdom"
      ]
     },
     "execution_count": 233,
     "metadata": {},
     "output_type": "execute_result"
    }
   ],
   "source": [
    "countries[\"country\"].str.split(\" \", expand=True)"
   ]
  },
  {
   "cell_type": "markdown",
   "metadata": {},
   "source": [
    "We can add both at once to the dataframe:"
   ]
  },
  {
   "cell_type": "code",
   "execution_count": 234,
   "metadata": {
    "run_control": {
     "frozen": false,
     "read_only": false
    }
   },
   "outputs": [],
   "source": [
    "countries[['first', 'last']] = countries[\"country\"].str.split(\" \", expand=True)"
   ]
  },
  {
   "cell_type": "code",
   "execution_count": 235,
   "metadata": {
    "run_control": {
     "frozen": false,
     "read_only": false
    }
   },
   "outputs": [
    {
     "data": {
      "text/html": [
       "<div>\n",
       "<style scoped>\n",
       "    .dataframe tbody tr th:only-of-type {\n",
       "        vertical-align: middle;\n",
       "    }\n",
       "\n",
       "    .dataframe tbody tr th {\n",
       "        vertical-align: top;\n",
       "    }\n",
       "\n",
       "    .dataframe thead th {\n",
       "        text-align: right;\n",
       "    }\n",
       "</style>\n",
       "<table border=\"1\" class=\"dataframe\">\n",
       "  <thead>\n",
       "    <tr style=\"text-align: right;\">\n",
       "      <th></th>\n",
       "      <th>country</th>\n",
       "      <th>population</th>\n",
       "      <th>area</th>\n",
       "      <th>capital</th>\n",
       "      <th>pop_density</th>\n",
       "      <th>first</th>\n",
       "      <th>last</th>\n",
       "    </tr>\n",
       "  </thead>\n",
       "  <tbody>\n",
       "    <tr>\n",
       "      <td>0</td>\n",
       "      <td>Belgium</td>\n",
       "      <td>11.3</td>\n",
       "      <td>30510</td>\n",
       "      <td>Brussels</td>\n",
       "      <td>370.370370</td>\n",
       "      <td>Belgium</td>\n",
       "      <td>None</td>\n",
       "    </tr>\n",
       "    <tr>\n",
       "      <td>1</td>\n",
       "      <td>France</td>\n",
       "      <td>64.3</td>\n",
       "      <td>671308</td>\n",
       "      <td>Paris</td>\n",
       "      <td>95.783158</td>\n",
       "      <td>France</td>\n",
       "      <td>None</td>\n",
       "    </tr>\n",
       "    <tr>\n",
       "      <td>2</td>\n",
       "      <td>Germany</td>\n",
       "      <td>81.3</td>\n",
       "      <td>357050</td>\n",
       "      <td>Berlin</td>\n",
       "      <td>227.699202</td>\n",
       "      <td>Germany</td>\n",
       "      <td>None</td>\n",
       "    </tr>\n",
       "    <tr>\n",
       "      <td>3</td>\n",
       "      <td>Netherlands</td>\n",
       "      <td>16.9</td>\n",
       "      <td>41526</td>\n",
       "      <td>Amsterdam</td>\n",
       "      <td>406.973944</td>\n",
       "      <td>Netherlands</td>\n",
       "      <td>None</td>\n",
       "    </tr>\n",
       "    <tr>\n",
       "      <td>4</td>\n",
       "      <td>United Kingdom</td>\n",
       "      <td>64.9</td>\n",
       "      <td>244820</td>\n",
       "      <td>London</td>\n",
       "      <td>265.092721</td>\n",
       "      <td>United</td>\n",
       "      <td>Kingdom</td>\n",
       "    </tr>\n",
       "  </tbody>\n",
       "</table>\n",
       "</div>"
      ],
      "text/plain": [
       "          country  population    area    capital  pop_density        first  \\\n",
       "0         Belgium        11.3   30510   Brussels   370.370370      Belgium   \n",
       "1          France        64.3  671308      Paris    95.783158       France   \n",
       "2         Germany        81.3  357050     Berlin   227.699202      Germany   \n",
       "3     Netherlands        16.9   41526  Amsterdam   406.973944  Netherlands   \n",
       "4  United Kingdom        64.9  244820     London   265.092721       United   \n",
       "\n",
       "      last  \n",
       "0     None  \n",
       "1     None  \n",
       "2     None  \n",
       "3     None  \n",
       "4  Kingdom  "
      ]
     },
     "execution_count": 235,
     "metadata": {},
     "output_type": "execute_result"
    }
   ],
   "source": [
    "countries"
   ]
  },
  {
   "cell_type": "markdown",
   "metadata": {},
   "source": [
    "Delete the new columns to revert the change"
   ]
  },
  {
   "cell_type": "code",
   "execution_count": 236,
   "metadata": {},
   "outputs": [
    {
     "data": {
      "text/html": [
       "<div>\n",
       "<style scoped>\n",
       "    .dataframe tbody tr th:only-of-type {\n",
       "        vertical-align: middle;\n",
       "    }\n",
       "\n",
       "    .dataframe tbody tr th {\n",
       "        vertical-align: top;\n",
       "    }\n",
       "\n",
       "    .dataframe thead th {\n",
       "        text-align: right;\n",
       "    }\n",
       "</style>\n",
       "<table border=\"1\" class=\"dataframe\">\n",
       "  <thead>\n",
       "    <tr style=\"text-align: right;\">\n",
       "      <th></th>\n",
       "      <th>country</th>\n",
       "      <th>population</th>\n",
       "      <th>area</th>\n",
       "      <th>capital</th>\n",
       "      <th>pop_density</th>\n",
       "    </tr>\n",
       "  </thead>\n",
       "  <tbody>\n",
       "    <tr>\n",
       "      <td>0</td>\n",
       "      <td>Belgium</td>\n",
       "      <td>11.3</td>\n",
       "      <td>30510</td>\n",
       "      <td>Brussels</td>\n",
       "      <td>370.370370</td>\n",
       "    </tr>\n",
       "    <tr>\n",
       "      <td>1</td>\n",
       "      <td>France</td>\n",
       "      <td>64.3</td>\n",
       "      <td>671308</td>\n",
       "      <td>Paris</td>\n",
       "      <td>95.783158</td>\n",
       "    </tr>\n",
       "    <tr>\n",
       "      <td>2</td>\n",
       "      <td>Germany</td>\n",
       "      <td>81.3</td>\n",
       "      <td>357050</td>\n",
       "      <td>Berlin</td>\n",
       "      <td>227.699202</td>\n",
       "    </tr>\n",
       "    <tr>\n",
       "      <td>3</td>\n",
       "      <td>Netherlands</td>\n",
       "      <td>16.9</td>\n",
       "      <td>41526</td>\n",
       "      <td>Amsterdam</td>\n",
       "      <td>406.973944</td>\n",
       "    </tr>\n",
       "    <tr>\n",
       "      <td>4</td>\n",
       "      <td>United Kingdom</td>\n",
       "      <td>64.9</td>\n",
       "      <td>244820</td>\n",
       "      <td>London</td>\n",
       "      <td>265.092721</td>\n",
       "    </tr>\n",
       "  </tbody>\n",
       "</table>\n",
       "</div>"
      ],
      "text/plain": [
       "          country  population    area    capital  pop_density\n",
       "0         Belgium        11.3   30510   Brussels   370.370370\n",
       "1          France        64.3  671308      Paris    95.783158\n",
       "2         Germany        81.3  357050     Berlin   227.699202\n",
       "3     Netherlands        16.9   41526  Amsterdam   406.973944\n",
       "4  United Kingdom        64.9  244820     London   265.092721"
      ]
     },
     "execution_count": 236,
     "metadata": {},
     "output_type": "execute_result"
    }
   ],
   "source": [
    "countries.drop(['first', 'last'], axis=1, inplace=True)\n",
    "countries"
   ]
  },
  {
   "cell_type": "markdown",
   "metadata": {},
   "source": [
    "# Concatenating data"
   ]
  },
  {
   "cell_type": "markdown",
   "metadata": {},
   "source": [
    "The ``pd.concat`` function does all of the heavy lifting of combining data in different ways.\n",
    "\n",
    "``pd.concat`` takes a list or dict of Series/DataFrame objects and concatenates them in a certain direction (`axis`) with some configurable handling of “what to do with the other axes”.\n"
   ]
  },
  {
   "cell_type": "markdown",
   "metadata": {},
   "source": [
    "## Combining rows - ``pd.concat``"
   ]
  },
  {
   "cell_type": "markdown",
   "metadata": {},
   "source": [
    "![](img/schema-concat0.svg)"
   ]
  },
  {
   "cell_type": "markdown",
   "metadata": {},
   "source": [
    "Assume we have some similar data as in `countries`, but for a set of different countries:"
   ]
  },
  {
   "cell_type": "code",
   "execution_count": 237,
   "metadata": {
    "run_control": {
     "frozen": false,
     "read_only": false
    }
   },
   "outputs": [
    {
     "data": {
      "text/html": [
       "<div>\n",
       "<style scoped>\n",
       "    .dataframe tbody tr th:only-of-type {\n",
       "        vertical-align: middle;\n",
       "    }\n",
       "\n",
       "    .dataframe tbody tr th {\n",
       "        vertical-align: top;\n",
       "    }\n",
       "\n",
       "    .dataframe thead th {\n",
       "        text-align: right;\n",
       "    }\n",
       "</style>\n",
       "<table border=\"1\" class=\"dataframe\">\n",
       "  <thead>\n",
       "    <tr style=\"text-align: right;\">\n",
       "      <th></th>\n",
       "      <th>country</th>\n",
       "      <th>population</th>\n",
       "      <th>area</th>\n",
       "      <th>capital</th>\n",
       "    </tr>\n",
       "  </thead>\n",
       "  <tbody>\n",
       "    <tr>\n",
       "      <td>0</td>\n",
       "      <td>Nigeria</td>\n",
       "      <td>182.2</td>\n",
       "      <td>923768</td>\n",
       "      <td>Abuja</td>\n",
       "    </tr>\n",
       "    <tr>\n",
       "      <td>1</td>\n",
       "      <td>Rwanda</td>\n",
       "      <td>11.3</td>\n",
       "      <td>26338</td>\n",
       "      <td>Kigali</td>\n",
       "    </tr>\n",
       "    <tr>\n",
       "      <td>2</td>\n",
       "      <td>Egypt</td>\n",
       "      <td>94.3</td>\n",
       "      <td>1010408</td>\n",
       "      <td>Cairo</td>\n",
       "    </tr>\n",
       "    <tr>\n",
       "      <td>3</td>\n",
       "      <td>Morocco</td>\n",
       "      <td>34.4</td>\n",
       "      <td>710850</td>\n",
       "      <td>Rabat</td>\n",
       "    </tr>\n",
       "  </tbody>\n",
       "</table>\n",
       "</div>"
      ],
      "text/plain": [
       "   country  population     area capital\n",
       "0  Nigeria       182.2   923768   Abuja\n",
       "1   Rwanda        11.3    26338  Kigali\n",
       "2    Egypt        94.3  1010408   Cairo\n",
       "3  Morocco        34.4   710850   Rabat"
      ]
     },
     "execution_count": 237,
     "metadata": {},
     "output_type": "execute_result"
    }
   ],
   "source": [
    "data = {'country': ['Nigeria', 'Rwanda', 'Egypt', 'Morocco', ],\n",
    "        'population': [182.2, 11.3, 94.3, 34.4],\n",
    "        'area': [923768, 26338 , 1010408, 710850],\n",
    "        'capital': ['Abuja', 'Kigali', 'Cairo', 'Rabat']}\n",
    "countries_africa = pd.DataFrame(data)\n",
    "countries_africa "
   ]
  },
  {
   "cell_type": "markdown",
   "metadata": {},
   "source": [
    "We now want to combine the rows of both datasets:"
   ]
  },
  {
   "cell_type": "code",
   "execution_count": 242,
   "metadata": {
    "run_control": {
     "frozen": false,
     "read_only": false
    }
   },
   "outputs": [
    {
     "data": {
      "text/html": [
       "<div>\n",
       "<style scoped>\n",
       "    .dataframe tbody tr th:only-of-type {\n",
       "        vertical-align: middle;\n",
       "    }\n",
       "\n",
       "    .dataframe tbody tr th {\n",
       "        vertical-align: top;\n",
       "    }\n",
       "\n",
       "    .dataframe thead th {\n",
       "        text-align: right;\n",
       "    }\n",
       "</style>\n",
       "<table border=\"1\" class=\"dataframe\">\n",
       "  <thead>\n",
       "    <tr style=\"text-align: right;\">\n",
       "      <th></th>\n",
       "      <th>country</th>\n",
       "      <th>population</th>\n",
       "      <th>area</th>\n",
       "      <th>capital</th>\n",
       "      <th>pop_density</th>\n",
       "    </tr>\n",
       "  </thead>\n",
       "  <tbody>\n",
       "    <tr>\n",
       "      <td>0</td>\n",
       "      <td>Belgium</td>\n",
       "      <td>11.3</td>\n",
       "      <td>30510</td>\n",
       "      <td>Brussels</td>\n",
       "      <td>370.370370</td>\n",
       "    </tr>\n",
       "    <tr>\n",
       "      <td>1</td>\n",
       "      <td>France</td>\n",
       "      <td>64.3</td>\n",
       "      <td>671308</td>\n",
       "      <td>Paris</td>\n",
       "      <td>95.783158</td>\n",
       "    </tr>\n",
       "    <tr>\n",
       "      <td>2</td>\n",
       "      <td>Germany</td>\n",
       "      <td>81.3</td>\n",
       "      <td>357050</td>\n",
       "      <td>Berlin</td>\n",
       "      <td>227.699202</td>\n",
       "    </tr>\n",
       "    <tr>\n",
       "      <td>3</td>\n",
       "      <td>Netherlands</td>\n",
       "      <td>16.9</td>\n",
       "      <td>41526</td>\n",
       "      <td>Amsterdam</td>\n",
       "      <td>406.973944</td>\n",
       "    </tr>\n",
       "    <tr>\n",
       "      <td>4</td>\n",
       "      <td>United Kingdom</td>\n",
       "      <td>64.9</td>\n",
       "      <td>244820</td>\n",
       "      <td>London</td>\n",
       "      <td>265.092721</td>\n",
       "    </tr>\n",
       "    <tr>\n",
       "      <td>0</td>\n",
       "      <td>Nigeria</td>\n",
       "      <td>182.2</td>\n",
       "      <td>923768</td>\n",
       "      <td>Abuja</td>\n",
       "      <td>NaN</td>\n",
       "    </tr>\n",
       "    <tr>\n",
       "      <td>1</td>\n",
       "      <td>Rwanda</td>\n",
       "      <td>11.3</td>\n",
       "      <td>26338</td>\n",
       "      <td>Kigali</td>\n",
       "      <td>NaN</td>\n",
       "    </tr>\n",
       "    <tr>\n",
       "      <td>2</td>\n",
       "      <td>Egypt</td>\n",
       "      <td>94.3</td>\n",
       "      <td>1010408</td>\n",
       "      <td>Cairo</td>\n",
       "      <td>NaN</td>\n",
       "    </tr>\n",
       "    <tr>\n",
       "      <td>3</td>\n",
       "      <td>Morocco</td>\n",
       "      <td>34.4</td>\n",
       "      <td>710850</td>\n",
       "      <td>Rabat</td>\n",
       "      <td>NaN</td>\n",
       "    </tr>\n",
       "  </tbody>\n",
       "</table>\n",
       "</div>"
      ],
      "text/plain": [
       "          country  population     area    capital  pop_density\n",
       "0         Belgium        11.3    30510   Brussels   370.370370\n",
       "1          France        64.3   671308      Paris    95.783158\n",
       "2         Germany        81.3   357050     Berlin   227.699202\n",
       "3     Netherlands        16.9    41526  Amsterdam   406.973944\n",
       "4  United Kingdom        64.9   244820     London   265.092721\n",
       "0         Nigeria       182.2   923768      Abuja          NaN\n",
       "1          Rwanda        11.3    26338     Kigali          NaN\n",
       "2           Egypt        94.3  1010408      Cairo          NaN\n",
       "3         Morocco        34.4   710850      Rabat          NaN"
      ]
     },
     "execution_count": 242,
     "metadata": {},
     "output_type": "execute_result"
    }
   ],
   "source": [
    "dd=pd.concat([countries, countries_africa],sort=False)\n",
    "dd"
   ]
  },
  {
   "cell_type": "code",
   "execution_count": 248,
   "metadata": {},
   "outputs": [
    {
     "data": {
      "text/html": [
       "<div>\n",
       "<style scoped>\n",
       "    .dataframe tbody tr th:only-of-type {\n",
       "        vertical-align: middle;\n",
       "    }\n",
       "\n",
       "    .dataframe tbody tr th {\n",
       "        vertical-align: top;\n",
       "    }\n",
       "\n",
       "    .dataframe thead th {\n",
       "        text-align: right;\n",
       "    }\n",
       "</style>\n",
       "<table border=\"1\" class=\"dataframe\">\n",
       "  <thead>\n",
       "    <tr style=\"text-align: right;\">\n",
       "      <th></th>\n",
       "      <th>country</th>\n",
       "      <th>population</th>\n",
       "      <th>area</th>\n",
       "      <th>capital</th>\n",
       "      <th>pop_density</th>\n",
       "    </tr>\n",
       "  </thead>\n",
       "  <tbody>\n",
       "    <tr>\n",
       "      <td>0</td>\n",
       "      <td>Belgium</td>\n",
       "      <td>11.3</td>\n",
       "      <td>30510</td>\n",
       "      <td>Brussels</td>\n",
       "      <td>370.37037</td>\n",
       "    </tr>\n",
       "    <tr>\n",
       "      <td>0</td>\n",
       "      <td>Nigeria</td>\n",
       "      <td>182.2</td>\n",
       "      <td>923768</td>\n",
       "      <td>Abuja</td>\n",
       "      <td>NaN</td>\n",
       "    </tr>\n",
       "  </tbody>\n",
       "</table>\n",
       "</div>"
      ],
      "text/plain": [
       "   country  population    area   capital  pop_density\n",
       "0  Belgium        11.3   30510  Brussels    370.37037\n",
       "0  Nigeria       182.2  923768     Abuja          NaN"
      ]
     },
     "execution_count": 248,
     "metadata": {},
     "output_type": "execute_result"
    }
   ],
   "source": [
    "# ici, l'index est doublé !! donc comment accédé à l'index 2 ?\n",
    "dd.loc[0]"
   ]
  },
  {
   "cell_type": "code",
   "execution_count": null,
   "metadata": {},
   "outputs": [],
   "source": []
  },
  {
   "cell_type": "code",
   "execution_count": null,
   "metadata": {},
   "outputs": [],
   "source": []
  },
  {
   "cell_type": "code",
   "execution_count": null,
   "metadata": {},
   "outputs": [],
   "source": []
  },
  {
   "cell_type": "markdown",
   "metadata": {},
   "source": [
    "If we don't want the index to be preserved:"
   ]
  },
  {
   "cell_type": "code",
   "execution_count": 249,
   "metadata": {
    "run_control": {
     "frozen": false,
     "read_only": false
    }
   },
   "outputs": [
    {
     "data": {
      "text/html": [
       "<div>\n",
       "<style scoped>\n",
       "    .dataframe tbody tr th:only-of-type {\n",
       "        vertical-align: middle;\n",
       "    }\n",
       "\n",
       "    .dataframe tbody tr th {\n",
       "        vertical-align: top;\n",
       "    }\n",
       "\n",
       "    .dataframe thead th {\n",
       "        text-align: right;\n",
       "    }\n",
       "</style>\n",
       "<table border=\"1\" class=\"dataframe\">\n",
       "  <thead>\n",
       "    <tr style=\"text-align: right;\">\n",
       "      <th></th>\n",
       "      <th>country</th>\n",
       "      <th>population</th>\n",
       "      <th>area</th>\n",
       "      <th>capital</th>\n",
       "      <th>pop_density</th>\n",
       "    </tr>\n",
       "  </thead>\n",
       "  <tbody>\n",
       "    <tr>\n",
       "      <td>0</td>\n",
       "      <td>Belgium</td>\n",
       "      <td>11.3</td>\n",
       "      <td>30510</td>\n",
       "      <td>Brussels</td>\n",
       "      <td>370.370370</td>\n",
       "    </tr>\n",
       "    <tr>\n",
       "      <td>1</td>\n",
       "      <td>France</td>\n",
       "      <td>64.3</td>\n",
       "      <td>671308</td>\n",
       "      <td>Paris</td>\n",
       "      <td>95.783158</td>\n",
       "    </tr>\n",
       "    <tr>\n",
       "      <td>2</td>\n",
       "      <td>Germany</td>\n",
       "      <td>81.3</td>\n",
       "      <td>357050</td>\n",
       "      <td>Berlin</td>\n",
       "      <td>227.699202</td>\n",
       "    </tr>\n",
       "    <tr>\n",
       "      <td>3</td>\n",
       "      <td>Netherlands</td>\n",
       "      <td>16.9</td>\n",
       "      <td>41526</td>\n",
       "      <td>Amsterdam</td>\n",
       "      <td>406.973944</td>\n",
       "    </tr>\n",
       "    <tr>\n",
       "      <td>4</td>\n",
       "      <td>United Kingdom</td>\n",
       "      <td>64.9</td>\n",
       "      <td>244820</td>\n",
       "      <td>London</td>\n",
       "      <td>265.092721</td>\n",
       "    </tr>\n",
       "    <tr>\n",
       "      <td>5</td>\n",
       "      <td>Nigeria</td>\n",
       "      <td>182.2</td>\n",
       "      <td>923768</td>\n",
       "      <td>Abuja</td>\n",
       "      <td>NaN</td>\n",
       "    </tr>\n",
       "    <tr>\n",
       "      <td>6</td>\n",
       "      <td>Rwanda</td>\n",
       "      <td>11.3</td>\n",
       "      <td>26338</td>\n",
       "      <td>Kigali</td>\n",
       "      <td>NaN</td>\n",
       "    </tr>\n",
       "    <tr>\n",
       "      <td>7</td>\n",
       "      <td>Egypt</td>\n",
       "      <td>94.3</td>\n",
       "      <td>1010408</td>\n",
       "      <td>Cairo</td>\n",
       "      <td>NaN</td>\n",
       "    </tr>\n",
       "    <tr>\n",
       "      <td>8</td>\n",
       "      <td>Morocco</td>\n",
       "      <td>34.4</td>\n",
       "      <td>710850</td>\n",
       "      <td>Rabat</td>\n",
       "      <td>NaN</td>\n",
       "    </tr>\n",
       "  </tbody>\n",
       "</table>\n",
       "</div>"
      ],
      "text/plain": [
       "          country  population     area    capital  pop_density\n",
       "0         Belgium        11.3    30510   Brussels   370.370370\n",
       "1          France        64.3   671308      Paris    95.783158\n",
       "2         Germany        81.3   357050     Berlin   227.699202\n",
       "3     Netherlands        16.9    41526  Amsterdam   406.973944\n",
       "4  United Kingdom        64.9   244820     London   265.092721\n",
       "5         Nigeria       182.2   923768      Abuja          NaN\n",
       "6          Rwanda        11.3    26338     Kigali          NaN\n",
       "7           Egypt        94.3  1010408      Cairo          NaN\n",
       "8         Morocco        34.4   710850      Rabat          NaN"
      ]
     },
     "execution_count": 249,
     "metadata": {},
     "output_type": "execute_result"
    }
   ],
   "source": [
    "pd.concat([countries, countries_africa], ignore_index=True,sort=False)"
   ]
  },
  {
   "cell_type": "markdown",
   "metadata": {},
   "source": [
    "When the two dataframes don't have the same set of columns, by default missing values get introduced:"
   ]
  },
  {
   "cell_type": "code",
   "execution_count": 251,
   "metadata": {
    "run_control": {
     "frozen": false,
     "read_only": false
    }
   },
   "outputs": [
    {
     "data": {
      "text/html": [
       "<div>\n",
       "<style scoped>\n",
       "    .dataframe tbody tr th:only-of-type {\n",
       "        vertical-align: middle;\n",
       "    }\n",
       "\n",
       "    .dataframe tbody tr th {\n",
       "        vertical-align: top;\n",
       "    }\n",
       "\n",
       "    .dataframe thead th {\n",
       "        text-align: right;\n",
       "    }\n",
       "</style>\n",
       "<table border=\"1\" class=\"dataframe\">\n",
       "  <thead>\n",
       "    <tr style=\"text-align: right;\">\n",
       "      <th></th>\n",
       "      <th>area</th>\n",
       "      <th>capital</th>\n",
       "      <th>country</th>\n",
       "      <th>pop_density</th>\n",
       "      <th>population</th>\n",
       "    </tr>\n",
       "  </thead>\n",
       "  <tbody>\n",
       "    <tr>\n",
       "      <td>0</td>\n",
       "      <td>30510.0</td>\n",
       "      <td>Brussels</td>\n",
       "      <td>Belgium</td>\n",
       "      <td>370.370370</td>\n",
       "      <td>11.3</td>\n",
       "    </tr>\n",
       "    <tr>\n",
       "      <td>1</td>\n",
       "      <td>671308.0</td>\n",
       "      <td>Paris</td>\n",
       "      <td>France</td>\n",
       "      <td>95.783158</td>\n",
       "      <td>64.3</td>\n",
       "    </tr>\n",
       "    <tr>\n",
       "      <td>2</td>\n",
       "      <td>357050.0</td>\n",
       "      <td>Berlin</td>\n",
       "      <td>Germany</td>\n",
       "      <td>227.699202</td>\n",
       "      <td>81.3</td>\n",
       "    </tr>\n",
       "    <tr>\n",
       "      <td>3</td>\n",
       "      <td>41526.0</td>\n",
       "      <td>Amsterdam</td>\n",
       "      <td>Netherlands</td>\n",
       "      <td>406.973944</td>\n",
       "      <td>16.9</td>\n",
       "    </tr>\n",
       "    <tr>\n",
       "      <td>4</td>\n",
       "      <td>244820.0</td>\n",
       "      <td>London</td>\n",
       "      <td>United Kingdom</td>\n",
       "      <td>265.092721</td>\n",
       "      <td>64.9</td>\n",
       "    </tr>\n",
       "    <tr>\n",
       "      <td>5</td>\n",
       "      <td>NaN</td>\n",
       "      <td>Abuja</td>\n",
       "      <td>Nigeria</td>\n",
       "      <td>NaN</td>\n",
       "      <td>NaN</td>\n",
       "    </tr>\n",
       "    <tr>\n",
       "      <td>6</td>\n",
       "      <td>NaN</td>\n",
       "      <td>Kigali</td>\n",
       "      <td>Rwanda</td>\n",
       "      <td>NaN</td>\n",
       "      <td>NaN</td>\n",
       "    </tr>\n",
       "    <tr>\n",
       "      <td>7</td>\n",
       "      <td>NaN</td>\n",
       "      <td>Cairo</td>\n",
       "      <td>Egypt</td>\n",
       "      <td>NaN</td>\n",
       "      <td>NaN</td>\n",
       "    </tr>\n",
       "    <tr>\n",
       "      <td>8</td>\n",
       "      <td>NaN</td>\n",
       "      <td>Rabat</td>\n",
       "      <td>Morocco</td>\n",
       "      <td>NaN</td>\n",
       "      <td>NaN</td>\n",
       "    </tr>\n",
       "  </tbody>\n",
       "</table>\n",
       "</div>"
      ],
      "text/plain": [
       "       area    capital         country  pop_density  population\n",
       "0   30510.0   Brussels         Belgium   370.370370        11.3\n",
       "1  671308.0      Paris          France    95.783158        64.3\n",
       "2  357050.0     Berlin         Germany   227.699202        81.3\n",
       "3   41526.0  Amsterdam     Netherlands   406.973944        16.9\n",
       "4  244820.0     London  United Kingdom   265.092721        64.9\n",
       "5       NaN      Abuja         Nigeria          NaN         NaN\n",
       "6       NaN     Kigali          Rwanda          NaN         NaN\n",
       "7       NaN      Cairo           Egypt          NaN         NaN\n",
       "8       NaN      Rabat         Morocco          NaN         NaN"
      ]
     },
     "execution_count": 251,
     "metadata": {},
     "output_type": "execute_result"
    }
   ],
   "source": [
    "pd.concat([countries, countries_africa[['country', 'capital']]],\n",
    "          ignore_index=True,sort=True)"
   ]
  },
  {
   "cell_type": "markdown",
   "metadata": {},
   "source": [
    "We can also pass a dictionary of objects instead of a list of objects. Now the keys of the dictionary are preserved as an additional index level:"
   ]
  },
  {
   "cell_type": "code",
   "execution_count": 253,
   "metadata": {
    "run_control": {
     "frozen": false,
     "read_only": false
    }
   },
   "outputs": [
    {
     "data": {
      "text/html": [
       "<div>\n",
       "<style scoped>\n",
       "    .dataframe tbody tr th:only-of-type {\n",
       "        vertical-align: middle;\n",
       "    }\n",
       "\n",
       "    .dataframe tbody tr th {\n",
       "        vertical-align: top;\n",
       "    }\n",
       "\n",
       "    .dataframe thead th {\n",
       "        text-align: right;\n",
       "    }\n",
       "</style>\n",
       "<table border=\"1\" class=\"dataframe\">\n",
       "  <thead>\n",
       "    <tr style=\"text-align: right;\">\n",
       "      <th></th>\n",
       "      <th></th>\n",
       "      <th>area</th>\n",
       "      <th>capital</th>\n",
       "      <th>country</th>\n",
       "      <th>pop_density</th>\n",
       "      <th>population</th>\n",
       "    </tr>\n",
       "  </thead>\n",
       "  <tbody>\n",
       "    <tr>\n",
       "      <td rowspan=\"5\" valign=\"top\">europe</td>\n",
       "      <td>0</td>\n",
       "      <td>30510</td>\n",
       "      <td>Brussels</td>\n",
       "      <td>Belgium</td>\n",
       "      <td>370.370370</td>\n",
       "      <td>11.3</td>\n",
       "    </tr>\n",
       "    <tr>\n",
       "      <td>1</td>\n",
       "      <td>671308</td>\n",
       "      <td>Paris</td>\n",
       "      <td>France</td>\n",
       "      <td>95.783158</td>\n",
       "      <td>64.3</td>\n",
       "    </tr>\n",
       "    <tr>\n",
       "      <td>2</td>\n",
       "      <td>357050</td>\n",
       "      <td>Berlin</td>\n",
       "      <td>Germany</td>\n",
       "      <td>227.699202</td>\n",
       "      <td>81.3</td>\n",
       "    </tr>\n",
       "    <tr>\n",
       "      <td>3</td>\n",
       "      <td>41526</td>\n",
       "      <td>Amsterdam</td>\n",
       "      <td>Netherlands</td>\n",
       "      <td>406.973944</td>\n",
       "      <td>16.9</td>\n",
       "    </tr>\n",
       "    <tr>\n",
       "      <td>4</td>\n",
       "      <td>244820</td>\n",
       "      <td>London</td>\n",
       "      <td>United Kingdom</td>\n",
       "      <td>265.092721</td>\n",
       "      <td>64.9</td>\n",
       "    </tr>\n",
       "    <tr>\n",
       "      <td rowspan=\"4\" valign=\"top\">africa</td>\n",
       "      <td>0</td>\n",
       "      <td>923768</td>\n",
       "      <td>Abuja</td>\n",
       "      <td>Nigeria</td>\n",
       "      <td>NaN</td>\n",
       "      <td>182.2</td>\n",
       "    </tr>\n",
       "    <tr>\n",
       "      <td>1</td>\n",
       "      <td>26338</td>\n",
       "      <td>Kigali</td>\n",
       "      <td>Rwanda</td>\n",
       "      <td>NaN</td>\n",
       "      <td>11.3</td>\n",
       "    </tr>\n",
       "    <tr>\n",
       "      <td>2</td>\n",
       "      <td>1010408</td>\n",
       "      <td>Cairo</td>\n",
       "      <td>Egypt</td>\n",
       "      <td>NaN</td>\n",
       "      <td>94.3</td>\n",
       "    </tr>\n",
       "    <tr>\n",
       "      <td>3</td>\n",
       "      <td>710850</td>\n",
       "      <td>Rabat</td>\n",
       "      <td>Morocco</td>\n",
       "      <td>NaN</td>\n",
       "      <td>34.4</td>\n",
       "    </tr>\n",
       "  </tbody>\n",
       "</table>\n",
       "</div>"
      ],
      "text/plain": [
       "             area    capital         country  pop_density  population\n",
       "europe 0    30510   Brussels         Belgium   370.370370        11.3\n",
       "       1   671308      Paris          France    95.783158        64.3\n",
       "       2   357050     Berlin         Germany   227.699202        81.3\n",
       "       3    41526  Amsterdam     Netherlands   406.973944        16.9\n",
       "       4   244820     London  United Kingdom   265.092721        64.9\n",
       "africa 0   923768      Abuja         Nigeria          NaN       182.2\n",
       "       1    26338     Kigali          Rwanda          NaN        11.3\n",
       "       2  1010408      Cairo           Egypt          NaN        94.3\n",
       "       3   710850      Rabat         Morocco          NaN        34.4"
      ]
     },
     "execution_count": 253,
     "metadata": {},
     "output_type": "execute_result"
    }
   ],
   "source": [
    "pd.concat({'europe': countries, 'africa': countries_africa},sort=True)"
   ]
  },
  {
   "cell_type": "markdown",
   "metadata": {},
   "source": [
    "## Combining columns  - ``pd.concat`` with ``axis=1``"
   ]
  },
  {
   "cell_type": "markdown",
   "metadata": {},
   "source": [
    "![](img/schema-concat1.svg)"
   ]
  },
  {
   "cell_type": "markdown",
   "metadata": {},
   "source": [
    "Assume we have another DataFrame for the same countries, but with some additional statistics:"
   ]
  },
  {
   "cell_type": "code",
   "execution_count": 254,
   "metadata": {
    "run_control": {
     "frozen": false,
     "read_only": false
    }
   },
   "outputs": [
    {
     "data": {
      "text/html": [
       "<div>\n",
       "<style scoped>\n",
       "    .dataframe tbody tr th:only-of-type {\n",
       "        vertical-align: middle;\n",
       "    }\n",
       "\n",
       "    .dataframe tbody tr th {\n",
       "        vertical-align: top;\n",
       "    }\n",
       "\n",
       "    .dataframe thead th {\n",
       "        text-align: right;\n",
       "    }\n",
       "</style>\n",
       "<table border=\"1\" class=\"dataframe\">\n",
       "  <thead>\n",
       "    <tr style=\"text-align: right;\">\n",
       "      <th></th>\n",
       "      <th>GDP</th>\n",
       "      <th>area</th>\n",
       "    </tr>\n",
       "    <tr>\n",
       "      <th>country</th>\n",
       "      <th></th>\n",
       "      <th></th>\n",
       "    </tr>\n",
       "  </thead>\n",
       "  <tbody>\n",
       "    <tr>\n",
       "      <td>Belgium</td>\n",
       "      <td>496477</td>\n",
       "      <td>8.0</td>\n",
       "    </tr>\n",
       "    <tr>\n",
       "      <td>France</td>\n",
       "      <td>2650823</td>\n",
       "      <td>9.9</td>\n",
       "    </tr>\n",
       "    <tr>\n",
       "      <td>Netherlands</td>\n",
       "      <td>820726</td>\n",
       "      <td>5.7</td>\n",
       "    </tr>\n",
       "  </tbody>\n",
       "</table>\n",
       "</div>"
      ],
      "text/plain": [
       "                 GDP  area\n",
       "country                   \n",
       "Belgium       496477   8.0\n",
       "France       2650823   9.9\n",
       "Netherlands   820726   5.7"
      ]
     },
     "execution_count": 254,
     "metadata": {},
     "output_type": "execute_result"
    }
   ],
   "source": [
    "data = {'country': ['Belgium', 'France', 'Netherlands'],\n",
    "        'GDP': [496477, 2650823, 820726],\n",
    "        'area': [8.0, 9.9, 5.7]}\n",
    "country_economics = pd.DataFrame(data).set_index('country')\n",
    "country_economics"
   ]
  },
  {
   "cell_type": "code",
   "execution_count": 255,
   "metadata": {
    "run_control": {
     "frozen": false,
     "read_only": false
    }
   },
   "outputs": [
    {
     "data": {
      "text/html": [
       "<div>\n",
       "<style scoped>\n",
       "    .dataframe tbody tr th:only-of-type {\n",
       "        vertical-align: middle;\n",
       "    }\n",
       "\n",
       "    .dataframe tbody tr th {\n",
       "        vertical-align: top;\n",
       "    }\n",
       "\n",
       "    .dataframe thead th {\n",
       "        text-align: right;\n",
       "    }\n",
       "</style>\n",
       "<table border=\"1\" class=\"dataframe\">\n",
       "  <thead>\n",
       "    <tr style=\"text-align: right;\">\n",
       "      <th></th>\n",
       "      <th>country</th>\n",
       "      <th>population</th>\n",
       "      <th>area</th>\n",
       "      <th>capital</th>\n",
       "      <th>pop_density</th>\n",
       "      <th>GDP</th>\n",
       "      <th>area</th>\n",
       "    </tr>\n",
       "  </thead>\n",
       "  <tbody>\n",
       "    <tr>\n",
       "      <td>0</td>\n",
       "      <td>Belgium</td>\n",
       "      <td>11.3</td>\n",
       "      <td>30510.0</td>\n",
       "      <td>Brussels</td>\n",
       "      <td>370.370370</td>\n",
       "      <td>NaN</td>\n",
       "      <td>NaN</td>\n",
       "    </tr>\n",
       "    <tr>\n",
       "      <td>1</td>\n",
       "      <td>France</td>\n",
       "      <td>64.3</td>\n",
       "      <td>671308.0</td>\n",
       "      <td>Paris</td>\n",
       "      <td>95.783158</td>\n",
       "      <td>NaN</td>\n",
       "      <td>NaN</td>\n",
       "    </tr>\n",
       "    <tr>\n",
       "      <td>2</td>\n",
       "      <td>Germany</td>\n",
       "      <td>81.3</td>\n",
       "      <td>357050.0</td>\n",
       "      <td>Berlin</td>\n",
       "      <td>227.699202</td>\n",
       "      <td>NaN</td>\n",
       "      <td>NaN</td>\n",
       "    </tr>\n",
       "    <tr>\n",
       "      <td>3</td>\n",
       "      <td>Netherlands</td>\n",
       "      <td>16.9</td>\n",
       "      <td>41526.0</td>\n",
       "      <td>Amsterdam</td>\n",
       "      <td>406.973944</td>\n",
       "      <td>NaN</td>\n",
       "      <td>NaN</td>\n",
       "    </tr>\n",
       "    <tr>\n",
       "      <td>4</td>\n",
       "      <td>United Kingdom</td>\n",
       "      <td>64.9</td>\n",
       "      <td>244820.0</td>\n",
       "      <td>London</td>\n",
       "      <td>265.092721</td>\n",
       "      <td>NaN</td>\n",
       "      <td>NaN</td>\n",
       "    </tr>\n",
       "    <tr>\n",
       "      <td>Belgium</td>\n",
       "      <td>NaN</td>\n",
       "      <td>NaN</td>\n",
       "      <td>NaN</td>\n",
       "      <td>NaN</td>\n",
       "      <td>NaN</td>\n",
       "      <td>496477.0</td>\n",
       "      <td>8.0</td>\n",
       "    </tr>\n",
       "    <tr>\n",
       "      <td>France</td>\n",
       "      <td>NaN</td>\n",
       "      <td>NaN</td>\n",
       "      <td>NaN</td>\n",
       "      <td>NaN</td>\n",
       "      <td>NaN</td>\n",
       "      <td>2650823.0</td>\n",
       "      <td>9.9</td>\n",
       "    </tr>\n",
       "    <tr>\n",
       "      <td>Netherlands</td>\n",
       "      <td>NaN</td>\n",
       "      <td>NaN</td>\n",
       "      <td>NaN</td>\n",
       "      <td>NaN</td>\n",
       "      <td>NaN</td>\n",
       "      <td>820726.0</td>\n",
       "      <td>5.7</td>\n",
       "    </tr>\n",
       "  </tbody>\n",
       "</table>\n",
       "</div>"
      ],
      "text/plain": [
       "                    country  population      area    capital  pop_density  \\\n",
       "0                   Belgium        11.3   30510.0   Brussels   370.370370   \n",
       "1                    France        64.3  671308.0      Paris    95.783158   \n",
       "2                   Germany        81.3  357050.0     Berlin   227.699202   \n",
       "3               Netherlands        16.9   41526.0  Amsterdam   406.973944   \n",
       "4            United Kingdom        64.9  244820.0     London   265.092721   \n",
       "Belgium                 NaN         NaN       NaN        NaN          NaN   \n",
       "France                  NaN         NaN       NaN        NaN          NaN   \n",
       "Netherlands             NaN         NaN       NaN        NaN          NaN   \n",
       "\n",
       "                   GDP  area  \n",
       "0                  NaN   NaN  \n",
       "1                  NaN   NaN  \n",
       "2                  NaN   NaN  \n",
       "3                  NaN   NaN  \n",
       "4                  NaN   NaN  \n",
       "Belgium       496477.0   8.0  \n",
       "France       2650823.0   9.9  \n",
       "Netherlands   820726.0   5.7  "
      ]
     },
     "execution_count": 255,
     "metadata": {},
     "output_type": "execute_result"
    }
   ],
   "source": [
    "pd.concat([countries, country_economics], axis=1)"
   ]
  },
  {
   "cell_type": "markdown",
   "metadata": {},
   "source": [
    "`pd.concat` matches the different objects based on the index:"
   ]
  },
  {
   "cell_type": "code",
   "execution_count": 260,
   "metadata": {
    "run_control": {
     "frozen": false,
     "read_only": false
    }
   },
   "outputs": [],
   "source": [
    "countries2 = countries.set_index('country')"
   ]
  },
  {
   "cell_type": "code",
   "execution_count": 261,
   "metadata": {
    "run_control": {
     "frozen": false,
     "read_only": false
    }
   },
   "outputs": [
    {
     "data": {
      "text/html": [
       "<div>\n",
       "<style scoped>\n",
       "    .dataframe tbody tr th:only-of-type {\n",
       "        vertical-align: middle;\n",
       "    }\n",
       "\n",
       "    .dataframe tbody tr th {\n",
       "        vertical-align: top;\n",
       "    }\n",
       "\n",
       "    .dataframe thead th {\n",
       "        text-align: right;\n",
       "    }\n",
       "</style>\n",
       "<table border=\"1\" class=\"dataframe\">\n",
       "  <thead>\n",
       "    <tr style=\"text-align: right;\">\n",
       "      <th></th>\n",
       "      <th>population</th>\n",
       "      <th>area</th>\n",
       "      <th>capital</th>\n",
       "      <th>pop_density</th>\n",
       "    </tr>\n",
       "    <tr>\n",
       "      <th>country</th>\n",
       "      <th></th>\n",
       "      <th></th>\n",
       "      <th></th>\n",
       "      <th></th>\n",
       "    </tr>\n",
       "  </thead>\n",
       "  <tbody>\n",
       "    <tr>\n",
       "      <td>Belgium</td>\n",
       "      <td>11.3</td>\n",
       "      <td>30510</td>\n",
       "      <td>Brussels</td>\n",
       "      <td>370.370370</td>\n",
       "    </tr>\n",
       "    <tr>\n",
       "      <td>France</td>\n",
       "      <td>64.3</td>\n",
       "      <td>671308</td>\n",
       "      <td>Paris</td>\n",
       "      <td>95.783158</td>\n",
       "    </tr>\n",
       "    <tr>\n",
       "      <td>Germany</td>\n",
       "      <td>81.3</td>\n",
       "      <td>357050</td>\n",
       "      <td>Berlin</td>\n",
       "      <td>227.699202</td>\n",
       "    </tr>\n",
       "    <tr>\n",
       "      <td>Netherlands</td>\n",
       "      <td>16.9</td>\n",
       "      <td>41526</td>\n",
       "      <td>Amsterdam</td>\n",
       "      <td>406.973944</td>\n",
       "    </tr>\n",
       "    <tr>\n",
       "      <td>United Kingdom</td>\n",
       "      <td>64.9</td>\n",
       "      <td>244820</td>\n",
       "      <td>London</td>\n",
       "      <td>265.092721</td>\n",
       "    </tr>\n",
       "  </tbody>\n",
       "</table>\n",
       "</div>"
      ],
      "text/plain": [
       "                population    area    capital  pop_density\n",
       "country                                                   \n",
       "Belgium               11.3   30510   Brussels   370.370370\n",
       "France                64.3  671308      Paris    95.783158\n",
       "Germany               81.3  357050     Berlin   227.699202\n",
       "Netherlands           16.9   41526  Amsterdam   406.973944\n",
       "United Kingdom        64.9  244820     London   265.092721"
      ]
     },
     "execution_count": 261,
     "metadata": {},
     "output_type": "execute_result"
    }
   ],
   "source": [
    "countries2"
   ]
  },
  {
   "cell_type": "code",
   "execution_count": 259,
   "metadata": {
    "run_control": {
     "frozen": false,
     "read_only": false
    }
   },
   "outputs": [
    {
     "data": {
      "text/html": [
       "<div>\n",
       "<style scoped>\n",
       "    .dataframe tbody tr th:only-of-type {\n",
       "        vertical-align: middle;\n",
       "    }\n",
       "\n",
       "    .dataframe tbody tr th {\n",
       "        vertical-align: top;\n",
       "    }\n",
       "\n",
       "    .dataframe thead th {\n",
       "        text-align: right;\n",
       "    }\n",
       "</style>\n",
       "<table border=\"1\" class=\"dataframe\">\n",
       "  <thead>\n",
       "    <tr style=\"text-align: right;\">\n",
       "      <th></th>\n",
       "      <th>population</th>\n",
       "      <th>area</th>\n",
       "      <th>capital</th>\n",
       "      <th>pop_density</th>\n",
       "      <th>GDP</th>\n",
       "      <th>area</th>\n",
       "    </tr>\n",
       "  </thead>\n",
       "  <tbody>\n",
       "    <tr>\n",
       "      <td>Belgium</td>\n",
       "      <td>11.3</td>\n",
       "      <td>30510</td>\n",
       "      <td>Brussels</td>\n",
       "      <td>370.370370</td>\n",
       "      <td>496477.0</td>\n",
       "      <td>8.0</td>\n",
       "    </tr>\n",
       "    <tr>\n",
       "      <td>France</td>\n",
       "      <td>64.3</td>\n",
       "      <td>671308</td>\n",
       "      <td>Paris</td>\n",
       "      <td>95.783158</td>\n",
       "      <td>2650823.0</td>\n",
       "      <td>9.9</td>\n",
       "    </tr>\n",
       "    <tr>\n",
       "      <td>Germany</td>\n",
       "      <td>81.3</td>\n",
       "      <td>357050</td>\n",
       "      <td>Berlin</td>\n",
       "      <td>227.699202</td>\n",
       "      <td>NaN</td>\n",
       "      <td>NaN</td>\n",
       "    </tr>\n",
       "    <tr>\n",
       "      <td>Netherlands</td>\n",
       "      <td>16.9</td>\n",
       "      <td>41526</td>\n",
       "      <td>Amsterdam</td>\n",
       "      <td>406.973944</td>\n",
       "      <td>820726.0</td>\n",
       "      <td>5.7</td>\n",
       "    </tr>\n",
       "    <tr>\n",
       "      <td>United Kingdom</td>\n",
       "      <td>64.9</td>\n",
       "      <td>244820</td>\n",
       "      <td>London</td>\n",
       "      <td>265.092721</td>\n",
       "      <td>NaN</td>\n",
       "      <td>NaN</td>\n",
       "    </tr>\n",
       "  </tbody>\n",
       "</table>\n",
       "</div>"
      ],
      "text/plain": [
       "                population    area    capital  pop_density        GDP  area\n",
       "Belgium               11.3   30510   Brussels   370.370370   496477.0   8.0\n",
       "France                64.3  671308      Paris    95.783158  2650823.0   9.9\n",
       "Germany               81.3  357050     Berlin   227.699202        NaN   NaN\n",
       "Netherlands           16.9   41526  Amsterdam   406.973944   820726.0   5.7\n",
       "United Kingdom        64.9  244820     London   265.092721        NaN   NaN"
      ]
     },
     "execution_count": 259,
     "metadata": {},
     "output_type": "execute_result"
    }
   ],
   "source": [
    "pd.concat([countries2, country_economics], axis=1,sort=False)"
   ]
  },
  {
   "cell_type": "markdown",
   "metadata": {},
   "source": [
    "# Joining data with `pd.merge`"
   ]
  },
  {
   "cell_type": "markdown",
   "metadata": {},
   "source": [
    "Using `pd.concat` above, we combined datasets that had the same columns or the same index values. But, another typical case if where you want to add information of second dataframe to a first one based on one of the columns. That can be done with [`pd.merge`](http://pandas.pydata.org/pandas-docs/stable/generated/pandas.DataFrame.merge.html).\n",
    "\n",
    "Let's look again at the titanic passenger data, but taking a small subset of it to make the example easier to grasp:"
   ]
  },
  {
   "cell_type": "code",
   "execution_count": null,
   "metadata": {},
   "outputs": [],
   "source": [
    "data = {'country': ['Belgium', 'France', 'Germany', 'Netherlands', 'United Kingdom', 'Australia'],\n",
    "        'population': [11.3, 64.3, 81.3, 16.9, 64.9, 24.4],\n",
    "        'area': [30510, 671308, 357050, 41526, 244820, 7692024],\n",
    "        'capital': ['Brussels', 'Paris', 'Berlin', 'Amsterdam', 'London', 'Canberra'],\n",
    "        'hemisphere': ['North', 'North', 'North', 'North', 'North', 'South']}\n",
    "countries = pd.DataFrame(data)\n",
    "countries"
   ]
  },
  {
   "cell_type": "code",
   "execution_count": null,
   "metadata": {},
   "outputs": [],
   "source": [
    "data = {'city': ['Paris', 'Lyon', 'Lille', 'Berlin', 'Munich', 'Sydney'],\n",
    "        'country': ['France', 'France', 'France', 'Germany', 'Germany', 'Australia'],\n",
    "        }\n",
    "cities = pd.DataFrame(data)\n",
    "cities"
   ]
  },
  {
   "cell_type": "markdown",
   "metadata": {},
   "source": [
    "Let's say we want to know in what hemisphere is each city"
   ]
  },
  {
   "cell_type": "code",
   "execution_count": null,
   "metadata": {},
   "outputs": [],
   "source": [
    "pd.merge(cities, countries, on='country', how='left')"
   ]
  },
  {
   "cell_type": "code",
   "execution_count": null,
   "metadata": {},
   "outputs": [],
   "source": [
    "pd.merge(cities, countries[['country', 'hemisphere']],\n",
    "         on='country', how='left')"
   ]
  },
  {
   "cell_type": "markdown",
   "metadata": {},
   "source": [
    "In this case we use `how='left` (a \"left join\") because we wanted to keep the original rows of `cities` and only add matching values from `countries` to it. Other options are 'inner', 'outer' and 'right' (see the [docs](http://pandas.pydata.org/pandas-docs/stable/merging.html#brief-primer-on-merge-methods-relational-algebra) for more on this)."
   ]
  },
  {
   "cell_type": "markdown",
   "metadata": {},
   "source": [
    "## \"Group by\" operations"
   ]
  },
  {
   "cell_type": "markdown",
   "metadata": {},
   "source": [
    "### Some 'theory': the groupby operation (split-apply-combine)"
   ]
  },
  {
   "cell_type": "code",
   "execution_count": null,
   "metadata": {
    "run_control": {
     "frozen": false,
     "read_only": false
    }
   },
   "outputs": [],
   "source": [
    "df = pd.DataFrame({'key':['A','B','C','A','B','C','A','B','C'],\n",
    "                   'data': [0, 5, 10, 5, 10, 15, 10, 15, 20]})\n",
    "df"
   ]
  },
  {
   "cell_type": "markdown",
   "metadata": {},
   "source": [
    "### Recap: aggregating functions"
   ]
  },
  {
   "cell_type": "markdown",
   "metadata": {},
   "source": [
    "When analyzing data, you often calculate summary statistics (aggregations like the mean, max, ...). As we have seen before, we can easily calculate such a statistic for a Series or column using one of the many available methods. For example:"
   ]
  },
  {
   "cell_type": "code",
   "execution_count": null,
   "metadata": {
    "run_control": {
     "frozen": false,
     "read_only": false
    }
   },
   "outputs": [],
   "source": [
    "df['data'].sum()"
   ]
  },
  {
   "cell_type": "markdown",
   "metadata": {},
   "source": [
    "However, in many cases your data has certain groups in it, and in that case, you may want to calculate this statistic for each of the groups.\n",
    "\n",
    "For example, in the above dataframe `df`, there is a column 'key' which has three possible values: 'A', 'B' and 'C'. When we want to calculate the sum for each of those groups, we could do the following:"
   ]
  },
  {
   "cell_type": "code",
   "execution_count": null,
   "metadata": {
    "run_control": {
     "frozen": false,
     "read_only": false
    }
   },
   "outputs": [],
   "source": [
    "print('A', df[df['key'] == \"A\"]['data'].sum())\n",
    "print('B', df[df['key'] == \"B\"]['data'].sum())\n",
    "print('C', df[df['key'] == \"C\"]['data'].sum())"
   ]
  },
  {
   "cell_type": "markdown",
   "metadata": {},
   "source": [
    "This becomes very verbose when having multiple groups. You could make the above a bit easier by looping over the different values, but still, it is not very convenient to work with.\n",
    "\n",
    "What we did above, applying a function on different groups, is a \"groupby operation\", and pandas provides some convenient functionality for this."
   ]
  },
  {
   "cell_type": "markdown",
   "metadata": {},
   "source": [
    "### Groupby: applying functions per group"
   ]
  },
  {
   "cell_type": "markdown",
   "metadata": {
    "slideshow": {
     "slide_type": "subslide"
    }
   },
   "source": [
    "The \"group by\" concept: we want to **apply the same function on subsets of your dataframe, based on some key to split the dataframe in subsets**\n",
    "\n",
    "This operation is also referred to as the \"split-apply-combine\" operation, involving the following steps:\n",
    "\n",
    "* **Splitting** the data into groups based on some criteria\n",
    "* **Applying** a function to each group independently\n",
    "* **Combining** the results into a data structure\n",
    "\n",
    "<img src=\"img/splitApplyCombine.png\">\n",
    "\n",
    "Similar to SQL `GROUP BY`"
   ]
  },
  {
   "cell_type": "markdown",
   "metadata": {},
   "source": [
    "Instead of doing the manual filtering as above\n",
    "\n",
    "\n",
    "    df[df['key'] == \"A\"].sum()\n",
    "    df[df['key'] == \"B\"].sum()\n",
    "    ...\n",
    "\n",
    "pandas provides the `groupby` method to do exactly this:"
   ]
  },
  {
   "cell_type": "code",
   "execution_count": null,
   "metadata": {
    "run_control": {
     "frozen": false,
     "read_only": false
    }
   },
   "outputs": [],
   "source": [
    "df.groupby('key').sum()"
   ]
  },
  {
   "cell_type": "code",
   "execution_count": null,
   "metadata": {
    "run_control": {
     "frozen": false,
     "read_only": false
    },
    "slideshow": {
     "slide_type": "subslide"
    }
   },
   "outputs": [],
   "source": [
    "df.groupby('key').aggregate(np.sum)  # 'sum'"
   ]
  },
  {
   "cell_type": "markdown",
   "metadata": {},
   "source": [
    "And many more methods are available. "
   ]
  },
  {
   "cell_type": "code",
   "execution_count": null,
   "metadata": {
    "run_control": {
     "frozen": false,
     "read_only": false
    }
   },
   "outputs": [],
   "source": [
    "df.groupby('key')['data'].sum()"
   ]
  },
  {
   "cell_type": "markdown",
   "metadata": {
    "slideshow": {
     "slide_type": "subslide"
    }
   },
   "source": [
    "# Some more theory"
   ]
  },
  {
   "cell_type": "markdown",
   "metadata": {},
   "source": [
    "## Specifying the grouper"
   ]
  },
  {
   "cell_type": "markdown",
   "metadata": {
    "slideshow": {
     "slide_type": "subslide"
    }
   },
   "source": [
    "In the previous example and exercises, we always grouped by a single column by passing its name. But, a column name is not the only value you can pass as the grouper in `df.groupby(grouper)`. Other possibilities for `grouper` are:\n",
    "\n",
    "- a list of strings (to group by multiple columns)\n",
    "- a Series (similar to a string indicating a column in df) or array\n",
    "- function (to be applied on the index)\n",
    "- dict : groups by values\n",
    "- levels=[], names of levels in a MultiIndex"
   ]
  },
  {
   "cell_type": "code",
   "execution_count": null,
   "metadata": {
    "run_control": {
     "frozen": false,
     "read_only": false
    }
   },
   "outputs": [],
   "source": [
    "df.groupby(df['data'] < 18).mean()"
   ]
  },
  {
   "cell_type": "markdown",
   "metadata": {},
   "source": [
    "## The size of groups - value counts"
   ]
  },
  {
   "cell_type": "markdown",
   "metadata": {},
   "source": [
    "Oftentimes you want to know how many elements there are in a certain group (or in other words: the number of occurences of the different values from a column).\n",
    "\n",
    "To get the size of the groups, we can use `size`:"
   ]
  },
  {
   "cell_type": "code",
   "execution_count": null,
   "metadata": {
    "run_control": {
     "frozen": false,
     "read_only": false
    }
   },
   "outputs": [],
   "source": [
    "df.groupby('key').size()"
   ]
  },
  {
   "cell_type": "markdown",
   "metadata": {},
   "source": [
    "Another way to obtain such counts, is to use the Series `value_counts` method:"
   ]
  },
  {
   "cell_type": "code",
   "execution_count": null,
   "metadata": {
    "run_control": {
     "frozen": false,
     "read_only": false
    }
   },
   "outputs": [],
   "source": [
    "df['key'].value_counts()"
   ]
  },
  {
   "cell_type": "markdown",
   "metadata": {},
   "source": [
    "## Reshaping data"
   ]
  },
  {
   "cell_type": "markdown",
   "metadata": {},
   "source": [
    "### Pivoting data"
   ]
  },
  {
   "cell_type": "markdown",
   "metadata": {},
   "source": [
    "People who know Excel, probably know the **Pivot** functionality:"
   ]
  },
  {
   "cell_type": "markdown",
   "metadata": {},
   "source": [
    "![](img/pivot_excel.png)"
   ]
  },
  {
   "cell_type": "markdown",
   "metadata": {},
   "source": [
    "The data of the table:"
   ]
  },
  {
   "cell_type": "code",
   "execution_count": null,
   "metadata": {},
   "outputs": [],
   "source": [
    "excelample = pd.DataFrame({'Month': [\"January\", \"January\", \"January\", \"January\", \n",
    "                                  \"February\", \"February\", \"February\", \"February\", \n",
    "                                  \"March\", \"March\", \"March\", \"March\"],\n",
    "                   'Category': [\"Transportation\", \"Grocery\", \"Household\", \"Entertainment\",\n",
    "                                \"Transportation\", \"Grocery\", \"Household\", \"Entertainment\",\n",
    "                                \"Transportation\", \"Grocery\", \"Household\", \"Entertainment\"],\n",
    "                   'Amount': [74., 235., 175., 100., 115., 240., 225., 125., 90., 260., 200., 120.]})"
   ]
  },
  {
   "cell_type": "code",
   "execution_count": null,
   "metadata": {},
   "outputs": [],
   "source": [
    "excelample"
   ]
  },
  {
   "cell_type": "code",
   "execution_count": null,
   "metadata": {},
   "outputs": [],
   "source": [
    "excelample_pivot = excelample.pivot(index=\"Category\", columns=\"Month\", values=\"Amount\")\n",
    "excelample_pivot"
   ]
  },
  {
   "cell_type": "markdown",
   "metadata": {},
   "source": [
    "Interested in *Grand totals*?"
   ]
  },
  {
   "cell_type": "code",
   "execution_count": null,
   "metadata": {},
   "outputs": [],
   "source": [
    "# sum columns\n",
    "excelample_pivot.sum(axis=1)"
   ]
  },
  {
   "cell_type": "code",
   "execution_count": null,
   "metadata": {},
   "outputs": [],
   "source": [
    "# sum rows\n",
    "excelample_pivot.sum(axis=0)"
   ]
  },
  {
   "cell_type": "markdown",
   "metadata": {},
   "source": [
    "## Pivot is just reordering your data:"
   ]
  },
  {
   "cell_type": "markdown",
   "metadata": {},
   "source": [
    "Small subsample of the titanic dataset:"
   ]
  },
  {
   "cell_type": "code",
   "execution_count": null,
   "metadata": {
    "run_control": {
     "frozen": false,
     "read_only": false
    }
   },
   "outputs": [],
   "source": [
    "df = pd.DataFrame({'Fare': [7.25, 71.2833, 51.8625, 30.0708, 7.8542, 13.0],\n",
    "                   'Pclass': [3, 1, 1, 2, 3, 2],\n",
    "                   'Sex': ['male', 'female', 'male', 'female', 'female', 'male'],\n",
    "                   'Survived': [0, 1, 0, 1, 0, 1]})"
   ]
  },
  {
   "cell_type": "code",
   "execution_count": null,
   "metadata": {
    "run_control": {
     "frozen": false,
     "read_only": false
    }
   },
   "outputs": [],
   "source": [
    "df"
   ]
  },
  {
   "cell_type": "code",
   "execution_count": null,
   "metadata": {
    "run_control": {
     "frozen": false,
     "read_only": false
    }
   },
   "outputs": [],
   "source": [
    "df.pivot(index='Pclass', columns='Sex', values='Fare')"
   ]
  },
  {
   "cell_type": "code",
   "execution_count": null,
   "metadata": {
    "run_control": {
     "frozen": false,
     "read_only": false
    }
   },
   "outputs": [],
   "source": [
    "df.pivot(index='Pclass', columns='Sex', values='Survived')"
   ]
  },
  {
   "cell_type": "markdown",
   "metadata": {},
   "source": [
    "<div class=\"alert alert-danger\">\n",
    "\n",
    "<b>NOTE</b>:\n",
    "\n",
    " <ul>\n",
    "  <li>**Pivot** is purely restructering: a single value for each index/column combination is required.</li>\n",
    "</ul>\n",
    "</div>"
   ]
  },
  {
   "cell_type": "markdown",
   "metadata": {},
   "source": [
    "# Pivot tables - aggregating while pivoting"
   ]
  },
  {
   "cell_type": "code",
   "execution_count": null,
   "metadata": {
    "run_control": {
     "frozen": false,
     "read_only": false
    },
    "scrolled": true
   },
   "outputs": [],
   "source": [
    "df.pivot_table(index='Sex', columns='Pclass', values='Fare')"
   ]
  },
  {
   "cell_type": "markdown",
   "metadata": {},
   "source": [
    "<div class=\"alert alert-info\">\n",
    "\n",
    "<b>REMEMBER</b>:\n",
    "\n",
    " <ul>\n",
    "  <li>By default, `pivot_table` takes the **mean** of all values that would end up into one cell. However, you can also specify other aggregation functions using the `aggfunc` keyword.</li>\n",
    "</ul>\n",
    "</div>"
   ]
  },
  {
   "cell_type": "code",
   "execution_count": null,
   "metadata": {
    "run_control": {
     "frozen": false,
     "read_only": false
    }
   },
   "outputs": [],
   "source": [
    "df.pivot_table(index='Sex', columns='Pclass', \n",
    "               values='Fare', aggfunc='max')"
   ]
  },
  {
   "cell_type": "code",
   "execution_count": null,
   "metadata": {
    "run_control": {
     "frozen": false,
     "read_only": false
    }
   },
   "outputs": [],
   "source": [
    "df.pivot_table(index='Sex', columns='Pclass', \n",
    "               values='Fare', aggfunc='count')"
   ]
  },
  {
   "cell_type": "markdown",
   "metadata": {},
   "source": [
    "# Reshaping with `stack` and `unstack`"
   ]
  },
  {
   "cell_type": "markdown",
   "metadata": {
    "slideshow": {
     "slide_type": "fragment"
    }
   },
   "source": [
    "The docs say:\n",
    "\n",
    "> Pivot a level of the (possibly hierarchical) column labels, returning a\n",
    "DataFrame (or Series in the case of an object with a single level of\n",
    "column labels) having a hierarchical index with a new inner-most level\n",
    "of row labels.\n",
    "\n",
    "Indeed... \n",
    "<img src=\"img/schema-stack.svg\" width=50%>\n",
    "\n",
    "Before we speak about `hierarchical index`, first check it in practice on the following dummy example:"
   ]
  },
  {
   "cell_type": "code",
   "execution_count": null,
   "metadata": {
    "run_control": {
     "frozen": false,
     "read_only": false
    },
    "slideshow": {
     "slide_type": "subslide"
    }
   },
   "outputs": [],
   "source": [
    "df = pd.DataFrame({'A':['one', 'one', 'two', 'two'], \n",
    "                   'B':['a', 'b', 'a', 'b'], \n",
    "                   'C':range(4)})\n",
    "df"
   ]
  },
  {
   "cell_type": "markdown",
   "metadata": {},
   "source": [
    "To use `stack`/`unstack`, we need the values we want to shift from rows to columns or the other way around as the index:"
   ]
  },
  {
   "cell_type": "code",
   "execution_count": null,
   "metadata": {
    "run_control": {
     "frozen": false,
     "read_only": false
    }
   },
   "outputs": [],
   "source": [
    "df = df.set_index(['A', 'B']) # Indeed, you can combine two indices\n",
    "df"
   ]
  },
  {
   "cell_type": "code",
   "execution_count": null,
   "metadata": {
    "run_control": {
     "frozen": false,
     "read_only": false
    },
    "slideshow": {
     "slide_type": "subslide"
    }
   },
   "outputs": [],
   "source": [
    "result = df['C'].unstack()\n",
    "result"
   ]
  },
  {
   "cell_type": "code",
   "execution_count": null,
   "metadata": {
    "run_control": {
     "frozen": false,
     "read_only": false
    }
   },
   "outputs": [],
   "source": [
    "df = result.stack().reset_index(name='C')\n",
    "df"
   ]
  },
  {
   "cell_type": "markdown",
   "metadata": {
    "collapsed": true,
    "run_control": {
     "frozen": false,
     "read_only": false
    }
   },
   "source": [
    "<div class=\"alert alert-info\">\n",
    "\n",
    "<b>REMEMBER</b>:\n",
    "\n",
    " <ul>\n",
    "  <li>**stack**: make your data *longer* and *smaller* </li>\n",
    "  <li>**unstack**: make your data *shorter* and *wider* </li>\n",
    "</ul>\n",
    "</div>"
   ]
  },
  {
   "cell_type": "markdown",
   "metadata": {},
   "source": [
    "## To learn more on Pandas and scientific Python in general\n",
    "\n",
    "   - https://nbviewer.jupyter.org/github/jakevdp/PythonDataScienceHandbook/tree/master/notebooks/"
   ]
  }
 ],
 "metadata": {
  "kernelspec": {
   "display_name": "Python 3",
   "language": "python",
   "name": "python3"
  },
  "language_info": {
   "codemirror_mode": {
    "name": "ipython",
    "version": 3
   },
   "file_extension": ".py",
   "mimetype": "text/x-python",
   "name": "python",
   "nbconvert_exporter": "python",
   "pygments_lexer": "ipython3",
   "version": "3.7.4"
  },
  "name": "_merged",
  "nav_menu": {},
  "toc": {
   "navigate_menu": true,
   "number_sections": true,
   "sideBar": true,
   "threshold": 6,
   "toc_cell": false,
   "toc_section_display": "block",
   "toc_window_display": true
  }
 },
 "nbformat": 4,
 "nbformat_minor": 1
}
