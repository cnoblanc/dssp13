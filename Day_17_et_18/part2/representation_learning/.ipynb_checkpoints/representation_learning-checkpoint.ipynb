{
 "cells": [
  {
   "cell_type": "markdown",
   "metadata": {},
   "source": [
    "# Representation Learning\n",
    "The success of machine learning algorithms depends a lot on data representation. Representation learning has recently emerged as an alternative approach to feature extraction. In representation learning, features are extracted from unlabeled data by training a neural network on a secondary, supervised learning task. In this lab, we will apply representation learning techniques to textual and graph-structured data. The code that you will write make use of the Gensim and NetworkX libraries of Python.\n",
    "\n",
    "## Part 1: Learning word representations\n",
    "In the first part of the lab, we will use the [Word2Vec](http://www.cs.columbia.edu/~blei/seminar/2016_discrete_data/readings/MikolovSutskeverChenCorradoDean2013.pdf) model to learn high-quality word representations that capture several syntactic and semantic word relationship.\n",
    "\n",
    "Throughout the entire session, we will be working with a subpart of the [OpinRank](http://kavita-ganesan.com/entity-ranking-data/) dataset. The OpinRank dataset contains reviews of cars and hotels. We will focus only on the hotel reviews. These reviews are stored in the `reviews_data.txt.gz` file. Each line in this file corresponds to a hotel review. Use the `load_data()` function defined below to read the data."
   ]
  },
  {
   "cell_type": "code",
   "execution_count": 5,
   "metadata": {},
   "outputs": [
    {
     "name": "stdout",
     "output_type": "stream",
     "text": [
      "1st Review: Oct 12 2009 \tNice trendy hotel location not too bad.\tI stayed in this hotel for one night. As this is a fairly new place some of the taxi drivers did not know where it was and/or did not want to drive there. Once I have eventually arrived at the hotel, I was very pleasantly surprised with the decor of the lobby/ground floor area. It was very stylish and modern. I found the reception's staff geeting me with 'Aloha' a bit out of place, but I guess they are briefed to say that to keep up the coroporate image.As I have a Starwood Preferred Guest member, I was given a small gift upon-check in. It was only a couple of fridge magnets in a gift box, but nevertheless a nice gesture.My room was nice and roomy, there are tea and coffee facilities in each room and you get two complimentary bottles of water plus some toiletries by 'bliss'.The location is not great. It is at the last metro stop and you then need to take a taxi, but if you are not planning on going to see the historic sites in Beijing, then you will be ok.I chose to have some breakfast in the hotel, which was really tasty and there was a good selection of dishes. There are a couple of computers to use in the communal area, as well as a pool table. There is also a small swimming pool and a gym area.I would definitely stay in this hotel again, but only if I did not plan to travel to central Beijing, as it can take a long time. The location is ok if you plan to do a lot of shopping, as there is a big shopping centre just few minutes away from the hotel and there are plenty of eating options around, including restaurants that serve a dog meat!\t\r\n",
      "\n",
      "length: 255404\n"
     ]
    }
   ],
   "source": [
    "import gzip\n",
    "\n",
    "def load_data():\n",
    "    data = list()\n",
    "    with gzip.open ('data/reviews_data.txt.gz', 'rb') as f:\n",
    "        for line in f:\n",
    "            data.append(line.decode('utf-8', 'backslashreplace'))\n",
    "    return data\n",
    "\n",
    "#your code here\n",
    "reviews=load_data()"
   ]
  },
  {
   "cell_type": "markdown",
   "metadata": {},
   "source": [
    "The `load_data()` function returns a list that contains all the hotel reviews. Print the second review of the dataset."
   ]
  },
  {
   "cell_type": "code",
   "execution_count": 6,
   "metadata": {},
   "outputs": [
    {
     "name": "stdout",
     "output_type": "stream",
     "text": [
      "1st Review: Oct 12 2009 \tNice trendy hotel location not too bad.\tI stayed in this hotel for one night. As this is a fairly new place some of the taxi drivers did not know where it was and/or did not want to drive there. Once I have eventually arrived at the hotel, I was very pleasantly surprised with the decor of the lobby/ground floor area. It was very stylish and modern. I found the reception's staff geeting me with 'Aloha' a bit out of place, but I guess they are briefed to say that to keep up the coroporate image.As I have a Starwood Preferred Guest member, I was given a small gift upon-check in. It was only a couple of fridge magnets in a gift box, but nevertheless a nice gesture.My room was nice and roomy, there are tea and coffee facilities in each room and you get two complimentary bottles of water plus some toiletries by 'bliss'.The location is not great. It is at the last metro stop and you then need to take a taxi, but if you are not planning on going to see the historic sites in Beijing, then you will be ok.I chose to have some breakfast in the hotel, which was really tasty and there was a good selection of dishes. There are a couple of computers to use in the communal area, as well as a pool table. There is also a small swimming pool and a gym area.I would definitely stay in this hotel again, but only if I did not plan to travel to central Beijing, as it can take a long time. The location is ok if you plan to do a lot of shopping, as there is a big shopping centre just few minutes away from the hotel and there are plenty of eating options around, including restaurants that serve a dog meat!\t\r\n",
      "\n",
      "length: 255404\n"
     ]
    }
   ],
   "source": [
    "print(\"1st Review:\",reviews[0])\n",
    "print(\"length:\",len(reviews))"
   ]
  },
  {
   "cell_type": "markdown",
   "metadata": {},
   "source": [
    "The documents that are contained in the dataset have already undergone some preprocessing. Therefore, we will only remove some punctuation marks, diacritics, and non letters, if any. Note that the input to the Word2Vec model has to be a list of lists (a list of sentences/documents where each sentence/document is a list of tokens). Therefore, we will also represent each document as a list of tokens. Use the `clean_str()` function defined below to preprocess each hotel review. Then, print the second preprocessed review."
   ]
  },
  {
   "cell_type": "code",
   "execution_count": 7,
   "metadata": {},
   "outputs": [],
   "source": [
    "import re\n",
    "\n",
    "def clean_str(string):\n",
    "    string = re.sub(r\"[^A-Za-z0-9(),!?\\'\\`]\", \" \", string)     \n",
    "    string = re.sub(r\"\\'s\", \" \\'s\", string) \n",
    "    string = re.sub(r\"\\'ve\", \" \\'ve\", string) \n",
    "    string = re.sub(r\"n\\'t\", \" n\\'t\", string) \n",
    "    string = re.sub(r\"\\'re\", \" \\'re\", string) \n",
    "    string = re.sub(r\"\\'d\", \" \\'d\", string) \n",
    "    string = re.sub(r\"\\'ll\", \" \\'ll\", string) \n",
    "    string = re.sub(r\",\", \" , \", string) \n",
    "    string = re.sub(r\"!\", \" ! \", string) \n",
    "    string = re.sub(r\"\\(\", \" \\( \", string) \n",
    "    string = re.sub(r\"\\)\", \" \\) \", string) \n",
    "    string = re.sub(r\"\\?\", \" \\? \", string) \n",
    "    string = re.sub(r\"\\s{2,}\", \" \", string)\n",
    "    return string.strip().split()\n",
    "\n",
    "\n",
    "#your code here\n",
    "processed_reviews=list()\n",
    "for i in range(len(reviews)):\n",
    "    processed_reviews.append(clean_str(reviews[i]))"
   ]
  },
  {
   "cell_type": "code",
   "execution_count": 8,
   "metadata": {},
   "outputs": [
    {
     "name": "stdout",
     "output_type": "stream",
     "text": [
      "['Oct', '12', '2009', 'Nice', 'trendy', 'hotel', 'location', 'not', 'too', 'bad', 'I', 'stayed', 'in', 'this', 'hotel', 'for', 'one', 'night', 'As', 'this', 'is', 'a', 'fairly', 'new', 'place', 'some', 'of', 'the', 'taxi', 'drivers', 'did', 'not', 'know', 'where', 'it', 'was', 'and', 'or', 'did', 'not', 'want', 'to', 'drive', 'there', 'Once', 'I', 'have', 'eventually', 'arrived', 'at', 'the', 'hotel', ',', 'I', 'was', 'very', 'pleasantly', 'surprised', 'with', 'the', 'decor', 'of', 'the', 'lobby', 'ground', 'floor', 'area', 'It', 'was', 'very', 'stylish', 'and', 'modern', 'I', 'found', 'the', 'reception', \"'s\", 'staff', 'geeting', 'me', 'with', \"'Aloha'\", 'a', 'bit', 'out', 'of', 'place', ',', 'but', 'I', 'guess', 'they', 'are', 'briefed', 'to', 'say', 'that', 'to', 'keep', 'up', 'the', 'coroporate', 'image', 'As', 'I', 'have', 'a', 'Starwood', 'Preferred', 'Guest', 'member', ',', 'I', 'was', 'given', 'a', 'small', 'gift', 'upon', 'check', 'in', 'It', 'was', 'only', 'a', 'couple', 'of', 'fridge', 'magnets', 'in', 'a', 'gift', 'box', ',', 'but', 'nevertheless', 'a', 'nice', 'gesture', 'My', 'room', 'was', 'nice', 'and', 'roomy', ',', 'there', 'are', 'tea', 'and', 'coffee', 'facilities', 'in', 'each', 'room', 'and', 'you', 'get', 'two', 'complimentary', 'bottles', 'of', 'water', 'plus', 'some', 'toiletries', 'by', \"'bliss'\", 'The', 'location', 'is', 'not', 'great', 'It', 'is', 'at', 'the', 'last', 'metro', 'stop', 'and', 'you', 'then', 'need', 'to', 'take', 'a', 'taxi', ',', 'but', 'if', 'you', 'are', 'not', 'planning', 'on', 'going', 'to', 'see', 'the', 'historic', 'sites', 'in', 'Beijing', ',', 'then', 'you', 'will', 'be', 'ok', 'I', 'chose', 'to', 'have', 'some', 'breakfast', 'in', 'the', 'hotel', ',', 'which', 'was', 'really', 'tasty', 'and', 'there', 'was', 'a', 'good', 'selection', 'of', 'dishes', 'There', 'are', 'a', 'couple', 'of', 'computers', 'to', 'use', 'in', 'the', 'communal', 'area', ',', 'as', 'well', 'as', 'a', 'pool', 'table', 'There', 'is', 'also', 'a', 'small', 'swimming', 'pool', 'and', 'a', 'gym', 'area', 'I', 'would', 'definitely', 'stay', 'in', 'this', 'hotel', 'again', ',', 'but', 'only', 'if', 'I', 'did', 'not', 'plan', 'to', 'travel', 'to', 'central', 'Beijing', ',', 'as', 'it', 'can', 'take', 'a', 'long', 'time', 'The', 'location', 'is', 'ok', 'if', 'you', 'plan', 'to', 'do', 'a', 'lot', 'of', 'shopping', ',', 'as', 'there', 'is', 'a', 'big', 'shopping', 'centre', 'just', 'few', 'minutes', 'away', 'from', 'the', 'hotel', 'and', 'there', 'are', 'plenty', 'of', 'eating', 'options', 'around', ',', 'including', 'restaurants', 'that', 'serve', 'a', 'dog', 'meat', '!']\n"
     ]
    }
   ],
   "source": [
    "print(processed_reviews[0])"
   ]
  },
  {
   "cell_type": "markdown",
   "metadata": {},
   "source": [
    "We will next train the CBOW model. Training of the CBOW model is very efficient since it does not involve any dense matrix multiplications. We will use Gensim's implementation of Word2Vec. We first need to initialize the Skipgram model (e.g., a [Word2Vec](https://radimrehurek.com/gensim/models/word2vec.html#gensim.models.word2vec.Word2Vec) object. The general syntax for initializing the model is the following:\n",
    "\n",
    "```\n",
    "model = Word2Vec(size=300, window=5, min_count=4, sg=1, workers=8)\n",
    "```\n",
    "\n",
    "where `size` corresponds to the dimensionality of the word embeddings, `window` is the maximum distance between the target word and its neighboring word within a sentence, `min_count` corresponds to the minimium frequency count of words, `sg` determines the type of the model (i.e., Skipgram or CBOW) and `workers` determines the number of CPU threads to use to train the model. Initialize a Word2Vec object and set the dimensionality of the word vectors equal to 100, the size of the window to 20, ignore all words with total frequency lower than 2, use the Skipgram model, and set the number of workers equal to the number of threads of your machine. Then, use the [build_vocab()](https://radimrehurek.com/gensim/models/word2vec.html#gensim.models.word2vec.Word2Vec.build_vocab) function of the Word2Vec object to build the vocabulary. This function takes as input a sequence of documents (e.g., list of lists) and extracts the vocabulary of the corpus."
   ]
  },
  {
   "cell_type": "code",
   "execution_count": 9,
   "metadata": {},
   "outputs": [],
   "source": [
    "from gensim.models import Word2Vec\n",
    "\n",
    "#your code here\n",
    "model = Word2Vec(size=100, window=20, min_count=4, sg=0, workers=8)\n",
    "# min_count : to ignore some rare terms that do not appear more than 4 in the documents\n",
    "model.build_vocab(processed_reviews)"
   ]
  },
  {
   "cell_type": "markdown",
   "metadata": {},
   "source": [
    "After extracting the vocabulary, we can use the [train()](https://radimrehurek.com/gensim/models/word2vec.html#gensim.models.word2vec.Word2Vec.train) function of the Word2Vec object to start training the model. The general syntax of the function is the following:\n",
    "\n",
    "```\n",
    "model.train(input_data, total_examples=model.corpus_count, epochs=3) \n",
    "```\n",
    "\n",
    "where `input_data` is the list of input documents, `total_examples` is the number of input documents, and `epochs` is the number of iterations over the input data. Use the `train()` function to train the model. Set the number of epochs to 5. Training time depends on the hardware of your machine. Note that it can take up to 10 minutes."
   ]
  },
  {
   "cell_type": "code",
   "execution_count": 10,
   "metadata": {},
   "outputs": [
    {
     "data": {
      "text/plain": [
       "(348659920, 476008110)"
      ]
     },
     "execution_count": 10,
     "metadata": {},
     "output_type": "execute_result"
    }
   ],
   "source": [
    "#your code here\n",
    "model.train(processed_reviews, total_examples=model.corpus_count, epochs=10) "
   ]
  },
  {
   "cell_type": "markdown",
   "metadata": {},
   "source": [
    "Next, we will experiment with the word embeddings learned by our model. First, we will get familiar with some interesting properties of word embeddings by performing some operations manually. The [most_similar()](https://radimrehurek.com/gensim/models/keyedvectors.html#gensim.models.keyedvectors.WordEmbeddingsKeyedVectors.most_similar) function returns the 10 terms that are most similar to a given word. The general syntax of the function is the following:\n",
    "\n",
    "```\n",
    "model.wv.most_similar(positive=input_word) \n",
    "```\n",
    " \n",
    "Use the function to find the words that are similar to the word “France”."
   ]
  },
  {
   "cell_type": "code",
   "execution_count": 13,
   "metadata": {},
   "outputs": [
    {
     "name": "stdout",
     "output_type": "stream",
     "text": [
      "[('Germany', 0.7560843229293823), ('Canada', 0.7149386405944824), ('Spain', 0.7089847326278687), ('England', 0.7000839710235596), ('Russia', 0.6708375811576843), ('Rome', 0.6677038073539734), ('Africa', 0.6617498993873596), ('Greece', 0.6600395441055298), ('Mexico', 0.6595269441604614), ('Southern', 0.6502523422241211)]\n"
     ]
    }
   ],
   "source": [
    "#your code her\n",
    "\n",
    "# Most similar term for a specific one\n",
    "input_word=\"France\"\n",
    "print(model.wv.most_similar(positive=input_word))"
   ]
  },
  {
   "cell_type": "markdown",
   "metadata": {},
   "source": [
    "You can specify the number of similar words to be retrieved by setting the `topn` parameter of the `most_similar()` function to some value. Use the function to retrieve the 20 words that are most similar to the word “football”."
   ]
  },
  {
   "cell_type": "code",
   "execution_count": 14,
   "metadata": {},
   "outputs": [
    {
     "name": "stdout",
     "output_type": "stream",
     "text": [
      "[('soccer', 0.8340798616409302), ('game', 0.757874071598053), ('premiership', 0.7269511222839355), ('NFL', 0.7213163375854492), ('sports', 0.7149943113327026), ('hockey', 0.7147136926651001), ('baseball', 0.7133362889289856), ('band', 0.7113857269287109), ('bands', 0.7082990407943726), ('games', 0.7032420635223389), ('rugby', 0.6984652876853943), ('footie', 0.6946865320205688), ('tournament', 0.6878404021263123), ('Champions', 0.6751062870025635), ('cricket', 0.6741778254508972), ('guitar', 0.6731582880020142), ('Baseball', 0.6687270402908325), ('basketball', 0.6662551164627075), ('songs', 0.6624521017074585), ('dancers', 0.6608486771583557)]\n"
     ]
    }
   ],
   "source": [
    "#your code here\n",
    "input_word=\"football\"\n",
    "print(model.wv.most_similar(positive=input_word, topn=20))"
   ]
  },
  {
   "cell_type": "markdown",
   "metadata": {},
   "source": [
    "Next, we will compute the similarity between terms. To calculate the similarity between two words, you can use the [similarity()](https://radimrehurek.com/gensim/models/keyedvectors.html#gensim.models.keyedvectors.FastTextKeyedVectors.similarity) function which takes two words as input and computes their cosine similarity. The general syntax of the function is shown below:\n",
    "\n",
    "```\n",
    "model.wv.similarity(w1=input_word1, w2=input_word2)\n",
    "```\n",
    " \n",
    "Use the function to calculate the similarity between the words “dog” and “cat”."
   ]
  },
  {
   "cell_type": "code",
   "execution_count": 17,
   "metadata": {},
   "outputs": [
    {
     "name": "stdout",
     "output_type": "stream",
     "text": [
      "0.369316\n"
     ]
    }
   ],
   "source": [
    "#your code here\n",
    "input_word1=\"dog\"\n",
    "input_word2=\"cat\"\n",
    "print(model.wv.similarity(w1=input_word1, w2=input_word2))"
   ]
  },
  {
   "cell_type": "markdown",
   "metadata": {},
   "source": [
    "Use the same function to compute the similarity between the words “rugby” and “man”, and the words “rugby” and “woman”. What do you observe?"
   ]
  },
  {
   "cell_type": "code",
   "execution_count": 19,
   "metadata": {},
   "outputs": [
    {
     "name": "stdout",
     "output_type": "stream",
     "text": [
      "0.21119267\n",
      "0.12476613\n"
     ]
    }
   ],
   "source": [
    "#your code here\n",
    "input_word1=\"rugby\"\n",
    "input_word2=\"man\"\n",
    "print(model.wv.similarity(w1=input_word1, w2=input_word2))\n",
    "print(model.wv.similarity(w1=input_word1, w2=\"woman\"))"
   ]
  },
  {
   "cell_type": "markdown",
   "metadata": {},
   "source": [
    "From the above, it is clear that the word representations learned by neural networks are very interesting because the generated vectors explicitly encode many linguistic regularities and patterns. Many of these patterns can be represented as linear translations. You can find the terms that are most similar to such linear translations using the [most_similar()](https://radimrehurek.com/gensim/models/keyedvectors.html#gensim.models.keyedvectors.WordEmbeddingsKeyedVectors.most_similar) function. Use the function to obtain the 5 words that are most similar to the result of the following vector operation: “king” - “man” + “woman”. What do you observe?"
   ]
  },
  {
   "cell_type": "code",
   "execution_count": 21,
   "metadata": {},
   "outputs": [
    {
     "name": "stdout",
     "output_type": "stream",
     "text": [
      "[('queen', 0.8444769382476807), ('King', 0.738787055015564), ('twin', 0.7193337082862854), ('double', 0.7168539762496948), ('Queen', 0.7063993215560913), ('kingsize', 0.6592497229576111), ('queensize', 0.6203643083572388), ('murphy', 0.6145455837249756), ('rollaway', 0.6048294305801392), ('single', 0.5794261693954468)]\n"
     ]
    }
   ],
   "source": [
    "#your code here\n",
    "print(model.wv.most_similar(positive=['king','woman'],negative=['man']))"
   ]
  },
  {
   "cell_type": "code",
   "execution_count": 24,
   "metadata": {},
   "outputs": [
    {
     "name": "stdout",
     "output_type": "stream",
     "text": [
      "[('Middle', 0.5892153978347778), ('German', 0.5610204935073853), ('Soviet', 0.5574579238891602), ('Germany', 0.5485526323318481), ('Brit', 0.5467981100082397), ('Eastern', 0.5418969392776489), ('Polish', 0.5365447998046875), ('Wizard', 0.5327202081680298), ('Arabic', 0.5289251804351807), ('Russia', 0.5213622450828552)]\n"
     ]
    }
   ],
   "source": [
    "print(model.wv.most_similar(positive=['France','Berlin'],negative=['Paris']))"
   ]
  },
  {
   "cell_type": "markdown",
   "metadata": {},
   "source": [
    "Next, we will project the 200 most frequent words of our dataset into the two-dimensional space, and we will visualize them. The 200 most frequent words, correspond to the first 200 elements of the [index2entity](https://radimrehurek.com/gensim/models/keyedvectors.html#gensim.models.keyedvectors.WordEmbeddingsKeyedVectors.index2entity) list. Given a term, you can obtain its representation as follows:\n",
    "\n",
    "```\n",
    "vec = model.wv[word]\n",
    "```\n",
    "\n",
    "Store the representations of the 200 most frequent terms in a 200 $\\times$ 100 matrix, and then use PCA/t-SNE to reduce their dimensionality. Then, visualize the terms in the two-dimensional space. "
   ]
  },
  {
   "cell_type": "code",
   "execution_count": 27,
   "metadata": {},
   "outputs": [
    {
     "name": "stdout",
     "output_type": "stream",
     "text": [
      "[ 1.3233038e+00 -2.0312169e+00 -3.9892104e+00 -5.4342351e+00\n",
      " -3.7952392e+00  3.5648875e+00  3.3486538e+00 -1.6622671e+00\n",
      " -6.0748467e+00 -1.1054876e+00 -1.5873330e+00 -5.0354638e+00\n",
      " -2.2874627e-01 -2.1800222e+00 -3.7781401e+00 -2.7420151e+00\n",
      " -1.6082975e+00  1.2462592e+00 -4.2734761e+00 -3.5905077e+00\n",
      "  3.2622569e+00 -3.2202828e+00 -3.4968004e-02  2.1221151e+00\n",
      "  7.6162630e-01 -2.7812395e+00  1.1837511e+00 -4.2866111e+00\n",
      "  5.0284797e-01  4.2217059e+00  4.0582304e+00 -6.3837242e-01\n",
      "  5.0240765e+00 -3.3280247e-01  2.6752372e+00  4.0808969e+00\n",
      " -8.2352585e-01  3.0089641e+00 -3.4513240e+00 -1.8734000e+00\n",
      " -4.4926448e+00  1.2597344e+00 -1.7069793e+00 -2.0494096e+00\n",
      "  4.5660911e+00 -4.1199784e+00 -1.6657186e+00  1.5915253e+00\n",
      " -1.0218593e+00  3.2804313e+00  1.7541590e+00 -6.4452177e-01\n",
      " -4.1454844e+00  2.5052595e+00  5.1218615e+00  9.6825171e-01\n",
      "  3.0020647e+00  1.2253540e+00  3.2607918e+00 -2.9781928e+00\n",
      "  1.8280441e+00 -6.2377429e-01 -1.9188280e+00 -4.7446036e+00\n",
      " -1.5710127e+00  4.0699620e+00 -1.9639547e+00 -4.5706615e+00\n",
      "  4.6522779e+00 -6.2040579e-01  2.9068270e+00  2.0839694e+00\n",
      "  1.6652933e+00 -6.7222900e+00 -4.0344372e-01 -1.1288109e+00\n",
      "  1.7158713e+00 -6.6382964e-03  9.6982449e-01  1.4270087e+00\n",
      "  6.5948302e-01 -2.5310857e+00  1.0056469e+00  1.0516258e+00\n",
      " -4.7307043e+00 -1.9324021e+00 -2.6438196e+00 -1.6393684e-01\n",
      " -4.3069916e+00  2.7564988e+00  7.5754929e+00 -3.9912314e+00\n",
      "  9.3519086e-01 -4.0027175e+00 -3.9143725e-03  9.3028724e-02\n",
      "  2.1287844e-01 -2.0048914e+00  2.4450052e-01 -3.4411743e+00]\n"
     ]
    }
   ],
   "source": [
    "vec = model.wv['dog']\n",
    "print(vec) # 100-dim representation of term 'dog'"
   ]
  },
  {
   "cell_type": "code",
   "execution_count": 33,
   "metadata": {},
   "outputs": [
    {
     "data": {
      "image/png": "[encoded data removed]",
      "text/plain": [
       "<Figure size 1080x648 with 1 Axes>"
      ]
     },
     "metadata": {
      "needs_background": "light"
     },
     "output_type": "display_data"
    }
   ],
   "source": [
    "import numpy as np\n",
    "from sklearn.decomposition import PCA\n",
    "from sklearn.manifold import TSNE\n",
    "import matplotlib.pyplot as plt\n",
    "\n",
    "%matplotlib inline\n",
    "\n",
    "n = 200\n",
    "vecs = np.zeros((n,100)) \n",
    "\n",
    "#your code here\n",
    "freq_terms = model.wv.index2entity[:n] # we get the embeddings of the first 200 words\n",
    "\n",
    "for i,word in enumerate(freq_terms):\n",
    "    vecs[i,:]=model.wv[word]\n",
    "\n",
    "my_pca = PCA(n_components=10)\n",
    "my_tsne = TSNE(n_components=2)\n",
    "\n",
    "vecs_pca = my_pca.fit_transform(vecs)\n",
    "vecs_tsne = my_tsne.fit_transform(vecs_pca)\n",
    "\n",
    "fig, ax = plt.subplots()\n",
    "ax.scatter(vecs_tsne[:,0], vecs_tsne[:,1],s=3)\n",
    "for x, y, token in zip(vecs_tsne[:,0] , vecs_tsne[:,1], freq_terms):     \n",
    "    ax.annotate(token, xy=(x, y), size=9)\n",
    "fig.suptitle('t-SNE visualization of word embeddings',fontsize=30)\n",
    "fig.set_size_inches(15,9)"
   ]
  },
  {
   "cell_type": "markdown",
   "metadata": {
    "collapsed": true
   },
   "source": [
    "## Part 2: Learning node representations\n",
    "In recent years, representation learning on graphs has attracted increasing attention. The idea behind the representation learning approaches is to learn a mapping that embeds nodes as points in a low-dimensional vector space such that these representations reflect the structure of the graph. In this part of the lab, we will generate embeddings for the nodes of a graph using DeepWalk, a method that is inspired by recent advances in natural language processing.\n",
    "\n",
    "Our dataset is a movie/actor network. This is a bipartite graph that consists of movies and of the actors that have played in them. More specifically, the nodes of the graph represent movies and actors, and there is an edge between a movie and an actor if the actor has played in that movie. The graph is stored in the `movies_actors_edgelist.txt` file as an edge list:\n",
    "\n",
    "```\n",
    "Toy Story (1995)\tTim Allen\n",
    "Toy Story (1995)\tTom Hanks\n",
    "Toy Story (1995)\tJim Varney\n",
    "Toy Story (1995)\tDon Rickles\n",
    "Jumanji (1995)\tKirsten Dunst\n",
    "Jumanji (1995)\tJonathan Hyde\n",
    "Jumanji (1995)\tBradley Pierce\n",
    "Jumanji (1995)\tRobin Williams\n",
    "Grumpier Old Men (1995)\tJack Lemmon\n",
    ".\n",
    ".\n",
    ".\n",
    "```\n",
    "\n",
    "The network contains 14,612 nodes, 21,395 edges. Load the network data into an graph G, using the [read_edgelist()](https://networkx.github.io/documentation/stable/reference/readwrite/generated/networkx.readwrite.edgelist.read_edgelist.html) function of NetworkX. The general syntax of the function is the following:\n",
    "\n",
    "```\n",
    "G = nx.read_edgelist(path_to_file, comments='#', delimiter=None)\n",
    "```\n",
    "\n",
    "Note that, the delimeter used to separate values is the tab character '\\t'."
   ]
  },
  {
   "cell_type": "code",
   "execution_count": 34,
   "metadata": {},
   "outputs": [],
   "source": [
    "import networkx as nx\n",
    "\n",
    "#your code here\n",
    "G=nx.read_edgelist('data/movies_actors_edgelist.txt', comments='#', delimiter='\\t')"
   ]
  },
  {
   "cell_type": "markdown",
   "metadata": {},
   "source": [
    "Print the number of nodes and the number of the edges of the dataset (use the [`number_of_nodes()`](https://networkx.github.io/documentation/stable/reference/classes/generated/networkx.DiGraph.number_of_nodes.html#networkx.DiGraph.number_of_nodes) and [`number_of_edges()`](https://networkx.github.io/documentation/stable/reference/classes/generated/networkx.DiGraph.number_of_edges.html#networkx.DiGraph.number_of_edges) functions of NetworkX)."
   ]
  },
  {
   "cell_type": "code",
   "execution_count": 35,
   "metadata": {},
   "outputs": [
    {
     "name": "stdout",
     "output_type": "stream",
     "text": [
      "14612\n",
      "21395\n"
     ]
    }
   ],
   "source": [
    "#your code here\n",
    "print(G.number_of_nodes())\n",
    "print(G.number_of_edges())"
   ]
  },
  {
   "cell_type": "markdown",
   "metadata": {},
   "source": [
    "We will next implement [DeepWalk](http://www.perozzi.net/publications/14_kdd_deepwalk.pdf), an algorithm for generating node embeddings. DeepWalk builds on recent advances in unsupervised feature learning which have proven very successful in natural language processing. DeepWalk learns representations of a graph's vertices by running short random walks. These representations capture neighborhood similarity and community membership. The employed model is analogous to Skipgram:  given a vertex $v_i$, it estimates the likelihood of observing the previous and the following vertices visited in the random walk. Specifically, DeepWalk solves the following optimization problem:\n",
    "\n",
    "$$\n",
    "minimize_{\\phi} \\quad -\\log \\prod_{\\substack{j=i-w \\\\ j \\neq i}}^{i+w} P( v_j | \\phi(v_i))\n",
    "$$\n",
    "\n",
    "where $\\phi: V \\rightarrow \\mathbb{R}^d$ is a function that maps vertices to their embeddings, and $w$ is the size of the sliding window. Hence, given the embedding of a vertex, DeepWalk maximizes the probability of its neighbors in the walk.\n",
    "\n",
    "Given a graph $G=(V,E)$ and a starting vertex $v_i$, a random walk of length $t$ is a stochastic process with random variables $w_{v_i}^{(1)}, w_{v_i}^{(2)},\\ldots,w_{v_i}^{(t)}$ such that $w_{v_i}^{(1)} = v_i$ and $w_{v_i}^{(j)}$ is a a vertex chosen uniformly at random from the neighbors of vertex $w_{v_i}^{(j-1)}$. In other words, a random walk is a sequence of vertices: we first select a neighbor of $v_i$ at random, and move to this neighbor. Then, we select a neighbor of this new vertex at random, and move to it, etc.\n",
    "\n",
    "Next, we will implement a function that given a graph and a starting vertex performs a random walk of specific length, and returns a list of the visited vertices. Fill in the body of the function `random_walk()`. Note that G is a NexworkX graph. You can use the [neighbors()](https://networkx.github.io/documentation/stable/reference/classes/generated/networkx.Graph.neighbors.html) function of NetworkX to get the neighbors of a vertex $v$."
   ]
  },
  {
   "cell_type": "code",
   "execution_count": 40,
   "metadata": {},
   "outputs": [],
   "source": [
    "from random import randint\n",
    "\n",
    "def random_walk(G, node, walk_length):\n",
    "    # Starts from vertex \"node\" and performs a random walk of length \"walk length\". Returns a list of the visited vertices\n",
    "    walk = [node] # Starting node\n",
    "    \n",
    "    #your code here\n",
    "    for i in range(walk_length-1):\n",
    "        neighbors=list(G.neighbors(walk[-1]))  # extract the neighborhods of the last walk cell\n",
    "        selected_node=neighbors[randint(0,len(neighbors)-1)]\n",
    "        walk.append(selected_node)\n",
    "\n",
    "    walk = [str(node) for node in walk] # to be sure to have strings to be able to use 'word2vect' later\n",
    "    return walk"
   ]
  },
  {
   "cell_type": "markdown",
   "metadata": {},
   "source": [
    "Next, you will implement a function that given a graph, it runs a number of random walks from each node of the graph, and returns a list of all random walks. Fill in the body of the function `generate_walks()`. Note that the function [nodes()](https://networkx.github.io/documentation/stable/reference/classes/generated/networkx.Graph.nodes.html) of NetworkX returns a list containing all the nodes of graph G."
   ]
  },
  {
   "cell_type": "code",
   "execution_count": 43,
   "metadata": {},
   "outputs": [],
   "source": [
    "import numpy as np\n",
    "\n",
    "def generate_walks(graph, num_walks, walk_length):\n",
    "    # Runs \"num_walks\" random walks from each node, and returns a list of all random walk\n",
    "    walks = list()\n",
    "    \n",
    "    #your code here\n",
    "    for i in range(num_walks):\n",
    "        for node in graph.nodes():\n",
    "            walks.append(random_walk(graph, node, walk_length))\n",
    "\n",
    "    return walks"
   ]
  },
  {
   "cell_type": "markdown",
   "metadata": {},
   "source": [
    "After implementing the two functions, use the `generate_walks()` function to extract sequences of random walks from the graph. Start 10 walks from each node and set the length of the walks equal to 20."
   ]
  },
  {
   "cell_type": "code",
   "execution_count": 45,
   "metadata": {},
   "outputs": [],
   "source": [
    "#your code here\n",
    "walks=generate_walks(G, num_walks=10, walk_length=20)"
   ]
  },
  {
   "cell_type": "markdown",
   "metadata": {},
   "source": [
    "Now, we can treat the generated walks as the equivalent of sentences and use the Gensim library to learn representations of the nodes of the movie/actor graph. To generate the embeddings, initialize a [Word2Vec](https://radimrehurek.com/gensim/models/word2vec.html#gensim.models.word2vec.Word2Vec) object and use its [build_vocab()](https://radimrehurek.com/gensim/models/word2vec.html#gensim.models.word2vec.Word2Vec.build_vocab) function to build the vocabulary. Set the dimensionality of the word vectors equal to 100, the size of the window to 5, use the Skipgram model, and set the number of workers equal to the number of threads of your machine. Then, use the [train()](https://radimrehurek.com/gensim/models/word2vec.html#gensim.models.word2vec.Word2Vec.train) function of the Word2Vec object to compute the node embeddings. Set the number of epochs to 5."
   ]
  },
  {
   "cell_type": "code",
   "execution_count": 48,
   "metadata": {},
   "outputs": [
    {
     "data": {
      "text/plain": [
       "(29224000, 29224000)"
      ]
     },
     "execution_count": 48,
     "metadata": {},
     "output_type": "execute_result"
    }
   ],
   "source": [
    "#your code here\n",
    "from gensim.models import Word2Vec\n",
    "\n",
    "#your code here\n",
    "model = Word2Vec(size=100, window=5, min_count=0, sg=1, workers=8)\n",
    "# min_count : to ignore some rare terms that do not appear more than 4 in the documents\n",
    "model.build_vocab(walks)\n",
    "model.train(walks,total_examples=model.corpus_count,epochs=10)"
   ]
  },
  {
   "cell_type": "markdown",
   "metadata": {},
   "source": [
    "Use the [most_similar()](https://radimrehurek.com/gensim/models/keyedvectors.html#gensim.models.keyedvectors.WordEmbeddingsKeyedVectors.most_similar) function to obtain the 10 nodes that are most similar to the node “Keanu Reeves”. "
   ]
  },
  {
   "cell_type": "code",
   "execution_count": 49,
   "metadata": {},
   "outputs": [
    {
     "name": "stdout",
     "output_type": "stream",
     "text": [
      "[(\"Bill & Ted's Excellent Adventure (1989)\", 0.8164272308349609), ('Terry Camilleri', 0.793231725692749), ('Alex Winter', 0.7660312652587891), (\"Bill & Ted's Bogus Journey (1991)\", 0.7651056051254272), ('Matrix Revolutions, The (2003)', 0.7605007886886597), ('Carrie-Ann Moss', 0.7579318284988403), ('Matrix Reloaded, The (2003)', 0.7534788846969604), ('Permanent Record (1988)', 0.751935601234436), ('Brooke Langton', 0.7444475293159485), ('My Own Private Idaho (1991)', 0.7431827187538147)]\n"
     ]
    }
   ],
   "source": [
    "#your code here\n",
    "print(model.wv.most_similar(positive='Keanu Reeves'))"
   ]
  },
  {
   "cell_type": "markdown",
   "metadata": {},
   "source": [
    "Use once again the [most_similar()](https://radimrehurek.com/gensim/models/keyedvectors.html#gensim.models.keyedvectors.WordEmbeddingsKeyedVectors.most_similar) function to obtain the 5 nodes that are most similar to the result of the following vector operation: “Eyes Wide Shut (1999)” - “Tom Cruise” + “Jack Nicholson”. What do you observe?"
   ]
  },
  {
   "cell_type": "code",
   "execution_count": 50,
   "metadata": {},
   "outputs": [
    {
     "name": "stdout",
     "output_type": "stream",
     "text": [
      "[('John Huston', 0.6554986834526062), ('Michael Berryman', 0.6549168229103088), ('Danny Lloyd', 0.6507971286773682), ('William Redfield', 0.6438058614730835), (\"One Flew Over the Cuckoo's Nest (1975)\", 0.6409466862678528), ('Chinatown (1974)', 0.6398649215698242), ('Five Easy Pieces (1970)', 0.6387921571731567), ('John Colicos', 0.6374171376228333), (\"Something's Gotta Give (2003)\", 0.6369121670722961), ('Postman Always Rings Twice, The (1981)', 0.6261268258094788)]\n"
     ]
    }
   ],
   "source": [
    "#your code here\n",
    "print(model.wv.most_similar(positive=['Eyes Wide Shut (1999)','Jack Nicholson'],negative=['Tom Cruise']))"
   ]
  },
  {
   "cell_type": "code",
   "execution_count": null,
   "metadata": {},
   "outputs": [],
   "source": []
  }
 ],
 "metadata": {
  "kernelspec": {
   "display_name": "Python 3",
   "language": "python",
   "name": "python3"
  },
  "language_info": {
   "codemirror_mode": {
    "name": "ipython",
    "version": 3
   },
   "file_extension": ".py",
   "mimetype": "text/x-python",
   "name": "python",
   "nbconvert_exporter": "python",
   "pygments_lexer": "ipython3",
   "version": "3.7.5"
  }
 },
 "nbformat": 4,
 "nbformat_minor": 2
}
