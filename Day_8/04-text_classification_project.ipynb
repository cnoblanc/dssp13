{
 "cells": [
  {
   "cell_type": "markdown",
   "metadata": {},
   "source": [
    "# Binary Classification pipeline: Application with text data\n",
    "\n",
    "Author: Alexandre Gramfort\n",
    "\n",
    "The objective of this hands on session is to setup a predictive pipeline to classify movie critics. Critics are either positive (y=1) or negative (y=0). This task is often referred to as **sentiment analysis**."
   ]
  },
  {
   "cell_type": "code",
   "execution_count": 1,
   "metadata": {},
   "outputs": [],
   "source": [
    "%matplotlib inline\n",
    "#from __future__ import print_function"
   ]
  },
  {
   "cell_type": "code",
   "execution_count": 2,
   "metadata": {},
   "outputs": [],
   "source": [
    "import os.path as op\n",
    "import numpy as np\n",
    "import matplotlib.pyplot as plt"
   ]
  },
  {
   "cell_type": "markdown",
   "metadata": {},
   "source": [
    "What you are being given :\n",
    "\n",
    "- critics of movies in text files in folder *data/imdb1*,\n",
    "\n",
    "Your mission :\n",
    "\n",
    "- Extract numeric features (the 'X') from the raw data (word counts)\n",
    "- Apply a Logistic Regression classifier with proper setup of hyperparameter\n",
    "- Evaluate performance in terms of accuracy with cross-validation\n",
    "- Answer the question \"Do I have enough data?\" using a learning curve."
   ]
  },
  {
   "cell_type": "markdown",
   "metadata": {},
   "source": [
    "### First let's load the raw data"
   ]
  },
  {
   "cell_type": "code",
   "execution_count": 4,
   "metadata": {},
   "outputs": [
    {
     "name": "stdout",
     "output_type": "stream",
     "text": [
      "2000 documents\n",
      "Number of positives 1000 and negatives 1000\n"
     ]
    }
   ],
   "source": [
    "from glob import glob\n",
    "# op = os.path\n",
    "# glob récupère la liste des fichiers qui respectent les critères\n",
    "filenames_neg = sorted(glob(op.join('data', 'imdb1', 'neg', '*.txt'))) #liste triée des noms de fichiers\n",
    "filenames_pos = sorted(glob(op.join('data', 'imdb1', 'pos', '*.txt')))\n",
    "\n",
    "texts_neg = [open(f).read() for f in filenames_neg] # liste de chaines de caractères\n",
    "texts_pos = [open(f).read() for f in filenames_pos]\n",
    "texts = texts_neg + texts_pos # concatene tous les textes\n",
    "y = np.ones(len(texts), dtype=np.int) # array de type int avec tous les textes\n",
    "y[:len(texts_neg)] = 0. # les n premiers sont négatifs, on mets 0\n",
    "\n",
    "print(\"%d documents\" % len(texts))\n",
    "print(\"Number of positives %s and negatives %s\" % (len(texts_pos), len(texts_neg)))"
   ]
  },
  {
   "cell_type": "markdown",
   "metadata": {},
   "source": [
    "### Questions:\n",
    "\n",
    "- What does the array `y` correspond to?\n",
    "- What is the type of the variables `texts`?\n",
    "- Can you read the first text?\n",
    "- Complete the fonction **count_words** that counts the number of occurences of each word in a list of texts. You'll need to use the *split* method from the string class to split a text in words.\n",
    "\n",
    "Example of usage of the `split` function:"
   ]
  },
  {
   "cell_type": "code",
   "execution_count": 7,
   "metadata": {},
   "outputs": [],
   "source": [
    "# tests : une liste\n",
    "#print(texts[0]) # tout est en minuscule"
   ]
  },
  {
   "cell_type": "code",
   "execution_count": 8,
   "metadata": {},
   "outputs": [
    {
     "name": "stdout",
     "output_type": "stream",
     "text": [
      "['Hello', 'DSSP', 'attendees!']\n",
      "number of words : 3\n"
     ]
    }
   ],
   "source": [
    "words = \"Hello DSSP attendees!\".split()\n",
    "print(words)\n",
    "print(\"number of words : %s\" % len(words))"
   ]
  },
  {
   "cell_type": "markdown",
   "metadata": {},
   "source": [
    "Example of usage of the `count_words` function:"
   ]
  },
  {
   "cell_type": "markdown",
   "metadata": {},
   "source": [
    "```\n",
    ">>> some_texts = ['A B B', 'B', 'A A']\n",
    ">>> vocabulary, counts = count_words(some_texts)\n",
    ">>> print(vocabulary)  # dictionary word -> column index\n",
    "{'A': 0, 'B': 1}\n",
    ">>> print(counts)  # number of occurence of each word from vocabulary in each text\n",
    "[[ 1.  2.]\n",
    " [ 0.  1.]\n",
    " [ 2.  0.]]\n",
    "```"
   ]
  },
  {
   "cell_type": "code",
   "execution_count": null,
   "metadata": {},
   "outputs": [],
   "source": []
  },
  {
   "cell_type": "code",
   "execution_count": 81,
   "metadata": {},
   "outputs": [],
   "source": [
    "from collections import Counter\n",
    "#Counter(y)\n",
    "\n",
    "\n",
    "def count_words(texts):\n",
    "    \"\"\"Vectorize text : return count of each word in the text snippets\n",
    "\n",
    "\n",
    "    Parameters\n",
    "    ----------\n",
    "    texts : list of str\n",
    "        The texts\n",
    "\n",
    "    Returns\n",
    "    -------\n",
    "    vocabulary : dict\n",
    "        A dictionary that points to an index in counts for each word.\n",
    "    counts : ndarray, shape (n_samples, n_features)\n",
    "        The counts of each word in each text.\n",
    "        n_samples == number of documents.\n",
    "        n_features == number of words in vocabulary.\n",
    "    \"\"\"\n",
    "    # Liste des mots\n",
    "    vocabulary={}\n",
    "    nb_mots=0\n",
    "    for text in texts:\n",
    "        listeMots = text.split() # Get liste des mots de ce texte\n",
    "        for mot in listeMots:\n",
    "            if mot not in vocabulary.keys():\n",
    "                # Add the mot in vocabulary\n",
    "                vocabulary.update({mot:nb_mots}); # On insère en mettant N°colonne : nb_mots-1\n",
    "                nb_mots+=1\n",
    "\n",
    "    # print(nb_mots)\n",
    "    \n",
    "    # Compter les mots par textes\n",
    "    counts=np.zeros((len(texts),nb_mots)) # Array with one record per text\n",
    "    #print(counts.shape)\n",
    "    \n",
    "    for i_text, text in enumerate(texts):\n",
    "        for word in text.split():\n",
    "            counts[i_text,vocabulary[word]]+=1\n",
    "    \n",
    "#    for i in range(len(texts)): # on boucle sur chaque text\n",
    "#        count_par_mot=Counter(texts[i].split()) # Pour le text, on compte les mots\n",
    "#        for mot,mot_cnt in count_par_mot.items(): # On boucle sur chaque mot du Count\n",
    "#            counts[i,vocabulary[mot]]=mot_cnt # On alimente la matrice\n",
    "        \n",
    "    #print(count_par_mot)\n",
    "    #counts=listeMots\n",
    "    \n",
    "    return vocabulary, counts\n",
    "\n",
    "vocabulary, counts = count_words(texts)"
   ]
  },
  {
   "cell_type": "code",
   "execution_count": 82,
   "metadata": {},
   "outputs": [
    {
     "name": "stdout",
     "output_type": "stream",
     "text": [
      "(2000, 50920)\n",
      "1492681.0\n"
     ]
    }
   ],
   "source": [
    "#print(vocabulary)\n",
    "#max_words= max(vocabulary.values())  # maximum value\n",
    "#print(max_words)\n",
    "\n",
    "print(counts.shape)\n",
    "print(counts.sum())"
   ]
  },
  {
   "cell_type": "code",
   "execution_count": 88,
   "metadata": {},
   "outputs": [
    {
     "name": "stdout",
     "output_type": "stream",
     "text": [
      "pourcentage Positif pour le mot great: 0.743\n",
      "pourcentage Negatif pour le mot great: 0.395\n"
     ]
    }
   ],
   "source": [
    "print(\"pourcentage Positif pour le mot great:\",counts[y==1,vocabulary['great']].mean())\n",
    "print(\"pourcentage Negatif pour le mot great:\",counts[y==0,vocabulary['great']].mean())"
   ]
  },
  {
   "cell_type": "markdown",
   "metadata": {},
   "source": [
    "### Questions\n",
    "\n",
    "- Estimate Logistic regression on the full data. Show the effect of overfitting by evaluating the predictive power of your method in terms of accuracy.\n",
    "- Use the `train_test_split` function split the data in train and test (80% train and 20% test). What performance do you get?\n",
    "- Can you do better by adjusting the regularization parameter C? Use values between 0.00001 and 1000.\n",
    "- Why is this potentially dangerous? How do you avoid troubles?"
   ]
  },
  {
   "cell_type": "code",
   "execution_count": 90,
   "metadata": {},
   "outputs": [
    {
     "data": {
      "text/plain": [
       "1.0"
      ]
     },
     "execution_count": 90,
     "metadata": {},
     "output_type": "execute_result"
    }
   ],
   "source": [
    "from sklearn.linear_model import LogisticRegression\n",
    "from sklearn.model_selection import train_test_split\n",
    "\n",
    "clf = LogisticRegression(C=1., solver='liblinear')\n",
    "\n",
    "# TODO\n",
    "X=counts\n",
    "clf.fit(X,y)\n",
    "clf.score(X,y)"
   ]
  },
  {
   "cell_type": "code",
   "execution_count": 91,
   "metadata": {},
   "outputs": [
    {
     "data": {
      "text/plain": [
       "0.845"
      ]
     },
     "execution_count": 91,
     "metadata": {},
     "output_type": "execute_result"
    }
   ],
   "source": [
    "X_train, X_test, y_train, y_test = train_test_split(X, y, train_size=0.8, random_state=0)\n",
    "\n",
    "# TODO\n",
    "clf.fit(X_train,y_train)\n",
    "clf.score(X_test,y_test)"
   ]
  },
  {
   "cell_type": "code",
   "execution_count": 92,
   "metadata": {},
   "outputs": [
    {
     "name": "stdout",
     "output_type": "stream",
     "text": [
      "Start with : 1e-05 ; start time= 2019-10-19 15:58:51.472126\n",
      "Start with : 0.0001 ; start time= 2019-10-19 15:58:51.713649\n",
      "Start with : 0.001 ; start time= 2019-10-19 15:58:51.959979\n",
      "Start with : 0.01 ; start time= 2019-10-19 15:58:52.276747\n",
      "Start with : 0.1 ; start time= 2019-10-19 15:58:52.643637\n",
      "Start with : 1.0 ; start time= 2019-10-19 15:58:53.054485\n",
      "Start with : 10.0 ; start time= 2019-10-19 15:58:53.530397\n",
      "Start with : 100.0 ; start time= 2019-10-19 15:58:54.044444\n",
      "Start with : 1000.0 ; start time= 2019-10-19 15:58:54.604276\n"
     ]
    }
   ],
   "source": [
    "import datetime\n",
    "Cs = [0.00001, 0.0001, 0.001, 0.01, 0.1, 1., 10., 100., 1000.]\n",
    "\n",
    "scores=[]\n",
    "score_train=[]\n",
    "start=datetime.datetime.now()\n",
    "for Ci in Cs:\n",
    "    # TODO\n",
    "    start=datetime.datetime.now()\n",
    "    print(\"Start with :\",Ci,\"; start time=\",start)\n",
    "    #clf = LogisticRegression(C=Ci,solver='lbfgs',max_iter=1000)\n",
    "    clf = LogisticRegression(C=Ci, solver='liblinear')\n",
    "    clf.fit(X_train,y_train)\n",
    "    scores.append(clf.score(X_test,y_test))\n",
    "    score_train.append(clf.score(X_train,y_train))\n"
   ]
  },
  {
   "cell_type": "code",
   "execution_count": 93,
   "metadata": {},
   "outputs": [
    {
     "name": "stdout",
     "output_type": "stream",
     "text": [
      "Best C : 0.01 - Best Score : 0.8525\n"
     ]
    },
    {
     "data": {
      "image/png": "[encoded data removed]",
      "text/plain": [
       "<Figure size 432x288 with 1 Axes>"
      ]
     },
     "metadata": {
      "needs_background": "light"
     },
     "output_type": "display_data"
    }
   ],
   "source": [
    "C_best=Cs[np.argmax(scores)]\n",
    "print('Best C : %s - Best Score : %s' % (C_best, np.max(scores)))\n",
    "\n",
    "plt.plot(np.log10(Cs), scores)\n",
    "plt.plot(np.log10(Cs), score_train)\n",
    "plt.xlabel(\"log10(C)\")\n",
    "plt.ylabel(\"Accuracy\")\n",
    "plt.legend(('test', 'Train'));\n",
    "\n",
    "# Si C est grand, on force le modèle à être simple : il y a un gros risque d'under-fit \n",
    "# (ne pas convenir sur les données futures)\n",
    "# Au contraire, quand C est petit, on force le modèle à être complexe (on ajoute des contraintes): dans ce cas on over-fit\n"
   ]
  },
  {
   "cell_type": "markdown",
   "metadata": {},
   "source": [
    "### Questions\n",
    "\n",
    "- Compare the performance of Logistic Regression vs Multinomial Nayes Bayes?"
   ]
  },
  {
   "cell_type": "code",
   "execution_count": 97,
   "metadata": {},
   "outputs": [
    {
     "data": {
      "text/plain": [
       "0.8225"
      ]
     },
     "execution_count": 97,
     "metadata": {},
     "output_type": "execute_result"
    }
   ],
   "source": [
    "from sklearn.naive_bayes import MultinomialNB\n",
    "\n",
    "clf = MultinomialNB()\n",
    "X_train, X_test, y_train, y_test = train_test_split(X, y, train_size=0.8, random_state=0)\n",
    "\n",
    "# TODO\n",
    "clf.fit(X_train,y_train)\n",
    "clf.score(X_test,y_test)\n",
    "\n",
    "# Là on a une variable aléatoire. Il y a de la variance.\n",
    "# Il faudrait le faire fonctionner plusieurs fois, avec plein de splits différents\n",
    "# Et voir celui qui a le moins de variance\n",
    "# Donc faire ça avec plusieurs modèles et voir celui qui fonctionne mieux avec le moins de variance\n",
    "# Sinon, prendre celui qui est le plus rapide/moins couteux."
   ]
  },
  {
   "cell_type": "markdown",
   "metadata": {},
   "source": [
    "### Questions\n",
    "\n",
    "- Compare your implementation of word counting with scikit-learn.\n",
    "\n",
    "For this use the classes *CountVectorizer* and a *Pipeline*:"
   ]
  },
  {
   "cell_type": "code",
   "execution_count": 107,
   "metadata": {},
   "outputs": [
    {
     "data": {
      "text/plain": [
       "0.9932051256873528"
      ]
     },
     "execution_count": 107,
     "metadata": {},
     "output_type": "execute_result"
    }
   ],
   "source": [
    "np.mean(counts==0)"
   ]
  },
  {
   "cell_type": "code",
   "execution_count": 105,
   "metadata": {},
   "outputs": [
    {
     "data": {
      "text/plain": [
       "(2000, 39659)"
      ]
     },
     "execution_count": 105,
     "metadata": {},
     "output_type": "execute_result"
    }
   ],
   "source": [
    "from sklearn.feature_extraction.text import CountVectorizer\n",
    "\n",
    "vect=CountVectorizer(analyzer='word',ngram_range=(1,1))\n",
    "skcount=vect.fit_transform(texts).toarray()\n",
    "skcount.shape\n",
    "# Matrice \"sparse\""
   ]
  },
  {
   "cell_type": "code",
   "execution_count": 108,
   "metadata": {},
   "outputs": [
    {
     "data": {
      "text/plain": [
       "0.84"
      ]
     },
     "execution_count": 108,
     "metadata": {},
     "output_type": "execute_result"
    }
   ],
   "source": [
    "from sklearn.naive_bayes import MultinomialNB\n",
    "from sklearn.feature_extraction.text import CountVectorizer\n",
    "from sklearn.pipeline import Pipeline\n",
    "\n",
    "from sklearn.model_selection import cross_val_score  # replace by cross_validation\n",
    "from sklearn.feature_extraction.text import TfidfTransformer\n",
    "\n",
    "clf = Pipeline([\n",
    "    ('vect', CountVectorizer(max_df=0.75, ngram_range=(1, 1),\n",
    "                             analyzer='word', stop_words=None)),\n",
    "    ('nb', MultinomialNB())\n",
    "])\n",
    "\n",
    "# TODO\n",
    "X_train, X_test, y_train, y_test = train_test_split(texts, y, train_size=0.8, random_state=0) # Split\n",
    "\n",
    "clf.fit(X_train, y_train) # Le CountVectorized fait le comptage des mots lui-même\n",
    "clf.score(X_test, y_test)"
   ]
  },
  {
   "cell_type": "code",
   "execution_count": 111,
   "metadata": {},
   "outputs": [
    {
     "data": {
      "text/plain": [
       "<2000x538909 sparse matrix of type '<class 'numpy.int64'>'\n",
       "\twith 1829676 stored elements in Compressed Sparse Row format>"
      ]
     },
     "execution_count": 111,
     "metadata": {},
     "output_type": "execute_result"
    }
   ],
   "source": [
    "# \"pas mauvais\" = correct\n",
    "# donc compter les mots de façon isolées, génère un biais = \"bag of words\"\n",
    "# pour capturer les effets , on peut capturer les \"pairs de mots\"\n",
    "# ngram_range=(1, 2)\n",
    "from sklearn.feature_extraction.text import CountVectorizer\n",
    "\n",
    "vect=CountVectorizer(analyzer='word',ngram_range=(1,2)) # les mots individuels et les pairs de mots\n",
    "vect.fit_transform(texts)\n",
    "\n",
    "# On peut ajouter un \"SelectKBest\" dans le pipeline pour selectionner les meilleures features\n"
   ]
  },
  {
   "cell_type": "code",
   "execution_count": 112,
   "metadata": {},
   "outputs": [
    {
     "data": {
      "text/plain": [
       "GridSearchCV(cv=5, error_score='raise-deprecating',\n",
       "             estimator=LogisticRegression(C=1.0, class_weight=None, dual=False,\n",
       "                                          fit_intercept=True,\n",
       "                                          intercept_scaling=1, l1_ratio=None,\n",
       "                                          max_iter=100, multi_class='warn',\n",
       "                                          n_jobs=None, penalty='l2',\n",
       "                                          random_state=None, solver='liblinear',\n",
       "                                          tol=0.0001, verbose=0,\n",
       "                                          warm_start=False),\n",
       "             iid='warn', n_jobs=None,\n",
       "             param_grid={'C': [1e-05, 0.0001, 0.001, 0.01, 0.1, 1.0, 10.0,\n",
       "                               100.0, 1000.0]},\n",
       "             pre_dispatch='2*n_jobs', refit=True, return_train_score=False,\n",
       "             scoring=None, verbose=0)"
      ]
     },
     "execution_count": 112,
     "metadata": {},
     "output_type": "execute_result"
    }
   ],
   "source": [
    "# Grid Search CV\n",
    "# \n",
    "Cs = [0.00001, 0.0001, 0.001, 0.01, 0.1, 1., 10., 100., 1000.]\n",
    "# cv=5 : fait 5 split différents\n",
    "from sklearn.model_selection import GridSearchCV\n",
    "\n",
    "clf = LogisticRegression(solver='liblinear')\n",
    "param_grid = dict(C=Cs)\n",
    "gs = GridSearchCV(clf, param_grid=param_grid, cv=5)\n",
    "gs.fit(counts, y)"
   ]
  },
  {
   "cell_type": "code",
   "execution_count": 113,
   "metadata": {},
   "outputs": [
    {
     "data": {
      "text/html": [
       "<div>\n",
       "<style scoped>\n",
       "    .dataframe tbody tr th:only-of-type {\n",
       "        vertical-align: middle;\n",
       "    }\n",
       "\n",
       "    .dataframe tbody tr th {\n",
       "        vertical-align: top;\n",
       "    }\n",
       "\n",
       "    .dataframe thead th {\n",
       "        text-align: right;\n",
       "    }\n",
       "</style>\n",
       "<table border=\"1\" class=\"dataframe\">\n",
       "  <thead>\n",
       "    <tr style=\"text-align: right;\">\n",
       "      <th></th>\n",
       "      <th>param_C</th>\n",
       "      <th>mean_test_score</th>\n",
       "    </tr>\n",
       "  </thead>\n",
       "  <tbody>\n",
       "    <tr>\n",
       "      <th>0</th>\n",
       "      <td>1e-05</td>\n",
       "      <td>0.6195</td>\n",
       "    </tr>\n",
       "    <tr>\n",
       "      <th>1</th>\n",
       "      <td>0.0001</td>\n",
       "      <td>0.7035</td>\n",
       "    </tr>\n",
       "    <tr>\n",
       "      <th>2</th>\n",
       "      <td>0.001</td>\n",
       "      <td>0.7975</td>\n",
       "    </tr>\n",
       "    <tr>\n",
       "      <th>3</th>\n",
       "      <td>0.01</td>\n",
       "      <td>0.8405</td>\n",
       "    </tr>\n",
       "    <tr>\n",
       "      <th>4</th>\n",
       "      <td>0.1</td>\n",
       "      <td>0.8425</td>\n",
       "    </tr>\n",
       "    <tr>\n",
       "      <th>5</th>\n",
       "      <td>1</td>\n",
       "      <td>0.8405</td>\n",
       "    </tr>\n",
       "    <tr>\n",
       "      <th>6</th>\n",
       "      <td>10</td>\n",
       "      <td>0.8405</td>\n",
       "    </tr>\n",
       "    <tr>\n",
       "      <th>7</th>\n",
       "      <td>100</td>\n",
       "      <td>0.8375</td>\n",
       "    </tr>\n",
       "    <tr>\n",
       "      <th>8</th>\n",
       "      <td>1000</td>\n",
       "      <td>0.8360</td>\n",
       "    </tr>\n",
       "  </tbody>\n",
       "</table>\n",
       "</div>"
      ],
      "text/plain": [
       "  param_C  mean_test_score\n",
       "0   1e-05           0.6195\n",
       "1  0.0001           0.7035\n",
       "2   0.001           0.7975\n",
       "3    0.01           0.8405\n",
       "4     0.1           0.8425\n",
       "5       1           0.8405\n",
       "6      10           0.8405\n",
       "7     100           0.8375\n",
       "8    1000           0.8360"
      ]
     },
     "execution_count": 113,
     "metadata": {},
     "output_type": "execute_result"
    }
   ],
   "source": [
    "import pandas as pd\n",
    "df = pd.DataFrame(gs.cv_results_)\n",
    "df[['param_C', 'mean_test_score']]"
   ]
  },
  {
   "cell_type": "code",
   "execution_count": null,
   "metadata": {},
   "outputs": [],
   "source": []
  },
  {
   "cell_type": "markdown",
   "metadata": {},
   "source": [
    "### Questions\n",
    "\n",
    "- Could do you better with more data? Is the model complex too complex or too simple? Hint: Use a learning curve"
   ]
  },
  {
   "cell_type": "code",
   "execution_count": 116,
   "metadata": {},
   "outputs": [
    {
     "data": {
      "text/plain": [
       "<module 'matplotlib.pyplot' from '/Users/christophenoblanc/anaconda3/lib/python3.7/site-packages/matplotlib/pyplot.py'>"
      ]
     },
     "execution_count": 116,
     "metadata": {},
     "output_type": "execute_result"
    },
    {
     "data": {
      "image/png": "[encoded data removed]",
      "text/plain": [
       "<Figure size 432x288 with 1 Axes>"
      ]
     },
     "metadata": {
      "needs_background": "light"
     },
     "output_type": "display_data"
    }
   ],
   "source": [
    "from sklearn.model_selection import learning_curve\n",
    "\n",
    "# Est-ce que j'ai assez de données.\n",
    "# TODO\n",
    "\n",
    "\n",
    "import numpy as np\n",
    "import matplotlib.pyplot as plt\n",
    "from sklearn.naive_bayes import GaussianNB\n",
    "from sklearn.svm import SVC\n",
    "from sklearn.datasets import load_digits\n",
    "from sklearn.model_selection import learning_curve\n",
    "from sklearn.model_selection import ShuffleSplit\n",
    "\n",
    "\n",
    "def plot_learning_curve(estimator, title, X, y, ylim=None, cv=None,\n",
    "                        n_jobs=None, train_sizes=np.linspace(.1, 1.0, 5)):\n",
    "    \"\"\"\n",
    "    Generate a simple plot of the test and training learning curve.\n",
    "\n",
    "    Parameters\n",
    "    ----------\n",
    "    estimator : object type that implements the \"fit\" and \"predict\" methods\n",
    "        An object of that type which is cloned for each validation.\n",
    "\n",
    "    title : string\n",
    "        Title for the chart.\n",
    "\n",
    "    X : array-like, shape (n_samples, n_features)\n",
    "        Training vector, where n_samples is the number of samples and\n",
    "        n_features is the number of features.\n",
    "\n",
    "    y : array-like, shape (n_samples) or (n_samples, n_features), optional\n",
    "        Target relative to X for classification or regression;\n",
    "        None for unsupervised learning.\n",
    "\n",
    "    ylim : tuple, shape (ymin, ymax), optional\n",
    "        Defines minimum and maximum yvalues plotted.\n",
    "\n",
    "    cv : int, cross-validation generator or an iterable, optional\n",
    "        Determines the cross-validation splitting strategy.\n",
    "        Possible inputs for cv are:\n",
    "          - None, to use the default 3-fold cross-validation,\n",
    "          - integer, to specify the number of folds.\n",
    "          - :term:`CV splitter`,\n",
    "          - An iterable yielding (train, test) splits as arrays of indices.\n",
    "\n",
    "        For integer/None inputs, if ``y`` is binary or multiclass,\n",
    "        :class:`StratifiedKFold` used. If the estimator is not a classifier\n",
    "        or if ``y`` is neither binary nor multiclass, :class:`KFold` is used.\n",
    "\n",
    "        Refer :ref:`User Guide <cross_validation>` for the various\n",
    "        cross-validators that can be used here.\n",
    "\n",
    "    n_jobs : int or None, optional (default=None)\n",
    "        Number of jobs to run in parallel.\n",
    "        ``None`` means 1 unless in a :obj:`joblib.parallel_backend` context.\n",
    "        ``-1`` means using all processors. See :term:`Glossary <n_jobs>`\n",
    "        for more details.\n",
    "\n",
    "    train_sizes : array-like, shape (n_ticks,), dtype float or int\n",
    "        Relative or absolute numbers of training examples that will be used to\n",
    "        generate the learning curve. If the dtype is float, it is regarded as a\n",
    "        fraction of the maximum size of the training set (that is determined\n",
    "        by the selected validation method), i.e. it has to be within (0, 1].\n",
    "        Otherwise it is interpreted as absolute sizes of the training sets.\n",
    "        Note that for classification the number of samples usually have to\n",
    "        be big enough to contain at least one sample from each class.\n",
    "        (default: np.linspace(0.1, 1.0, 5))\n",
    "    \"\"\"\n",
    "    plt.figure()\n",
    "    plt.title(title)\n",
    "    if ylim is not None:\n",
    "        plt.ylim(*ylim)\n",
    "    plt.xlabel(\"Training examples\")\n",
    "    plt.ylabel(\"Score\")\n",
    "    train_sizes, train_scores, test_scores = learning_curve(\n",
    "        estimator, X, y, cv=cv, n_jobs=n_jobs, train_sizes=train_sizes)\n",
    "    train_scores_mean = np.mean(train_scores, axis=1)\n",
    "    train_scores_std = np.std(train_scores, axis=1)\n",
    "    test_scores_mean = np.mean(test_scores, axis=1)\n",
    "    test_scores_std = np.std(test_scores, axis=1)\n",
    "    plt.grid()\n",
    "\n",
    "    plt.fill_between(train_sizes, train_scores_mean - train_scores_std,\n",
    "                     train_scores_mean + train_scores_std, alpha=0.1,\n",
    "                     color=\"r\")\n",
    "    plt.fill_between(train_sizes, test_scores_mean - test_scores_std,\n",
    "                     test_scores_mean + test_scores_std, alpha=0.1, color=\"g\")\n",
    "    plt.plot(train_sizes, train_scores_mean, 'o-', color=\"r\",\n",
    "             label=\"Training score\")\n",
    "    plt.plot(train_sizes, test_scores_mean, 'o-', color=\"g\",\n",
    "             label=\"Cross-validation score\")\n",
    "\n",
    "    plt.legend(loc=\"best\")\n",
    "    return plt\n",
    "\n",
    "\n",
    "\n",
    "\n",
    "title = \"Learning Curves (Naive Bayes)\"\n",
    "# Cross validation with 100 iterations to get smoother mean test and train\n",
    "# score curves, each time with 20% data randomly selected as a validation set.\n",
    "cv = ShuffleSplit(n_splits=10, test_size=0.2, random_state=0)\n",
    "clf = LogisticRegression(C=0.01,solver='liblinear')\n",
    "plot_learning_curve(clf, title, counts, y, ylim=(0.7, 1.01), cv=cv, n_jobs=4)\n",
    "\n",
    "# Obtenir un 0.85 sur un modèle linéaire, c'est déjà pas mal.\n"
   ]
  },
  {
   "cell_type": "markdown",
   "metadata": {},
   "source": [
    "### Questions\n",
    "\n",
    "- Can you do better using bigrams? Use parameter `ngram_range=(1, 2)` in CountVectorizer\n",
    "- Compare the learning curves using single words or bigrams"
   ]
  },
  {
   "cell_type": "code",
   "execution_count": null,
   "metadata": {},
   "outputs": [],
   "source": [
    "from sklearn.cross_validation import cross_val_score\n",
    "from sklearn.feature_extraction.text import TfidfTransformer\n",
    "\n",
    "clf = Pipeline([\n",
    "    ('vect', CountVectorizer(max_df=0.75, ngram_range=(1, 2),\n",
    "                             analyzer='word', stop_words=None)),\n",
    "    ('nb', MultinomialNB())\n",
    "])\n",
    "\n",
    "# TODO"
   ]
  }
 ],
 "metadata": {
  "kernelspec": {
   "display_name": "Python 3",
   "language": "python",
   "name": "python3"
  },
  "language_info": {
   "codemirror_mode": {
    "name": "ipython",
    "version": 3
   },
   "file_extension": ".py",
   "mimetype": "text/x-python",
   "name": "python",
   "nbconvert_exporter": "python",
   "pygments_lexer": "ipython3",
   "version": "3.7.4"
  },
  "widgets": {
   "state": {},
   "version": "1.1.2"
  }
 },
 "nbformat": 4,
 "nbformat_minor": 1
}
