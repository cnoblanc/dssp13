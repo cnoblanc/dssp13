{
 "cells": [
  {
   "cell_type": "markdown",
   "metadata": {},
   "source": [
    "# A TensorFlow demo\n",
    "\n",
    "Auteur : Alexandre Gramfort\n",
    "\n",
    "\n",
    "Doc at : http://www.tensorflow.org"
   ]
  },
  {
   "cell_type": "code",
   "execution_count": null,
   "metadata": {},
   "outputs": [],
   "source": [
    "%matplotlib inline                      \n",
    "\n",
    "import numpy as np                      # charge un package pour le numérique\n",
    "import matplotlib.pyplot as plt         # charge un package pour les graphiques\n",
    "\n",
    "import tensorflow as tf"
   ]
  },
  {
   "cell_type": "markdown",
   "metadata": {},
   "source": [
    "## Introduction à TensorFlow"
   ]
  },
  {
   "cell_type": "markdown",
   "metadata": {},
   "source": [
    "TensorFlow est un système de calcul basé sur des graphes exprimés de façon symbolique.\n",
    "Cele permet d'utiliser de la différenciation automatique et d'apprendre les paramètres par des méthodes de type descente de gradient.\n",
    "\n",
    "- https://www.tensorflow.org \n",
    "\n",
    "Objets dans TensorFlow:\n",
    "- **constant:** tenseurs constant, tels que le learning rate\n",
    "- **Variables:** n'importe quel tenseur, tels que les parametètres des modèles\n",
    "- **Placeholders:** placeholders pour les entrées et les sorties des modèles\n",
    "- et beaucoup d'autres (functions, loss, ...)\n",
    "\n",
    "Le graphe est symbolique. Aucun calcul est effectué jusqu'à qu'une `Session` soit définie et lancée avec `run` ou `eval`. TensorFlow peut effectuer le calcul sur (plusieurs) CPUs ou GPUs."
   ]
  },
  {
   "cell_type": "code",
   "execution_count": null,
   "metadata": {},
   "outputs": [],
   "source": [
    "import tensorflow as tf\n",
    "\n",
    "a = tf.constant(3)\n",
    "b = tf.constant(2)\n",
    "c = a + b"
   ]
  },
  {
   "cell_type": "code",
   "execution_count": null,
   "metadata": {},
   "outputs": [],
   "source": [
    "print(type(a))\n",
    "print(a)"
   ]
  },
  {
   "cell_type": "code",
   "execution_count": null,
   "metadata": {},
   "outputs": [],
   "source": [
    "print(type(c))\n",
    "print(c)"
   ]
  },
  {
   "cell_type": "code",
   "execution_count": null,
   "metadata": {},
   "outputs": [],
   "source": [
    "with tf.Session() as sess:\n",
    "    c_value = sess.run(c)\n",
    "    \n",
    "print(type(c_value))\n",
    "print(c_value)"
   ]
  },
  {
   "cell_type": "markdown",
   "metadata": {},
   "source": [
    "#### placeholders\n",
    "\n",
    "- Un placeholder est une variable qui n'a pas encore de valeur dans le graphe symbolique. La valeur sera assignée lors de la commande `run` avec le paramètre `feed_dict`.\n",
    "- Si le placeholder est un tensor à k-dimensions, il est nécessaire de préciser sa taille `shape`. \n",
    "- Il est possible de laisser la shape variable en mettant `None` comme valeur dans la shape."
   ]
  },
  {
   "cell_type": "code",
   "execution_count": null,
   "metadata": {},
   "outputs": [],
   "source": [
    "x = tf.placeholder(\"float32\", name=\"input\")\n",
    "y = x + tf.constant(3.0)\n",
    "\n",
    "with tf.Session() as sess:\n",
    "    print(sess.run(y, feed_dict={x: 2}))"
   ]
  },
  {
   "cell_type": "markdown",
   "metadata": {},
   "source": [
    "Et sans préciser les tailles"
   ]
  },
  {
   "cell_type": "code",
   "execution_count": null,
   "metadata": {},
   "outputs": [],
   "source": [
    "img = tf.placeholder(\"float32\", shape=[None, None, 1], name=\"input\")\n",
    "inverted_image = 255. - img\n",
    "with tf.Session() as sess:\n",
    "    fake_img = np.zeros(shape=(3, 2, 1))\n",
    "    print(sess.run(inverted_image, feed_dict={img:fake_img}))"
   ]
  },
  {
   "cell_type": "markdown",
   "metadata": {},
   "source": [
    "### Calcul de gradients automatiques"
   ]
  },
  {
   "cell_type": "code",
   "execution_count": null,
   "metadata": {},
   "outputs": [],
   "source": [
    "from scipy.misc import face\n",
    "\n",
    "img_demo = np.zeros((100, 100))\n",
    "img_demo[30:70, 30:70] = 1.\n",
    "\n",
    "plt.imshow(img_demo, cmap=plt.cm.gray)\n",
    "plt.axis('off');"
   ]
  },
  {
   "cell_type": "markdown",
   "metadata": {},
   "source": [
    "On va définir la fonction qui renvoie la somme des écarts au carré à 1 pour chaque pixel.\n",
    "On va ensuite utiliser la différenciation automatique de TensorFlow."
   ]
  },
  {
   "cell_type": "code",
   "execution_count": null,
   "metadata": {},
   "outputs": [],
   "source": [
    "grads = tf.gradients(tf.reduce_sum(img ** 2), img)\n",
    "\n",
    "with tf.Session() as sess:\n",
    "    img_grads, = sess.run(grads, feed_dict={img: img_demo[:, :, np.newaxis]})\n",
    "\n",
    "plt.imshow(np.abs(np.sum(img_grads, axis=2)), cmap=plt.cm.gray)\n",
    "plt.axis('off')\n",
    "plt.colorbar();"
   ]
  },
  {
   "cell_type": "markdown",
   "metadata": {},
   "source": [
    "### Question:\n",
    "\n",
    "   - Retrouver le résultat analytiquement."
   ]
  },
  {
   "cell_type": "code",
   "execution_count": null,
   "metadata": {},
   "outputs": [],
   "source": [
    "np_img_grads = 2. * img_demo\n",
    "plt.imshow(np_img_grads, cmap=plt.cm.gray)\n",
    "plt.axis('off')\n",
    "plt.colorbar();"
   ]
  },
  {
   "cell_type": "markdown",
   "metadata": {},
   "source": [
    "## Regression logistique"
   ]
  },
  {
   "cell_type": "code",
   "execution_count": null,
   "metadata": {},
   "outputs": [],
   "source": [
    "from sklearn import datasets\n",
    "\n",
    "iris = datasets.load_iris()\n",
    "X = iris.data[:, :2]\n",
    "y = iris.target\n",
    "\n",
    "# Make it binary\n",
    "X = X[y < 2]\n",
    "y = y[y < 2]\n",
    "\n",
    "# add intercept column of ones\n",
    "X = np.concatenate((X, np.ones((X.shape[0], 1))), axis=1)\n",
    "\n",
    "y[y == 0] = -1"
   ]
  },
  {
   "cell_type": "code",
   "execution_count": null,
   "metadata": {},
   "outputs": [],
   "source": [
    "n_samples, n_features = X.shape\n",
    "\n",
    "# tf Graph Input\n",
    "X_input = tf.placeholder(tf.float32, [None, n_features])\n",
    "y_input = tf.placeholder(tf.float32, [None, 1])\n",
    "\n",
    "# Set model parameters\n",
    "w = tf.Variable(tf.zeros([n_features, 1]))\n",
    "\n",
    "# Construct loss for each sample\n",
    "loss = tf.log(1. + tf.exp(- y_input * tf.matmul(X_input, w)))\n",
    "\n",
    "# Minimize the average loss\n",
    "cost = tf.reduce_mean(loss)\n",
    "\n",
    "# Gradient Descent + parameters\n",
    "n_iterations = 2000\n",
    "train_accuracy = []\n",
    "test_accuracy = []\n",
    "learning_rate = .1\n",
    "train_loss = []\n",
    "\n",
    "optimizer = tf.train.GradientDescentOptimizer(learning_rate).minimize(cost)\n",
    "\n",
    "with tf.Session() as sess:\n",
    "    init = tf.global_variables_initializer()\n",
    "    sess.run(init)\n",
    "\n",
    "    for _ in range(n_iterations):\n",
    "        sess.run(optimizer, feed_dict={X_input: X, y_input: y[:, None]})\n",
    "        train_loss.append(sess.run(cost, feed_dict={X_input: X, y_input: y[:, None]}))\n",
    "\n",
    "    w_array = w.eval(sess)\n",
    "    sess.close()\n",
    "\n",
    "plt.figure()\n",
    "plt.plot(train_loss, label='Train loss')\n",
    "plt.xlabel('Iteration')\n",
    "plt.ylabel('Loss')\n",
    "plt.legend(loc='lower right');"
   ]
  },
  {
   "cell_type": "markdown",
   "metadata": {},
   "source": [
    "### Let's look at the result"
   ]
  },
  {
   "cell_type": "code",
   "execution_count": null,
   "metadata": {},
   "outputs": [],
   "source": [
    "plt.scatter(X[y > 0, 0], X[y > 0, 1], color='r')\n",
    "plt.scatter(X[y < 0, 0], X[y < 0, 1], color='g')\n",
    "xx = np.linspace(4, 8, 10)\n",
    "plt.plot(xx,  - xx * w_array[0] / w_array[1] - w_array[2] / w_array[1], 'k');"
   ]
  }
 ],
 "metadata": {
  "kernelspec": {
   "display_name": "Python 3",
   "language": "python",
   "name": "python3"
  },
  "language_info": {
   "codemirror_mode": {
    "name": "ipython",
    "version": 3
   },
   "file_extension": ".py",
   "mimetype": "text/x-python",
   "name": "python",
   "nbconvert_exporter": "python",
   "pygments_lexer": "ipython3",
   "version": "3.6.7"
  }
 },
 "nbformat": 4,
 "nbformat_minor": 1
}
