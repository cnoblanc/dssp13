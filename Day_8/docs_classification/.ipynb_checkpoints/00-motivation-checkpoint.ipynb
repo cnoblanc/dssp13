{
 "cells": [
  {
   "cell_type": "markdown",
   "metadata": {},
   "source": [
    "# Classification intro\n",
    "\n",
    "Author : Alexandre Gramfort"
   ]
  },
  {
   "cell_type": "code",
   "execution_count": null,
   "metadata": {
    "collapsed": true
   },
   "outputs": [],
   "source": [
    "%matplotlib inline\n",
    "from __future__ import print_function\n",
    "import math\n",
    "import numpy as np\n",
    "import matplotlib.pyplot as plt"
   ]
  },
  {
   "cell_type": "markdown",
   "metadata": {},
   "source": [
    "## Example 1"
   ]
  },
  {
   "cell_type": "code",
   "execution_count": null,
   "metadata": {},
   "outputs": [],
   "source": [
    "mu1 = [2, 2]\n",
    "mu2 = [-2, -3]\n",
    "sigma1 = [[1, 0], [0, 1]]\n",
    "sigma2 = [[1, 0], [0, 1]]\n",
    "\n",
    "for mu, sigma, color in zip((mu1, mu2), (sigma1, sigma2), ('r', 'b')):\n",
    "    X = np.random.multivariate_normal(mu, sigma, size=200)\n",
    "    plt.scatter(X[:, 0], X[:, 1], color=color)\n",
    "    plt.scatter(mu[0], mu[1], color='k', s=300., alpha=0.8, marker='h')\n",
    "\n",
    "plt.axis('equal');"
   ]
  },
  {
   "cell_type": "markdown",
   "metadata": {},
   "source": [
    "## Example 2"
   ]
  },
  {
   "cell_type": "code",
   "execution_count": null,
   "metadata": {},
   "outputs": [],
   "source": [
    "mu1 = [2, 2]\n",
    "mu2 = [-6, -2]\n",
    "sigma1 = [[7, 0], [0, 0.7]]\n",
    "sigma2 = [[7, 0], [0, 0.7]]\n",
    "\n",
    "for mu, sigma, color in zip((mu1, mu2), (sigma1, sigma2), ('r', 'b')):\n",
    "    X = np.random.multivariate_normal(mu, sigma, size=200)\n",
    "    plt.scatter(X[:, 0], X[:, 1], color=color)\n",
    "    plt.scatter(mu[0], mu[1], color='k', s=300., alpha=0.8, marker='h')\n",
    "\n",
    "plt.axis('equal');"
   ]
  },
  {
   "cell_type": "markdown",
   "metadata": {},
   "source": [
    "## Example 3"
   ]
  },
  {
   "cell_type": "code",
   "execution_count": null,
   "metadata": {},
   "outputs": [],
   "source": [
    "from sklearn import datasets\n",
    "\n",
    "iris = datasets.load_iris()\n",
    "X = iris.data\n",
    "y = iris.target\n",
    "\n",
    "# Take only 2 features\n",
    "X = X[:, :2]\n",
    "\n",
    "# And add a column of 1 for the intercept\n",
    "X = np.concatenate((X, np.ones((X.shape[0], 1))), axis=1)\n",
    "\n",
    "# Make it binary\n",
    "X = X[y < 2]\n",
    "y = y[y < 2]\n",
    "\n",
    "y[y == 0] = -1\n",
    "\n",
    "plt.scatter(X[y > 0, 0], X[y > 0, 1], color='r', label=iris.target_names[0])\n",
    "plt.scatter(X[y < 0, 0], X[y < 0, 1], color='g', label=iris.target_names[1])\n",
    "plt.xlabel(iris.feature_names[0])\n",
    "plt.ylabel(iris.feature_names[1])\n",
    "plt.legend();"
   ]
  }
 ],
 "metadata": {
  "kernelspec": {
   "display_name": "Python 3",
   "language": "python",
   "name": "python3"
  },
  "language_info": {
   "codemirror_mode": {
    "name": "ipython",
    "version": 3
   },
   "file_extension": ".py",
   "mimetype": "text/x-python",
   "name": "python",
   "nbconvert_exporter": "python",
   "pygments_lexer": "ipython3",
   "version": "3.6.7"
  },
  "widgets": {
   "state": {},
   "version": "1.1.2"
  }
 },
 "nbformat": 4,
 "nbformat_minor": 1
}
