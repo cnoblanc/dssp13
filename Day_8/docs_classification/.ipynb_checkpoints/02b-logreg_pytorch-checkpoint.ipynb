{
 "cells": [
  {
   "cell_type": "markdown",
   "metadata": {},
   "source": [
    "# Gradient based learning with logistic regression\n",
    "\n",
    "Author: Alexandre Gramfort"
   ]
  },
  {
   "cell_type": "markdown",
   "metadata": {},
   "source": [
    "### Let's first do it by end"
   ]
  },
  {
   "cell_type": "code",
   "execution_count": null,
   "metadata": {},
   "outputs": [],
   "source": [
    "%matplotlib inline\n",
    "import math\n",
    "import numpy as np\n",
    "import matplotlib.pyplot as plt"
   ]
  },
  {
   "cell_type": "code",
   "execution_count": null,
   "metadata": {},
   "outputs": [],
   "source": [
    "from sklearn import datasets\n",
    "from sklearn.linear_model import LogisticRegression\n",
    "\n",
    "iris = datasets.load_iris()\n",
    "X = iris.data[:, :2]\n",
    "y = iris.target\n",
    "\n",
    "# Make it binary\n",
    "X = X[y < 2]\n",
    "y = y[y < 2]\n",
    "\n",
    "y[y == 0] = -1"
   ]
  },
  {
   "cell_type": "code",
   "execution_count": null,
   "metadata": {},
   "outputs": [],
   "source": [
    "X.shape, y.shape, np.unique(y)"
   ]
  },
  {
   "cell_type": "code",
   "execution_count": null,
   "metadata": {},
   "outputs": [],
   "source": [
    "plt.scatter(X[y > 0, 0], X[y > 0, 1], color='r')\n",
    "plt.scatter(X[y < 0, 0], X[y < 0, 1], color='g')"
   ]
  },
  {
   "cell_type": "code",
   "execution_count": null,
   "metadata": {},
   "outputs": [],
   "source": [
    "lambd = .01\n",
    "\n",
    "def f(theta):\n",
    "    \"\"\"Logistic regression objective function\"\"\"\n",
    "    w, b = theta[:-1], theta[-1]\n",
    "    pobj = np.mean(np.log(1. + np.exp(- y * (np.dot(X, w) + b)))) + lambd * np.sum(w ** 2)\n",
    "    return pobj\n",
    "\n",
    "def fprime(theta):\n",
    "    \"\"\"Gradient of the logistic regression objective function\"\"\"\n",
    "    w, b = theta[:-1], theta[-1]\n",
    "    n = X.shape[0]\n",
    "    ywTx = y * (np.dot(X, w) + b)\n",
    "    temp = 1. / (1. + np.exp(ywTx))\n",
    "    grad = np.zeros_like(theta)\n",
    "    grad[:-1] = -np.dot(X.T, (y * temp)) / n + 2. * lambd * w\n",
    "    grad[-1] = -np.sum(y * temp) / n\n",
    "    return grad"
   ]
  },
  {
   "cell_type": "markdown",
   "metadata": {},
   "source": [
    "Check your gradient:"
   ]
  },
  {
   "cell_type": "code",
   "execution_count": null,
   "metadata": {},
   "outputs": [],
   "source": [
    "from scipy.optimize import check_grad\n",
    "check_grad(f, fprime, np.random.randn(3))"
   ]
  },
  {
   "cell_type": "markdown",
   "metadata": {},
   "source": [
    "### Let's learn by gradient descent"
   ]
  },
  {
   "cell_type": "code",
   "execution_count": null,
   "metadata": {},
   "outputs": [],
   "source": [
    "n_features = X.shape[1]\n",
    "theta = np.zeros(n_features + 1)\n",
    "step_size = 1e-1\n",
    "n_iter = 1000\n",
    "all_pobj = []\n",
    "\n",
    "for k in range(n_iter):\n",
    "    theta -= step_size * fprime(theta)\n",
    "    all_pobj.append(f(theta))\n",
    "\n",
    "w, b = theta[:-1], theta[-1]\n",
    "\n",
    "fig, (ax1, ax2) = plt.subplots(1, 2, figsize=(10, 5))\n",
    "ax1.plot(all_pobj)\n",
    "ax1.set(xlabel='Iteration', ylabel='Train loss')\n",
    "\n",
    "ax2.scatter(X[y > 0, 0], X[y > 0, 1], color='r')\n",
    "ax2.scatter(X[y < 0, 0], X[y < 0, 1], color='g')\n",
    "xx = np.linspace(4, 7.5, 10)\n",
    "ax2.plot(xx,  (-b - w[0] * xx) / w[1], 'k')"
   ]
  },
  {
   "cell_type": "markdown",
   "metadata": {},
   "source": [
    "### Let's learn by another descent algorithm (L-BFGS)\n",
    "\n",
    "To learn more on quasi-Newton methods:\n",
    "\n",
    "    J. Nocedal and S. J. Wright. Numerical optimization. Springer Series in Operations Research and Financial Engineering. Springer, New York, second edition, 2006."
   ]
  },
  {
   "cell_type": "code",
   "execution_count": null,
   "metadata": {},
   "outputs": [],
   "source": [
    "from scipy.optimize import fmin_l_bfgs_b\n",
    "fmin_l_bfgs_b?"
   ]
  },
  {
   "cell_type": "code",
   "execution_count": null,
   "metadata": {},
   "outputs": [],
   "source": [
    "alpha = 0.01\n",
    "n_features = X.shape[1]\n",
    "theta, _, _ = fmin_l_bfgs_b(f, np.zeros(n_features + 1), fprime)\n",
    "w, b = theta[:-1], theta[-1]"
   ]
  },
  {
   "cell_type": "code",
   "execution_count": null,
   "metadata": {},
   "outputs": [],
   "source": [
    "plt.scatter(X[y > 0, 0], X[y > 0, 1], color='r')\n",
    "plt.scatter(X[y < 0, 0], X[y < 0, 1], color='g')\n",
    "xx = np.linspace(4, 7.5, 10)\n",
    "plt.plot(xx,  (-b - w[0] * xx) / w[1], 'k')"
   ]
  },
  {
   "cell_type": "markdown",
   "metadata": {},
   "source": [
    "### Let's be lazy and avoid computing gradients\n",
    "\n",
    "We'll be using PyTorch"
   ]
  },
  {
   "cell_type": "code",
   "execution_count": null,
   "metadata": {},
   "outputs": [],
   "source": [
    "import matplotlib.pyplot as plt\n",
    "import torch\n",
    "from torch import nn\n",
    "\n",
    "dtype = torch.float\n",
    "device = torch.device(\"cpu\")\n",
    "\n",
    "X = torch.Tensor(X).to(device, dtype=dtype)\n",
    "y = torch.Tensor(y).to(device, dtype=dtype)\n",
    "\n",
    "n_features = X.shape[1]\n",
    "w = torch.zeros(n_features, 1, device=device, dtype=dtype, requires_grad=True)\n",
    "b = torch.zeros(1, 1, device=device, dtype=dtype, requires_grad=True)\n",
    "\n",
    "losses = []\n",
    "step_size = 1e-1\n",
    "\n",
    "for t in range(1000):\n",
    "    # Forward pass: compute predicted y using operations on Tensors\n",
    "    y_pred = X @ w + b\n",
    "\n",
    "    # Compute and print loss using operations on Tensors.\n",
    "    loss = torch.log(1. + torch.exp(-y * y_pred[:, 0])).mean() + lambd * (w ** 2).sum()\n",
    "    losses.append(loss.item())\n",
    "\n",
    "    # Use autograd to compute the backward pass. This call will compute the\n",
    "    # gradient of loss with respect to all Tensors with requires_grad=True.\n",
    "    # After this call w.grad and b.grad will be Tensors holding the gradient\n",
    "    # of the loss with respect to w and b respectively.\n",
    "    loss.backward()\n",
    "\n",
    "    # Manually update weights and bias using gradient descent.\n",
    "    # Wrap in torch.no_grad() because weights have requires_grad=True,\n",
    "    # but we don't need to track this in autograd.\n",
    "    with torch.no_grad():\n",
    "        w -= step_size * w.grad\n",
    "        b -= step_size * b.grad\n",
    "\n",
    "        # Manually zero the gradients after updating weights\n",
    "        w.grad.zero_()\n",
    "        b.grad.zero_()\n",
    "\n",
    "fig, (ax1, ax2) = plt.subplots(1, 2, figsize=(10, 5))\n",
    "ax1.plot(losses)\n",
    "ax1.set(xlabel='Iteration', ylabel='Train loss')\n",
    "\n",
    "w = w.cpu().detach().numpy().ravel()\n",
    "b = b.item()\n",
    "ax2.scatter(X[y > 0, 0], X[y > 0, 1], color='r')\n",
    "ax2.scatter(X[y < 0, 0], X[y < 0, 1], color='g')\n",
    "xx = np.linspace(4, 7.5, 10)\n",
    "ax2.plot(xx,  (-b - w[0] * xx) / w[1], 'k')"
   ]
  }
 ],
 "metadata": {
  "kernelspec": {
   "display_name": "Python 3",
   "language": "python",
   "name": "python3"
  },
  "language_info": {
   "codemirror_mode": {
    "name": "ipython",
    "version": 3
   },
   "file_extension": ".py",
   "mimetype": "text/x-python",
   "name": "python",
   "nbconvert_exporter": "python",
   "pygments_lexer": "ipython3",
   "version": "3.6.7"
  }
 },
 "nbformat": 4,
 "nbformat_minor": 1
}
