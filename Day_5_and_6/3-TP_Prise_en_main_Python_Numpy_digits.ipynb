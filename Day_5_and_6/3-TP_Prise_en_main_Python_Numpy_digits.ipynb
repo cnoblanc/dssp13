{
 "cells": [
  {
   "cell_type": "markdown",
   "metadata": {},
   "source": [
    "## Manipulation de données avec Python et Numpy\n",
    "\n",
    "    Alexandre Gramfort : alexandre.gramfort@inria.fr"
   ]
  },
  {
   "cell_type": "markdown",
   "metadata": {},
   "source": [
    "L'objectif de ce notebook est la prise en main de Python et Numpy en manipulant un célèbre jeu de données de machine learning.\n",
    "\n",
    "Les données sont fournies par la librarie Python Scikit-Learn.\n",
    "\n",
    "Vous travaillerez sur des données de chiffres manuscrits pour la classification (données `digits`)"
   ]
  },
  {
   "cell_type": "markdown",
   "metadata": {},
   "source": [
    "# I - Manipulation et visualisation des *digits*"
   ]
  },
  {
   "cell_type": "markdown",
   "metadata": {},
   "source": [
    "## Imports et intialisation"
   ]
  },
  {
   "cell_type": "code",
   "execution_count": 1,
   "metadata": {},
   "outputs": [],
   "source": [
    "%matplotlib inline                      \n",
    "\n",
    "import numpy as np                      # charge un package pour le numérique\n",
    "import matplotlib.pyplot as plt         # charge un package pour les graphiques"
   ]
  },
  {
   "cell_type": "markdown",
   "metadata": {},
   "source": [
    "## Description du jeu de données\n",
    "\n",
    "On charge le jeu de données *digits* disponible dans le package scikit-learn (nom d'import sklearn). Ce jeu de données contient des images de chiffres numérisés."
   ]
  },
  {
   "cell_type": "code",
   "execution_count": 2,
   "metadata": {},
   "outputs": [],
   "source": [
    "# Chargement des données disponible dans le package sklearn\n",
    "from sklearn.datasets import load_digits\n",
    "\n",
    "digits = load_digits()\n",
    "X, y = digits.data, digits.target"
   ]
  },
  {
   "cell_type": "code",
   "execution_count": 3,
   "metadata": {},
   "outputs": [
    {
     "data": {
      "text/plain": [
       "(1797, 64)"
      ]
     },
     "execution_count": 3,
     "metadata": {},
     "output_type": "execute_result"
    }
   ],
   "source": [
    "X.shape # 1797 images de 64 pixels"
   ]
  },
  {
   "cell_type": "code",
   "execution_count": 4,
   "metadata": {},
   "outputs": [
    {
     "data": {
      "text/plain": [
       "(1797,)"
      ]
     },
     "execution_count": 4,
     "metadata": {},
     "output_type": "execute_result"
    }
   ],
   "source": [
    "y.shape # 1797 codage (reconnaissance de nombres manuscrits)"
   ]
  },
  {
   "cell_type": "code",
   "execution_count": 5,
   "metadata": {},
   "outputs": [
    {
     "name": "stdout",
     "output_type": "stream",
     "text": [
      "Nombre de pixels :      64\n",
      "Nombre d'observations : 1797\n",
      "Nombre de classes :     10\n"
     ]
    }
   ],
   "source": [
    "print(\"Nombre de pixels :      {}\".format(X.shape[1]))\n",
    "print(\"Nombre d'observations : {}\".format(X.shape[0]))\n",
    "print(\"Nombre de classes :     {}\".format(len(np.unique(y))))"
   ]
  },
  {
   "cell_type": "code",
   "execution_count": 6,
   "metadata": {},
   "outputs": [
    {
     "name": "stdout",
     "output_type": "stream",
     "text": [
      "Affichage d'une ligne de la matrice / image:\n",
      "[ 0.  5. 12. 13. 16. 16.  2.  0.  0. 11. 16. 15.  8.  4.  0.  0.  0.  8.\n",
      " 14. 11.  1.  0.  0.  0.  0.  8. 16. 16. 14.  0.  0.  0.  0.  1.  6.  6.\n",
      " 16.  0.  0.  0.  0.  0.  0.  5. 16.  3.  0.  0.  0.  1.  5. 15. 13.  0.\n",
      "  0.  0.  0.  4. 15. 16.  2.  0.  0.  0.]\n",
      "Affichage de la classe / chiffre associé:\n",
      "5\n"
     ]
    }
   ],
   "source": [
    "# Choix d'une observation quelconque de la base\n",
    "idx_to_test = 15\n",
    "\n",
    "print(\"Affichage d'une ligne de la matrice / image:\")\n",
    "print(X[idx_to_test, :]) # 64 intensités de gris qui représentent un \"5\"\n",
    "print(\"Affichage de la classe / chiffre associé:\")\n",
    "print(y[idx_to_test])"
   ]
  },
  {
   "cell_type": "markdown",
   "metadata": {},
   "source": [
    "<div class=\"alert alert-success\">\n",
    "    <b>EXERCISE:</b>\n",
    "     <ul>\n",
    "      <li>Quel est le dtype de X? y?</li>\n",
    "      <li>Faites varier de `idx_to_test`. Sans afficher y[idx_to_test] arrivez-vous à reconnaitre le chiffre représenté?</li>\n",
    "    </ul>\n",
    "</div>"
   ]
  },
  {
   "cell_type": "code",
   "execution_count": 7,
   "metadata": {},
   "outputs": [
    {
     "data": {
      "text/plain": [
       "dtype('float64')"
      ]
     },
     "execution_count": 7,
     "metadata": {},
     "output_type": "execute_result"
    }
   ],
   "source": [
    "X.dtype"
   ]
  },
  {
   "cell_type": "code",
   "execution_count": 8,
   "metadata": {},
   "outputs": [
    {
     "data": {
      "text/plain": [
       "dtype('int64')"
      ]
     },
     "execution_count": 8,
     "metadata": {},
     "output_type": "execute_result"
    }
   ],
   "source": [
    "y.dtype"
   ]
  },
  {
   "cell_type": "code",
   "execution_count": 9,
   "metadata": {},
   "outputs": [
    {
     "data": {
      "text/plain": [
       "array([0, 1, 2, ..., 8, 9, 8])"
      ]
     },
     "execution_count": 9,
     "metadata": {},
     "output_type": "execute_result"
    }
   ],
   "source": [
    "y"
   ]
  },
  {
   "cell_type": "code",
   "execution_count": 10,
   "metadata": {},
   "outputs": [
    {
     "data": {
      "text/plain": [
       "array([0, 1, 2, 3, 4, 5, 6, 7, 8, 9])"
      ]
     },
     "execution_count": 10,
     "metadata": {},
     "output_type": "execute_result"
    }
   ],
   "source": [
    "np.unique(y)"
   ]
  },
  {
   "cell_type": "markdown",
   "metadata": {},
   "source": [
    "## Visualisation des observations:\n",
    "\n",
    "Les images scannées sont de taille  8 x 8 et comportent donc 64 pixels chacune. Elles sont stockées sous la forme de vecteurs ligne, qu'il faut remettre dans un ordre lisible pour les identifier. L'affichage graphique est proposé avec les commandes qui suivent. On utilise la commande `np.reshape` pour passer d'un array 1d à un array 2d de 8x8 valeurs."
   ]
  },
  {
   "cell_type": "code",
   "execution_count": 11,
   "metadata": {},
   "outputs": [
    {
     "data": {
      "image/png": "[encoded data removed]",
      "text/plain": [
       "<Figure size 432x288 with 1 Axes>"
      ]
     },
     "metadata": {
      "needs_background": "light"
     },
     "output_type": "display_data"
    }
   ],
   "source": [
    "# Utilisation de la fonction imshow pour l'affichage de l'image numéro idx_to_test:\n",
    "plt.imshow(np.reshape(X[idx_to_test, :], (8, 8))); # afficher une image"
   ]
  },
  {
   "cell_type": "code",
   "execution_count": 12,
   "metadata": {},
   "outputs": [],
   "source": [
    "#plt.imshow?"
   ]
  },
  {
   "cell_type": "code",
   "execution_count": 13,
   "metadata": {},
   "outputs": [
    {
     "data": {
      "image/png": "[encoded data removed]",
      "text/plain": [
       "<Figure size 432x288 with 1 Axes>"
      ]
     },
     "metadata": {
      "needs_background": "light"
     },
     "output_type": "display_data"
    }
   ],
   "source": [
    "# Amélioration de la visualisation (niveau de gris) et de la légende:\n",
    "plt.imshow(np.reshape(X[idx_to_test, :], (8, 8)),\n",
    "           cmap='gray', aspect='equal', interpolation='nearest')\n",
    "\n",
    "# Attention aux accents: ne pas oublier le u (Unicode) ci-dessous\n",
    "plt.title(u'Le chiffre d\\'indice %s est un %s' % (idx_to_test, y[idx_to_test]));"
   ]
  },
  {
   "cell_type": "markdown",
   "metadata": {},
   "source": [
    "<div class=\"alert alert-success\">\n",
    "    <b>EXERCISE:</b>:\n",
    "     <ul>\n",
    "      <li>Afficher un pixel sur 2 dans l'image d'avant</li>\n",
    "      <li>Afficher l'image ci-dessus après avoir enlevé un pixel de chaque bord?</li>\n",
    "      <li>Afficher l'histogramme des valeurs des pixels (fonction `plt.hist`)</li>\n",
    "    </ul>\n",
    "</div>"
   ]
  },
  {
   "cell_type": "code",
   "execution_count": 14,
   "metadata": {},
   "outputs": [
    {
     "name": "stdout",
     "output_type": "stream",
     "text": [
      "[ 0.  5. 12. 13. 16. 16.  2.  0.  0. 11. 16. 15.  8.  4.  0.  0.  0.  8.\n",
      " 14. 11.  1.  0.  0.  0.  0.  8. 16. 16. 14.  0.  0.  0.  0.  1.  6.  6.\n",
      " 16.  0.  0.  0.  0.  0.  0.  5. 16.  3.  0.  0.  0.  1.  5. 15. 13.  0.\n",
      "  0.  0.  0.  4. 15. 16.  2.  0.  0.  0.]\n"
     ]
    }
   ],
   "source": [
    "print(X[idx_to_test, :])"
   ]
  },
  {
   "cell_type": "code",
   "execution_count": 15,
   "metadata": {},
   "outputs": [],
   "source": [
    "image=np.reshape(X[idx_to_test, :], (8, 8))\n",
    "image_sans_bord=image[1:-1,1:-1] "
   ]
  },
  {
   "cell_type": "code",
   "execution_count": 16,
   "metadata": {},
   "outputs": [
    {
     "data": {
      "image/png": "[encoded data removed]",
      "text/plain": [
       "<Figure size 432x288 with 1 Axes>"
      ]
     },
     "metadata": {
      "needs_background": "light"
     },
     "output_type": "display_data"
    }
   ],
   "source": [
    "# Selectionner un pixel sur 2\n",
    "# ---------------------------\n",
    "image=np.reshape(X[idx_to_test, :], (8, 8))\n",
    "image_sur2=image[::2,::2] # Toutes les images, mais un pixel sur 2 pour les colonnes et lignes\n",
    "plt.imshow(image_sur2,\n",
    "           cmap='gray', aspect='equal', interpolation='nearest')\n",
    "\n",
    "# Attention aux accents: ne pas oublier le u (Unicode) ci-dessous\n",
    "plt.title(u'Le chiffre d\\'indice %s est un %s' % (idx_to_test, y[idx_to_test]));"
   ]
  },
  {
   "cell_type": "code",
   "execution_count": 17,
   "metadata": {},
   "outputs": [
    {
     "data": {
      "image/png": "[encoded data removed]",
      "text/plain": [
       "<Figure size 432x288 with 1 Axes>"
      ]
     },
     "metadata": {
      "needs_background": "light"
     },
     "output_type": "display_data"
    }
   ],
   "source": [
    "# Enlever un pixel de chaque bord\n",
    "# ---------------------------\n",
    "image_sans_bord=image[1:-1,1:-1] \n",
    "plt.imshow(image_sans_bord,\n",
    "           cmap='gray', aspect='equal', interpolation='nearest')\n",
    "\n",
    "# Attention aux accents: ne pas oublier le u (Unicode) ci-dessous\n",
    "plt.title(u'Le chiffre d\\'indice %s est un %s' % (idx_to_test, y[idx_to_test]));"
   ]
  },
  {
   "cell_type": "code",
   "execution_count": 18,
   "metadata": {},
   "outputs": [
    {
     "data": {
      "text/plain": [
       "(array([33.,  3.,  2.,  5.,  0.,  3.,  2.,  1.,  4., 11.]),\n",
       " array([ 0. ,  1.6,  3.2,  4.8,  6.4,  8. ,  9.6, 11.2, 12.8, 14.4, 16. ]),\n",
       " <a list of 10 Patch objects>)"
      ]
     },
     "execution_count": 18,
     "metadata": {},
     "output_type": "execute_result"
    },
    {
     "data": {
      "image/png": "[encoded data removed]",
      "text/plain": [
       "<Figure size 432x288 with 1 Axes>"
      ]
     },
     "metadata": {
      "needs_background": "light"
     },
     "output_type": "display_data"
    }
   ],
   "source": [
    "#Afficher l'histogramme des valeurs des pixels (fonction `plt.hist`)\n",
    "plt.hist(X[idx_to_test, :])"
   ]
  },
  {
   "cell_type": "code",
   "execution_count": 19,
   "metadata": {},
   "outputs": [],
   "source": [
    "un_vecteur=np.reshape(X, (X.shape[0]*X.shape[1],))\n",
    "un_vecteur=np.reshape(X, (X.size,))\n",
    "un_vecteur=np.ravel(X) # mettre à plat un tableau"
   ]
  },
  {
   "cell_type": "code",
   "execution_count": 20,
   "metadata": {},
   "outputs": [
    {
     "data": {
      "image/png": "[encoded data removed]",
      "text/plain": [
       "<Figure size 432x288 with 1 Axes>"
      ]
     },
     "metadata": {
      "needs_background": "light"
     },
     "output_type": "display_data"
    }
   ],
   "source": [
    "#Afficher l'histogramme des valeurs des pixels (fonction `plt.hist`)\n",
    "_=plt.hist(un_vecteur)"
   ]
  },
  {
   "cell_type": "markdown",
   "metadata": {},
   "source": [
    "\n",
    "## Statistiques élementaires :\n",
    "Pour mieux comprendre la base de données on va s'intéresser à quelques statistiques. \n",
    "On commence par calculer les moyennes et variances par classes pour chacun des chiffres. La moyenne par classe se visualise comme une image qui est une représentantion moyenne pour chaque chiffre de zéro à neuf. Idem pour la variance, ce qui permet alors de voir les parties avec les plus grandes variations entre les membres d'une même classe.\n"
   ]
  },
  {
   "cell_type": "code",
   "execution_count": 21,
   "metadata": {},
   "outputs": [
    {
     "name": "stdout",
     "output_type": "stream",
     "text": [
      "Liste des classes en présence:  [0 1 2 3 4 5 6 7 8 9]\n"
     ]
    }
   ],
   "source": [
    "classes_list = np.unique(y).astype(int)\n",
    "print(u\"Liste des classes en présence: \", classes_list)"
   ]
  },
  {
   "cell_type": "markdown",
   "metadata": {},
   "source": [
    "<div class=\"alert alert-success\">\n",
    "    <b>EXERCISE:</b>:\n",
    "     <ul>\n",
    "      <li>Calculer un représentant moyen du chiffre 0 (l'image qui en pixel i,j contient la valeur moyenne du pixel i,j parmis tous les 0)</li>\n",
    "      <li>Avec une boucle `for` calculer le représentant moyen pour chaque chiffre</li>\n",
    "      <li>Faire la même chose en remplaçant la moyenne par l'écart type</li>\n",
    "      <li>Afficher toutes les images sur une grille à l'aide de la fonction `plt.subplots`</li>\n",
    "    </ul>\n",
    "</div>\n"
   ]
  },
  {
   "cell_type": "code",
   "execution_count": 22,
   "metadata": {},
   "outputs": [
    {
     "data": {
      "image/png": "[encoded data removed]",
      "text/plain": [
       "<Figure size 432x288 with 1 Axes>"
      ]
     },
     "metadata": {
      "needs_background": "light"
     },
     "output_type": "display_data"
    }
   ],
   "source": [
    "# Calculer un représentant moyen du chiffre 0 (l'image qui en pixel i,j contient la valeur moyenne du pixel i,j parmis tous les 0)\n",
    "\n",
    "# A quel endroit sont les zeros ?\n",
    "index_0= y==0\n",
    "index_0\n",
    "\n",
    "# Calcul de la moyenne de ces images là\n",
    "moyenne_0=np.mean(X[index_0],axis=0)\n",
    "\n",
    "plt.imshow(np.reshape(moyenne_0, (8, 8)),\n",
    "           cmap='gray', aspect='equal', interpolation='nearest')\n",
    "# Attention aux accents: ne pas oublier le u (Unicode) ci-dessous\n",
    "plt.title('Image du zero moyen');"
   ]
  },
  {
   "cell_type": "code",
   "execution_count": 23,
   "metadata": {},
   "outputs": [
    {
     "data": {
      "image/png": "[encoded data removed]",
      "text/plain": [
       "<Figure size 432x288 with 1 Axes>"
      ]
     },
     "metadata": {
      "needs_background": "light"
     },
     "output_type": "display_data"
    },
    {
     "data": {
      "image/png": "[encoded data removed]",
      "text/plain": [
       "<Figure size 432x288 with 1 Axes>"
      ]
     },
     "metadata": {
      "needs_background": "light"
     },
     "output_type": "display_data"
    },
    {
     "data": {
      "image/png": "[encoded data removed]",
      "text/plain": [
       "<Figure size 432x288 with 1 Axes>"
      ]
     },
     "metadata": {
      "needs_background": "light"
     },
     "output_type": "display_data"
    },
    {
     "data": {
      "image/png": "[encoded data removed]",
      "text/plain": [
       "<Figure size 432x288 with 1 Axes>"
      ]
     },
     "metadata": {
      "needs_background": "light"
     },
     "output_type": "display_data"
    },
    {
     "data": {
      "image/png": "[encoded data removed]",
      "text/plain": [
       "<Figure size 432x288 with 1 Axes>"
      ]
     },
     "metadata": {
      "needs_background": "light"
     },
     "output_type": "display_data"
    },
    {
     "data": {
      "image/png": "[encoded data removed]",
      "text/plain": [
       "<Figure size 432x288 with 1 Axes>"
      ]
     },
     "metadata": {
      "needs_background": "light"
     },
     "output_type": "display_data"
    },
    {
     "data": {
      "image/png": "[encoded data removed]",
      "text/plain": [
       "<Figure size 432x288 with 1 Axes>"
      ]
     },
     "metadata": {
      "needs_background": "light"
     },
     "output_type": "display_data"
    },
    {
     "data": {
      "image/png": "[encoded data removed]",
      "text/plain": [
       "<Figure size 432x288 with 1 Axes>"
      ]
     },
     "metadata": {
      "needs_background": "light"
     },
     "output_type": "display_data"
    },
    {
     "data": {
      "image/png": "[encoded data removed]",
      "text/plain": [
       "<Figure size 432x288 with 1 Axes>"
      ]
     },
     "metadata": {
      "needs_background": "light"
     },
     "output_type": "display_data"
    },
    {
     "data": {
      "image/png": "[encoded data removed]",
      "text/plain": [
       "<Figure size 432x288 with 1 Axes>"
      ]
     },
     "metadata": {
      "needs_background": "light"
     },
     "output_type": "display_data"
    }
   ],
   "source": [
    "# Avec une boucle `for` calculer le représentant moyen pour chaque chiffre\n",
    "def get_mean_image(X,y,idx):\n",
    "    index_of_idx= y==idx\n",
    "    # Calcul de la moyenne de cette images là\n",
    "    return(np.mean(X[index_of_idx],axis=0))\n",
    "\n",
    "for i in range(10):\n",
    "    moyenne_image=get_mean_image(X,y,i) \n",
    "    plt.figure()\n",
    "    plt.imshow(np.reshape(moyenne_image, (8, 8)),\n",
    "           cmap='gray', aspect='equal', interpolation='nearest')\n",
    "    # Attention aux accents: ne pas oublier le u (Unicode) ci-dessous\n",
    "    plt.title(u'Image moyenne du %d'%i);"
   ]
  },
  {
   "cell_type": "code",
   "execution_count": 24,
   "metadata": {},
   "outputs": [
    {
     "data": {
      "image/png": "[encoded data removed]",
      "text/plain": [
       "<Figure size 1152x1152 with 10 Axes>"
      ]
     },
     "metadata": {},
     "output_type": "display_data"
    }
   ],
   "source": [
    "# Avec une boucle `for` calculer le représentant moyen pour chaque chiffre\n",
    "def get_std_image(X,y,idx):\n",
    "    index_of_idx= y==idx\n",
    "    # Calcul de la moyenne de cette images là\n",
    "    return(np.std(X[index_of_idx],axis=0))\n",
    "\n",
    "fig,axes=plt.subplots(1,10,figsize=(16,16))\n",
    "\n",
    "for i in range(10):\n",
    "    moyenne_image=get_std_image(X,y,i)       \n",
    "    axes[i].imshow(np.reshape(moyenne_image, (8, 8)),\n",
    "           cmap='gray', aspect='equal', interpolation='nearest')\n",
    "    # Attention aux accents: ne pas oublier le u (Unicode) ci-dessous\n",
    "    axes[i].set_xticks([])\n",
    "    axes[i].set_yticks([])\n",
    "    axes[i].set_title(u'%d'%i);"
   ]
  },
  {
   "cell_type": "code",
   "execution_count": 25,
   "metadata": {},
   "outputs": [
    {
     "data": {
      "image/png": "[encoded data removed]",
      "text/plain": [
       "<Figure size 1080x1080 with 10 Axes>"
      ]
     },
     "metadata": {
      "needs_background": "light"
     },
     "output_type": "display_data"
    }
   ],
   "source": [
    "# Avec une boucle `for` calculer le représentant moyen pour chaque chiffre\n",
    "def get_mean_image(X,y,idx):\n",
    "    index_of_idx= y==idx\n",
    "    # Calcul de la moyenne de cette images là\n",
    "    return(np.mean(X[index_of_idx],axis=0))\n",
    "\n",
    "fig,axes=plt.subplots(2,5,figsize=(15,15))\n",
    "\n",
    "for ligne in range(2):\n",
    "    for col in range(5):\n",
    "        i=ligne*5+col\n",
    "        moyenne_image=get_mean_image(X,y,i)\n",
    "\n",
    "        axes[ligne,col].imshow(np.reshape(moyenne_image, (8, 8)),\n",
    "               cmap='gray', aspect='equal', interpolation='nearest')\n",
    "        # Attention aux accents: ne pas oublier le u (Unicode) ci-dessous\n",
    "        #plt.title(u'Image moyenne du %d'%i);"
   ]
  },
  {
   "cell_type": "code",
   "execution_count": 26,
   "metadata": {},
   "outputs": [],
   "source": [
    "#plt.subplots?"
   ]
  },
  {
   "cell_type": "code",
   "execution_count": 27,
   "metadata": {},
   "outputs": [
    {
     "data": {
      "image/png": "[encoded data removed]",
      "text/plain": [
       "<Figure size 1152x1152 with 10 Axes>"
      ]
     },
     "metadata": {},
     "output_type": "display_data"
    }
   ],
   "source": [
    "# Avec une boucle `for` calculer le représentant moyen pour chaque chiffre\n",
    "def get_median_image(X,y,idx):\n",
    "    index_of_idx= y==idx\n",
    "    # Calcul de la moyenne de cette images là\n",
    "    return(np.median(X[index_of_idx],axis=0))\n",
    "\n",
    "fig,axes=plt.subplots(1,10,figsize=(16,16))\n",
    "\n",
    "for i in range(10):\n",
    "    moyenne_image=get_median_image(X,y,i)       \n",
    "    axes[i].imshow(np.reshape(moyenne_image, (8, 8)),\n",
    "           cmap='gray', aspect='equal', interpolation='nearest')\n",
    "    # Attention aux accents: ne pas oublier le u (Unicode) ci-dessous\n",
    "    axes[i].set_xticks([])\n",
    "    axes[i].set_yticks([])\n",
    "    axes[i].set_title(u'%d'%i);"
   ]
  },
  {
   "cell_type": "markdown",
   "metadata": {},
   "source": [
    "# II - Classification par plus proche centroide\n",
    "\n",
    "Le but de cette partie est de vous faire implémenter votre propre classifieur\n",
    "basé sur une idée très simple. Pour un nouveau chiffre, on prédit la classe\n",
    "dont le chiffre moyen est le plus proche.\n",
    "\n",
    "<div class=\"alert alert-success\">\n",
    "    <b>EXERCISE:</b>:\n",
    "     <ul>\n",
    "      <li>Partager la base de données en 2. On notera la première partie X_train, y_train et la deuxième partie X_test et y_test.</li>\n",
    "      <li>Pour chaque chiffre calculer sur l'ensemble de train le chiffre moyen. On notera la variable contenant les moyennes `centroids_train`</li>\n",
    "      <li>Pour chaque chiffre de l'ensemble de test, calculer le centroide le plus proche. Vous évaluerez si le chiffre ainsi obtenu correspond au vrai chiffre et en déduirez une estimation du pourcentage de bonnes prédictions.</li>\n",
    "    </ul>\n",
    "</div>"
   ]
  },
  {
   "cell_type": "code",
   "execution_count": 28,
   "metadata": {},
   "outputs": [],
   "source": [
    "import math as m\n",
    "n_samples, n_features = X.shape\n",
    "\n",
    "n_samples_train = n_samples // 2\n",
    "#n_samples_train=m.ceil(n_samples * 0.8)\n",
    "\n",
    "# X_train = X[...]\n",
    "X_train=X[:n_samples_train,:]\n",
    "# y_train = y[...]\n",
    "y_train = y[:n_samples_train]\n",
    "\n",
    "# X_test = X[...]\n",
    "X_test = X[n_samples_train:,:]\n",
    "# y_test = y[...]\n",
    "y_test = y[n_samples_train:]"
   ]
  },
  {
   "cell_type": "code",
   "execution_count": 29,
   "metadata": {},
   "outputs": [
    {
     "data": {
      "image/png": "[encoded data removed]",
      "text/plain": [
       "<Figure size 1152x1152 with 10 Axes>"
      ]
     },
     "metadata": {},
     "output_type": "display_data"
    }
   ],
   "source": [
    "# Calculer le modèle d'apprentissage :\n",
    "centroids_train=np.zeros((10,64),dtype=float)\n",
    "\n",
    "def get_mean_image(X,y,idx):\n",
    "    index_of_idx= y==idx\n",
    "    # Calcul de la moyenne de cette images là\n",
    "    return(np.mean(X[index_of_idx],axis=0))\n",
    "def get_median_image(X,y,idx):\n",
    "    index_of_idx= y==idx\n",
    "    # Calcul de la moyenne de cette images là\n",
    "    return(np.median(X[index_of_idx],axis=0))\n",
    "\n",
    "# Calculer l'image moyenne et l'afficher\n",
    "fig,axes=plt.subplots(1,10,figsize=(16,16))\n",
    "for i in range(10):\n",
    "    centroids_train[i]=get_mean_image(X_train,y_train,i) \n",
    "    axes[i].imshow(np.reshape(centroids_train[i], (8, 8)),\n",
    "           cmap='gray', aspect='equal', interpolation='nearest')\n",
    "    # Attention aux accents: ne pas oublier le u (Unicode) ci-dessous\n",
    "    axes[i].set_xticks([])\n",
    "    axes[i].set_yticks([])\n",
    "    axes[i].set_title(u'%d'%i);"
   ]
  },
  {
   "cell_type": "code",
   "execution_count": 30,
   "metadata": {},
   "outputs": [
    {
     "name": "stdout",
     "output_type": "stream",
     "text": [
      "Taux de reussite= 87.54171301446051\n"
     ]
    }
   ],
   "source": [
    "import math as m\n",
    "\n",
    "def distance_image(image1,image2):\n",
    "    distance=np.sqrt(np.sum((image1-image2)**2))\n",
    "    # opération sur les vecteurs\n",
    "    return(distance)\n",
    "\n",
    "def predict(centroids_train,test_array):\n",
    "    pred_array=np.zeros(test_array.shape[0],dtype=int)\n",
    "    for elem in range(test_array.shape[0]):\n",
    "        distance_sel=9999999999\n",
    "        pred_sel=99;\n",
    "        for i in range(centroids_train.shape[0]):\n",
    "            distance=distance_image(np.ravel(centroids_train[i,:]),np.ravel(test_array[elem]))\n",
    "            if distance < distance_sel:\n",
    "                pred_sel=i\n",
    "                distance_sel=distance\n",
    "        pred_array[elem]=pred_sel\n",
    "    return(pred_array)\n",
    "\n",
    "resultats= predict(centroids_train,X_test) == y_test        \n",
    "print(\"Taux de reussite=\",np.mean(resultats)*100)"
   ]
  },
  {
   "cell_type": "code",
   "execution_count": 31,
   "metadata": {},
   "outputs": [
    {
     "data": {
      "text/plain": [
       "0.8754171301446051"
      ]
     },
     "execution_count": 31,
     "metadata": {},
     "output_type": "execute_result"
    }
   ],
   "source": [
    "\n",
    "# --------------------\n",
    "# Correction\n",
    "# --------------------\n",
    "n_samples, n_features = X.shape\n",
    "\n",
    "n_samples_train = n_samples // 2\n",
    "\n",
    "X_train = X[:n_samples_train]\n",
    "y_train = y[:n_samples_train]\n",
    "\n",
    "X_test = X[n_samples_train:]\n",
    "y_test = y[n_samples_train:]\n",
    "\n",
    "# Learning / Fitting\n",
    "centroids_train = np.zeros((10, 64))\n",
    "for i in range(10):\n",
    "    centroids_train[i, :] = np.mean(X_train[y_train == i, :], axis=0)\n",
    "\n",
    "# Prediction\n",
    "dist = np.zeros((len(X_test), 10)) # en ligne le numéro d'image à tester, en colonne les distances pour les 10 cas\n",
    "for j in range(len(X_test)):\n",
    "    x = X_test[j, :] # L'image à prédire\n",
    "    for i in range(10):\n",
    "        dist[j, i] = np.sqrt(np.sum((x - centroids_train[i])**2))\n",
    "\n",
    "y_pred = np.argmin(dist, axis=1) # argmin() : Quel est l'indice du minimum, suivant les colonnes\n",
    "acc = np.mean(y_pred == y_test)\n",
    "acc"
   ]
  },
  {
   "cell_type": "code",
   "execution_count": 32,
   "metadata": {},
   "outputs": [],
   "source": [
    "# En écrivant cela en objet :\n",
    "from sklearn.base import BaseEstimator, ClassifierMixin\n",
    "\n",
    "class MyClassifier(BaseEstimator, ClassifierMixin):\n",
    "    def __init__(self):\n",
    "        pass\n",
    "    \n",
    "    def fit(self, X, y):\n",
    "        n_classes = len(np.unique(y))\n",
    "        n_features = X.shape[1]\n",
    "        centroids_train = np.zeros((n_classes, n_features))\n",
    "        for i in range(n_classes):\n",
    "            centroids_train[i, :] = \\\n",
    "                np.mean(X[y == i, :], axis=0)\n",
    "        self.centroids_train_ = centroids_train\n",
    "        return self\n",
    "\n",
    "    def predict(self, X):\n",
    "        n_classes = len(self.centroids_train_)\n",
    "        dist = np.zeros((len(X), n_classes))\n",
    "        for j in range(len(X)):\n",
    "            x = X[j, :]\n",
    "            for i in range(n_classes):\n",
    "                dist[j, i] = \\\n",
    "                    np.sqrt(np.sum((x - self.centroids_train_[i])**2))\n",
    "\n",
    "        y_pred = np.argmin(dist, axis=1)\n",
    "        return y_pred"
   ]
  },
  {
   "cell_type": "code",
   "execution_count": 33,
   "metadata": {},
   "outputs": [
    {
     "data": {
      "text/plain": [
       "0.8754171301446051"
      ]
     },
     "execution_count": 33,
     "metadata": {},
     "output_type": "execute_result"
    }
   ],
   "source": [
    "classifier = MyClassifier()\n",
    "classifier.fit(X_train, y_train)  # learn / fit / apprend\n",
    "y_pred = classifier.predict(X_test)  # predict\n",
    "acc = classifier.score(X_test, y_test)  # score\n",
    "acc"
   ]
  },
  {
   "cell_type": "code",
   "execution_count": 34,
   "metadata": {},
   "outputs": [
    {
     "data": {
      "text/plain": [
       "0.8754171301446051"
      ]
     },
     "execution_count": 34,
     "metadata": {},
     "output_type": "execute_result"
    }
   ],
   "source": [
    "# -----------------\n",
    "# sklearn a déjà ça\n",
    "#------------------\n",
    "# Voir ce que sklearn nous donne\n",
    "from sklearn.neighbors import NearestCentroid\n",
    "clf = NearestCentroid()\n",
    "clf.fit(X_train, y_train)\n",
    "clf.score(X_test,y_test)"
   ]
  },
  {
   "cell_type": "code",
   "execution_count": 35,
   "metadata": {},
   "outputs": [],
   "source": [
    "# aller voir le code :\n",
    "#NearestCentroid??\n"
   ]
  },
  {
   "cell_type": "code",
   "execution_count": 36,
   "metadata": {},
   "outputs": [
    {
     "data": {
      "text/plain": [
       "0.8954393770856507"
      ]
     },
     "execution_count": 36,
     "metadata": {},
     "output_type": "execute_result"
    }
   ],
   "source": [
    "# Façons de séparer le jeux de Train et celui de Test\n",
    "from sklearn.model_selection import train_test_split\n",
    "\n",
    "# Random split\n",
    "X_train, X_test, y_train, y_test = train_test_split(X,y,test_size=0.5)\n",
    "clf.fit(X_train, y_train).score(X_test,y_test)\n",
    "\n",
    "# on obtient un %age de score qui varient.\n",
    "# En jouant le score plusieurs fois, on obtient plusieurs valeurs et on peut en calculer la moyenne et l'écart type.\n"
   ]
  },
  {
   "cell_type": "code",
   "execution_count": 41,
   "metadata": {},
   "outputs": [
    {
     "data": {
      "image/png": "[encoded data removed]",
      "text/plain": [
       "<Figure size 432x288 with 1 Axes>"
      ]
     },
     "metadata": {
      "needs_background": "light"
     },
     "output_type": "display_data"
    }
   ],
   "source": [
    "import matplotlib.pyplot as plt\n",
    "combien_tests=100\n",
    "results=np.zeros(combien_tests)\n",
    "par_combien=80\n",
    "results_histo=np.zeros((par_combien+1,3))\n",
    "\n",
    "for pct in range(1,par_combien):\n",
    "    #print(pct)\n",
    "    for i in range(combien_tests):\n",
    "        X_train, X_test, y_train, y_test = train_test_split(X,y,test_size=pct/par_combien)\n",
    "        results[i]=clf.fit(X_train, y_train).score(X_test,y_test)\n",
    "    results_histo[pct,0]=pct/par_combien*100\n",
    "    results_histo[pct,1]=np.mean(results)\n",
    "    results_histo[pct,2]=np.std(results)\n",
    "    #print(\"moyenne=\",np.mean(results),\"standard dev=\",np.std(results))\n",
    "\n",
    "plt.errorbar(results_histo[1:-1,0], results_histo[1:-1,1]\n",
    "                 , results_histo[1:-1,2], linestyle='None', marker='^')\n",
    "plt.show()"
   ]
  },
  {
   "cell_type": "code",
   "execution_count": 38,
   "metadata": {},
   "outputs": [
    {
     "name": "stdout",
     "output_type": "stream",
     "text": [
      "moyenne= 0.8836101717889818 standard dev= 0.04112678822301056\n"
     ]
    }
   ],
   "source": [
    "from sklearn.model_selection import cross_val_score\n",
    "scores=cross_val_score(clf,X,y,cv=10)\n",
    "# Ici, on rejout le score 10 fois, et on prend la moyenne\n",
    "\n",
    "print(\"moyenne=\",np.mean(scores),\"standard dev=\",np.std(scores))\n"
   ]
  },
  {
   "cell_type": "code",
   "execution_count": 42,
   "metadata": {},
   "outputs": [],
   "source": [
    "#results_histo"
   ]
  }
 ],
 "metadata": {
  "kernelspec": {
   "display_name": "Python 3",
   "language": "python",
   "name": "python3"
  },
  "language_info": {
   "codemirror_mode": {
    "name": "ipython",
    "version": 3
   },
   "file_extension": ".py",
   "mimetype": "text/x-python",
   "name": "python",
   "nbconvert_exporter": "python",
   "pygments_lexer": "ipython3",
   "version": "3.7.4"
  },
  "widgets": {
   "state": {},
   "version": "1.1.2"
  }
 },
 "nbformat": 4,
 "nbformat_minor": 1
}
