{
 "cells": [
  {
   "cell_type": "code",
   "execution_count": 64,
   "metadata": {},
   "outputs": [],
   "source": [
    "import os\n",
    "import urllib\n",
    "import gzip as gz\n",
    "from urllib.request import urlopen\n",
    "import numpy as np\n",
    "import pandas as pd\n",
    "from datetime import datetime"
   ]
  },
  {
   "cell_type": "code",
   "execution_count": 65,
   "metadata": {},
   "outputs": [],
   "source": [
    "folder_path=os.path.join(\"data_dvf\")\n",
    "dvf_url=\"https://cadastre.data.gouv.fr/data/etalab-dvf/latest/csv/\"\n",
    "base_path=\"/Users/christophenoblanc/Documents/ProjetsPython/DSSP_Projet_DVF/data_dvf/\""
   ]
  },
  {
   "cell_type": "code",
   "execution_count": 96,
   "metadata": {},
   "outputs": [],
   "source": [
    "def download_file(url=\"\",path=\"\",target_name=\"\",force=True):\n",
    "    os.makedirs(path,exist_ok=True)\n",
    "    # Open the url\n",
    "    f = urlopen(url)\n",
    "    meta = f.info()\n",
    "    file_size = float(meta.get('Content-Length'))\n",
    "    KB=file_size/1024.\n",
    "    MB=KB/1024.\n",
    "    #file_date= parse(meta.get('Last-Modified'))\n",
    "    file_date= datetime.strptime(meta.get('Last-Modified'), '%a, %d %B %Y %H:%M:%S %Z')\n",
    "    #print(\"URL file_date=\"+np.str(file_date))\n",
    "    # Check if we need to download the file \n",
    "    out_file=os.path.join(path+target_name)\n",
    "    local_fileDate=datetime.fromtimestamp(os.path.getctime(out_file))\n",
    "    #print(\"Local file_date=\"+np.str(local_fileDate))\n",
    "    \n",
    "    if local_fileDate < file_date or force :\n",
    "        print (\"Downloading %s ; Bytes: %s (%s KB) (%s MB)\" % (url, file_size,KB,MB))\n",
    "        # Open our local file for writing\n",
    "        with open(out_file, \"wb\") as local_file: \n",
    "            local_file.write(f.read())\n",
    "            local_file.seek(0,2)\n",
    "            file_size=local_file.tell()\n",
    "            KB=file_size/1024.\n",
    "            MB=KB/1024.\n",
    "            print (\"End writing file in : %s ; writen size : %s (%s KB) (%s MB)\" % (out_file,file_size,KB,MB))\n",
    "    else :\n",
    "        print (\"Local File (%s) more recent than URL Target (%s)\" % (local_fileDate, file_date))\n",
    "    return file_date\n",
    "\n",
    "def unzip_from_gz(gz_file=\"\",out_file=\"\"):\n",
    "    gz_file=gz.open(gz_file, 'rb')\n",
    "    \n",
    "    with open(out_file, \"wb\") as local_file: \n",
    "        local_file.write(gz_file.read())\n",
    "        local_file.seek(0,2)\n",
    "        file_size=local_file.tell()\n",
    "        KB=file_size/1024.\n",
    "        MB=KB/1024.\n",
    "        print (\"End unzip file in : %s ; writen size : %s (%s KB) (%s MB)\" % (out_file,file_size,KB,MB))\n",
    "    gz_file.close()   "
   ]
  },
  {
   "cell_type": "code",
   "execution_count": 97,
   "metadata": {},
   "outputs": [],
   "source": [
    "# Main Logic to download /  Refresh data\n",
    "list_of_years=[\"2014\",\"2015\",\"2016\",\"2017\",\"2018\"]\n",
    "#list_of_years=[\"2018\"]"
   ]
  },
  {
   "cell_type": "code",
   "execution_count": 99,
   "metadata": {},
   "outputs": [
    {
     "name": "stdout",
     "output_type": "stream",
     "text": [
      "Local File (2019-10-27 16:11:07.922311) more recent than URL Target (2019-05-07 16:27:28)\n",
      "End unzip file in : data_dvf/2014_dvf_full.csv ; writen size : 436887349 (426647.8017578125 KB) (416.64824390411377 MB)\n",
      "Local File (2019-10-27 16:11:12.781354) more recent than URL Target (2019-05-07 15:43:55)\n",
      "End unzip file in : data_dvf/2015_dvf_full.csv ; writen size : 478920230 (467695.537109375 KB) (456.733922958374 MB)\n",
      "Local File (2019-10-27 16:11:17.418160) more recent than URL Target (2019-05-07 14:59:29)\n",
      "End unzip file in : data_dvf/2016_dvf_full.csv ; writen size : 511269982 (499287.091796875 KB) (487.58505058288574 MB)\n",
      "Local File (2019-10-27 16:11:21.661979) more recent than URL Target (2019-05-07 14:13:45)\n",
      "End unzip file in : data_dvf/2017_dvf_full.csv ; writen size : 585806715 (572076.8701171875 KB) (558.6688184738159 MB)\n",
      "Local File (2019-10-27 16:11:26.588730) more recent than URL Target (2019-05-07 13:26:19)\n",
      "End unzip file in : data_dvf/2018_dvf_full.csv ; writen size : 405422284 (395920.19921875 KB) (386.64081954956055 MB)\n"
     ]
    }
   ],
   "source": [
    "#last_DownloadedFiles=get_LastDownloadDate()\n",
    "for year in list_of_years:\n",
    "    file_date=download_file(url=dvf_url+year+\"/full.csv.gz\"\n",
    "                            ,path=folder_path,target_name=\"/\"+year+\"_dvf_full.csv.gz\"\n",
    "                            ,force=False)\n",
    "    unzip_from_gz(gz_file=folder_path+\"/\"+year+\"_dvf_full.csv.gz\",out_file=folder_path+\"/\"+year+\"_dvf_full.csv\")\n",
    "  "
   ]
  },
  {
   "cell_type": "code",
   "execution_count": 8,
   "metadata": {},
   "outputs": [],
   "source": [
    "#f = urlopen(dvf_url+\"2018/full.csv.gz\")\n",
    "#meta = f.info()\n",
    "#print(meta)"
   ]
  },
  {
   "cell_type": "code",
   "execution_count": null,
   "metadata": {},
   "outputs": [],
   "source": []
  },
  {
   "cell_type": "code",
   "execution_count": null,
   "metadata": {},
   "outputs": [],
   "source": []
  },
  {
   "cell_type": "code",
   "execution_count": null,
   "metadata": {},
   "outputs": [],
   "source": []
  },
  {
   "cell_type": "code",
   "execution_count": null,
   "metadata": {},
   "outputs": [],
   "source": []
  }
 ],
 "metadata": {
  "kernelspec": {
   "display_name": "Python 3",
   "language": "python",
   "name": "python3"
  },
  "language_info": {
   "codemirror_mode": {
    "name": "ipython",
    "version": 3
   },
   "file_extension": ".py",
   "mimetype": "text/x-python",
   "name": "python",
   "nbconvert_exporter": "python",
   "pygments_lexer": "ipython3",
   "version": "3.7.5"
  }
 },
 "nbformat": 4,
 "nbformat_minor": 2
}
