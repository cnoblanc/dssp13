{
 "cells": [
  {
   "cell_type": "code",
   "execution_count": 1,
   "metadata": {},
   "outputs": [],
   "source": [
    "import numpy as np\n",
    "import pandas as pd\n",
    "\n",
    "%matplotlib inline\n",
    "import matplotlib.pyplot as plt\n",
    "import matplotlib as mpl\n",
    "plt.style.use('seaborn-whitegrid')\n"
   ]
  },
  {
   "cell_type": "markdown",
   "metadata": {},
   "source": [
    "### Classic Collaborative Filtering\n",
    "\n",
    "The classic collaborative filtering technique finds similar users (those giving similar ratings) using measures such as cosine similarity: \n",
    "\n",
    "$$ cos(\\vec{\\mathbf{x}}, \\vec{\\mathbf{y}}) = \\frac{\\vec{\\mathbf{x}} \\cdot \\vec{\\mathbf{y}}}{\\|\\vec{\\mathbf{x}}\\| \\|\\vec{\\mathbf{y}}\\|} = \\frac{\\sum_{i=1}^n x_i y_i}{\\sqrt{\\sum_{i=1}^n x_i^2} \\sqrt{\\sum_{i=1}^n y_i^2}}  $$\n",
    "\n",
    "Write a function that computes the pairwise similarities between all users. If $n$ is the number of users, create an $n \\times n$ matrix $S \\in \\mathbb{R}^{n \\times n}$ whose $(i,j)^{th}$ entry denotes the similarity between users $i$ and $j$."
   ]
  },
  {
   "cell_type": "code",
   "execution_count": 2,
   "metadata": {},
   "outputs": [],
   "source": [
    "# --------------------------------\n",
    "# - Try e new algorithme  --------\n",
    "# --------------------------------"
   ]
  },
  {
   "cell_type": "code",
   "execution_count": 3,
   "metadata": {},
   "outputs": [],
   "source": [
    "from sklearn.model_selection import train_test_split"
   ]
  },
  {
   "cell_type": "code",
   "execution_count": 4,
   "metadata": {},
   "outputs": [
    {
     "name": "stdout",
     "output_type": "stream",
     "text": [
      "Read Mutations\n",
      "Read Local\n",
      "Read Parcelle\n",
      "Read Adresse\n",
      "Make the join for DVF\n",
      "Filter data:\n",
      "Final Calculations\n",
      "Prepare : filter extrem values\n",
      "Prepare : drop geo categories\n",
      "Prepare : update categories\n"
     ]
    }
   ],
   "source": [
    "import dvfdata\n",
    "df=dvfdata.loadDVF_Maisons(departement='77',refresh_force=False,add_commune=False)\n",
    "df_prepared=dvfdata.prepare_df(df,remove_categories=False)"
   ]
  },
  {
   "cell_type": "code",
   "execution_count": 5,
   "metadata": {},
   "outputs": [],
   "source": [
    "df_prepared.dropna(axis=0, subset=['geolong'], inplace=True) # remove records which we do not know the geolong\n",
    "df_prepared.dropna(axis=0, subset=['geolat'], inplace=True) # remove records which we do not know the geolat\n"
   ]
  },
  {
   "cell_type": "code",
   "execution_count": 6,
   "metadata": {},
   "outputs": [
    {
     "name": "stdout",
     "output_type": "stream",
     "text": [
      "<class 'pandas.core.frame.DataFrame'>\n",
      "Int64Index: 47413 entries, 1468388 to 1516439\n",
      "Data columns (total 6 columns):\n",
      "valeurfonc    47413 non-null int64\n",
      "sterr         47413 non-null int64\n",
      "geolong       47413 non-null float64\n",
      "geolat        47413 non-null float64\n",
      "nbpprinc      47413 non-null float64\n",
      "sbati         47413 non-null float64\n",
      "dtypes: float64(4), int64(2)\n",
      "memory usage: 2.5 MB\n"
     ]
    }
   ],
   "source": [
    "df_prepared.info()"
   ]
  },
  {
   "cell_type": "code",
   "execution_count": 7,
   "metadata": {},
   "outputs": [],
   "source": [
    "X_df = df_prepared.drop(columns='valeurfonc')\n",
    "y = df_prepared['valeurfonc']\n",
    "\n",
    "columns = np.array(X_df.columns)\n",
    "columns_geo = columns[(columns == 'geolong') | (columns == 'geolat')]\n",
    "columns_notgeo=X_df.columns.drop(columns_geo) \n",
    "\n",
    "# Split data Train & Test\n",
    "X_train, X_test, y_train, y_test = train_test_split(X_df, y, random_state=42)"
   ]
  },
  {
   "cell_type": "code",
   "execution_count": 8,
   "metadata": {},
   "outputs": [
    {
     "name": "stdout",
     "output_type": "stream",
     "text": [
      "['geolong' 'geolat']\n",
      "Index(['sterr', 'nbpprinc', 'sbati'], dtype='object')\n"
     ]
    }
   ],
   "source": [
    "print(columns_geo)\n",
    "print(columns_notgeo)"
   ]
  },
  {
   "cell_type": "code",
   "execution_count": 9,
   "metadata": {},
   "outputs": [
    {
     "data": {
      "text/plain": [
       "(35559,)"
      ]
     },
     "execution_count": 9,
     "metadata": {},
     "output_type": "execute_result"
    }
   ],
   "source": [
    "y_train.shape"
   ]
  },
  {
   "cell_type": "code",
   "execution_count": 10,
   "metadata": {},
   "outputs": [],
   "source": [
    "#from sklearn.neighbors import KDTree\n",
    "Geo_train=X_train[columns_geo]\n",
    "Geo_test=X_test[columns_geo]\n",
    "NotGeo_train=X_train[columns_notgeo]\n",
    "NotGeo_test=X_test[columns_notgeo]\n",
    "\n",
    "#tree = KDTree(Geo_train, leaf_size=30, metric='euclidean')\n",
    "#Neighbors_dist, Neighbors_idx =tree.query(Geo_test, k=10, return_distance=True)"
   ]
  },
  {
   "cell_type": "code",
   "execution_count": 11,
   "metadata": {},
   "outputs": [
    {
     "name": "stdout",
     "output_type": "stream",
     "text": [
      "(11854, 5)\n"
     ]
    }
   ],
   "source": [
    "print(X_test.shape)"
   ]
  },
  {
   "cell_type": "code",
   "execution_count": null,
   "metadata": {},
   "outputs": [],
   "source": []
  },
  {
   "cell_type": "code",
   "execution_count": 12,
   "metadata": {},
   "outputs": [],
   "source": [
    "from sklearn.metrics.pairwise import cosine_similarity"
   ]
  },
  {
   "cell_type": "code",
   "execution_count": 13,
   "metadata": {},
   "outputs": [
    {
     "data": {
      "text/plain": [
       "(11854, 35559)"
      ]
     },
     "execution_count": 13,
     "metadata": {},
     "output_type": "execute_result"
    }
   ],
   "source": [
    "Similarities=cosine_similarity(X=NotGeo_test, Y=NotGeo_train, dense_output=True)\n",
    "Similarities.shape"
   ]
  },
  {
   "cell_type": "code",
   "execution_count": 32,
   "metadata": {},
   "outputs": [],
   "source": [
    "from sklearn.metrics import pairwise_distances\n",
    "Distances=pairwise_distances(X=Geo_test, Y=Geo_train\n",
    "                            , metric='euclidean', n_jobs=-1)"
   ]
  },
  {
   "cell_type": "code",
   "execution_count": 33,
   "metadata": {},
   "outputs": [
    {
     "data": {
      "text/plain": [
       "(11854, 35559)"
      ]
     },
     "execution_count": 33,
     "metadata": {},
     "output_type": "execute_result"
    }
   ],
   "source": [
    "Distances.shape"
   ]
  },
  {
   "cell_type": "code",
   "execution_count": 34,
   "metadata": {},
   "outputs": [
    {
     "data": {
      "text/plain": [
       "array([0.42819814, 0.3960114 , 0.44087986, ..., 0.24434465, 0.00860603,\n",
       "       0.35758911])"
      ]
     },
     "execution_count": 34,
     "metadata": {},
     "output_type": "execute_result"
    }
   ],
   "source": [
    "Distances[1]"
   ]
  },
  {
   "cell_type": "code",
   "execution_count": 36,
   "metadata": {},
   "outputs": [
    {
     "name": "stdout",
     "output_type": "stream",
     "text": [
      "None\n"
     ]
    }
   ],
   "source": [
    "print(Distances[1].sort())"
   ]
  },
  {
   "cell_type": "code",
   "execution_count": 18,
   "metadata": {},
   "outputs": [
    {
     "data": {
      "text/plain": [
       "array([0.98979886, 0.99808337, 0.99529517, ..., 0.88739048, 0.99181848,\n",
       "       0.9978675 ])"
      ]
     },
     "execution_count": 18,
     "metadata": {},
     "output_type": "execute_result"
    }
   ],
   "source": [
    "Similarities[1]"
   ]
  },
  {
   "cell_type": "code",
   "execution_count": 19,
   "metadata": {},
   "outputs": [
    {
     "data": {
      "text/plain": [
       "array([1.42819814, 1.3960114 , 1.44087986, ..., 1.24434465, 1.00860603,\n",
       "       1.35758911])"
      ]
     },
     "execution_count": 19,
     "metadata": {},
     "output_type": "execute_result"
    }
   ],
   "source": [
    "Distances[1]+1"
   ]
  },
  {
   "cell_type": "code",
   "execution_count": 21,
   "metadata": {},
   "outputs": [
    {
     "data": {
      "text/plain": [
       "array([  3.30134289,   3.51842339,   3.25281533, ...,   4.519107  ,\n",
       "       116.23868776,   3.78840972])"
      ]
     },
     "execution_count": 21,
     "metadata": {},
     "output_type": "execute_result"
    }
   ],
   "source": [
    "np.multiply(Similarities[1],1/Distances[1]+1)"
   ]
  },
  {
   "cell_type": "code",
   "execution_count": 24,
   "metadata": {},
   "outputs": [],
   "source": [
    "from tqdm.notebook import tqdm\n",
    "from sklearn.neighbors import KDTree\n",
    "\n",
    "from sklearn.metrics import pairwise_distances\n",
    "from sklearn.metrics.pairwise import cosine_similarity\n",
    "\n",
    "class ChristopheGeoRegressor():\n",
    "    def __init__(self,col_latitude=\"\",col_longitude=\"\",dist_weight=0.5,k=20):     \n",
    "        self.col_latitude = col_latitude\n",
    "        self.col_longitude = col_longitude\n",
    "        self.k=k # How many Similar Neighbors we keep\n",
    "        self.dist_weight=dist_weight # Weight 0<=w<=1 of the distance in the score to select similar neighbors\n",
    "\n",
    "    def fit(self,X, y): # Train phase\n",
    "        # From X, get columns lists\n",
    "        self.columns = np.array(X.columns)\n",
    "        self.columns_geo = self.columns[(self.columns == self.col_latitude) | (self.columns == self.col_longitude)]\n",
    "        self.columns_notgeo=X.columns.drop(self.columns_geo) \n",
    "        self.X_train=X\n",
    "        self.y_train=y\n",
    "        return self\n",
    "    \n",
    "    def predict(self,X,loops):\n",
    "        X_test=X\n",
    "        print(\"start predict:\")\n",
    "        print(\"- compute Similarities matrix\")\n",
    "        self.Similarities=cosine_similarity(X=X_test[self.columns_notgeo]\n",
    "                            , Y=self.X_train[self.columns_notgeo], dense_output=True)\n",
    "        print(\"- compute Distances matrix\")\n",
    "        self.Distances=pairwise_distances(X=X_test[self.columns_geo], Y=self.X_train[self.columns_geo]\n",
    "                            , metric='euclidean', n_jobs=-1)\n",
    "        print(\"- compute Scores matrix\")\n",
    "        \n",
    "        #self.Scores=np.multiply(np.add(  np.multiply(self.Similarities,1-self.dist_weight) \\\n",
    "        #                               , np.multiply(self.Distances, self.dist_weight) ) \\\n",
    "        #                        ,.5)\n",
    "        self.Scores=np.multiply(self.Similarities,np.divide(1,(np.add(self.Distances,1))))\n",
    "        \n",
    "        print(\"- select best scores\")\n",
    "        test_records=X.shape[0]\n",
    "        \n",
    "        y_hat = np.zeros(test_records)\n",
    "        selected_indexes=np.zeros((test_records,self.k))\n",
    "        \n",
    "        for i in tqdm(range(test_records), desc='Predict loop'):\n",
    "            df_scores=pd.DataFrame(self.Scores[i])\n",
    "            df_scores.columns = ['score']\n",
    "            selected_scores=df_scores.sort_values(by=['score'], ascending=False)[:self.k]\n",
    "            selected_metrics=y_train.iloc[selected_scores.index]\n",
    "            \n",
    "            selected_indexes[i]=selected_scores.index\n",
    "            y_hat[i]=selected_metrics.mean()\n",
    "            \n",
    "        self.selected_indexes_=selected_indexes\n",
    "        print(\"Predict:Done\")\n",
    "        \n",
    "        return y_hat"
   ]
  },
  {
   "cell_type": "code",
   "execution_count": 25,
   "metadata": {},
   "outputs": [],
   "source": [
    "my_model=ChristopheGeoRegressor(col_latitude=\"geolat\",col_longitude=\"geolong\",dist_weight=0.9,k=20)"
   ]
  },
  {
   "cell_type": "code",
   "execution_count": 26,
   "metadata": {},
   "outputs": [
    {
     "data": {
      "text/plain": [
       "<__main__.ChristopheGeoRegressor at 0x1b6c1e2ad0>"
      ]
     },
     "execution_count": 26,
     "metadata": {},
     "output_type": "execute_result"
    }
   ],
   "source": [
    "my_model.fit(X_train,y_train)"
   ]
  },
  {
   "cell_type": "code",
   "execution_count": 27,
   "metadata": {},
   "outputs": [
    {
     "name": "stdout",
     "output_type": "stream",
     "text": [
      "start predict:\n",
      "- compute Similarities matrix\n",
      "- compute Distances matrix\n",
      "- compute Scores matrix\n",
      "- select best scores\n"
     ]
    },
    {
     "data": {
      "application/vnd.jupyter.widget-view+json": {
       "model_id": "485f1950b5824f168acf1bd30f56f228",
       "version_major": 2,
       "version_minor": 0
      },
      "text/plain": [
       "HBox(children=(FloatProgress(value=0.0, description='Predict loop', max=11854.0, style=ProgressStyle(descripti…"
      ]
     },
     "metadata": {},
     "output_type": "display_data"
    },
    {
     "name": "stdout",
     "output_type": "stream",
     "text": [
      "\n",
      "Predict:Done\n"
     ]
    }
   ],
   "source": [
    "y_test_predict=my_model.predict(X_test,1)"
   ]
  },
  {
   "cell_type": "code",
   "execution_count": 28,
   "metadata": {},
   "outputs": [
    {
     "data": {
      "text/plain": [
       "(11854,)"
      ]
     },
     "execution_count": 28,
     "metadata": {},
     "output_type": "execute_result"
    }
   ],
   "source": [
    "y_test_predict.shape"
   ]
  },
  {
   "cell_type": "code",
   "execution_count": 29,
   "metadata": {},
   "outputs": [
    {
     "name": "stdout",
     "output_type": "stream",
     "text": [
      "------------ Scoring ------------------\n",
      "Price diff error MAE: 54852.76 (+/- 115676.77)\n",
      "Percent of Price error MAPE: 43.48 (+/- 1337.69)\n",
      "Price error RMSE: 79710.87 (+/- 159421.73)\n",
      "---------------------------------------\n"
     ]
    }
   ],
   "source": [
    "mae,mae_std,mape, mape_std,mse,mse_std,rmse,rmse_std = dvfdata.get_predict_errors(y=y_test, y_pred=y_test_predict)\n",
    "print(\"------------ Scoring ------------------\")\n",
    "#print(\"Cross-Validation Accuracy: %0.2f (+/- %0.2f)\" % (-cross_val_scores.mean(), cross_val_scores.std() * 2))\n",
    "print(\"Price diff error MAE: %0.2f (+/- %0.2f)\" % (mae, mae_std * 2))\n",
    "print(\"Percent of Price error MAPE: %0.2f (+/- %0.2f)\" % (mape, mape_std * 2))\n",
    "print(\"Price error RMSE: %0.2f (+/- %0.2f)\" % (rmse, rmse * 2))\n",
    "print(\"---------------------------------------\")"
   ]
  },
  {
   "cell_type": "code",
   "execution_count": 40,
   "metadata": {},
   "outputs": [
    {
     "name": "stdout",
     "output_type": "stream",
     "text": [
      "------------ Scoring ------------------\n",
      "Price diff error MAE: 127257.21 (+/- 191089.14)\n",
      "Percent of Price error MAPE: 58.60 (+/- 707.49)\n",
      "Price error RMSE: 159130.11 (+/- 318260.23)\n",
      "---------------------------------------\n"
     ]
    }
   ],
   "source": [
    "mae,mae_std,mape, mape_std,mse,mse_std,rmse,rmse_std = dvfdata.get_predict_errors(y=y_test, y_pred=y_test_predict)\n",
    "print(\"------------ Scoring ------------------\")\n",
    "#print(\"Cross-Validation Accuracy: %0.2f (+/- %0.2f)\" % (-cross_val_scores.mean(), cross_val_scores.std() * 2))\n",
    "print(\"Price diff error MAE: %0.2f (+/- %0.2f)\" % (mae, mae_std * 2))\n",
    "print(\"Percent of Price error MAPE: %0.2f (+/- %0.2f)\" % (mape, mape_std * 2))\n",
    "print(\"Price error RMSE: %0.2f (+/- %0.2f)\" % (rmse, rmse * 2))\n",
    "print(\"---------------------------------------\")"
   ]
  },
  {
   "cell_type": "code",
   "execution_count": 35,
   "metadata": {},
   "outputs": [
    {
     "name": "stdout",
     "output_type": "stream",
     "text": [
      "------------ Scoring ------------------\n",
      "Price diff error MAE: 126331.82 (+/- 187716.19)\n",
      "Percent of Price error MAPE: 59.49 (+/- 780.79)\n",
      "Price error RMSE: 157379.57 (+/- 314759.14)\n",
      "---------------------------------------\n"
     ]
    }
   ],
   "source": [
    "mae,mae_std,mape, mape_std,mse,mse_std,rmse,rmse_std = dvfdata.get_predict_errors(y=y_test, y_pred=y_test_predict)\n",
    "print(\"------------ Scoring ------------------\")\n",
    "#print(\"Cross-Validation Accuracy: %0.2f (+/- %0.2f)\" % (-cross_val_scores.mean(), cross_val_scores.std() * 2))\n",
    "print(\"Price diff error MAE: %0.2f (+/- %0.2f)\" % (mae, mae_std * 2))\n",
    "print(\"Percent of Price error MAPE: %0.2f (+/- %0.2f)\" % (mape, mape_std * 2))\n",
    "print(\"Price error RMSE: %0.2f (+/- %0.2f)\" % (rmse, rmse * 2))\n",
    "print(\"---------------------------------------\")"
   ]
  },
  {
   "cell_type": "code",
   "execution_count": 30,
   "metadata": {},
   "outputs": [
    {
     "name": "stdout",
     "output_type": "stream",
     "text": [
      "------------ Scoring ------------------\n",
      "Price diff error MAE: 127558.66 (+/- 189896.94)\n",
      "Percent of Price error MAPE: 58.71 (+/- 705.58)\n",
      "Price error RMSE: 159014.66 (+/- 318029.32)\n",
      "---------------------------------------\n"
     ]
    }
   ],
   "source": [
    "mae,mae_std,mape, mape_std,mse,mse_std,rmse,rmse_std = dvfdata.get_predict_errors(y=y_test, y_pred=y_test_predict)\n",
    "print(\"------------ Scoring ------------------\")\n",
    "#print(\"Cross-Validation Accuracy: %0.2f (+/- %0.2f)\" % (-cross_val_scores.mean(), cross_val_scores.std() * 2))\n",
    "print(\"Price diff error MAE: %0.2f (+/- %0.2f)\" % (mae, mae_std * 2))\n",
    "print(\"Percent of Price error MAPE: %0.2f (+/- %0.2f)\" % (mape, mape_std * 2))\n",
    "print(\"Price error RMSE: %0.2f (+/- %0.2f)\" % (rmse, rmse * 2))\n",
    "print(\"---------------------------------------\")\n"
   ]
  },
  {
   "cell_type": "code",
   "execution_count": null,
   "metadata": {},
   "outputs": [],
   "source": []
  },
  {
   "cell_type": "code",
   "execution_count": 24,
   "metadata": {},
   "outputs": [
    {
     "ename": "NameError",
     "evalue": "name 'scores' is not defined",
     "output_type": "error",
     "traceback": [
      "\u001b[0;31m---------------------------------------------------------------------------\u001b[0m",
      "\u001b[0;31mNameError\u001b[0m                                 Traceback (most recent call last)",
      "\u001b[0;32m<ipython-input-24-e03eb649e975>\u001b[0m in \u001b[0;36m<module>\u001b[0;34m\u001b[0m\n\u001b[0;32m----> 1\u001b[0;31m \u001b[0mscores\u001b[0m\u001b[0;34m[\u001b[0m\u001b[0;36m1\u001b[0m\u001b[0;34m]\u001b[0m\u001b[0;34m\u001b[0m\u001b[0;34m\u001b[0m\u001b[0m\n\u001b[0m",
      "\u001b[0;31mNameError\u001b[0m: name 'scores' is not defined"
     ]
    }
   ],
   "source": [
    "scores[1]"
   ]
  },
  {
   "cell_type": "code",
   "execution_count": 59,
   "metadata": {},
   "outputs": [],
   "source": [
    "df=pd.DataFrame(scores[1])\n",
    "df.columns = ['score']"
   ]
  },
  {
   "cell_type": "code",
   "execution_count": 60,
   "metadata": {},
   "outputs": [
    {
     "name": "stdout",
     "output_type": "stream",
     "text": [
      "          score\n",
      "0      0.354499\n",
      "1      0.348524\n",
      "2      0.359044\n",
      "3      0.343679\n",
      "4      0.268915\n",
      "...         ...\n",
      "35554  0.320567\n",
      "35555  0.327195\n",
      "35556  0.282934\n",
      "35557  0.250106\n",
      "35558  0.338864\n",
      "\n",
      "[35559 rows x 1 columns]\n"
     ]
    }
   ],
   "source": [
    "print(df)"
   ]
  },
  {
   "cell_type": "code",
   "execution_count": 66,
   "metadata": {},
   "outputs": [
    {
     "data": {
      "text/html": [
       "<div>\n",
       "<style scoped>\n",
       "    .dataframe tbody tr th:only-of-type {\n",
       "        vertical-align: middle;\n",
       "    }\n",
       "\n",
       "    .dataframe tbody tr th {\n",
       "        vertical-align: top;\n",
       "    }\n",
       "\n",
       "    .dataframe thead th {\n",
       "        text-align: right;\n",
       "    }\n",
       "</style>\n",
       "<table border=\"1\" class=\"dataframe\">\n",
       "  <thead>\n",
       "    <tr style=\"text-align: right;\">\n",
       "      <th></th>\n",
       "      <th>score</th>\n",
       "    </tr>\n",
       "  </thead>\n",
       "  <tbody>\n",
       "    <tr>\n",
       "      <th>17775</th>\n",
       "      <td>0.424455</td>\n",
       "    </tr>\n",
       "    <tr>\n",
       "      <th>5120</th>\n",
       "      <td>0.423834</td>\n",
       "    </tr>\n",
       "    <tr>\n",
       "      <th>22401</th>\n",
       "      <td>0.423806</td>\n",
       "    </tr>\n",
       "    <tr>\n",
       "      <th>23886</th>\n",
       "      <td>0.423761</td>\n",
       "    </tr>\n",
       "    <tr>\n",
       "      <th>29114</th>\n",
       "      <td>0.423563</td>\n",
       "    </tr>\n",
       "    <tr>\n",
       "      <th>18574</th>\n",
       "      <td>0.423485</td>\n",
       "    </tr>\n",
       "    <tr>\n",
       "      <th>31254</th>\n",
       "      <td>0.423384</td>\n",
       "    </tr>\n",
       "    <tr>\n",
       "      <th>7857</th>\n",
       "      <td>0.423262</td>\n",
       "    </tr>\n",
       "    <tr>\n",
       "      <th>24391</th>\n",
       "      <td>0.423235</td>\n",
       "    </tr>\n",
       "    <tr>\n",
       "      <th>35552</th>\n",
       "      <td>0.423174</td>\n",
       "    </tr>\n",
       "    <tr>\n",
       "      <th>6882</th>\n",
       "      <td>0.423116</td>\n",
       "    </tr>\n",
       "    <tr>\n",
       "      <th>22347</th>\n",
       "      <td>0.423003</td>\n",
       "    </tr>\n",
       "    <tr>\n",
       "      <th>21450</th>\n",
       "      <td>0.422898</td>\n",
       "    </tr>\n",
       "    <tr>\n",
       "      <th>28415</th>\n",
       "      <td>0.422895</td>\n",
       "    </tr>\n",
       "    <tr>\n",
       "      <th>28814</th>\n",
       "      <td>0.422721</td>\n",
       "    </tr>\n",
       "    <tr>\n",
       "      <th>2247</th>\n",
       "      <td>0.422694</td>\n",
       "    </tr>\n",
       "    <tr>\n",
       "      <th>8323</th>\n",
       "      <td>0.422438</td>\n",
       "    </tr>\n",
       "    <tr>\n",
       "      <th>24722</th>\n",
       "      <td>0.422264</td>\n",
       "    </tr>\n",
       "    <tr>\n",
       "      <th>17630</th>\n",
       "      <td>0.422234</td>\n",
       "    </tr>\n",
       "    <tr>\n",
       "      <th>26543</th>\n",
       "      <td>0.422138</td>\n",
       "    </tr>\n",
       "  </tbody>\n",
       "</table>\n",
       "</div>"
      ],
      "text/plain": [
       "          score\n",
       "17775  0.424455\n",
       "5120   0.423834\n",
       "22401  0.423806\n",
       "23886  0.423761\n",
       "29114  0.423563\n",
       "18574  0.423485\n",
       "31254  0.423384\n",
       "7857   0.423262\n",
       "24391  0.423235\n",
       "35552  0.423174\n",
       "6882   0.423116\n",
       "22347  0.423003\n",
       "21450  0.422898\n",
       "28415  0.422895\n",
       "28814  0.422721\n",
       "2247   0.422694\n",
       "8323   0.422438\n",
       "24722  0.422264\n",
       "17630  0.422234\n",
       "26543  0.422138"
      ]
     },
     "execution_count": 66,
     "metadata": {},
     "output_type": "execute_result"
    }
   ],
   "source": [
    "selected_scores=df.sort_values(by=['score'], ascending=False)[:20]\n",
    "#selected_scores.reset_index\n",
    "selected_scores"
   ]
  },
  {
   "cell_type": "code",
   "execution_count": null,
   "metadata": {},
   "outputs": [],
   "source": []
  },
  {
   "cell_type": "code",
   "execution_count": null,
   "metadata": {},
   "outputs": [],
   "source": []
  },
  {
   "cell_type": "code",
   "execution_count": null,
   "metadata": {},
   "outputs": [],
   "source": []
  },
  {
   "cell_type": "code",
   "execution_count": 81,
   "metadata": {},
   "outputs": [
    {
     "name": "stdout",
     "output_type": "stream",
     "text": [
      "mean= 140120.0\n",
      "std= 62912.584298834\n"
     ]
    }
   ],
   "source": [
    "selected_metrics=y_train.iloc[selected_scores.index]\n",
    "\n",
    "print(\"mean=\",selected_metrics.mean())\n",
    "print(\"std=\",selected_metrics.std())\n"
   ]
  },
  {
   "cell_type": "code",
   "execution_count": 83,
   "metadata": {},
   "outputs": [
    {
     "data": {
      "text/plain": [
       "245400"
      ]
     },
     "execution_count": 83,
     "metadata": {},
     "output_type": "execute_result"
    }
   ],
   "source": [
    "y_test.iloc[1]"
   ]
  },
  {
   "cell_type": "code",
   "execution_count": null,
   "metadata": {},
   "outputs": [],
   "source": []
  }
 ],
 "metadata": {
  "kernelspec": {
   "display_name": "Python 3",
   "language": "python",
   "name": "python3"
  },
  "language_info": {
   "codemirror_mode": {
    "name": "ipython",
    "version": 3
   },
   "file_extension": ".py",
   "mimetype": "text/x-python",
   "name": "python",
   "nbconvert_exporter": "python",
   "pygments_lexer": "ipython3",
   "version": "3.7.4"
  }
 },
 "nbformat": 4,
 "nbformat_minor": 2
}
