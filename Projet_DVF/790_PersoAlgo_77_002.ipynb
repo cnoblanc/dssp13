{
 "cells": [
  {
   "cell_type": "code",
   "execution_count": null,
   "metadata": {},
   "outputs": [],
   "source": [
    "import numpy as np\n",
    "import pandas as pd\n",
    "\n",
    "%matplotlib inline\n",
    "import matplotlib.pyplot as plt\n",
    "import matplotlib as mpl\n",
    "plt.style.use('seaborn-whitegrid')\n"
   ]
  },
  {
   "cell_type": "markdown",
   "metadata": {},
   "source": [
    "### Classic Collaborative Filtering\n",
    "\n",
    "The classic collaborative filtering technique finds similar users (those giving similar ratings) using measures such as cosine similarity: \n",
    "\n",
    "$$ cos(\\vec{\\mathbf{x}}, \\vec{\\mathbf{y}}) = \\frac{\\vec{\\mathbf{x}} \\cdot \\vec{\\mathbf{y}}}{\\|\\vec{\\mathbf{x}}\\| \\|\\vec{\\mathbf{y}}\\|} = \\frac{\\sum_{i=1}^n x_i y_i}{\\sqrt{\\sum_{i=1}^n x_i^2} \\sqrt{\\sum_{i=1}^n y_i^2}}  $$\n",
    "\n",
    "Write a function that computes the pairwise similarities between all users. If $n$ is the number of users, create an $n \\times n$ matrix $S \\in \\mathbb{R}^{n \\times n}$ whose $(i,j)^{th}$ entry denotes the similarity between users $i$ and $j$."
   ]
  },
  {
   "cell_type": "code",
   "execution_count": null,
   "metadata": {},
   "outputs": [],
   "source": [
    "# --------------------------------\n",
    "# - Try e new algorithme  --------\n",
    "# --------------------------------"
   ]
  },
  {
   "cell_type": "code",
   "execution_count": null,
   "metadata": {},
   "outputs": [],
   "source": [
    "from sklearn.model_selection import train_test_split"
   ]
  },
  {
   "cell_type": "code",
   "execution_count": null,
   "metadata": {},
   "outputs": [],
   "source": [
    "import dvfdata\n",
    "df=dvfdata.loadDVF_Maisons(departement='All',refresh_force=False,add_commune=False)\n",
    "df_prepared=dvfdata.prepare_df(df,remove_categories=False)"
   ]
  },
  {
   "cell_type": "code",
   "execution_count": null,
   "metadata": {},
   "outputs": [],
   "source": [
    "df_prepared.dropna(axis=0, subset=['geolong'], inplace=True) # remove records which we do not know the geolong\n",
    "df_prepared.dropna(axis=0, subset=['geolat'], inplace=True) # remove records which we do not know the geolat\n"
   ]
  },
  {
   "cell_type": "code",
   "execution_count": null,
   "metadata": {},
   "outputs": [],
   "source": [
    "X_df = df_prepared.drop(columns='valeurfonc')\n",
    "y = df_prepared['valeurfonc']\n",
    "\n",
    "columns = np.array(X_df.columns)\n",
    "columns_geo = columns[(columns == 'geolong') | (columns == 'geolat')]\n",
    "columns_notgeo=X_df.columns.drop(columns_geo) \n",
    "\n",
    "# Split data Train & Test\n",
    "X_train, X_test, y_train, y_test = train_test_split(X_df, y, random_state=42)"
   ]
  },
  {
   "cell_type": "code",
   "execution_count": null,
   "metadata": {},
   "outputs": [],
   "source": [
    "df_prepared.info()"
   ]
  },
  {
   "cell_type": "code",
   "execution_count": null,
   "metadata": {},
   "outputs": [],
   "source": [
    "print(columns_geo)\n",
    "print(columns_notgeo)"
   ]
  },
  {
   "cell_type": "code",
   "execution_count": null,
   "metadata": {},
   "outputs": [],
   "source": [
    "y_train.shape"
   ]
  },
  {
   "cell_type": "code",
   "execution_count": null,
   "metadata": {},
   "outputs": [],
   "source": [
    "#from sklearn.neighbors import KDTree\n",
    "Geo_train=X_train[columns_geo]\n",
    "Geo_test=X_test[columns_geo]\n",
    "NotGeo_train=X_train[columns_notgeo]\n",
    "NotGeo_test=X_test[columns_notgeo]\n",
    "\n",
    "#tree = KDTree(Geo_train, leaf_size=30, metric='euclidean')\n",
    "#Neighbors_dist, Neighbors_idx =tree.query(Geo_test, k=10, return_distance=True)"
   ]
  },
  {
   "cell_type": "code",
   "execution_count": null,
   "metadata": {},
   "outputs": [],
   "source": [
    "print(X_test.shape)"
   ]
  },
  {
   "cell_type": "code",
   "execution_count": null,
   "metadata": {},
   "outputs": [],
   "source": []
  },
  {
   "cell_type": "code",
   "execution_count": null,
   "metadata": {},
   "outputs": [],
   "source": [
    "from sklearn.metrics.pairwise import cosine_similarity"
   ]
  },
  {
   "cell_type": "code",
   "execution_count": null,
   "metadata": {},
   "outputs": [],
   "source": [
    "Similarities=cosine_similarity(X=NotGeo_test, Y=NotGeo_train, dense_output=True)\n",
    "Similarities.shape"
   ]
  },
  {
   "cell_type": "code",
   "execution_count": null,
   "metadata": {},
   "outputs": [],
   "source": [
    "from sklearn.metrics import pairwise_distances\n",
    "Distances=pairwise_distances(X=Geo_test, Y=Geo_train\n",
    "                            , metric='euclidean', n_jobs=-1)"
   ]
  },
  {
   "cell_type": "code",
   "execution_count": null,
   "metadata": {},
   "outputs": [],
   "source": [
    "Distances.shape"
   ]
  },
  {
   "cell_type": "code",
   "execution_count": null,
   "metadata": {},
   "outputs": [],
   "source": [
    "Distances[1]"
   ]
  },
  {
   "cell_type": "code",
   "execution_count": null,
   "metadata": {},
   "outputs": [],
   "source": [
    "print(Distances[1].sort())"
   ]
  },
  {
   "cell_type": "code",
   "execution_count": null,
   "metadata": {},
   "outputs": [],
   "source": [
    "Similarities[1]"
   ]
  },
  {
   "cell_type": "code",
   "execution_count": null,
   "metadata": {},
   "outputs": [],
   "source": [
    "Distances[1]+1"
   ]
  },
  {
   "cell_type": "code",
   "execution_count": null,
   "metadata": {},
   "outputs": [],
   "source": [
    "np.multiply(Similarities[1],1/Distances[1]+1)"
   ]
  },
  {
   "cell_type": "code",
   "execution_count": null,
   "metadata": {},
   "outputs": [],
   "source": [
    "from tqdm.notebook import tqdm\n",
    "from sklearn.neighbors import KDTree\n",
    "\n",
    "from sklearn.metrics import pairwise_distances\n",
    "from sklearn.metrics.pairwise import cosine_similarity\n",
    "\n",
    "class ChristopheGeoRegressor():\n",
    "    def __init__(self,col_latitude=\"\",col_longitude=\"\",dist_weight=0.5,k=20):     \n",
    "        self.col_latitude = col_latitude\n",
    "        self.col_longitude = col_longitude\n",
    "        self.k=k # How many Similar Neighbors we keep\n",
    "        self.dist_weight=dist_weight # Weight 0<=w<=1 of the distance in the score to select similar neighbors\n",
    "\n",
    "    def fit(self,X, y): # Train phase\n",
    "        # From X, get columns lists\n",
    "        self.columns = np.array(X.columns)\n",
    "        self.columns_geo = self.columns[(self.columns == self.col_latitude) | (self.columns == self.col_longitude)]\n",
    "        self.columns_notgeo=X.columns.drop(self.columns_geo) \n",
    "        self.X_train=X\n",
    "        self.y_train=y\n",
    "        return self\n",
    "    \n",
    "    def predict(self,X,loops):\n",
    "        print(\"start predict:\")\n",
    "        print(\"- compute Similarities matrix\")\n",
    "        self.Similarities=cosine_similarity(X=X[self.columns_notgeo]\n",
    "                            , Y=self.X_train[self.columns_notgeo], dense_output=True)\n",
    "        print(\"- compute Distances matrix\")\n",
    "        self.Distances=pairwise_distances(X=X[self.columns_geo], Y=self.X_train[self.columns_geo]\n",
    "                            , metric='euclidean', n_jobs=-1)\n",
    "        print(\"- compute Normalized Distance (divide by the maximum value)\")\n",
    "        max_distance=np.nanmax(self.Distances)\n",
    "        self.Distance_Norm=np.divide(self.Distances,max_distance)\n",
    "        \n",
    "        print(\"- compute Scores matrix\")\n",
    "        #self.Scores=np.add(  np.multiply(self.Similarities,1-self.dist_weight) \\\n",
    "        #                   , np.multiply(self.Distances, self.dist_weight) )\n",
    "        \n",
    "        #self.Scores=np.divide(self.Similarities,np.add(self.Distance_Norm,1))\n",
    "        self.Scores=np.subtract(  np.multiply(self.Similarities,1-self.dist_weight) \\\n",
    "                                , np.multiply(self.Distances, self.dist_weight) )\n",
    "        \n",
    "        print(\"- select best scores\")\n",
    "        test_records=X.shape[0]\n",
    "        y_hat = np.zeros(test_records)\n",
    "        selected_indexes=np.zeros((test_records,self.k))\n",
    "        \n",
    "        n_per_100=test_records//100 # division entière\n",
    "        \n",
    "        for i in range(test_records):\n",
    "            if i % n_per_100 ==0:\n",
    "                print(i//100),\n",
    "            df_scores=pd.DataFrame(self.Scores[i])\n",
    "            df_scores.columns = ['score']\n",
    "            selected_scores=df_scores.sort_values(by=['score'], ascending=False)[:self.k]\n",
    "            selected_metrics=y_train.iloc[selected_scores.index]\n",
    "            \n",
    "            selected_indexes[i]=selected_scores.index\n",
    "            y_hat[i]=selected_metrics.median()\n",
    "            \n",
    "        self.selected_indexes_=selected_indexes\n",
    "        print(\"Predict:Done\")\n",
    "        \n",
    "        return y_hat"
   ]
  },
  {
   "cell_type": "code",
   "execution_count": null,
   "metadata": {},
   "outputs": [],
   "source": [
    "my_model=ChristopheGeoRegressor(col_latitude=\"geolat\",col_longitude=\"geolong\",dist_weight=0.5,k=20)"
   ]
  },
  {
   "cell_type": "code",
   "execution_count": null,
   "metadata": {},
   "outputs": [],
   "source": [
    "my_model.fit(X_train,y_train)"
   ]
  },
  {
   "cell_type": "code",
   "execution_count": null,
   "metadata": {},
   "outputs": [],
   "source": [
    "y_test_predict=my_model.predict(X_test,1)"
   ]
  },
  {
   "cell_type": "code",
   "execution_count": null,
   "metadata": {},
   "outputs": [],
   "source": [
    "my_model.Distance_Norm.shape"
   ]
  },
  {
   "cell_type": "code",
   "execution_count": null,
   "metadata": {},
   "outputs": [],
   "source": [
    "my_model.Similarities.shape"
   ]
  },
  {
   "cell_type": "code",
   "execution_count": null,
   "metadata": {},
   "outputs": [],
   "source": [
    "# k=20\n",
    "# Scores = Similarity / (1+Distance) & use the median for prediction\n",
    "mae,mae_std,mape, mape_std,mse,mse_std,rmse,rmse_std = dvfdata.get_predict_errors(y=y_test, y_pred=y_test_predict)\n",
    "print(\"------------ Scoring ------------------\")\n",
    "#print(\"Cross-Validation Accuracy: %0.2f (+/- %0.2f)\" % (-cross_val_scores.mean(), cross_val_scores.std() * 2))\n",
    "print(\"Price diff error MAE: %0.2f (+/- %0.2f)\" % (mae, mae_std * 2))\n",
    "print(\"Percent of Price error MAPE: %0.2f (+/- %0.2f)\" % (mape, mape_std * 2))\n",
    "print(\"Price error RMSE: %0.2f (+/- %0.2f)\" % (rmse, rmse * 2))\n",
    "print(\"---------------------------------------\")"
   ]
  },
  {
   "cell_type": "code",
   "execution_count": null,
   "metadata": {},
   "outputs": [],
   "source": [
    "model_name=\"Christophe Regressor\"\n",
    "f, ax0 = plt.subplots(1, 1, sharey=True)\n",
    "ax0.scatter(y_test, y_test_predict,s=0.5)\n",
    "ax0.set_ylabel('Target predicted')\n",
    "ax0.set_xlabel('True Target')\n",
    "ax0.set_title('%s, MAE=%.2f, RMSE=%.2f' % (model_name,mae,rmse))"
   ]
  },
  {
   "cell_type": "code",
   "execution_count": null,
   "metadata": {},
   "outputs": [],
   "source": [
    "y_test_predict.shape"
   ]
  },
  {
   "cell_type": "code",
   "execution_count": null,
   "metadata": {},
   "outputs": [],
   "source": []
  },
  {
   "cell_type": "code",
   "execution_count": null,
   "metadata": {},
   "outputs": [],
   "source": [
    "scores[1]"
   ]
  },
  {
   "cell_type": "code",
   "execution_count": null,
   "metadata": {},
   "outputs": [],
   "source": [
    "df=pd.DataFrame(scores[1])\n",
    "df.columns = ['score']"
   ]
  },
  {
   "cell_type": "code",
   "execution_count": null,
   "metadata": {},
   "outputs": [],
   "source": [
    "print(df)"
   ]
  },
  {
   "cell_type": "code",
   "execution_count": null,
   "metadata": {},
   "outputs": [],
   "source": [
    "selected_scores=df.sort_values(by=['score'], ascending=False)[:20]\n",
    "#selected_scores.reset_index\n",
    "selected_scores"
   ]
  },
  {
   "cell_type": "code",
   "execution_count": null,
   "metadata": {},
   "outputs": [],
   "source": []
  },
  {
   "cell_type": "code",
   "execution_count": null,
   "metadata": {},
   "outputs": [],
   "source": []
  },
  {
   "cell_type": "code",
   "execution_count": null,
   "metadata": {},
   "outputs": [],
   "source": []
  },
  {
   "cell_type": "code",
   "execution_count": null,
   "metadata": {},
   "outputs": [],
   "source": [
    "selected_metrics=y_train.iloc[selected_scores.index]\n",
    "\n",
    "print(\"mean=\",selected_metrics.mean())\n",
    "print(\"std=\",selected_metrics.std())\n"
   ]
  },
  {
   "cell_type": "code",
   "execution_count": null,
   "metadata": {},
   "outputs": [],
   "source": [
    "y_test.iloc[1]"
   ]
  },
  {
   "cell_type": "code",
   "execution_count": null,
   "metadata": {},
   "outputs": [],
   "source": []
  }
 ],
 "metadata": {
  "kernelspec": {
   "display_name": "Python 3",
   "language": "python",
   "name": "python3"
  },
  "language_info": {
   "codemirror_mode": {
    "name": "ipython",
    "version": 3
   },
   "file_extension": ".py",
   "mimetype": "text/x-python",
   "name": "python",
   "nbconvert_exporter": "python",
   "pygments_lexer": "ipython3",
   "version": "3.7.4"
  }
 },
 "nbformat": 4,
 "nbformat_minor": 2
}
